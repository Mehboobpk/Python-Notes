{
  "nbformat": 4,
  "nbformat_minor": 0,
  "metadata": {
    "coursera": {
      "course_slug": "neural-networks-deep-learning",
      "graded_item_id": "XaIWT",
      "launcher_item_id": "zAgPl"
    },
    "kernelspec": {
      "display_name": "Python 3",
      "language": "python",
      "name": "python3"
    },
    "language_info": {
      "codemirror_mode": {
        "name": "ipython",
        "version": 3
      },
      "file_extension": ".py",
      "mimetype": "text/x-python",
      "name": "python",
      "nbconvert_exporter": "python",
      "pygments_lexer": "ipython3",
      "version": "3.6.2"
    },
    "colab": {
      "name": "9-20-21Python_Basic.ipynb",
      "provenance": [],
      "collapsed_sections": [],
      "toc_visible": true,
      "include_colab_link": true
    }
  },
  "cells": [
    {
      "cell_type": "markdown",
      "metadata": {
        "id": "view-in-github",
        "colab_type": "text"
      },
      "source": [
        "<a href=\"https://colab.research.google.com/github/hussain0048/Python/blob/master/9_20_21Python_Basic.ipynb\" target=\"_parent\"><img src=\"https://colab.research.google.com/assets/colab-badge.svg\" alt=\"Open In Colab\"/></a>"
      ]
    },
    {
      "cell_type": "markdown",
      "metadata": {
        "id": "P3xFiW9cwZR1"
      },
      "source": [
        "# **Table of Content**\n",
        "\n",
        "<div class=\"alert alert-block alert-info\" style=\"margin-top: 20px\">\n",
        "    <ol>\n",
        "        <li><a href=\"https://colab.research.google.com/drive/16RuGVxgCercSOghBqECW-Dz_DOEFd_t6#scrollTo=BwlGIq-fgExg\">Introduction</a></li>\n",
        "        <li><a href=\"#downloading_data\">Install Jupyter Notebook</a></li>\n",
        "        <li><a href=\"#pre-processing\">Prerequisites</a></li>\n",
        "        <li><a href=\"#setting_up_tree\">Importing libraries</a></li>\n",
        "        <li><a href=\"#modeling\">Processing</a></li>\n",
        "        <li><a href=\"#prediction\">Building the model</a></li>\n",
        "        <li><a href=\"#evaluation\">Making Predictions for test data</a></li>\n",
        "    </ol>\n",
        "</div>\n",
        "<br>\n",
        "<hr>"
      ]
    },
    {
      "cell_type": "markdown",
      "metadata": {
        "id": "2WZFQQORCAcS"
      },
      "source": [
        "# **1-Introduction**\n",
        "Python is a very simple language, and has a very straightforward syntax. It encourages programmers to program without boilerplate (prepared) code. There are two major Python versions, Python 2 and Python 3. Python 2 and 3 are quite different. This tutorial uses Python 3, because it more semantically correct and supports newer features.\n",
        "\n",
        "Python is a high-level programming language that Google, Facebook, NASA, and almost all other multinational companies worldwide use. Python has overtaken every language in recent years and has become the most popular and widely used programming language globally.\n",
        "Its popularity on the job market has grown to the extent that companies have made Python a requirement in their job postings. According to the Times of India, Python was among the top 5 highest-paid programming languages in 2021.\n",
        "But what exactly is Python, and why has it suddenly become such a sought-after language?\n",
        "\n",
        "#**2-Why is  ‘Python’?**\n",
        "\n",
        "Python is an interpreted, object-oriented programming language created by Guido van Rossum in 1991.\n",
        "Python can be used for everything from web development to Machine learning, Artificial intelligence, and Data Science.\n",
        "Unlike some other programming languages, Python does not require you to worry about syntax. Writing in Python is almost equal to written English. You have to use the proper functions or \"modules\" and let Python do the rest.\n",
        "The easy syntax of Python makes it great for beginners who are learning how to code and seasoned developers who want to quickly create software prototypes and earn a reasonable amount of income.\n",
        "Without wasting further time, let us get into the real business\n",
        "\n",
        "#**2-Why is it called ‘Python’?[4]**\n",
        "While many people assume the name Python Programming comes from something related to the Python snake, it actually comes from the TV comedy series ‘Monty Python’s Flying Circus.’ This series broadcast on the BBC channelin the United Kingdom in the 1970s and was a favorite of Guido Van Rossum’s. Because it was short, cryptic, and included the name of his favorite TV comedy show, he chose the name ‘Python.’\n",
        "\n",
        "#**3-Python does not require a compiler[4]**\n",
        "Python is a high-level, interpreted language that does not require a compiler, unlike other programming languages such as Java and C++.Python code is stored in a .pyc file, which serves as the Python engine and eliminates the need for a compiler.\n",
        "\n",
        "#**4-Python is one of Google’s official programming languages[4]**\n",
        "Python is one of the few programming languages that has been designated as an official Google language. Python became one of Google’s official programming languages due of its efficiency. It was advantageous to them because it is simple to use, even on large projects. Even YouTube is powered by Python programming.\n",
        "\n",
        "#**5-Python is similar to English[4]**\n",
        "Many people claim that Python is a simple language to learn. The fundamental reason for this claim is that Python is more similar to English than other programming languages. It’s simple to figure out what each line of code accomplishes. Everything is simple and straightforward.\n",
        "\n",
        "#**6-Wide range of aspects[4]**\n",
        "Python is a general-purpose programming language. In fact, it can be used in a wide range of coding scenarios like web development, artificial intelligence, machine learning, data analytics, internet of things and many more."
      ]
    },
    {
      "cell_type": "markdown",
      "metadata": {
        "id": "wAU3XpQj-IXe"
      },
      "source": [
        "![](https://drive.google.com/uc?export=view&id=1dGhEqYFL26I3zksGS6VGWMAfO6WM8kX5\n",
        ")"
      ]
    },
    {
      "cell_type": "markdown",
      "metadata": {
        "id": "fEReTqP9z6Qq"
      },
      "source": [
        "# **Access your PC Information using Platform Library**"
      ]
    },
    {
      "cell_type": "code",
      "metadata": {
        "id": "7SydDKYO0bM2",
        "colab": {
          "base_uri": "https://localhost:8080/",
          "height": 35
        },
        "outputId": "4ab4febd-e560-451e-f96d-d9094091b4fd"
      },
      "source": [
        "import platform \n",
        "# Retrun Machine Type\n",
        "platform.machine()"
      ],
      "execution_count": null,
      "outputs": [
        {
          "output_type": "execute_result",
          "data": {
            "application/vnd.google.colaboratory.intrinsic+json": {
              "type": "string"
            },
            "text/plain": [
              "'x86_64'"
            ]
          },
          "metadata": {},
          "execution_count": 1
        }
      ]
    },
    {
      "cell_type": "code",
      "metadata": {
        "id": "tUfGGySY0nI2"
      },
      "source": [
        "# retrun computer Name\n",
        "platform.node()"
      ],
      "execution_count": null,
      "outputs": []
    },
    {
      "cell_type": "code",
      "metadata": {
        "id": "41bsa8OM01Ll"
      },
      "source": [
        "# Return your current OS\n",
        "platform.platform()"
      ],
      "execution_count": null,
      "outputs": []
    },
    {
      "cell_type": "code",
      "metadata": {
        "id": "hP9N5G3j1O26"
      },
      "source": [
        "# Retrun process name\n",
        "platform.processor()"
      ],
      "execution_count": null,
      "outputs": []
    },
    {
      "cell_type": "code",
      "metadata": {
        "id": "dB4kwr4R1Vfo"
      },
      "source": [
        "# Retrun System release\n",
        "platform.release()"
      ],
      "execution_count": null,
      "outputs": []
    },
    {
      "cell_type": "code",
      "metadata": {
        "id": "-FJvgfN_1dXQ",
        "colab": {
          "base_uri": "https://localhost:8080/",
          "height": 35
        },
        "outputId": "f7561240-ba68-4399-c6e9-9b2c45bbb292"
      },
      "source": [
        "# Retrun OS name\n",
        "platform.system()"
      ],
      "execution_count": null,
      "outputs": [
        {
          "output_type": "execute_result",
          "data": {
            "application/vnd.google.colaboratory.intrinsic+json": {
              "type": "string"
            },
            "text/plain": [
              "'Linux'"
            ]
          },
          "metadata": {},
          "execution_count": 7
        }
      ]
    },
    {
      "cell_type": "code",
      "metadata": {
        "id": "JrUej5wX1sl6"
      },
      "source": [
        "# Retrun process name\n",
        "platform.uname()"
      ],
      "execution_count": null,
      "outputs": []
    },
    {
      "cell_type": "markdown",
      "metadata": {
        "id": "R1CeWBKSEkjD"
      },
      "source": [
        "# **IDE**"
      ]
    },
    {
      "cell_type": "markdown",
      "metadata": {
        "id": "M3R_O-6lEw2Z"
      },
      "source": [
        "![](https://drive.google.com/uc?export=view&id=1NSev_N3lLjUQZ5NFE8Kmm0jJWDfdAA5k)"
      ]
    },
    {
      "cell_type": "markdown",
      "metadata": {
        "id": "Ok0y6k_3EIQj"
      },
      "source": [
        "##**- Install Jupyter Notebook**[2]\n",
        "n this machine learning project for beginners, we will use Jupyter Notebook for the development. Let’s see steps for the installation and configuration of Jupyter Notebook.\n",
        "\n",
        "Using pip python package manager you can install Jupyter notebook:"
      ]
    },
    {
      "cell_type": "code",
      "metadata": {
        "id": "pXDOoZn2Ea9x"
      },
      "source": [
        "pip3 install notebook"
      ],
      "execution_count": null,
      "outputs": []
    },
    {
      "cell_type": "markdown",
      "metadata": {
        "id": "e761fj-KEg2I"
      },
      "source": [
        "And that’s it, you have installed jupyter notebook\n",
        "\n",
        "After installing Jupyter notebook you can run the notebook server. To run the notebook, open terminal and type:"
      ]
    },
    {
      "cell_type": "code",
      "metadata": {
        "id": "M6wAlWSSEvWa"
      },
      "source": [
        "jupyter notebook"
      ],
      "execution_count": null,
      "outputs": []
    },
    {
      "cell_type": "markdown",
      "metadata": {
        "id": "eCskjWPwE3FB"
      },
      "source": [
        "It will start the notebook server at http://localhost:8888\n"
      ]
    },
    {
      "cell_type": "code",
      "metadata": {
        "id": "gYSnZoM86Lxq"
      },
      "source": [
        "!git clone https://github.com/hussain0048/Python.git"
      ],
      "execution_count": null,
      "outputs": []
    },
    {
      "cell_type": "markdown",
      "metadata": {
        "id": "beVu-1UqCAcU"
      },
      "source": [
        "# 1- **Hello, World!**\n",
        "The simplest directive in Python is the \"print\" directive - it simply prints out a line (and also includes a newline, unlike in C).For example, one difference between Python 2 and 3 is the print statement. In Python 2, the \"print\" statement is not a function, and therefore it is invoked without parentheses. However, in Python 3, it is a function, and must be invoked with parentheses."
      ]
    },
    {
      "cell_type": "code",
      "metadata": {
        "id": "ZF03EKpuCAcV"
      },
      "source": [
        "#To print a string in Python 3, just write:\n",
        "print(\"This line will be printed.\")"
      ],
      "execution_count": null,
      "outputs": []
    },
    {
      "cell_type": "code",
      "metadata": {
        "id": "u7Cy9SPr653c"
      },
      "source": [
        "print(\"Goodbye, World!\")"
      ],
      "execution_count": null,
      "outputs": []
    },
    {
      "cell_type": "markdown",
      "metadata": {
        "collapsed": true,
        "id": "nhYP15aoCAcf"
      },
      "source": [
        "# 2- **Indentation**\n",
        "Python uses indentation for blocks, instead of curly braces. Both tabs and spaces are supported, but the standard indentation requires standard Python code to use four spaces. For example\n"
      ]
    },
    {
      "cell_type": "code",
      "metadata": {
        "id": "y1wsGi52CAch"
      },
      "source": [
        "x = 1\n",
        "if x == 1:\n",
        "    # indented four spaces\n",
        "    print(\"x is 1.\")"
      ],
      "execution_count": null,
      "outputs": []
    },
    {
      "cell_type": "code",
      "metadata": {
        "id": "zthc85D-kW6k"
      },
      "source": [
        "x = 1\n",
        "if x == 1:"
      ],
      "execution_count": null,
      "outputs": []
    },
    {
      "cell_type": "markdown",
      "metadata": {
        "id": "P4QYI2IoHWpL"
      },
      "source": [
        "# 3 - **Variables and Types**\n",
        "Python is completely object oriented, and not \"statically typed\". You do not need to declare variables before using them, or declare their type. Every variable in Python is an object.\n",
        "\n",
        "This tutorial will go over a few basic types of variables.\n"
      ]
    },
    {
      "cell_type": "markdown",
      "metadata": {
        "id": "AMaWX5x481qW"
      },
      "source": [
        "## **3.1 Numbers**\n",
        "Python supports two types of numbers - integers and floating point numbers. (It also supports complex numbers, which will not be explained in this tutorial).\n",
        "\n",
        "To define an integer, use the following syntax:"
      ]
    },
    {
      "cell_type": "code",
      "metadata": {
        "id": "HV4itFik94rG"
      },
      "source": [
        "myint = 7\n",
        "print(myint)"
      ],
      "execution_count": null,
      "outputs": []
    },
    {
      "cell_type": "code",
      "metadata": {
        "id": "p9JGZRKCCAcq"
      },
      "source": [
        "#To define a floating point number, you may use one of the following notations:\n",
        "myfloat = 7.0\n",
        "print(myfloat)\n",
        "myfloats = float(7)\n",
        "print(myfloats)"
      ],
      "execution_count": null,
      "outputs": []
    },
    {
      "cell_type": "markdown",
      "metadata": {
        "id": "yCl8lMKR-WRg"
      },
      "source": [
        "## 3.2- **Strings**\n",
        "Strings are defined either with a single quote or a double quotes.The difference between the two is that using double quotes makes it easy to include apostrophes (whereas these would terminate the string if using single quotes)"
      ]
    },
    {
      "cell_type": "code",
      "metadata": {
        "id": "t1DlRZn5-m4_"
      },
      "source": [
        "mystring = 'hello'\n",
        "print(mystring)\n",
        "mystring = \"hello\"\n",
        "print(mystring)"
      ],
      "execution_count": null,
      "outputs": []
    },
    {
      "cell_type": "markdown",
      "metadata": {
        "id": "ehTTQE9YJF1Q"
      },
      "source": [
        "# 4 -**Lists**\n",
        "Lists are very similar to arrays. They can contain any type of variable, and they can contain as many variables as you wish. Lists can also be iterated over in a very simple manner. Here is an example of how to build a list."
      ]
    },
    {
      "cell_type": "code",
      "metadata": {
        "scrolled": true,
        "id": "TvqFi8-XCAcy"
      },
      "source": [
        "mylist = []\n",
        "mylist.append(\"a\")\n",
        "mylist.append(\"b\")\n",
        "mylist.append(\"c\")\n",
        "print(mylist[0]) # prints 1\n",
        "print(mylist[1]) # prints 2\n",
        "print(mylist[2]) # prints 3"
      ],
      "execution_count": null,
      "outputs": []
    },
    {
      "cell_type": "code",
      "metadata": {
        "id": "gmN5Z87UAzmf"
      },
      "source": [
        "# prints out 1,2,3\n",
        "for x in mylist:\n",
        "    print(x)"
      ],
      "execution_count": null,
      "outputs": []
    },
    {
      "cell_type": "code",
      "metadata": {
        "id": "iF-GaT_VBBRz"
      },
      "source": [
        "#Accessing an index which does not exist generates an exception (an error).\n",
        "mylist = [1,2,3]\n",
        "print(mylist[10])"
      ],
      "execution_count": null,
      "outputs": []
    },
    {
      "cell_type": "code",
      "metadata": {
        "id": "Op6F-nuA6pQA"
      },
      "source": [
        "\n",
        "my_list=list('abcc')"
      ],
      "execution_count": null,
      "outputs": []
    },
    {
      "cell_type": "code",
      "metadata": {
        "id": "k2Y9xpBW6xi1"
      },
      "source": [
        "my_list.index('c')"
      ],
      "execution_count": null,
      "outputs": []
    },
    {
      "cell_type": "code",
      "metadata": {
        "id": "nEesLa-g7HZk"
      },
      "source": [
        "my_list.reverse()"
      ],
      "execution_count": null,
      "outputs": []
    },
    {
      "cell_type": "code",
      "metadata": {
        "id": "uqma5n6M7MxU"
      },
      "source": [
        "my_list"
      ],
      "execution_count": null,
      "outputs": []
    },
    {
      "cell_type": "code",
      "metadata": {
        "id": "FJ2o1avx_swC"
      },
      "source": [
        "lst1 =[1,2,3]\n",
        "list2= [4,5,6]"
      ],
      "execution_count": null,
      "outputs": []
    },
    {
      "cell_type": "code",
      "metadata": {
        "id": "Xic0sU7Z_z4f"
      },
      "source": [
        "lst1.append(list2)"
      ],
      "execution_count": null,
      "outputs": []
    },
    {
      "cell_type": "code",
      "metadata": {
        "id": "jesslraV_6rG",
        "colab": {
          "base_uri": "https://localhost:8080/"
        },
        "outputId": "cc102845-9b4f-4175-a4e9-5803790836a8"
      },
      "source": [
        "lst1"
      ],
      "execution_count": null,
      "outputs": [
        {
          "output_type": "execute_result",
          "data": {
            "text/plain": [
              "[1, 2, 3, [4, 5, 6]]"
            ]
          },
          "metadata": {},
          "execution_count": 4
        }
      ]
    },
    {
      "cell_type": "code",
      "metadata": {
        "id": "9LXSuJRWAILJ"
      },
      "source": [
        "lst1.extend (list2)"
      ],
      "execution_count": null,
      "outputs": []
    },
    {
      "cell_type": "code",
      "metadata": {
        "id": "kIID5yDkAOvB",
        "colab": {
          "base_uri": "https://localhost:8080/"
        },
        "outputId": "8eba278e-9552-4c85-c55c-cfd509a80d6b"
      },
      "source": [
        "lst1"
      ],
      "execution_count": null,
      "outputs": [
        {
          "output_type": "execute_result",
          "data": {
            "text/plain": [
              "[1, 2, 3, [4, 5, 6], 4, 5, 6]"
            ]
          },
          "metadata": {},
          "execution_count": 7
        }
      ]
    },
    {
      "cell_type": "markdown",
      "metadata": {
        "id": "izbM6eEUKAV-"
      },
      "source": [
        "# **5- Basic Operators**\n",
        "This section explains how to use basic operators in Python."
      ]
    },
    {
      "cell_type": "markdown",
      "metadata": {
        "id": "M_GxDC5VBogz"
      },
      "source": [
        "## 5.1- Arithmetic Operators\n",
        "Just as any other programming languages, the addition, subtraction, multiplication, and division operators can be used with numbers."
      ]
    },
    {
      "cell_type": "code",
      "metadata": {
        "id": "zt-vctO1Kb3o",
        "colab": {
          "base_uri": "https://localhost:8080/",
          "height": 35
        },
        "outputId": "20ca8c15-8cf6-4cd3-e7ae-1b7bbf4ea793"
      },
      "source": [
        "number = 1 + 2 * 3 / 4.0\n",
        "print(number)\n"
      ],
      "execution_count": null,
      "outputs": [
        {
          "output_type": "stream",
          "text": [
            "2.5\n"
          ],
          "name": "stdout"
        }
      ]
    },
    {
      "cell_type": "code",
      "metadata": {
        "id": "YLQMNIDNuMLr"
      },
      "source": [
        "print(type(number))"
      ],
      "execution_count": null,
      "outputs": []
    },
    {
      "cell_type": "code",
      "metadata": {
        "id": "xAsBlVQ0DmXi",
        "colab": {
          "base_uri": "https://localhost:8080/",
          "height": 35
        },
        "outputId": "b24e2106-8d9e-48f6-d26e-18612e32b1f9"
      },
      "source": [
        "# Another operator available is the modulo (%) operator, which returns the integer remainder of the division. dividend % divisor = remainder\n",
        "remainder = 11 % 3\n",
        "print(remainder)"
      ],
      "execution_count": null,
      "outputs": [
        {
          "output_type": "stream",
          "text": [
            "2\n"
          ],
          "name": "stdout"
        }
      ]
    },
    {
      "cell_type": "code",
      "metadata": {
        "id": "lYnhlcS1DtiH"
      },
      "source": [
        "# Using two multiplication symbols makes a power relationship.\n",
        "squared = 7 ** 2\n",
        "cubed = 2 ** 3\n",
        "print(squared)\n",
        "print(cubed)\n"
      ],
      "execution_count": null,
      "outputs": []
    },
    {
      "cell_type": "markdown",
      "metadata": {
        "id": "1x8QNZN3CAdF"
      },
      "source": [
        "##5.2  -Using Operators with Strings\n",
        "Python supports concatenating strings using the addition operator:"
      ]
    },
    {
      "cell_type": "code",
      "metadata": {
        "id": "zNBdXxiHLfLW",
        "colab": {
          "base_uri": "https://localhost:8080/",
          "height": 34
        },
        "outputId": "fc89c894-c3de-41d0-bc3e-2c56d9219259"
      },
      "source": [
        "helloworld = \"hello\" + \" \" + \"world\"\n",
        "print(helloworld)"
      ],
      "execution_count": null,
      "outputs": [
        {
          "output_type": "stream",
          "text": [
            "hello world\n"
          ],
          "name": "stdout"
        }
      ]
    },
    {
      "cell_type": "code",
      "metadata": {
        "id": "RkXFMVZP76K4",
        "colab": {
          "base_uri": "https://localhost:8080/",
          "height": 35
        },
        "outputId": "6289712e-da8d-4952-c555-097499b2079b"
      },
      "source": [
        "lotsofhellos = \"hello\" * 10\n",
        "print(lotsofhellos)"
      ],
      "execution_count": null,
      "outputs": [
        {
          "output_type": "stream",
          "text": [
            "hellohellohellohellohellohellohellohellohellohello\n"
          ],
          "name": "stdout"
        }
      ]
    },
    {
      "cell_type": "markdown",
      "metadata": {
        "id": "12f__4N3FDY3"
      },
      "source": [
        "## 5.3- Using Operators with Lists"
      ]
    },
    {
      "cell_type": "code",
      "metadata": {
        "id": "FZWfCifvFTXC"
      },
      "source": [
        "even_numbers = [2,4,6,8]\n",
        "odd_numbers = [1,3,5,7]\n",
        "all_numbers = odd_numbers + even_numbers\n",
        "print(all_numbers)"
      ],
      "execution_count": null,
      "outputs": []
    },
    {
      "cell_type": "code",
      "metadata": {
        "id": "ss60eiRpFln5"
      },
      "source": [
        "# Just as in strings, Python supports forming new lists with a repeating sequence using the multiplication operator:\n",
        "print([1,2,3] * 3)"
      ],
      "execution_count": null,
      "outputs": []
    },
    {
      "cell_type": "markdown",
      "metadata": {
        "id": "-WNB53OY8IfG"
      },
      "source": [
        "# 6- String Formatting\n",
        "\n",
        "Python uses C-style string formatting to create new, formatted strings. The \"%\" operator is used to format a set of variables enclosed in a \"tuple\" (a fixed size list), together with a format string, which contains normal text together with \"argument specifiers\", special symbols like \"%s\" and \"%d\".\n",
        "\n",
        "Let's say you have a variable called \"name\" with your user name in it, and you would then like to print(out a greeting to that user.)\n"
      ]
    },
    {
      "cell_type": "code",
      "metadata": {
        "id": "-_ykAt_v8egH",
        "colab": {
          "base_uri": "https://localhost:8080/",
          "height": 34
        },
        "outputId": "aef47709-8e0e-46dd-cbb7-cd84c19df4cf"
      },
      "source": [
        "# This prints out \"Hello, John!\"\n",
        "name = \"John\"\n",
        "print(\"Hello, %s!\" % name)"
      ],
      "execution_count": null,
      "outputs": [
        {
          "output_type": "stream",
          "text": [
            "Hello, John!\n"
          ],
          "name": "stdout"
        }
      ]
    },
    {
      "cell_type": "markdown",
      "metadata": {
        "id": "OcoimUu1s4MI"
      },
      "source": [
        "To use two or more argument specifiers, use a tuple (parentheses):"
      ]
    },
    {
      "cell_type": "code",
      "metadata": {
        "id": "0tyfd8avhp58"
      },
      "source": [
        "# This prints out \"John is 23 years old.\"\n",
        "name = \"John\"\n",
        "age = 23\n",
        "print(\"%s is %d years old.\" % (name, age))"
      ],
      "execution_count": null,
      "outputs": []
    },
    {
      "cell_type": "markdown",
      "metadata": {
        "id": "l3epbWLyh-p4"
      },
      "source": [
        "Any object which is not a string can be formatted using the %s operator as well. The string which returns from the \"repr\" method of that object is formatted as the string. For example"
      ]
    },
    {
      "cell_type": "code",
      "metadata": {
        "id": "T-QKZojviCCq"
      },
      "source": [
        "# This prints out: A list: [1, 2, 3]\n",
        "mylist = [1,2,3]\n",
        "print(\"A list: %s\" % mylist)"
      ],
      "execution_count": null,
      "outputs": []
    },
    {
      "cell_type": "markdown",
      "metadata": {
        "id": "htcsGPA0iMJn"
      },
      "source": [
        "Here are some basic argument specifiers you should know:\n",
        "\n",
        "%s - String (or any object with a string representation, like numbers)\n",
        "\n",
        "%d - Integers\n",
        "\n",
        "%f - Floating point numbers\n",
        "\n",
        "%.<number of digits>f - Floating point numbers with a fixed amount of digits to the right of the dot.\n",
        "\n",
        "%x/%X - Integers in hex representation (lowercase/uppercase)"
      ]
    },
    {
      "cell_type": "markdown",
      "metadata": {
        "id": "BdpTOYOlCAdP"
      },
      "source": [
        "# 7-**Basic String Operations**\n",
        "Strings are bits of text. They can be defined as anything between quotes:\n",
        "\n"
      ]
    },
    {
      "cell_type": "code",
      "metadata": {
        "id": "R5uHKjQWZ0WV"
      },
      "source": [
        "astring = \"Hello world!\"\n",
        "astring2 = 'Hello world!'"
      ],
      "execution_count": null,
      "outputs": []
    },
    {
      "cell_type": "markdown",
      "metadata": {
        "id": "r_VGeM-W6ADp"
      },
      "source": [
        "As you can see, the first thing you learned was printing a simple sentence. This sentence was stored by Python as a string. However, instead of immediately printing strings out, we will explore the various things you can do to them. You can also use single quotes to assign a string. However, you will face problems if the value to be assigned itself contains single quotes.For example to assign the string in these bracket(single quotes are ' ') you need to use double quotes only like this"
      ]
    },
    {
      "cell_type": "code",
      "metadata": {
        "id": "RP9VUw8v6CKq",
        "colab": {
          "base_uri": "https://localhost:8080/"
        },
        "outputId": "0f432c03-12bc-46fe-b730-9c1596388e93"
      },
      "source": [
        "astring = \"Hello world!\"\n",
        "print(\"single quotes are ' '\")\n",
        "print(len(astring))"
      ],
      "execution_count": null,
      "outputs": [
        {
          "output_type": "stream",
          "text": [
            "single quotes are ' '\n",
            "12\n"
          ],
          "name": "stdout"
        }
      ]
    },
    {
      "cell_type": "code",
      "metadata": {
        "id": "kMZsbrdxMsk_",
        "colab": {
          "base_uri": "https://localhost:8080/"
        },
        "outputId": "2cad32ba-6871-4d0e-d944-f683de09f723"
      },
      "source": [
        "astring = \"Hello world!\"\n",
        "print(astring.index(\"o\"))"
      ],
      "execution_count": null,
      "outputs": [
        {
          "output_type": "stream",
          "text": [
            "4\n"
          ],
          "name": "stdout"
        }
      ]
    },
    {
      "cell_type": "markdown",
      "metadata": {
        "id": "jib_dHP4MnL8"
      },
      "source": [
        "That prints out 4, because the location of the first occurrence of the letter \"o\" is 4 characters away from the first character. Notice how there are actually two o's in the phrase - this method only recognizes the first.\n",
        "\n",
        "But why didn't it print out 5? Isn't \"o\" the fifth character in the string? To make things more simple, Python (and most other programming languages) start things at 0 instead of 1. So the index of \"o\" is 4."
      ]
    },
    {
      "cell_type": "code",
      "metadata": {
        "id": "_VZPHeAVM7W-",
        "colab": {
          "base_uri": "https://localhost:8080/"
        },
        "outputId": "2c84aef7-4e4a-4203-93a0-f8eadc1c3982"
      },
      "source": [
        "astring = \"Hello world!\"\n",
        "print(astring.count(\"H\"))"
      ],
      "execution_count": null,
      "outputs": [
        {
          "output_type": "stream",
          "text": [
            "1\n"
          ],
          "name": "stdout"
        }
      ]
    },
    {
      "cell_type": "markdown",
      "metadata": {
        "id": "vJuKccPBNkDH"
      },
      "source": [
        "For those of you using silly fonts, that is a lowercase L, not a number one. This counts the number of l's in the string. Therefore, it should print 3."
      ]
    },
    {
      "cell_type": "code",
      "metadata": {
        "id": "zntMPysON5Ts",
        "colab": {
          "base_uri": "https://localhost:8080/"
        },
        "outputId": "6a337577-0eab-4a7b-9b80-b2980421e779"
      },
      "source": [
        "astring = \"Hello world!\"\n",
        "print(astring[3:7])"
      ],
      "execution_count": null,
      "outputs": [
        {
          "output_type": "stream",
          "text": [
            "lo w\n"
          ],
          "name": "stdout"
        }
      ]
    },
    {
      "cell_type": "markdown",
      "metadata": {
        "id": "EHo45-BfN-wE"
      },
      "source": [
        "This prints a slice of the string, starting at index 3, and ending at index 6. But why 6 and not 7? Again, most programming languages do this - it makes doing math inside those brackets easier.\n",
        "\n",
        "If you just have one number in the brackets, it will give you the single character at that index. If you leave out the first number but keep the colon, it will give you a slice from the start to the number you left in. If you leave out the second number, it will give you a slice from the first number to the end.\n",
        "\n",
        "You can even put negative numbers inside the brackets. They are an easy way of starting at the end of the string instead of the beginning. This way, -3 means \"3rd character from the end\"."
      ]
    },
    {
      "cell_type": "code",
      "metadata": {
        "id": "f2fVOhDtOOVj"
      },
      "source": [
        "astring = \"Hello world!\"\n",
        "print(astring[3:7:2])"
      ],
      "execution_count": null,
      "outputs": []
    },
    {
      "cell_type": "markdown",
      "metadata": {
        "id": "9JPolHSEOSqH"
      },
      "source": [
        "This prints the characters of string from 3 to 7 skipping one character. This is extended slice syntax. The general form is [start:stop:step]."
      ]
    },
    {
      "cell_type": "code",
      "metadata": {
        "id": "1m8tU3n8OdSk"
      },
      "source": [
        "astring = \"Hello world!\"\n",
        "print(astring[3:7])\n",
        "print(astring[3:7:1])"
      ],
      "execution_count": null,
      "outputs": []
    },
    {
      "cell_type": "markdown",
      "metadata": {
        "id": "ZQp54I1kOneQ"
      },
      "source": [
        "Note that both of them produce same output\n",
        "\n",
        "There is no function like strrev in C to reverse a string. But with the above mentioned type of slice syntax you can easily reverse a string like this"
      ]
    },
    {
      "cell_type": "code",
      "metadata": {
        "id": "_4BaWsS0Osab",
        "colab": {
          "base_uri": "https://localhost:8080/",
          "height": 34
        },
        "outputId": "e0aacb32-f36f-4848-d408-8cd43f12897e"
      },
      "source": [
        "astring = \"Hello world!\"\n",
        "print(astring[::-1])"
      ],
      "execution_count": null,
      "outputs": [
        {
          "output_type": "stream",
          "text": [
            "!dlrow olleH\n"
          ],
          "name": "stdout"
        }
      ]
    },
    {
      "cell_type": "code",
      "metadata": {
        "id": "UXGsuQmhO1ND"
      },
      "source": [
        "astring = \"Hello world!\"\n",
        "print(astring.upper())\n",
        "print(astring.lower())"
      ],
      "execution_count": null,
      "outputs": []
    },
    {
      "cell_type": "markdown",
      "metadata": {
        "id": "0AFCFOpXO_Cr"
      },
      "source": [
        "hese make a new string with all letters converted to uppercase and lowercase, respectively."
      ]
    },
    {
      "cell_type": "code",
      "metadata": {
        "id": "yQGbPPncPA30"
      },
      "source": [
        "astring = \"Hello world!\"\n",
        "print(astring.startswith(\"Hello\"))\n",
        "print(astring.endswith(\"asdfasdfasdf\"))"
      ],
      "execution_count": null,
      "outputs": []
    },
    {
      "cell_type": "markdown",
      "metadata": {
        "id": "v5Rg7hGqPNMO"
      },
      "source": [
        "This is used to determine whether the string starts with something or ends with something, respectively. The first one will print True, as the string starts with \"Hello\". The second one will print False, as the string certainly does not end with \"asdfasdfasdf\""
      ]
    },
    {
      "cell_type": "code",
      "metadata": {
        "id": "bLLTo7DRPBIT"
      },
      "source": [
        "astring = \"Hello world!\"\n",
        "afewwords = astring.split(\" \")"
      ],
      "execution_count": null,
      "outputs": []
    },
    {
      "cell_type": "markdown",
      "metadata": {
        "id": "LTX2uBXKPZUx"
      },
      "source": [
        "This splits the string into a bunch of strings grouped together in a list. Since this example splits at a space, the first item in the list will be \"Hello\", and the second will be \"world!\"."
      ]
    },
    {
      "cell_type": "markdown",
      "metadata": {
        "id": "lTe0Qqi3CAeA"
      },
      "source": [
        "# 8- **Conditions**\n",
        "Python uses boolean variables to evaluate conditions. The boolean values True and False are returned when an expression is compared or evaluated. For example:"
      ]
    },
    {
      "cell_type": "code",
      "metadata": {
        "id": "Kq4Ho1l8Ksjt"
      },
      "source": [
        "x = 2\n",
        "print(x == 2) # prints out True\n",
        "print(x == 3) # prints out False\n",
        "print(x < 3) # prints out True\n"
      ],
      "execution_count": null,
      "outputs": []
    },
    {
      "cell_type": "markdown",
      "metadata": {
        "id": "t_FZLht0akQz"
      },
      "source": [
        "Notice that variable assignment is done using a single equals operator \"=\", whereas comparison between two variables is done using the double equals operator \"==\". The \"not equals\" operator is marked as \"!=\"."
      ]
    },
    {
      "cell_type": "markdown",
      "metadata": {
        "id": "-VwPfoQSS4Av"
      },
      "source": [
        "## 8.1 - Boolean operators\n",
        "The \"and\" and \"or\" boolean operators allow building complex boolean expressions, for example:"
      ]
    },
    {
      "cell_type": "code",
      "metadata": {
        "id": "5DYf8Quv_PxR"
      },
      "source": [
        "name = \"John\"\n",
        "age = 23\n",
        "if name == \"John\" and age == 23:\n",
        "    print(\"Your name is John, and you are also 23 years old.\")\n",
        "\n",
        "if name == \"John\" or name == \"Rick\":\n",
        "    print(\"Your name is either John or Rick.\")"
      ],
      "execution_count": null,
      "outputs": []
    },
    {
      "cell_type": "markdown",
      "metadata": {
        "id": "qrZx-6XeziR0"
      },
      "source": [
        "## 8.2 The \"in\" operator\n",
        "The \"in\" operator could be used to check if a specified object exists within an iterable object container, such as a list:"
      ]
    },
    {
      "cell_type": "code",
      "metadata": {
        "id": "_q87nKz4zxr1"
      },
      "source": [
        "name = \"John\"\n",
        "if name in [\"John\", \"Rick\"]:\n",
        "    print(\"Your name is either John or Rick.\")"
      ],
      "execution_count": null,
      "outputs": []
    },
    {
      "cell_type": "markdown",
      "metadata": {
        "id": "jnWR24dBHGty"
      },
      "source": [
        "Python uses indentation to define code blocks, instead of brackets. The standard Python indentation is 4 spaces, although tabs and any other space size will work, as long as it is consistent. Notice that code blocks do not need any termination.\n",
        "\n",
        "Here is an example for using Python's \"if\" statement using code blocks:"
      ]
    },
    {
      "cell_type": "code",
      "metadata": {
        "id": "YzkWkVZEbrpw"
      },
      "source": [
        "statement = False\n",
        "another_statement = True\n",
        "if statement is True:\n",
        "    # do something\n",
        "    pass\n",
        "elif another_statement is True: # else if\n",
        "    # do something else\n",
        "    pass\n",
        "else:\n",
        "    # do another thing\n",
        "    pass"
      ],
      "execution_count": null,
      "outputs": []
    },
    {
      "cell_type": "code",
      "metadata": {
        "id": "03BGhfi0b5Tx"
      },
      "source": [
        "x = 2\n",
        "if x == 2:\n",
        "    print(\"x equals two!\")\n",
        "else:\n",
        "    print(\"x does not equal to two.\")"
      ],
      "execution_count": null,
      "outputs": []
    },
    {
      "cell_type": "markdown",
      "metadata": {
        "id": "3BFbDJjCcACN"
      },
      "source": [
        "A statement is evaulated as true if one of the following is correct: 1. The \"True\" boolean variable is given, or calculated using an expression, such as an arithmetic comparison. 2. An object which is not considered \"empty\" is passed.\n",
        "\n",
        "Here are some examples for objects which are considered as empty: 1. An empty string: \"\" 2. An empty list: [] 3. The number zero: 0 4. The false boolean variable: False"
      ]
    },
    {
      "cell_type": "markdown",
      "metadata": {
        "id": "_Sq0XpVN0UZ7"
      },
      "source": [
        "## 8.3 The 'is' operator\n",
        "Unlike the double equals operator \"==\", the \"is\" operator does not match the values of the variables, but the instances themselves. For example:"
      ]
    },
    {
      "cell_type": "code",
      "metadata": {
        "id": "YQ2nyHRV0dnH",
        "colab": {
          "base_uri": "https://localhost:8080/",
          "height": 52
        },
        "outputId": "1c2b114f-7e56-4595-f427-abe0ac6540af"
      },
      "source": [
        "x = [1,2,3]\n",
        "y = [1,2,3]\n",
        "print(x == y) # Prints out True\n",
        "print(x is y) # Prints out False"
      ],
      "execution_count": null,
      "outputs": [
        {
          "output_type": "stream",
          "text": [
            "True\n",
            "False\n"
          ],
          "name": "stdout"
        }
      ]
    },
    {
      "cell_type": "markdown",
      "metadata": {
        "id": "tuCqDl8Ojb71"
      },
      "source": [
        "##8.4-**The \"not\" operator**\n",
        "Using \"not\" before a boolean expression inverts it:"
      ]
    },
    {
      "cell_type": "code",
      "metadata": {
        "id": "AEhV6wPLjxKW",
        "colab": {
          "base_uri": "https://localhost:8080/",
          "height": 52
        },
        "outputId": "719d1f6a-47cf-4fd3-f6f3-313507dd02b6"
      },
      "source": [
        "print(not False) # Prints out True\n",
        "print((not False) == (False)) # Prints out False"
      ],
      "execution_count": null,
      "outputs": [
        {
          "output_type": "stream",
          "text": [
            "True\n",
            "False\n"
          ],
          "name": "stdout"
        }
      ]
    },
    {
      "cell_type": "markdown",
      "metadata": {
        "id": "NSfAbkM9j9n0"
      },
      "source": [
        "#**9-Loops** \n",
        "There are two types of loops in Python, **For** and **While**."
      ]
    },
    {
      "cell_type": "markdown",
      "metadata": {
        "id": "CQw5qCkwkQtl"
      },
      "source": [
        "## **9.1- For Loops** \n",
        "For loops iterate over a given sequence. Here is an example [1]"
      ]
    },
    {
      "cell_type": "code",
      "metadata": {
        "id": "yXE0z8LTkh_n"
      },
      "source": [
        "primes = [2, 3, 5, 7]\n",
        "for prime in primes:\n",
        "    print(prime)"
      ],
      "execution_count": null,
      "outputs": []
    },
    {
      "cell_type": "markdown",
      "metadata": {
        "id": "Jk7_uCXBk2p8"
      },
      "source": [
        "For loops can iterate over a sequence of numbers using the \"range\" and \"xrange\" functions. The difference between range and xrange is that the range function returns a new list with numbers of that specified range, whereas xrange returns an iterator, which is more efficient. (Python 3 uses the range function, which acts like xrange). Note that the range function is zero based[1]"
      ]
    },
    {
      "cell_type": "code",
      "metadata": {
        "id": "75rKveONk5uR"
      },
      "source": [
        "# Prints out the numbers 0,1,2,3,4\n",
        "for x in range(5):\n",
        "    print(x)"
      ],
      "execution_count": null,
      "outputs": []
    },
    {
      "cell_type": "code",
      "metadata": {
        "id": "ZAVayvJGlJTf"
      },
      "source": [
        "# Prints out 3,4,5\n",
        "for x in range(3, 6):\n",
        "    print(x)"
      ],
      "execution_count": null,
      "outputs": []
    },
    {
      "cell_type": "code",
      "metadata": {
        "id": "ob6Xmq2olPbP"
      },
      "source": [
        "# Prints out 3,5,7\n",
        "for x in range(3, 8, 2):\n",
        "    print(x)"
      ],
      "execution_count": null,
      "outputs": []
    },
    {
      "cell_type": "markdown",
      "metadata": {
        "id": "z92vvofurd8i"
      },
      "source": [
        "## **9.5 \"while\" loops**\n",
        "While loops repeat as long as a certain boolean condition is met. For example:\n",
        "\n"
      ]
    },
    {
      "cell_type": "code",
      "metadata": {
        "id": "xWy8CNotruT-"
      },
      "source": [
        "# Prints out 0,1,2,3,4\n",
        "count = 0\n",
        "while count < 5:\n",
        "    print(count)\n",
        "    count += 1  # This is the same as count = count + 1"
      ],
      "execution_count": null,
      "outputs": []
    },
    {
      "cell_type": "markdown",
      "metadata": {
        "id": "Q1huBl7_s92A"
      },
      "source": [
        "##9.6 **break\" and \"continue\" statements**\n",
        "break is used to exit a for loop or a while loop, whereas continue is used to skip the current block, and return to the \"for\" or \"while\" statement. A few examples:"
      ]
    },
    {
      "cell_type": "code",
      "metadata": {
        "id": "loSiWLLftM6c"
      },
      "source": [
        "# Prints out 0,1,2,3,4\n",
        "count = 0\n",
        "while True:\n",
        "    print(count)\n",
        "    count += 1\n",
        "    if count >= 5:\n",
        "        break\n"
      ],
      "execution_count": null,
      "outputs": []
    },
    {
      "cell_type": "code",
      "metadata": {
        "id": "s0fLXLzetlUZ"
      },
      "source": [
        "# Prints out only odd numbers - 1,3,5,7,9\n",
        "for x in range(10):\n",
        "    # Check if x is even\n",
        "    if x % 2 == 0:\n",
        "        continue\n",
        "    print(x)"
      ],
      "execution_count": null,
      "outputs": []
    },
    {
      "cell_type": "markdown",
      "metadata": {
        "id": "yfQXiYbot7oP"
      },
      "source": [
        "##**9.6-Can we use \"else\" clause for loops?**\n",
        "unlike languages like C,CPP.. we can use else for loops. When the loop condition of \"for\" or \"while\" statement fails then code part in \"else\" is executed. If break statement is executed inside for loop then the \"else\" part is skipped. Note that \"else\" part is executed even if there is a continue statement."
      ]
    },
    {
      "cell_type": "code",
      "metadata": {
        "id": "9ja3raQ4uLVb"
      },
      "source": [
        "# Prints out 0,1,2,3,4 and then it prints \"count value reached 5\"\n",
        "\n",
        "count=0\n",
        "while(count<5):\n",
        "    print(count)\n",
        "    count +=1\n",
        "else:\n",
        "    print(\"count value reached %d\" %(count))\n",
        "\n",
        "# Prints out 1,2,3,4\n",
        "for i in range(1, 10):\n",
        "    if(i%5==0):\n",
        "        break\n",
        "    print(i)\n",
        "else:\n",
        "    print(\"this is not printed because for loop is terminated because of break but not due to fail in condition\")"
      ],
      "execution_count": null,
      "outputs": []
    },
    {
      "cell_type": "markdown",
      "metadata": {
        "id": "qLh5SRAmuwaM"
      },
      "source": [
        "#**10-Functions**\n",
        "\n",
        "**What are Functions?**\n",
        "\n",
        "Functions are a convenient way to divide your code into useful blocks, allowing us to order our code, make it more readable, reuse it and save some time. Also functions are a key way to define interfaces so programmers can share their code.\n",
        "\n",
        "**How do you write functions in Python?**\n",
        "\n",
        "As we have seen on previous tutorials, Python makes use of blocks.\n",
        "A block is a area of code of written in the format of:\n",
        "\n",
        "block_head:\n",
        "\n",
        "    1st block line\n",
        "    \n",
        "    2nd block line\n",
        "    ...\n",
        "\n",
        "\n",
        "Where a block line is more Python code (even another block), and the block head is of the following format: block_keyword block_name(argument1,argument2, ...) Block keywords you already know are \"if\", \"for\", and \"while\".\n",
        "\n",
        "Functions in python are defined using the block keyword \"def\", followed with the function's name as the block's name. For example:\n"
      ]
    },
    {
      "cell_type": "code",
      "metadata": {
        "id": "nQdEeASZvWVb"
      },
      "source": [
        "def my_function():\n",
        "    print(\"Hello From My Function!\")"
      ],
      "execution_count": null,
      "outputs": []
    },
    {
      "cell_type": "code",
      "metadata": {
        "id": "HBlxgMQHvFKh"
      },
      "source": [
        "def my_function_with_args(username, greeting):\n",
        "    print(\"Hello, %s , From My Function!, I wish you %s\"%(username, greeting))"
      ],
      "execution_count": null,
      "outputs": []
    },
    {
      "cell_type": "code",
      "metadata": {
        "id": "wTPbY8DpwMue"
      },
      "source": [
        "def sum_two_numbers(a, b):\n",
        "    return a + b"
      ],
      "execution_count": null,
      "outputs": []
    },
    {
      "cell_type": "markdown",
      "metadata": {
        "id": "3lJNUdzqwP7Y"
      },
      "source": [
        "##**10.1 call function**\n",
        "Simply write the function's name followed by (), placing any required arguments within the brackets. For example, lets call the functions written above (in the previous example): "
      ]
    },
    {
      "cell_type": "code",
      "metadata": {
        "id": "8QG7iGacw63l"
      },
      "source": [
        "# Define our 3 functions\n",
        "def my_function():\n",
        "    print(\"Hello From My Function!\")"
      ],
      "execution_count": null,
      "outputs": []
    },
    {
      "cell_type": "code",
      "metadata": {
        "id": "HhO7omhEw8yM"
      },
      "source": [
        "# print(a simple greeting)\n",
        "my_function()"
      ],
      "execution_count": null,
      "outputs": []
    },
    {
      "cell_type": "code",
      "metadata": {
        "id": "6mC_J_kDxG30"
      },
      "source": [
        "def my_function_with_args(username, greeting):\n",
        "    print(\"Hello, %s , From My Function!, I wish you %s\"%(username, greeting))"
      ],
      "execution_count": null,
      "outputs": []
    },
    {
      "cell_type": "code",
      "metadata": {
        "id": "oGuPF5M9xI8q"
      },
      "source": [
        "my_function_with_args(\"John Doe\", \"a great year!\")\n"
      ],
      "execution_count": null,
      "outputs": []
    },
    {
      "cell_type": "code",
      "metadata": {
        "id": "6Q2mEHjRxQ7Z"
      },
      "source": [
        "def sum_two_numbers(a, b):\n",
        "    return a + b"
      ],
      "execution_count": null,
      "outputs": []
    },
    {
      "cell_type": "markdown",
      "metadata": {
        "id": "YmZFiymirTKT"
      },
      "source": [
        "#**11-Classes and Objects**\n",
        "\n",
        "Objects are an encapsulation of variables and functions into a single entity. Objects get their variables and functions from classes. Classes are essentially a template to create your objects."
      ]
    },
    {
      "cell_type": "code",
      "metadata": {
        "id": "KkBbwaGDrun3"
      },
      "source": [
        "class MyClass:\n",
        "    variable = \"blah\"\n",
        "\n",
        "    def function(self):\n",
        "        print(\"This is a message inside the class.\")"
      ],
      "execution_count": null,
      "outputs": []
    },
    {
      "cell_type": "markdown",
      "metadata": {
        "id": "6kzj9a3bvJLW"
      },
      "source": [
        "We'll explain why you have to include that \"self\" as a parameter a little bit later. First, to assign the above class(template) to an object you would do the following:"
      ]
    },
    {
      "cell_type": "code",
      "metadata": {
        "id": "AjOtlu4TvPJO"
      },
      "source": [
        "class MyClass:\n",
        "    variable = \"blah\"\n",
        "\n",
        "    def function(self):\n",
        "        print(\"This is a message inside the class.\")\n",
        "\n",
        "myobjectx = MyClass()"
      ],
      "execution_count": null,
      "outputs": []
    },
    {
      "cell_type": "markdown",
      "metadata": {
        "id": "PkxO_bh8vZV6"
      },
      "source": [
        "Now the variable \"myobjectx\" holds an object of the class \"MyClass\" that contains the variable and the function defined within the class called \"MyClass\""
      ]
    },
    {
      "cell_type": "markdown",
      "metadata": {
        "id": "Gzb6ddHVvjJ5"
      },
      "source": [
        "## **11.1 Accessing Object Variables**\n",
        "To access the variable inside of the newly created object \"myobjectx\" you would do the following:"
      ]
    },
    {
      "cell_type": "code",
      "metadata": {
        "id": "5zORsV5Uvx_P"
      },
      "source": [
        "class MyClass:\n",
        "    variable = \"blah\"\n",
        "\n",
        "    def function(self):\n",
        "        print(\"This is a message inside the class.\")\n",
        "\n",
        "myobjectx = MyClass()\n",
        "\n",
        "myobjectx.variable"
      ],
      "execution_count": null,
      "outputs": []
    },
    {
      "cell_type": "markdown",
      "metadata": {
        "id": "yi3yquRxwHGn"
      },
      "source": [
        "So for instance the below would output the string \"blah\":\n"
      ]
    },
    {
      "cell_type": "code",
      "metadata": {
        "id": "V_t2WQwKwMUg"
      },
      "source": [
        "class MyClass:\n",
        "    variable = \"blah\"\n",
        "\n",
        "    def function(self):\n",
        "        print(\"This is a message inside the class.\")\n",
        "\n",
        "myobjectx = MyClass()\n",
        "\n",
        "print(myobjectx.variable)"
      ],
      "execution_count": null,
      "outputs": []
    },
    {
      "cell_type": "markdown",
      "metadata": {
        "id": "QUfyG--HwlkT"
      },
      "source": [
        "You can create multiple different objects that are of the same class(have the same variables and functions defined). However, each object contains independent copies of the variables defined in the class. For instance, if we were to define another object with the \"MyClass\" class and then change the string in the variable above:"
      ]
    },
    {
      "cell_type": "code",
      "metadata": {
        "id": "3RSVIyuSwhJk"
      },
      "source": [
        "class MyClass:\n",
        "    variable = \"blah\"\n",
        "\n",
        "    def function(self):\n",
        "        print(\"This is a message inside the class.\")\n",
        "\n",
        "myobjectx = MyClass()\n",
        "myobjecty = MyClass()\n",
        "\n",
        "myobjecty.variable = \"yackity\"\n",
        "\n",
        "# Then print out both values\n",
        "print(myobjectx.variable)\n",
        "print(myobjecty.variable)"
      ],
      "execution_count": null,
      "outputs": []
    },
    {
      "cell_type": "markdown",
      "metadata": {
        "id": "JTtkWqyL5aF0"
      },
      "source": [
        "##**11.2 Accessing Object Functions**\n",
        "To access a function inside of an object you use notation similar to accessing a variable:"
      ]
    },
    {
      "cell_type": "code",
      "metadata": {
        "id": "nb4Gcnjo5rmf"
      },
      "source": [
        "class MyClass:\n",
        "    variable = \"blah\"\n",
        "\n",
        "    def function(self):\n",
        "        print(\"This is a message inside the class.\")\n",
        "\n",
        "myobjectx = MyClass()\n",
        "\n",
        "myobjectx.function()"
      ],
      "execution_count": null,
      "outputs": []
    },
    {
      "cell_type": "markdown",
      "metadata": {
        "id": "tYMmgDot6HFU"
      },
      "source": [
        "We have a class defined for vehicles. Create two new vehicles called car1 and car2. Set car1 to be a red convertible worth $60,000.00 with a name of Fer, and car2 to be a blue van named Jump worth $10,000.00."
      ]
    },
    {
      "cell_type": "code",
      "metadata": {
        "id": "Wnf9WbrF6GN5"
      },
      "source": [
        "# define the Vehicle class\n",
        "class Vehicle:\n",
        "    name = \"\"\n",
        "    kind = \"car\"\n",
        "    color = \"\"\n",
        "    value = 100.00\n",
        "    def description(self):\n",
        "        desc_str = \"%s is a %s %s worth $%.2f.\" % (self.name, self.color, self.kind, self.value)\n",
        "        return desc_str\n",
        "\n",
        "# your code goes here\n",
        "car1 = Vehicle()\n",
        "car1.name = \"Fer\"\n",
        "car1.color = \"red\"\n",
        "car1.kind = \"convertible\"\n",
        "car1.value = 60000.00\n",
        "\n",
        "car2 = Vehicle()\n",
        "car2.name = \"Jump\"\n",
        "car2.color = \"blue\"\n",
        "car2.kind = \"van\"\n",
        "car2.value = 10000.00\n",
        "\n",
        "# test code\n",
        "print(car1.description())\n",
        "print(car2.description())"
      ],
      "execution_count": null,
      "outputs": []
    },
    {
      "cell_type": "markdown",
      "metadata": {
        "id": "Z-IEG6026_gb"
      },
      "source": [
        "# **12 Dictionaries**\n",
        "\n",
        "A dictionary is a data type similar to arrays, but works with keys and values instead of indexes. Each value stored in a dictionary can be accessed using a key, which is any type of object (a string, a number, a list, etc.) instead of using its index to address it.\n",
        "\n",
        "For example, a database of phone numbers could be stored using a dictionary like this:\n",
        "\n"
      ]
    },
    {
      "cell_type": "code",
      "metadata": {
        "id": "ZZqBvB3iAIhK"
      },
      "source": [
        "phonebook = {}\n",
        "phonebook[\"John\"] = 938477566\n",
        "phonebook[\"Jack\"] = 938377264\n",
        "phonebook[\"Jill\"] = 947662781\n",
        "print(phonebook)"
      ],
      "execution_count": null,
      "outputs": []
    },
    {
      "cell_type": "markdown",
      "metadata": {
        "id": "ufZ79qtTAZns"
      },
      "source": [
        "Alternatively, a dictionary can be initialized with the same values in the following notation:"
      ]
    },
    {
      "cell_type": "code",
      "metadata": {
        "id": "Me86b5AhAbTM",
        "colab": {
          "base_uri": "https://localhost:8080/",
          "height": 34
        },
        "outputId": "8226e559-a626-4206-b53f-4d13421d2586"
      },
      "source": [
        "phonebook = {\n",
        "    \"John\" : 938477566,\n",
        "    \"Jack\" : 938377264,\n",
        "    \"Jill\" : 947662781\n",
        "}\n",
        "print(phonebook)"
      ],
      "execution_count": null,
      "outputs": [
        {
          "output_type": "stream",
          "text": [
            "{'John': 938477566, 'Jack': 938377264, 'Jill': 947662781}\n"
          ],
          "name": "stdout"
        }
      ]
    },
    {
      "cell_type": "markdown",
      "metadata": {
        "id": "rXs4sAo4AtM_"
      },
      "source": [
        "## **12.1 Iterating over dictionaries**\n",
        "\n",
        "Dictionaries can be iterated over, just like a list. However, a dictionary, unlike a list, does not keep the order of the values stored in it. To iterate over key value pairs, use the following syntax:"
      ]
    },
    {
      "cell_type": "code",
      "metadata": {
        "id": "M1bfQ1xWT4yo"
      },
      "source": [
        "phonebook = {\"John\" : 938477566,\"Jack\" : 938377264,\"Jill\" : 947662781}\n",
        "for name, number in phonebook.items():\n",
        "    print(\"Phone number of %s is %d\" % (name, number))"
      ],
      "execution_count": null,
      "outputs": []
    },
    {
      "cell_type": "markdown",
      "metadata": {
        "id": "ojkYULYyUGlx"
      },
      "source": [
        "## **12.2- Removing a value**\n",
        " To remove a specified index, use either one of the following notations:"
      ]
    },
    {
      "cell_type": "code",
      "metadata": {
        "id": "aeMkNjqYUWFi"
      },
      "source": [
        "phonebook = {\n",
        "   \"John\" : 938477566,\n",
        "   \"Jack\" : 938377264,\n",
        "   \"Jill\" : 947662781\n",
        "}\n",
        "del phonebook[\"John\"]\n",
        "print(phonebook)"
      ],
      "execution_count": null,
      "outputs": []
    },
    {
      "cell_type": "markdown",
      "metadata": {
        "id": "59NHXDwkUfEY"
      },
      "source": [
        "##**12.3 Exercise**\n",
        "Add \"Jake\" to the phonebook with the phone number 938273443, and remove Jill from the phonebook.\n"
      ]
    },
    {
      "cell_type": "code",
      "metadata": {
        "id": "GmEIe3-JUrr4",
        "colab": {
          "base_uri": "https://localhost:8080/",
          "height": 51
        },
        "outputId": "04bb18f4-1187-40e5-c1d5-f2a1cff55017"
      },
      "source": [
        "phonebook = {\n",
        "    \"John\" : 938477566,\n",
        "    \"Jack\" : 938377264,\n",
        "    \"Jill\" : 947662781\n",
        "}\n",
        "\n",
        "# write your code here\n",
        "phonebook[\"Jake\"] = 938273443\n",
        "del phonebook[\"Jill\"]\n",
        "\n",
        "# testing code\n",
        "if \"Jake\" in phonebook:\n",
        "    print(\"Jake is listed in the phonebook.\")\n",
        "if \"Jill\" not in phonebook:\n",
        "    print(\"Jill is not listed in the phonebook.\")"
      ],
      "execution_count": null,
      "outputs": [
        {
          "output_type": "stream",
          "text": [
            "Jake is listed in the phonebook.\n",
            "Jill is not listed in the phonebook.\n"
          ],
          "name": "stdout"
        }
      ]
    },
    {
      "cell_type": "markdown",
      "metadata": {
        "id": "GAUb2kydVPgm"
      },
      "source": [
        "#**13-Modules and Packages**\n",
        "\n",
        "In programming, a module is a piece of software that has a specific functionality. For example, when building a ping pong game, one module would be responsible for the game logic, and\n",
        "another module would be responsible for drawing the game on the screen. Each module is a different file, which can be edited separately."
      ]
    },
    {
      "cell_type": "markdown",
      "metadata": {
        "id": "d_idURy4UaYb"
      },
      "source": [
        "## **13.1 Writing modules**\n",
        "Modules in Python are simply Python files with a .py extension. The name of the module will be the name of the file. A Python module can have a set of functions, classes or variables defined and implemented. In the example above, we will have two files, we will have:\n"
      ]
    },
    {
      "cell_type": "code",
      "metadata": {
        "id": "PRX0lF6qUont"
      },
      "source": [
        "mygame/\n",
        "mygame/game.py\n",
        "mygame/draw.py"
      ],
      "execution_count": null,
      "outputs": []
    },
    {
      "cell_type": "markdown",
      "metadata": {
        "id": "EaFsO-GlUxb9"
      },
      "source": [
        "The Python script game.py will implement the game. It will use the function draw_game from the file draw.py, or in other words, thedraw module, that implements the logic for drawing the game on the screen.\n",
        "\n",
        "Modules are imported from other modules using the import command. In this example, the game.py script may look something like this:"
      ]
    },
    {
      "cell_type": "code",
      "metadata": {
        "id": "9vK1VQu1U-CH"
      },
      "source": [
        "# game.py\n",
        "# import the draw module\n",
        "import draw\n",
        "\n",
        "def play_game():\n",
        "    ...\n",
        "\n",
        "def main():\n",
        "    result = play_game()\n",
        "    draw.draw_game(result)\n",
        "\n",
        "# this means that if this script is executed, then \n",
        "# main() will be executed\n",
        "if __name__ == '__main__':\n",
        "    main()"
      ],
      "execution_count": null,
      "outputs": []
    },
    {
      "cell_type": "markdown",
      "metadata": {
        "id": "-nJ2oA-BVE2S"
      },
      "source": [
        "The draw module may look something like this:"
      ]
    },
    {
      "cell_type": "code",
      "metadata": {
        "id": "p9ovRIBbVItG"
      },
      "source": [
        "# draw.py\n",
        "\n",
        "def draw_game():\n",
        "    ...\n",
        "\n",
        "def clear_screen(screen):"
      ],
      "execution_count": null,
      "outputs": []
    },
    {
      "cell_type": "markdown",
      "metadata": {
        "id": "Lhd1HbEPjxPo"
      },
      "source": [
        "n this example, the game module imports the draw module, which enables it to use functions implemented in that module. The main function would use the local function play_game to run the game, and then draw the result of the game using a function implemented in the draw module called draw_game. To use the function draw_game from the draw module, we would need to specify in which module the function is implemented, using the dot operator. To reference the draw_game function from the game module, we would need to import the draw module and only then call draw.draw_game().\n",
        "\n",
        "When the import draw directive will run, the Python interpreter will look for a file in the directory which the script was executed from, by the name of the module with a .py prefix, so in our case it will try to look for draw.py. If it will find one, it will import it. If not, he will continue to look for built-in modules.\n",
        "\n",
        "You may have noticed that when importing a module, a .pyc file appears, which is a compiled Python file. Python compiles files into Python bytecode so that it won't have to parse the files each time modules are loaded. If a .pyc file exists, it gets loaded instead of the .py file, but this process is transparent to the user."
      ]
    },
    {
      "cell_type": "markdown",
      "metadata": {
        "id": "YXHl89mHkKoi"
      },
      "source": [
        "## **13.2 Importing module objects to the current namespace**\n",
        "\n",
        "We may also import the function draw_game directly into the main script's namespace, by using the from command."
      ]
    },
    {
      "cell_type": "code",
      "metadata": {
        "id": "x6DbDFaIkdLT"
      },
      "source": [
        "# game.py\n",
        "# import the draw module\n",
        "from draw import draw_game\n",
        "\n",
        "def main():\n",
        "    result = play_game()\n",
        "    draw_game(result)"
      ],
      "execution_count": null,
      "outputs": []
    },
    {
      "cell_type": "markdown",
      "metadata": {
        "id": "DATAVdlrkiec"
      },
      "source": [
        "You may have noticed that in this example, draw_game does not precede with the name of the module it is imported from, because we've specified the module name in the import command.\n",
        "\n",
        "The advantages of using this notation is that it is easier to use the functions inside the current module because you don't need to specify which module the function comes from. However, any namespace cannot have two objects with the exact same name, so the import command may replace an existing object in the namespace."
      ]
    },
    {
      "cell_type": "markdown",
      "metadata": {
        "id": "m6gF7cGmW1cG"
      },
      "source": [
        "## **13.3-Importing all objects from a module**\n",
        "We may also use the import * command to import all objects from a specific module, like this:"
      ]
    },
    {
      "cell_type": "code",
      "metadata": {
        "id": "UbUeXFHeXHap"
      },
      "source": [
        "# game.py\n",
        "# import the draw module\n",
        "from draw import *\n",
        "\n",
        "def main():\n",
        "    result = play_game()\n",
        "    draw_game(result)"
      ],
      "execution_count": null,
      "outputs": []
    },
    {
      "cell_type": "markdown",
      "metadata": {
        "id": "sa1UxnJBXREh"
      },
      "source": [
        "## **13.4 Custom import name**\n",
        "\n",
        "We may also load modules under any name we want. This is useful when we want to import a module conditionally to use the same name in the rest of the code.\n",
        "\n",
        "For example, if you have two draw modules with slighty different names - you may do the following:"
      ]
    },
    {
      "cell_type": "code",
      "metadata": {
        "id": "m2FGe5uMXgjc"
      },
      "source": [
        "# game.py\n",
        "# import the draw module\n",
        "if visual_mode:\n",
        "    # in visual mode, we draw using graphics\n",
        "    import draw_visual as draw\n",
        "else:\n",
        "    # in textual mode, we print out text\n",
        "    import draw_textual as draw\n",
        "\n",
        "def main():\n",
        "    result = play_game()\n",
        "    # this can either be visual or textual depending on visual_mode\n",
        "    draw.draw_game(result)"
      ],
      "execution_count": null,
      "outputs": []
    },
    {
      "cell_type": "markdown",
      "metadata": {
        "id": "HDGVVOORYBCb"
      },
      "source": [
        "## **13.5 Module initialization**\n",
        "The first time a module is loaded into a running Python script, it is initialized by executing the code in the module once. If another module in your code imports the same module again, it will not be loaded twice but once only - so local variables inside the module act as a \"singleton\" - they are initialized only once.\n",
        "\n",
        "This is useful to know, because this means that you can rely on this behavior for initializing objects. For example:\n"
      ]
    },
    {
      "cell_type": "code",
      "metadata": {
        "id": "kGu4K-ieYQTu"
      },
      "source": [
        "# draw.py\n",
        "\n",
        "def draw_game():\n",
        "    # when clearing the screen we can use the main screen object initialized in this module\n",
        "    clear_screen(main_screen)\n",
        "    ...\n",
        "\n",
        "def clear_screen(screen):\n",
        "    ...\n",
        "\n",
        "class Screen():\n",
        "    ...\n",
        "\n",
        "# initialize main_screen as a singleton\n",
        "main_screen = Screen()"
      ],
      "execution_count": null,
      "outputs": []
    },
    {
      "cell_type": "markdown",
      "metadata": {
        "id": "AtJRdeaLkRiP"
      },
      "source": [
        "## **13.6 Extending module load path**\n",
        "\n",
        "There are a couple of ways we could tell the Python interpreter where to look for modules, aside from the default, which is the local directory and the built-in modules. You could either use the environment variable PYTHONPATH to specify additional directories to look for modules in, like this:\n",
        "\n"
      ]
    },
    {
      "cell_type": "code",
      "metadata": {
        "id": "V6SEZUHxkutg"
      },
      "source": [
        "PYTHONPATH=/foo python game.py"
      ],
      "execution_count": null,
      "outputs": []
    },
    {
      "cell_type": "markdown",
      "metadata": {
        "id": "SMpgZH_-k2e2"
      },
      "source": [
        "This will execute game.py, and will enable the script to load modules from the foo directory as well as the local directory.\n",
        "\n",
        "Another method is the sys.path.append function. You may execute it before running an import command:"
      ]
    },
    {
      "cell_type": "code",
      "metadata": {
        "id": "FvfE-R31k4YI"
      },
      "source": [
        "sys.path.append(\"/foo\")"
      ],
      "execution_count": null,
      "outputs": []
    },
    {
      "cell_type": "markdown",
      "metadata": {
        "id": "StuL1zFck_Qb"
      },
      "source": [
        "This will add the foo directory to the list of paths to look for modules in as well."
      ]
    },
    {
      "cell_type": "markdown",
      "metadata": {
        "id": "YJ74hlErlCGq"
      },
      "source": [
        "## **13.6 -Exploring built-in modules**\n",
        "\n",
        "Check out the full list of built-in modules in the Python standard library here.\n",
        "\n",
        "Two very important functions come in handy when exploring modules in Python - the dir and help functions.\n",
        "\n",
        "If we want to import the module urllib, which enables us to create read data from URLs, we simply import the module:"
      ]
    },
    {
      "cell_type": "code",
      "metadata": {
        "id": "lA8yqbFMlZ6a"
      },
      "source": [
        "# import the library\n",
        "import urllib\n",
        "\n",
        "# use it\n",
        "urllib.urlopen(...)"
      ],
      "execution_count": null,
      "outputs": []
    },
    {
      "cell_type": "markdown",
      "metadata": {
        "id": "HxyWYSYZlsjA"
      },
      "source": [
        "When we find the function in the module we want to use, we can read about it more using the help function, inside the Python interpreter:\n",
        "\n"
      ]
    },
    {
      "cell_type": "code",
      "metadata": {
        "id": "FQ9Kp7felu-K"
      },
      "source": [
        "help(urllib.urlopen)"
      ],
      "execution_count": null,
      "outputs": []
    },
    {
      "cell_type": "markdown",
      "metadata": {
        "id": "1UQzdbvXl2IW"
      },
      "source": [
        "## **13.7 Writing packages**\n",
        "\n",
        "Packages are namespaces which contain multiple packages and modules themselves. They are simply directories, but with a twist.\n",
        "\n",
        "Each package in Python is a directory which MUST contain a special file called __init__.py. This file can be empty, and it indicates that the directory it contains is a Python package, so it can be imported the same way a module can be imported.\n",
        "\n",
        "If we create a directory called foo, which marks the package name, we can then create a module inside that package called bar. We also must not forget to add the __init__.py file inside the foo directory.\n",
        "\n",
        "To use the module bar, we can import it in two ways"
      ]
    },
    {
      "cell_type": "markdown",
      "metadata": {
        "id": "dZ64WXxQlASh"
      },
      "source": [
        "#**Python Digital Cheat Sheet**\n",
        "\n",
        "![](https://drive.google.com/uc?export=view&id=1hbFJmUmMDLpnd4k3ASp9LqvTdflrdo1N)"
      ]
    },
    {
      "cell_type": "code",
      "metadata": {
        "id": "NtVOa_rSpES8"
      },
      "source": [
        "import foo.bar"
      ],
      "execution_count": null,
      "outputs": []
    },
    {
      "cell_type": "code",
      "metadata": {
        "id": "SelJWP2BpJa_"
      },
      "source": [
        "from foo import bar"
      ],
      "execution_count": null,
      "outputs": []
    },
    {
      "cell_type": "markdown",
      "metadata": {
        "id": "gVUbb39upXpO"
      },
      "source": [
        "In the first method, we must use the foo prefix whenever we access the module bar. In the second method, we don't, because we import the module to our module's namespace.\n",
        "\n",
        "The __init__.py file can also decide which modules the package exports as the API, while keeping other modules internal, by overriding the __all__ variable, like so:"
      ]
    },
    {
      "cell_type": "code",
      "metadata": {
        "id": "2afYS7AWpeC0"
      },
      "source": [
        "__init__.py:\n",
        "\n",
        "__all__ = [\"bar\"]"
      ],
      "execution_count": null,
      "outputs": []
    },
    {
      "cell_type": "markdown",
      "metadata": {
        "id": "40DsFInRUFZi"
      },
      "source": [
        "##**12-NumPy For Machine Learning**\n",
        "**Reference [3]**"
      ]
    },
    {
      "cell_type": "markdown",
      "metadata": {
        "id": "tx1uai5m-wf7"
      },
      "source": [
        "![](https://drive.google.com/uc?export=view&id=16akPUGgRlr-P3EJ_ienONdw-HiacwaLj)"
      ]
    },
    {
      "cell_type": "markdown",
      "metadata": {
        "id": "cPsBvwjkXc_o"
      },
      "source": [
        "####**12.1-Introduction to NumPy**\n",
        "\n",
        "NumPy stands for ‘Numerical Python’. It is an open-source Python library used to perform various mathematical and scientific tasks.NumPy is one of the very first libraries in Python that makes your numerical computations easy and efficient. This course will get you acquainted (familiarize) with NumPy. It contains multi-dimensional arrays and matrices, along with many high-level mathematical functions that operate on these arrays and matrices."
      ]
    },
    {
      "cell_type": "markdown",
      "metadata": {
        "id": "Sxwz5ifNYp8y"
      },
      "source": [
        "####**12.2- Installing NumPy**\n",
        "\n",
        "you can install NumPy with:"
      ]
    },
    {
      "cell_type": "code",
      "metadata": {
        "id": "0DZTvR_cY591"
      },
      "source": [
        "conda install numpy"
      ],
      "execution_count": null,
      "outputs": []
    },
    {
      "cell_type": "markdown",
      "metadata": {
        "id": "7i7ub8IMZcMA"
      },
      "source": [
        "**or**"
      ]
    },
    {
      "cell_type": "code",
      "metadata": {
        "id": "our9gtAhZd5l"
      },
      "source": [
        "pip install numpy"
      ],
      "execution_count": null,
      "outputs": []
    },
    {
      "cell_type": "markdown",
      "metadata": {
        "id": "uxg91R6nZ6i2"
      },
      "source": [
        "####**12.3-How to import NumPy?**\n",
        "\n",
        "After installing NumPy, you can now use this library by importing it. To import NumPy use:"
      ]
    },
    {
      "cell_type": "code",
      "metadata": {
        "id": "ul057H-0aOzH"
      },
      "source": [
        "import numpy as np\n"
      ],
      "execution_count": null,
      "outputs": []
    },
    {
      "cell_type": "markdown",
      "metadata": {
        "id": "AhMj8q6mcL2y"
      },
      "source": [
        "####**12.4-What is an array**\n",
        "\n",
        "An array is a data structure consisting of a collection of elements (values or variables), each identified by at least one array index or key.\n"
      ]
    },
    {
      "cell_type": "markdown",
      "metadata": {
        "id": "xv6zRflIDRrY"
      },
      "source": [
        "![](https://drive.google.com/uc?export=view&id=1KidYQvwakSB5DsDSpMTWtqojlUZVRyhr)"
      ]
    },
    {
      "cell_type": "markdown",
      "metadata": {
        "id": "Ap3dChbLG2FY"
      },
      "source": [
        "An array is known as the central data structure of the NumPy library. Array in NumPy is called as NumPy Array.\n"
      ]
    },
    {
      "cell_type": "markdown",
      "metadata": {
        "id": "Mr9TpXkHGgeH"
      },
      "source": [
        "![](https://drive.google.com/uc?export=view&id=1yvRXtvrSxdElgAbt0D54qC4h_z6LEu2p)"
      ]
    },
    {
      "cell_type": "markdown",
      "metadata": {
        "id": "UGiMuNLOG92I"
      },
      "source": [
        "####**12.5- What is the difference between Python List and a Numpy Array?**\n",
        "\n",
        "- Python list can contain elements with different data types whereas Numpy Array‘s elements are always homogeneous(same data types).\n",
        "\n",
        "- NumPy arrays are faster and more compact than Python lists.\n",
        "\n",
        "**Why NumPy Arrays are faster than Lists?**\n",
        "\n",
        "- NumPy Array uses fixed memory to store data and less memory than Python lists.\n",
        "\n",
        "- Contiguous memory allocation in NumPy Arrays."
      ]
    },
    {
      "cell_type": "markdown",
      "metadata": {
        "id": "dZ7AuyE2Hbww"
      },
      "source": [
        "####**12.6-Creating Arrays**\n",
        "\n",
        "NumPy Arrays of different dimensions can be created by using ndarray(n-dimensional array). It is an array class in NumPy.The basic ndarray can be created using the numpy.array() function in NumPy.\n",
        "\n",
        "numpy.array(object, dtype = None, copy = True, order = None, subok = False, ndmin = 0)"
      ]
    },
    {
      "cell_type": "markdown",
      "metadata": {
        "id": "djTo8ZGYH1gs"
      },
      "source": [
        "**(a)1-Dimensional Array**"
      ]
    },
    {
      "cell_type": "code",
      "metadata": {
        "id": "9DXzGQDkH5Jp"
      },
      "source": [
        "import numpy as np\n",
        "#creating 1-dimensional arrays\n",
        "#creating python list\n",
        "list_1 = [3,2,7]\n",
        "arr_1 = np.array(list_1,dtype=np.int16)\n",
        "print(arr_1)\n",
        "#or \n",
        "arr_1=np.array([3,2,7])\n",
        "print(arr_1)\n",
        "output:\n",
        "[3 2 7]\n",
        "#creating array of complex number\n",
        "arr_complex = np.array([1, 2, 3], dtype = complex)\n",
        "print(arr_complex)\n",
        "output:\n",
        "[1.+0.j 2.+0.j 3.+0.j]"
      ],
      "execution_count": null,
      "outputs": []
    },
    {
      "cell_type": "markdown",
      "metadata": {
        "id": "Wn9pJZw0H-VR"
      },
      "source": [
        "**(b)-Multi-Dimensional array**"
      ]
    },
    {
      "cell_type": "code",
      "metadata": {
        "id": "l5TMmEUMIJju"
      },
      "source": [
        "#creating two-dimensionsal array\n",
        "list_m = [[1, 2, 3], [4, 5, 6], [7, 8, 9]] #nested lists\n",
        "arr_m = np.array(list_m,dtype=np.int16)\n",
        "print(arr_m)\n",
        "output:\n",
        "[[1 2 3]\n",
        " [4 5 6]\n",
        " [7 8 9]]"
      ],
      "execution_count": null,
      "outputs": []
    },
    {
      "cell_type": "markdown",
      "metadata": {
        "id": "35ElippmJwqS"
      },
      "source": [
        "![](https://drive.google.com/uc?export=view&id=1XJ4_ttos8xhxT0QI-F35h8F1qB5QZQFd)"
      ]
    },
    {
      "cell_type": "markdown",
      "metadata": {
        "id": "LkvfdqK4J6P6"
      },
      "source": [
        "**you can create arrays with different Data Types (dtypes):**\n",
        "\n",
        "- Char : np.byte\n",
        "\n",
        "- Short : np.short\n",
        "\n",
        "- Integer : np.short\n",
        "\n",
        "- Long : np.int_\n",
        "\n",
        "- Float : np.single&np.float32\n",
        "\n",
        "- Double :np.double&np.float64\n",
        "\n",
        "- np.int8: integer (-128 to 127)\n",
        "\n",
        "- np.int16:integer( -32768 to 32767)\n",
        "\n",
        "- np.int32: integer(-2147483648 to 2147483647)\n",
        "\n",
        "- np.int64 :integer( -9223372036854775808 to \n",
        "9223372036854775807)"
      ]
    },
    {
      "cell_type": "markdown",
      "metadata": {
        "id": "TXqMMmfuKhcw"
      },
      "source": [
        "####**12.7-Array in NumPy also provides many functions to create different types of arrays.**"
      ]
    },
    {
      "cell_type": "markdown",
      "metadata": {
        "id": "WzGQelFNKwPk"
      },
      "source": [
        "**(i)-An Array having all elements 0**"
      ]
    },
    {
      "cell_type": "code",
      "metadata": {
        "id": "2kBASzaRK6wx"
      },
      "source": [
        "#Creating an array of all zeros\n",
        "arr_0 = np.zeros((2,2))  \n",
        "print(arr_0)\n",
        "output:\n",
        "[[0. 0.]\n",
        " [0. 0.]]"
      ],
      "execution_count": null,
      "outputs": []
    },
    {
      "cell_type": "markdown",
      "metadata": {
        "id": "-cJz4i4ULXxv"
      },
      "source": [
        "**(ii)-An Array having all elements 1**"
      ]
    },
    {
      "cell_type": "code",
      "metadata": {
        "id": "Y4yrg-CkLmSp"
      },
      "source": [
        "# Creating an array of all ones\n",
        "arr_1= np.ones((1,2))    \n",
        "print(arr_1)\n",
        "output:\n",
        "[[1. 1.]]"
      ],
      "execution_count": null,
      "outputs": []
    },
    {
      "cell_type": "markdown",
      "metadata": {
        "id": "aTWk0_MeLnm0"
      },
      "source": [
        "**(iii)-An array with a constant**"
      ]
    },
    {
      "cell_type": "code",
      "metadata": {
        "id": "N-XsX8-7Lu9k"
      },
      "source": [
        "# Creating a constant array\n",
        "arr_c = np.full((2,2), 7) \n",
        "print(arr_c)\n",
        "output:\n",
        "[[7 7]\n",
        " [7 7]]"
      ],
      "execution_count": null,
      "outputs": []
    },
    {
      "cell_type": "markdown",
      "metadata": {
        "id": "fmv6ijRWLxm8"
      },
      "source": [
        "**(iv)-Creating an array with start value, end value and number of values**"
      ]
    },
    {
      "cell_type": "code",
      "metadata": {
        "id": "Jj6O1enfL34a"
      },
      "source": [
        "arr_L = np.linspace(0, 5,7)\n",
        "print(arr_L)\n",
        "output:\n",
        "[0.         0.83333333 1.66666667 2.5        3.33333333 4.16666667\n",
        " 5.        ]\n",
        "#observe here dtype('float64')"
      ],
      "execution_count": null,
      "outputs": []
    },
    {
      "cell_type": "markdown",
      "metadata": {
        "id": "H39-R0WSL6i2"
      },
      "source": [
        "**(v)-Creating an array with start value, end value and number of values(datatypes int)**"
      ]
    },
    {
      "cell_type": "code",
      "metadata": {
        "id": "QXq_iEA_MEpy"
      },
      "source": [
        "arr_a=np.arange(1, 10,1)\n",
        "print(arr_a)\n",
        "output:\n",
        "[1 2 3 4 5 6 7 8 9]\n",
        "#here dtype('int32')"
      ],
      "execution_count": null,
      "outputs": []
    },
    {
      "cell_type": "markdown",
      "metadata": {
        "id": "rkqEJkrHSglE"
      },
      "source": [
        "**(vi)-An array filled with random values**"
      ]
    },
    {
      "cell_type": "code",
      "metadata": {
        "id": "0chArKP2Smhy"
      },
      "source": [
        "arr_r = np.random.random((2,2))  \n",
        "print(arr_r)\n",
        "output:                 \n",
        "[[0.05736758 0.58044299]\n",
        " [0.57759937 0.85564153]]"
      ],
      "execution_count": null,
      "outputs": []
    },
    {
      "cell_type": "markdown",
      "metadata": {
        "id": "lX3ic8JIS17p"
      },
      "source": [
        "**(vii)-An array filled with random integers**"
      ]
    },
    {
      "cell_type": "code",
      "metadata": {
        "id": "RD0rfYsCTA0-"
      },
      "source": [
        "arr_1= np.random.randint(10,100,7)  \n",
        "print(arr_1)\n",
        "output:                     \n",
        "[43 15 15 62 31 88 69]"
      ],
      "execution_count": null,
      "outputs": []
    },
    {
      "cell_type": "markdown",
      "metadata": {
        "id": "QN6fqAkkTB-Q"
      },
      "source": [
        "**(vii)-An array filled with random values(which follows Normal Distribution)**"
      ]
    },
    {
      "cell_type": "code",
      "metadata": {
        "id": "joFj-T13TJwd"
      },
      "source": [
        "arr_n= np.random.randn(10)  \n",
        "print(arr_n) \n",
        "output:\n",
        "[ 0.71586489 -0.2929509   0.1952457   1.07499362  0.08089464 -0.18440427\n",
        " -0.00194278  0.2594934   1.8713812  -0.76195258]"
      ],
      "execution_count": null,
      "outputs": []
    },
    {
      "cell_type": "markdown",
      "metadata": {
        "id": "NuKYobIqTM3A"
      },
      "source": [
        "**(viii)-Creating a 2x2 identity matrix**"
      ]
    },
    {
      "cell_type": "code",
      "metadata": {
        "id": "khaMF2pJTR0f"
      },
      "source": [
        "arr_I = np.eye(2)         Create a 2x2 identity matrix\n",
        "print(arr_I)\n",
        "output:\n",
        "[[1. 0.]\n",
        " [0. 1.]]"
      ],
      "execution_count": null,
      "outputs": []
    },
    {
      "cell_type": "markdown",
      "metadata": {
        "id": "lTJNxxj0TUfH"
      },
      "source": [
        "**(ix)-Creating Arrays from existing data\n",
        "This is useful for converting Python sequence into ndarray.\n",
        "numpy.asarray(a, dtype=None ,order = None)**"
      ]
    },
    {
      "cell_type": "code",
      "metadata": {
        "id": "1qjuzXgjTbiX"
      },
      "source": [
        "#converting list to ndarray \n",
        "import numpy as np\n",
        "x = [1,2,3] \n",
        "a = np.asarray(x) \n",
        "print (a)\n",
        "output:\n",
        "[1 2 3]\n",
        "# ndarray from tuple \n",
        "x_1 = (1,2,3) \n",
        "a_1 = np.asarray(x_1) \n",
        "print (a_1)\n",
        "output:\n",
        "[1 2 3]\n",
        "# ndarray from list of tuples \n",
        "import numpy as np\n",
        "x_2 = [(1,2,3),(4,5)] \n",
        "a_2 = np.asarray(x_2) \n",
        "print (a_2)\n",
        "output:\n",
        "[(1, 2, 3) (4, 5)]\n",
        "7.Important Arrays attributes\n",
        "arr.shape :It returns a tuple listing the length of the array along each dimension.\n",
        "import numpy as np \n",
        "arr = np.array([[1,2,3],[4,5,6]]) \n",
        "print (arr.shape)\n",
        "output: \n",
        "(2, 3)\n",
        "#resizing the above array\n",
        "a = np.array([[1,2,3],[4,5,6]]) \n",
        "a.shape = (3,2) \n",
        "print (a)\n",
        "output:\n",
        "[[1 2]\n",
        " [3 4]\n",
        " [5 6]]\n",
        "or \n",
        "a = np.array([[1,2,3],[4,5,6]]) \n",
        "b = a.reshape(3,2) \n",
        "print (b)\n",
        "Output:\n",
        "[[1, 2] \n",
        " [3, 4] \n",
        " [5, 6]]"
      ],
      "execution_count": null,
      "outputs": []
    },
    {
      "cell_type": "markdown",
      "metadata": {
        "id": "B2RWiXb-ULjm"
      },
      "source": [
        "![](https://drive.google.com/uc?export=view&id=15-CuES39D3Mzrkg1uFWlFBv0cAPhGaVS)"
      ]
    },
    {
      "cell_type": "markdown",
      "metadata": {
        "id": "GUsMTTqUAHIN"
      },
      "source": [
        "**arr.size :**\n",
        "- It returns the total number of elements in an array."
      ]
    },
    {
      "cell_type": "code",
      "metadata": {
        "id": "7Y3o2AIJAYor"
      },
      "source": [
        "import numpy as np \n",
        "x = np.array([[3,2,1],[4,6,1]]) \n",
        "print(x.size)\n",
        "output:\n",
        "6"
      ],
      "execution_count": null,
      "outputs": []
    },
    {
      "cell_type": "markdown",
      "metadata": {
        "id": "EEi1qcGQAa03"
      },
      "source": [
        "**arr.itemsize:**\n",
        "- It returns the number of bytes per element."
      ]
    },
    {
      "cell_type": "code",
      "metadata": {
        "id": "KW5-sZkbAg3U"
      },
      "source": [
        "import numpy as np \n",
        "a = np.array([[1,2,3],[4,5,6]]) \n",
        "a.itemsize\n",
        "output:\n",
        "4"
      ],
      "execution_count": null,
      "outputs": []
    },
    {
      "cell_type": "markdown",
      "metadata": {
        "id": "4qfaop8dAqjS"
      },
      "source": [
        "**arr.ndim:**\n",
        "- This array attribute returns the number of array dimensions."
      ]
    },
    {
      "cell_type": "code",
      "metadata": {
        "id": "mofVo4BdAvqd"
      },
      "source": [
        "import numpy as np \n",
        "a = np.array([[1,2,3],[4,5,6]]) \n",
        "a.ndim\n",
        "output:\n",
        "2"
      ],
      "execution_count": null,
      "outputs": []
    },
    {
      "cell_type": "markdown",
      "metadata": {
        "id": "OOMZ8k9TA6rU"
      },
      "source": [
        "**type(arr)**\n",
        "-  This attribute is used to check the type."
      ]
    },
    {
      "cell_type": "code",
      "metadata": {
        "id": "sIhPR9dqBHCK"
      },
      "source": [
        "#for example -\n",
        "import numpy as np \n",
        "arr = np.array([[1,2,3],[4,5,6]]) \n",
        "print (arr)\n",
        "output: \n",
        "[[1,2,3]\n",
        " [4,5,6]]\n",
        "type(arr)\n",
        "output:\n",
        "numpy.ndarray"
      ],
      "execution_count": null,
      "outputs": []
    },
    {
      "cell_type": "markdown",
      "metadata": {
        "id": "oENCfwjpBNgM"
      },
      "source": [
        "**arr.nbytes:**\n",
        "- It returns the number of bytes used by the data portion of the array."
      ]
    },
    {
      "cell_type": "code",
      "metadata": {
        "id": "q5_Z5KOxjTqM"
      },
      "source": [
        "import numpy as np \n",
        "a = np.array([[1,2,3],[4,5,6]]) \n",
        "a.nbytes\n",
        "output:\n",
        "24"
      ],
      "execution_count": null,
      "outputs": []
    },
    {
      "cell_type": "markdown",
      "metadata": {
        "id": "9qzlOWGqmr9A"
      },
      "source": [
        "####**12.8-Indexing&Slicing**\n",
        "\n",
        "Indexing is used to assign numbers to each element in the NumPy array or we can say it maps to the elements stored in an array. It helps to access an array element by referring to its index number.\n"
      ]
    },
    {
      "cell_type": "markdown",
      "metadata": {
        "id": "lA_OjTSgodZA"
      },
      "source": [
        "![](https://drive.google.com/uc?export=view&id=1U8ymNI1vrmuEHWHyE2TLSgaGzhIUsUaU)"
      ]
    },
    {
      "cell_type": "code",
      "metadata": {
        "id": "6HCINNzho60u"
      },
      "source": [
        "import numpy as np\n",
        "arr = np.arange(10)\n",
        "print(arr)\n",
        "output:\n",
        "[0 1 2 3 4 5 6 7 8 9]\n",
        "#Example-1\n",
        "print(arr[7])\n",
        "or \n",
        "print(arr[-3])\n",
        "output:\n",
        "7\n",
        "#Example-2\n",
        "print(arr[0:5])\n",
        "or \n",
        "print(arr[0:-4])\n",
        "output:\n",
        "[0 1 2 3 4 5]\n",
        "#Example-3\n",
        "print(arr[-4:-1])\n",
        "output:\n",
        "[6 7 8]"
      ],
      "execution_count": null,
      "outputs": []
    },
    {
      "cell_type": "markdown",
      "metadata": {
        "id": "qXuyptrd6WK5"
      },
      "source": [
        "Slicing is an operation used to extract a portion of elements from arrays by specifying lower and upper bound."
      ]
    },
    {
      "cell_type": "markdown",
      "metadata": {
        "id": "geAid_ea6dk7"
      },
      "source": [
        "**arr[lower:upper:step]**\n",
        "\n",
        "The lower bound element is included but the upper bound element is not included. The step value indicates the stride between the elements.\n"
      ]
    },
    {
      "cell_type": "markdown",
      "metadata": {
        "id": "voTnBcmI7eA8"
      },
      "source": [
        "![](https://drive.google.com/uc?export=view&id=1U8ymNI1vrmuEHWHyE2TLSgaGzhIUsUaU)"
      ]
    },
    {
      "cell_type": "markdown",
      "metadata": {
        "id": "5GsaAzGm72o0"
      },
      "source": [
        "**Slicing 1-Dimensional Array**"
      ]
    },
    {
      "cell_type": "code",
      "metadata": {
        "id": "0ZkT2KUhAx5X"
      },
      "source": [
        "import numpy as np \n",
        "arr = np.arange(10)\n",
        "#Slicing single element\n",
        "slice_arr = arr[2] \n",
        "print (slice_arr)\n",
        "output:\n",
        "[2]\n",
        "#Slicing elements in between indexes\n",
        "print (arr[2:5])\n",
        "or\n",
        "print (arr[-8:-5]) #using negative index\n",
        "output:\n",
        "[2,3,4]\n",
        "#using slice(lower,upper,step) function\n",
        "s = slice(2,7,2) \n",
        "print (arr[s])\n",
        "output:\n",
        "[2,4,6]\n",
        "or\n",
        "slice_arr = arr[2:7:2] \n",
        "print (slice_arr)\n",
        "output:\n",
        "[2,4,6]"
      ],
      "execution_count": null,
      "outputs": []
    },
    {
      "cell_type": "markdown",
      "metadata": {
        "id": "Hox90aTIAy_t"
      },
      "source": [
        "**For slicing specific elements**"
      ]
    },
    {
      "cell_type": "code",
      "metadata": {
        "id": "___nan3jA488"
      },
      "source": [
        "x= np.array([11,12,13,14,15])\n",
        "print(np.take(x, [0, 3,4]))\n",
        "output:\n",
        "[11 14 15]"
      ],
      "execution_count": null,
      "outputs": []
    },
    {
      "cell_type": "markdown",
      "metadata": {
        "id": "VsSoeSKCA6CM"
      },
      "source": [
        "**Omitting Indices-Omitted boundaries are assumed to be the beginning or end of the array/list. To understand better you can refer the above figure**"
      ]
    },
    {
      "cell_type": "code",
      "metadata": {
        "id": "g1gjp8ZcBCA-",
        "colab": {
          "base_uri": "https://localhost:8080/",
          "height": 131
        },
        "outputId": "6829fd5a-73c8-44af-bcc3-ad9139425ed4"
      },
      "source": [
        "arr=np.arange(10)\n",
        "#Example-1\n",
        "print(arr[:5])\n",
        "output:\n",
        "[0 1 2 3 4]\n",
        "#Example-2\n",
        "print(arr[5:])\n",
        "output:\n",
        "[5 6 7 8 9]\n",
        "#Example-3\n",
        "print(arr[::2])\n",
        "output:\n",
        "[0 2 4 6 8]"
      ],
      "execution_count": null,
      "outputs": [
        {
          "output_type": "error",
          "ename": "SyntaxError",
          "evalue": "ignored",
          "traceback": [
            "\u001b[0;36m  File \u001b[0;32m\"<ipython-input-1-e995df3c18e0>\"\u001b[0;36m, line \u001b[0;32m4\u001b[0m\n\u001b[0;31m    output:\u001b[0m\n\u001b[0m           ^\u001b[0m\n\u001b[0;31mSyntaxError\u001b[0m\u001b[0;31m:\u001b[0m invalid syntax\n"
          ]
        }
      ]
    },
    {
      "cell_type": "markdown",
      "metadata": {
        "id": "2Jqw5QpjBDFM"
      },
      "source": [
        "**Slicing Multi-Dimensional Arrays\n",
        "Slicing can be done in multi-dimensional arrays same as the above examples.**"
      ]
    },
    {
      "cell_type": "code",
      "metadata": {
        "id": "sElB2zNFBLKH"
      },
      "source": [
        "import numpy as np \n",
        "arr = np.array([[1,2,3],[3,4,5],[4,5,6]])\n",
        "print (arr)\n",
        "output:\n",
        "[[1 2 3]\n",
        " [3 4 5]\n",
        " [4 5 6]]\n",
        "#Slicing first row\n",
        "print (arr[0:1])\n",
        "output:\n",
        "[[1 2 3]]\n",
        "#slicing last 2 rows\n",
        "print (arr[1:])\n",
        "output:\n",
        "[[3 4 5]\n",
        " [4 5 6]]\n",
        "#slicing three rows and first column\n",
        "print (arr[0:3,0:1])\n",
        "output:\n",
        "[[1]\n",
        " [3]\n",
        " [4]]\n",
        "#slicing 4 from above array\n",
        "print (arr[1:2,1:2])\n",
        "output:\n",
        "[[4]] "
      ],
      "execution_count": null,
      "outputs": []
    },
    {
      "cell_type": "markdown",
      "metadata": {
        "id": "2aWq7vvABhJG"
      },
      "source": [
        "![](https://drive.google.com/uc?export=view&id=1jagSjwYeNNmNsgwtNFi6aeEEQjKZeHjY)"
      ]
    },
    {
      "cell_type": "markdown",
      "metadata": {
        "id": "cfdOSSMfBvRX"
      },
      "source": [
        "##**12.9-Stacking & Splitting**"
      ]
    },
    {
      "cell_type": "markdown",
      "metadata": {
        "id": "VLOczg5fB45Q"
      },
      "source": [
        "Stacking is used to join a sequence of same dimension arrays along a new axis.\n",
        "\n",
        "numpy.stack(arrays,axis) : It returns a stacked array of the input arrays which has one more dimension than the input arrays."
      ]
    },
    {
      "cell_type": "code",
      "metadata": {
        "id": "aHDvR6geq-fW"
      },
      "source": [
        "import numpy as np\n",
        "arr_1 = np.array([1, 2, 3])\n",
        "arr_2 = np.array([2, 3, 4])\n",
        "arr_stack=np.stack((arr_1,arr_2),axis=0)\n",
        "print(arr_stack)\n",
        "print(arr_stack.shape)\n",
        "output:\n",
        "[[1 2 3]\n",
        " [2 3 4]]\n",
        "(2,3)\n",
        "arr_stack=np.stack((arr_1,arr_2),axis=1)\n",
        "print(arr_stack)\n",
        "print(arr_stack.shape)\n",
        "output:\n",
        "[[1 2]\n",
        " [2 3]\n",
        " [3 4]]\n",
        "(3,2)"
      ],
      "execution_count": null,
      "outputs": []
    },
    {
      "cell_type": "markdown",
      "metadata": {
        "id": "sR0OTVDrq_q1"
      },
      "source": [
        "The axis parameter specifies the index of the new axis in the dimensions of the result."
      ]
    },
    {
      "cell_type": "markdown",
      "metadata": {
        "id": "eU9plC5Crmor"
      },
      "source": [
        "![](https://drive.google.com/uc?export=view&id=1ZV1j1V2FD_aRr094j5dFQLyBZwIoMAmU)"
      ]
    },
    {
      "cell_type": "markdown",
      "metadata": {
        "id": "axnWCkmirv31"
      },
      "source": [
        "**numpy.vstack(tup) :**\n",
        "\n",
        " Join arrays in sequence vertically (row-wise). The array formed by stacking will be at least 2-D. The arrays to be stacked must have the same shape along all but the first axis. 1-D arrays must have the same length."
      ]
    },
    {
      "cell_type": "markdown",
      "metadata": {
        "id": "Jux0tm-lVQtU"
      },
      "source": [
        "**numpy.hstack(tup) :**\n",
        "\n",
        " Join arrays in sequence horizontally(column-wise). The arrays to be stacked must have the same shape along all but the second axis, except 1-D arrays which can be any length."
      ]
    },
    {
      "cell_type": "code",
      "metadata": {
        "id": "YTHSRZMcVX_P"
      },
      "source": [
        "# Generate random arrays\n",
        "arr_1 = np.random.randint(10, size=(2, 2))\n",
        "print(\" arr_1\\n\", arr_1)\n",
        "arr_2 = np.random.randint(10, size=(2, 2))\n",
        "print(\" arr_2\\n\", arr_2)\n",
        "output:\n",
        " arr_1\n",
        " [[0 2]\n",
        " [7 6]]\n",
        " arr_2\n",
        " [[3 7]\n",
        " [1 4]]\n",
        "# Stack arr_2 under arr_1\n",
        "a=np.vstack((arr_1, arr_2))\n",
        "print(a)\n",
        "output:\n",
        "[[0 2]\n",
        " [7 6]\n",
        " [3 7]\n",
        " [1 4]]\n",
        "# Stacking  horizontally\n",
        "b=np.hstack((arr_1, arr_2))\n",
        "print(b)\n",
        "output:\n",
        "[[0 2 3 7]\n",
        " [7 6 1 4]]"
      ],
      "execution_count": null,
      "outputs": []
    },
    {
      "cell_type": "markdown",
      "metadata": {
        "id": "OVZjqgHrWSMB"
      },
      "source": [
        "![](https://drive.google.com/uc?export=view&id=1XC9sd2BodhoVrP7I90ZRCPQfPmopSICw)"
      ]
    },
    {
      "cell_type": "markdown",
      "metadata": {
        "id": "xs_TvJ1JWdOX"
      },
      "source": [
        "**numpy.dstack(tup) :**\n",
        "\n",
        " Join arrays in sequence depth wise (along the third axis). The array formed by stacking will be at least 3-D. The arrays to be stacked must have the same shape along all but the third axis. 1-D or 2-D arrays must have the same shape."
      ]
    },
    {
      "cell_type": "code",
      "metadata": {
        "id": "348Ql4ndWl_O"
      },
      "source": [
        "#continuing above commands\n",
        "#stacking depth wise\n",
        "c=np.dstack((arr_1, arr_2))\n",
        "print(c)\n",
        "output:\n",
        "[[[0 3]\n",
        " [2 7]]\n",
        "[[7 1]\n",
        " [6 4]]]"
      ],
      "execution_count": null,
      "outputs": []
    },
    {
      "cell_type": "markdown",
      "metadata": {
        "id": "42Mmbsr0Wpss"
      },
      "source": [
        "**numpy.column_stack(tup) :**\n",
        "\n",
        " It works the same as hstack and joins arrays in sequence horizontally(column-wise)."
      ]
    },
    {
      "cell_type": "markdown",
      "metadata": {
        "id": "ZNca282AWwPY"
      },
      "source": [
        "**numpy.row_stack(tup) :**\n",
        "\n",
        " It works the same as vstack and joins arrays in sequence vertically(row-wise)."
      ]
    },
    {
      "cell_type": "code",
      "metadata": {
        "id": "JBCvRmAnW3gK"
      },
      "source": [
        "# row_stack()\n",
        "a=np.row_stack((arr_1, arr_2))\n",
        "print(a)\n",
        "output:\n",
        "[[0 2]\n",
        " [7 6]\n",
        " [3 7]\n",
        " [1 4]]\n",
        "# column_stack()\n",
        "b=np.column_stack((arr_1, arr_2))\n",
        "print(b)\n",
        "output:\n",
        "[[0 2 3 7]\n",
        " [7 6 1 4]]"
      ],
      "execution_count": null,
      "outputs": []
    },
    {
      "cell_type": "markdown",
      "metadata": {
        "id": "jhb5Pn2jW_B8"
      },
      "source": [
        "Splitting is used to split an array into multiple sub-arrays. It can be done using following NumPy functions."
      ]
    },
    {
      "cell_type": "markdown",
      "metadata": {
        "id": "g2o0vibSXGE1"
      },
      "source": [
        "**numpy.split(array,Indices_or_sections,axis) :**\n",
        "\n",
        " This function used to split an array into multiple sub-arrays of equal size. It returns a list of sub-arrays."
      ]
    },
    {
      "cell_type": "markdown",
      "metadata": {
        "id": "5Vhr1A1qnw87"
      },
      "source": [
        "#**Introduction to Python** \n"
      ]
    },
    {
      "cell_type": "markdown",
      "metadata": {
        "id": "-dk1o0hT91qR"
      },
      "source": [
        "##**13.1-Exception Handling**\n"
      ]
    },
    {
      "cell_type": "markdown",
      "metadata": {
        "id": "GpyuHY_r-JM5"
      },
      "source": [
        "####**13.2-Exception Handling**\n",
        "\n",
        "Exception handling is the way to avoiding the errors in a  programs\n",
        "Example:-\n",
        "         Let say you have a python program and you wrote 15 to 16 line code and before its work just fine Now you made some changes and may you have at line 6 and 5  error and that line 6 and 7 line command restricts your program from execution normally do this  in line 6 and 7 is an exception .\n",
        " So now we define exception handling   finding a way to avoid these errors Now may you have many questions in your mind.\n",
        "1st Question : Why we needed exception handling.\n",
        "2nd Question : How we can do exception handling.\n",
        "\n",
        "1st and 2nd AnswerAnswer : before i told you exception is the obstacle which is restricting the program from execution so we use exception handling for this problem\n",
        "\n",
        "\n",
        "Syntax :-\n",
        "\n",
        "      Try:\n",
        "          “ the code that rise the errors “\n",
        "       Except exception :\n",
        "             “The code display when errors occurs “\n",
        "      Final :\n",
        "           “ code you want to execute in both cases “\n",
        "\n",
        " In the try section we write the code where errors may occur so if it throws an error then it jumps to the exception section and in the end both are executed in the final section.\n"
      ]
    },
    {
      "cell_type": "code",
      "metadata": {
        "id": "iooLOBvb_Dbj"
      },
      "source": [
        "print(\"Enter num 1 : \")\n",
        "num1 = input() \n",
        " \n",
        "print(\"Enter num 2 : \")\n",
        "num2 = input() \n",
        " \n",
        "try: \n",
        "    print(\"Addition of Number 1 and Number 2 = \" ,  int(num1) + int(num2) )\n",
        " \n",
        "except Exception as e:\n",
        "    print(e)\n",
        " \n"
      ],
      "execution_count": null,
      "outputs": []
    },
    {
      "cell_type": "markdown",
      "metadata": {
        "id": "DepF_86JXkdO"
      },
      "source": [
        "##**14-Introduction to pandas**\n"
      ]
    },
    {
      "cell_type": "markdown",
      "metadata": {
        "id": "NRjb-bWuYI7y"
      },
      "source": [
        "####**14.1-what is Pandas**\n"
      ]
    },
    {
      "cell_type": "markdown",
      "metadata": {
        "id": "50Q2Kmo2ahDr"
      },
      "source": [
        "Officially stands for python Data Analysis library \n",
        "It is open source \n",
        "\n",
        "1.  It is a tool used by data scientists to: \n",
        "2.  Read,\n",
        "3.  write\n",
        "4.  manipulate \n",
        "5.  Analysis the data "
      ]
    },
    {
      "cell_type": "markdown",
      "metadata": {
        "id": "8BBYIABScbtm"
      },
      "source": [
        "####**14.2-why pandas**"
      ]
    },
    {
      "cell_type": "markdown",
      "metadata": {
        "id": "a-jKQlQ-c3Ju"
      },
      "source": [
        " \n",
        "1. It is helps you to explore and manipulate data in an    efficient manner\n",
        "2. It helps you to analyze large volume of data with ease when we say large volumes   it is millions of rows/ records\n",
        "\n",
        "\n",
        "**import panda as pd **\n",
        "\n",
        "pd use for shortcut\n",
        "\n"
      ]
    },
    {
      "cell_type": "markdown",
      "metadata": {
        "id": "5q8X0Q6TYsGz"
      },
      "source": [
        ""
      ]
    },
    {
      "cell_type": "markdown",
      "metadata": {
        "id": "MopTIt6DoYTC"
      },
      "source": [
        "####**1.1-Hello python** \n",
        "In this course we will learn Python for Data science.\n",
        "Python was conceived by Guido van Rossum and released in 1991.\n",
        "Nowadays you can use Python to bulid practically any place of software.\n",
        "- Pythson is  open source.\n",
        "- It is free to use.\n",
        "- Python packages ,also for Data science.\n",
        "- It is very easy to bulid packages in Python which code that you can share with other people to solve specific problem.\n",
        "In this courde well start to bulid up your data science coding skills bit by bit ,so make sure to stick around to see  how powerful the language can be.\n",
        "\n",
        "**Version of Python**\n",
        "\n",
        "Currently three are two common version of python ,version 2- point -7 and 3-point-5 and later.Apart from some syntactical difference they are pretty similar, but as support for version 2 will fade over him our course focus on python 3.\n",
        "\n",
        "**Python shell**\n",
        "\n",
        "Python shell,a place where you can type python code immediately see your result.\n",
        "In Datacamp's exercise interface this shell is embedd here.\n",
        "Lets start off simple and use python as a calculator.\n",
        "let me type 4 + 5 and hit enter your result is 9.\n",
        "The python shell that's used here is actually not the original one we're using ipython.\n",
        "Ipython is created by Fernado Perez and is part of broader jupyter ecosystem.\n",
        "\n",
        "**Python script**\n",
        "\n",
        "Python script are simply text files with the extension(dot)py.\n",
        "\n",
        "- Text files-py\n",
        "- List of python commands\n",
        "- similar to typing in ipython shell.\n",
        "\n",
        "The next step is submitting the answer.\n",
        "You have explicity use print inside script if you and to generate output execution.\n",
        "You can write the code and submit  your code will be executed."
      ]
    },
    {
      "cell_type": "markdown",
      "metadata": {
        "id": "wLIXexqxKplI"
      },
      "source": [
        "####**1.1.1-The Python Interface** \n",
        "\n",
        "In the Python script on the right, you can type Python code to solve the exercises. If you hit Run Code or Submit Answer, your python script (script.py) is executed and the output is shown in the IPython Shell. Submit Answer checks whether your submission is correct and gives you feedback.\n",
        "\n",
        "You can hit Run Code and Submit Answer as often as you want. If you're stuck, you can click Get Hint, and ultimately Get Solution.\n",
        "\n",
        "You can also use the IPython Shell interactively by simply typing commands and hitting Enter. When you work in the shell directly, your code will not be checked for correctness so it is a great way to experiment.\n",
        "\n",
        "- Experiment in the IPython Shell; type 5 / 8, for example.\n",
        "- Add another line of code to the Python script on the top-right (not in the Shell): print(7 + 10).\n",
        "- Hit Submit Answer to execute the Python script and receive feedback.\n"
      ]
    },
    {
      "cell_type": "markdown",
      "metadata": {
        "id": "NP1Va__QUMwp"
      },
      "source": [
        "## 13 Data Analysis\n",
        "    "
      ]
    },
    {
      "cell_type": "code",
      "metadata": {
        "id": "oTRJIOyPLa9H"
      },
      "source": [
        "# Example, do not modify!\n",
        "print(5 / 8)\n",
        "# output 0.625\n",
        "\n",
        "# Print the sum of 7 and 10\n",
        "print(7+10)\n",
        "# output 17"
      ],
      "execution_count": null,
      "outputs": []
    },
    {
      "cell_type": "markdown",
      "metadata": {
        "id": "SUhdtQc3yDR2"
      },
      "source": [
        "####**1.1.2-Any comments** \n",
        "\n",
        "Something that Hugo didn't mention in his videos is that you can add comments to your Python scripts. Comments are important to make sure that you and others can understand what your code is about.\n",
        "\n",
        "To add comments to your Python script, you can use the # tag. These comments are not run as Python code, so they will not influence your result. As an example, take the comment on the right, # Division; it is completely ignored during execution."
      ]
    },
    {
      "cell_type": "code",
      "metadata": {
        "id": "hRrSKSyZzT5U"
      },
      "source": [
        "#Addition\n",
        "print(6 + 8)\n",
        "\n",
        "#Subtraction\n",
        "print(8-5)"
      ],
      "execution_count": null,
      "outputs": []
    },
    {
      "cell_type": "markdown",
      "metadata": {
        "id": "VAlT1IScy-92"
      },
      "source": [
        "####**1.1.3-Python as a calculator** \n",
        "\n",
        "Python is perfectly suited to do basic calculations. Apart from addition, subtraction, multiplication and division, there is also support for more advanced operations such as:\n",
        "\n",
        "Exponentiation: **. This operator raises the number to its left to the power of the number to its right. For example 4**2 will give 16.\n",
        "Modulo: %. This operator returns the remainder of the division of the number to the left by the number on its right. For example 18 % 7 equals 4.\n",
        "The code in the script on the right gives some examples."
      ]
    },
    {
      "cell_type": "code",
      "metadata": {
        "id": "0hPM9Ky_zlrZ"
      },
      "source": [
        "# Addition, subtraction\n",
        "print(5 + 5)\n",
        "print(5 - 5)\n",
        "\n",
        "# Multiplication, division, modulo, and exponentiation\n",
        "print(3 * 5)\n",
        "print(10 / 2)\n",
        "print(18 % 7)\n",
        "print(4 ** 2)"
      ],
      "execution_count": null,
      "outputs": []
    },
    {
      "cell_type": "markdown",
      "metadata": {
        "id": "DIf1bvjC5zpP"
      },
      "source": [
        "#**1.2-Variables and types**\n",
        "**Variable**\n",
        "\n",
        "- Specific ,case_sensitive name\n",
        "- call up value through variable name\n",
        "- 1.79m_68.7kg\n",
        "\n",
        "**Reproducibility**\n"
      ]
    },
    {
      "cell_type": "code",
      "metadata": {
        "id": "bMUf453kcRG-"
      },
      "source": [
        "height = 1.79\n",
        "weight = 68.7\n",
        "bmi = weight/height**2\n",
        "print(bmi)"
      ],
      "execution_count": null,
      "outputs": []
    },
    {
      "cell_type": "markdown",
      "metadata": {
        "id": "jbNqdrEdW4u6"
      },
      "source": [
        "**Python type(1)**\n",
        "\n",
        "**type(bmi)**\n",
        "\n",
        "**float**\n",
        "\n",
        "**day of week =5**\n",
        "\n",
        "**type(day_of_week)**"
      ]
    },
    {
      "cell_type": "markdown",
      "metadata": {
        "id": "ut6Ao4cjX2LG"
      },
      "source": [
        "**Python type(2)**\n",
        "\n"
      ]
    },
    {
      "cell_type": "code",
      "metadata": {
        "id": "_FIEaHJxX_ie"
      },
      "source": [
        "x =\"body mass index\"\n",
        "y =\"this works too\"\n",
        "type(y)"
      ],
      "execution_count": null,
      "outputs": []
    },
    {
      "cell_type": "markdown",
      "metadata": {
        "id": "IC9ug92FYPxV"
      },
      "source": [
        "**Python Type type(3)**\n",
        "\n"
      ]
    },
    {
      "cell_type": "code",
      "metadata": {
        "id": "1mNepwpaYb7x"
      },
      "source": [
        "2+3\n",
        "'ab' + 'cd'"
      ],
      "execution_count": null,
      "outputs": []
    },
    {
      "cell_type": "markdown",
      "metadata": {
        "id": "HBHeZR7qJUQH"
      },
      "source": [
        "####**1.2.1-Variable Assignment** "
      ]
    },
    {
      "cell_type": "code",
      "metadata": {
        "id": "rdYoZvp4Jg_e"
      },
      "source": [
        "# Create a variable saving\n",
        "savings = 100\n",
        "\n",
        "# Print out savings\n",
        "print(savings)"
      ],
      "execution_count": null,
      "outputs": []
    },
    {
      "cell_type": "markdown",
      "metadata": {
        "id": "Ovt6XNTO2pnF"
      },
      "source": [
        "####**1.2.2-Calculations with variables**\n",
        "Remember how you calculated the money you ended up with after 7 years of investing $100? You did something like this:\n",
        "\n",
        "100 * 1.1 ** 7\n",
        "Instead of calculating with the actual values, you can use variables instead. The savings variable you've created in the previous exercise represents the $100 you started with. It's up to you to create a new variable to represent 1.1 and then redo the calculations!"
      ]
    },
    {
      "cell_type": "code",
      "metadata": {
        "id": "ZLF-SdGs2wPi"
      },
      "source": [
        "# Create a variable savings\n",
        "savings = 100\n",
        "\n",
        "# Create a variable growth_multiplier\n",
        "growth_multiplier = 1.1\n",
        "\n",
        "# Calculate result\n",
        "result = savings * growth_multiplier ** 7\n"
      ],
      "execution_count": null,
      "outputs": []
    },
    {
      "cell_type": "markdown",
      "metadata": {
        "id": "8ukZX-9i3FU2"
      },
      "source": [
        "####**1.2.3-Other variable types**\n",
        "In the previous exercise, you worked with two Python data types:\n",
        "\n",
        "int, or integer: a number without a fractional part. savings, with the value 100, is an example of an integer.\n",
        "float, or floating point: a number that has both an integer and fractional part, separated by a point. growth_multiplier, with the value 1.1, is an example of a float.\n",
        "Next to numerical data types, there are two other very common data types:\n",
        "\n",
        "str, or string: a type to represent text. You can use single or double quotes to build a string.\n",
        "bool, or boolean: a type to represent logical values. Can only be True or False (the capitalization is important!)."
      ]
    },
    {
      "cell_type": "code",
      "metadata": {
        "id": "Fccqilfo3Ndj"
      },
      "source": [
        "# Create a variable desc\n",
        "desc = \"compound interest\"\n",
        "\n",
        "# Create a variable profitable\n",
        "profitable = True"
      ],
      "execution_count": null,
      "outputs": []
    },
    {
      "cell_type": "markdown",
      "metadata": {
        "id": "_K-LrBKy4s89"
      },
      "source": [
        "####**1.2.4-Operations with other types**\n",
        "Hugo mentioned that different types behave differently in Python.\n",
        "\n",
        "When you sum two strings, for example, you'll get different behavior than when you sum two integers or two booleans.\n",
        "\n",
        "In the script some variables with different types have already been created. It's up to you to use them. New Section"
      ]
    },
    {
      "cell_type": "code",
      "metadata": {
        "id": "YdOka2tk41xF"
      },
      "source": [
        "savings = 100\n",
        "growth_multiplier = 1.1\n",
        "desc = \"compound interest\"\n",
        "\n",
        "# Assign product of savings and growth_multiplier to year1\n",
        "year1 = savings * growth_multiplier\n",
        "\n",
        "# Print the type of year1\n",
        "print(type(year1))"
      ],
      "execution_count": null,
      "outputs": []
    },
    {
      "cell_type": "markdown",
      "metadata": {
        "id": "4FRPVhtHaSD9"
      },
      "source": [
        "####**1.2.5-Type conversion**\n",
        "Using the + operator to paste together two strings can be very useful in building custom messages.\n",
        "\n",
        "Suppose, for example, that you've calculated the return of your investment and want to summarize the results in a string. Assuming the integer savings and float result are defined, you can try something like this:"
      ]
    },
    {
      "cell_type": "code",
      "metadata": {
        "id": "NCRAFWTpbG83"
      },
      "source": [
        "# Definition of savings and result\n",
        "savings = 100\n",
        "result = 100 * 1.10 ** 7\n",
        "\n",
        "# Fix the printout\n",
        "print(\"I started with $\" + str(savings) + \" and now have $\" + str(result) + \". Awesome!\")\n",
        "\n",
        "# Definition of pi_string\n",
        "pi_string = \"3.1415926\""
      ],
      "execution_count": null,
      "outputs": []
    },
    {
      "cell_type": "markdown",
      "metadata": {
        "id": "RZ19BrMUrLEz"
      },
      "source": [
        "####**1.2.5-Can Python handle everything?**\n",
        "\n",
        "Now that you know something more about combining different sources of information, have a look at the four Python expressions below. Which one of these will throw an error? You can always copy and paste this code in the IPython Shell to find out!\n",
        "\n",
        "Possible Answers\n",
        "\n",
        "- \"I can add integers, like \" + str(5) + \" to strings.\"\n",
        "- \"I said \" + (\"Hey \" * 2) + \"Hey!\"\n",
        "- \"The correct answer to this multiple choice exercise is answer number \" + 2 (**correct**)\n",
        "- True + False"
      ]
    },
    {
      "cell_type": "markdown",
      "metadata": {
        "id": "3gckZIpJ0K6f"
      },
      "source": [
        "#**1.3-Python Lists**\n",
        "\n",
        "Learn to store, access, and manipulate data in lists: the first step toward efficiently working with huge amounts of data."
      ]
    },
    {
      "cell_type": "markdown",
      "metadata": {
        "id": "ywuurmY80m4q"
      },
      "source": [
        "####**1.3.1-Python Data type**\n",
        "\n",
        "- float = real number\n",
        "- int = integer\n",
        "- str = string text\n",
        "- bool = True,False\n",
        "- Each variables represents sigle value"
      ]
    },
    {
      "cell_type": "markdown",
      "metadata": {
        "id": "EWe1yyKb68bP"
      },
      "source": [
        "####**1.3.2-Problem**\n",
        "- Data science .many data points \n",
        "- Height of entire family"
      ]
    },
    {
      "cell_type": "code",
      "metadata": {
        "id": "CGubisvW7Xc4"
      },
      "source": [
        "height1 = 1.73\n",
        "height2 = 1.68\n",
        "height3 = 1.71\n",
        "height4 = 1.89"
      ],
      "execution_count": null,
      "outputs": []
    },
    {
      "cell_type": "markdown",
      "metadata": {
        "id": "k57kds7Z7xZP"
      },
      "source": [
        "- inconvenient"
      ]
    },
    {
      "cell_type": "markdown",
      "metadata": {
        "id": "IokM2e_q730o"
      },
      "source": [
        "####**1.3.3-Python list**\n",
        "[a,b,c]\n",
        "\n",
        "[1.73,1.68,1.71,1.89]\n",
        "\n",
        "fam = [1.73,1.68,1.71,1.89]\n",
        "\n",
        "fam\n",
        "\n",
        "- name a callective of values\n",
        "- contain any type"
      ]
    },
    {
      "cell_type": "markdown",
      "metadata": {
        "id": "KShevDMu9Ygi"
      },
      "source": [
        "####**1.3.4-Create a list**\n",
        "As opposed to int, bool etc., a list is a compound data type; you can group values together:\n",
        "\n",
        "a = \"is\"\n",
        "b = \"nice\"\n",
        "my_list = [\"my\", \"list\", a, b]\n",
        "After measuring the height of your family, you decide to collect some information on the house you're living in. The areas of the different parts of your house are stored in separate variables for now, as shown in the script."
      ]
    },
    {
      "cell_type": "code",
      "metadata": {
        "id": "ojGxBFFC9iul"
      },
      "source": [
        "# Area variables (in square meters)\n",
        "hall = 11.25\n",
        "kit = 18.0\n",
        "liv = 20.0\n",
        "bed = 10.75\n",
        "bath = 9.50\n",
        "\n",
        "# Create list areas\n",
        "areas = [hall, kit, liv, bed, bath]"
      ],
      "execution_count": null,
      "outputs": []
    },
    {
      "cell_type": "markdown",
      "metadata": {
        "id": "rlN4B0ZuKNyN"
      },
      "source": [
        "####**1.3.5-Create list with different types**\n",
        "A list can contain any Python type. Although it's not really common, a list can also contain a mix of Python types including strings, floats, booleans, etc.\n",
        "\n",
        "The printout of the previous exercise wasn't really satisfying. It's just a list of numbers representing the areas, but you can't tell which area corresponds to which part of your house.\n",
        "\n",
        "The code on the right is the start of a solution. For some of the areas, the name of the corresponding room is already placed in front. Pay attention here! \"bathroom\" is a string, while bath is a variable that represents the float 9.50 you specified earlier."
      ]
    },
    {
      "cell_type": "code",
      "metadata": {
        "id": "GjiEbi1IKXeB"
      },
      "source": [
        "# area variables (in square meters)\n",
        "hall = 11.25\n",
        "kit = 18.0\n",
        "liv = 20.0\n",
        "bed = 10.75\n",
        "bath = 9.50\n",
        "\n",
        "# Adapt list areas\n",
        "\n",
        "\n",
        "\n",
        "\n",
        "\n",
        "\n",
        "areas = [\"hallway\", hall, \"kitchen\", kit, \"living room\", liv, \"bedroom\", bed, \"bathroom\", bath]\n"
      ],
      "execution_count": null,
      "outputs": []
    },
    {
      "cell_type": "markdown",
      "metadata": {
        "id": "cAB5yfW2Ldx9"
      },
      "source": [
        "####**1.3.6-List of lists**\n",
        "As a data scientist, you'll often be dealing with a lot of data, and it will make sense to group some of this data.\n",
        "\n",
        "Instead of creating a flat list containing strings and floats, representing the names and areas of the rooms in your house, you can create a list of lists. The script on the right can already give you an idea.\n",
        "\n",
        "Don't get confused here: \"hallway\" is a string, while hall is a variable that represents the float 11.25 you specified earlier."
      ]
    },
    {
      "cell_type": "code",
      "metadata": {
        "id": "S6FjtKbdLmN6"
      },
      "source": [
        "# area variables (in square meters)\n",
        "hall = 11.25\n",
        "kit = 18.0\n",
        "liv = 20.0\n",
        "bed = 10.75\n",
        "bath = 9.50\n",
        "\n",
        "# house information as list of lists\n",
        "house = [[\"hallway\", hall],\n",
        "           [\"kitchen\", kit],\n",
        "         [\"living room\", liv],\n",
        "         [\"bedroom\", bed],\n",
        "         [\"bathroom\", bath]]\n",
        "\n",
        "         # Print out house\n",
        "print(house)\n",
        "\n",
        "# Print out the type of house\n",
        "print(type(house))\n"
      ],
      "execution_count": null,
      "outputs": []
    },
    {
      "cell_type": "markdown",
      "metadata": {
        "id": "TNpybAPWfc_f"
      },
      "source": [
        "#**1.4-Subsetting lists**\n"
      ]
    },
    {
      "cell_type": "code",
      "metadata": {
        "id": "2dxw267_gP1-",
        "colab": {
          "base_uri": "https://localhost:8080/",
          "height": 35
        },
        "outputId": "a9ae6059-02d5-43fb-bdd9-860ae1e4e85f"
      },
      "source": [
        "fam = [\"1iz\",1.73, \"emma\",1.68, \"mom\",1.71, \"dad\",1.89]\n",
        "fam[3]"
      ],
      "execution_count": null,
      "outputs": [
        {
          "output_type": "execute_result",
          "data": {
            "text/plain": [
              "1.68"
            ]
          },
          "metadata": {
            "tags": []
          },
          "execution_count": 4
        }
      ]
    },
    {
      "cell_type": "markdown",
      "metadata": {
        "id": "Ne3y6gglkMUI"
      },
      "source": [
        "**Similary to select the string \"dad\" from the list.**"
      ]
    },
    {
      "cell_type": "code",
      "metadata": {
        "id": "37nkr8P2kcyc",
        "colab": {
          "base_uri": "https://localhost:8080/",
          "height": 35
        },
        "outputId": "b8b45774-22a8-4bc0-9cf4-51f9f8603b79"
      },
      "source": [
        "fam = [\"1iz\",1.73, \"emma\",1.68, \"mom\",1.71, \"dad\",1.89]\n",
        "fam[6]"
      ],
      "execution_count": null,
      "outputs": [
        {
          "output_type": "execute_result",
          "data": {
            "application/vnd.google.colaboratory.intrinsic+json": {
              "type": "string"
            },
            "text/plain": [
              "'dad'"
            ]
          },
          "metadata": {
            "tags": []
          },
          "execution_count": 5
        }
      ]
    },
    {
      "cell_type": "markdown",
      "metadata": {
        "id": "J3N0MezDkjsX"
      },
      "source": [
        "**For multiple index**"
      ]
    },
    {
      "cell_type": "code",
      "metadata": {
        "id": "aCuORd7OksDK",
        "colab": {
          "base_uri": "https://localhost:8080/",
          "height": 35
        },
        "outputId": "dfefe5b2-2804-43f1-cca8-b2d43b1b61bb"
      },
      "source": [
        "fam = [\"1iz\",1.73, \"emma\",1.68, \"mom\",1.71, \"dad\",1.89]\n",
        "fam[3:5]"
      ],
      "execution_count": null,
      "outputs": [
        {
          "output_type": "execute_result",
          "data": {
            "text/plain": [
              "[1.68, 'mom']"
            ]
          },
          "metadata": {
            "tags": []
          },
          "execution_count": 6
        }
      ]
    },
    {
      "cell_type": "markdown",
      "metadata": {
        "id": "L07lH3wU6yJZ"
      },
      "source": [
        "####**1.4.1-Subset and conquer**\n",
        "Subsetting Python lists is a piece of cake. Take the code sample below, which creates a list x and then selects \"b\" from it. Remember that this is the second element, so it has index 1. You can also use negative indexing.\n",
        "\n",
        "x = [\"a\", \"b\", \"c\", \"d\"]\n",
        "x[1]\n",
        "x[-3] # same result!\n",
        "Remember the areas list from before, containing both strings and floats? Its definition is already in the script. Can you add the correct code to do some Python subsetting?"
      ]
    },
    {
      "cell_type": "code",
      "metadata": {
        "id": "aFjDBtuI68IP"
      },
      "source": [
        "# Create the areas list\n",
        "areas = [\"hallway\", 11.25, \"kitchen\", 18.0, \"living room\", 20.0, \"bedroom\", 10.75, \"bathroom\", 9.50]\n",
        "\n",
        "# Print out second element from areas\n",
        "print(areas[1])\n",
        "\n",
        "# Print out last element from areas\n",
        "print(areas[-1])"
      ],
      "execution_count": null,
      "outputs": []
    },
    {
      "cell_type": "markdown",
      "metadata": {
        "id": "AbWZc-8M7Q6O"
      },
      "source": [
        "####**1.4.2-Subset and calculate**\n",
        "After you've extracted values from a list, you can use them to perform additional calculations. Take this example, where the second and fourth element of a list x are extracted. The strings that result are pasted together using the + operator:\n",
        "\n",
        "x = [\"a\", \"b\", \"c\", \"d\"]\n",
        "print(x[1] + x[3])"
      ]
    },
    {
      "cell_type": "code",
      "metadata": {
        "id": "9m7LqWLt7sI8",
        "colab": {
          "base_uri": "https://localhost:8080/"
        },
        "outputId": "367841df-e300-439c-d737-419725032245"
      },
      "source": [
        "# Create the areas list\n",
        "areas = [\"hallway\", 11.25, \"kitchen\", 18.0, \"living room\", 20.0, \"bedroom\", 10.75, \"bathroom\", 9.50]\n",
        "\n",
        "# Sum of kitchen and bedroom area: eat_sleep_area\n",
        "eat_sleep_area = areas[3] + areas[-3]\n",
        "\n",
        "# Print the variable eat_sleep_area\n",
        "print(eat_sleep_area)"
      ],
      "execution_count": null,
      "outputs": [
        {
          "output_type": "stream",
          "text": [
            "28.75\n"
          ],
          "name": "stdout"
        }
      ]
    },
    {
      "cell_type": "markdown",
      "metadata": {
        "id": "Z9NfPqZj0fga"
      },
      "source": [
        "####1.4.3-Slicing and dicing**\n",
        "Selecting single values from a list is just one part of the story. It's also possible to slice your list, which means selecting multiple elements from your list. Use the following syntax:\n",
        "\n",
        "my_list[start:end]\n",
        "The start index will be included, while the end index is not.\n",
        "\n",
        "The code sample below shows an example. A list with \"b\" and \"c\", corresponding to indexes 1 and 2, are selected from a list x:\n",
        "\n",
        "x = [\"a\", \"b\", \"c\", \"d\"]\n",
        "x[1:3]\n",
        "The elements with index 1 and 2 are included, while the element with index 3 is not."
      ]
    },
    {
      "cell_type": "code",
      "metadata": {
        "id": "Fgb4SnMn1Zr7"
      },
      "source": [
        "# Create the areas list\n",
        "areas = [\"hallway\", 11.25, \"kitchen\", 18.0, \"living room\", 20.0, \"bedroom\", 10.75, \"bathroom\", 9.50]\n",
        "\n",
        "# Use slicing to create downstairs\n",
        "downstairs = areas[0:6]\n",
        "\n",
        "# Use slicing to create upstairs\n",
        "upstairs = areas[6:10]\n",
        "\n",
        "# Print out downstairs and upstairs"
      ],
      "execution_count": null,
      "outputs": []
    },
    {
      "cell_type": "markdown",
      "metadata": {
        "id": "N01XBS-i3jy-"
      },
      "source": [
        "#**1.5-Manipulating Lists**"
      ]
    },
    {
      "cell_type": "markdown",
      "metadata": {
        "id": "WRYzkpT83vBX"
      },
      "source": [
        "####**1.5.1-List Manipilating**\n",
        "- Change list elements\n",
        "- Add list elements\n",
        "- Remove list elements"
      ]
    },
    {
      "cell_type": "markdown",
      "metadata": {
        "id": "ZvyGay8T9DHr"
      },
      "source": [
        "####**1.5.2-Changing list element**"
      ]
    },
    {
      "cell_type": "code",
      "metadata": {
        "id": "5Bfkj3G59QTt",
        "colab": {
          "base_uri": "https://localhost:8080/",
          "height": 35
        },
        "outputId": "8c96a705-7940-4366-994f-f42cde22ba05"
      },
      "source": [
        "fam = [\"1lz\", 1.73, \"emma\", 1.68, \"mom\", 1.71, \"dad\",1.89]\n",
        "fam[7]"
      ],
      "execution_count": null,
      "outputs": [
        {
          "output_type": "execute_result",
          "data": {
            "text/plain": [
              "1.89"
            ]
          },
          "metadata": {
            "tags": []
          },
          "execution_count": 2
        }
      ]
    },
    {
      "cell_type": "markdown",
      "metadata": {
        "id": "C6w3uZTLAGtF"
      },
      "source": [
        "####**1.5.3-Adding and removing elemtents**"
      ]
    },
    {
      "cell_type": "code",
      "metadata": {
        "id": "8NgHyNl9AUBo",
        "colab": {
          "base_uri": "https://localhost:8080/",
          "height": 35
        },
        "outputId": "610655f8-0d39-44d1-d145-6c4a777f8e52"
      },
      "source": [
        "fam+[\"me\",1.79]\n",
        "fam_ext = fam+[\"me\",1.79]\n",
        "del(fam[2])\n",
        "fam"
      ],
      "execution_count": null,
      "outputs": [
        {
          "output_type": "execute_result",
          "data": {
            "text/plain": [
              "['1lz', 1.73, 1.68, 'mom', 1.71, 'dad', 1.89]"
            ]
          },
          "metadata": {
            "tags": []
          },
          "execution_count": 3
        }
      ]
    },
    {
      "cell_type": "markdown",
      "metadata": {
        "id": "lAy5jEzNLKIc"
      },
      "source": [
        "####**1.5.4-Replace list elements**\n",
        "Replacing list elements is pretty easy. Simply subset the list and assign new values to the subset. You can select single elements or you can change entire list slices at once.\n",
        "\n",
        "Use the IPython Shell to experiment with the commands below. Can you tell what's happening and why?\n",
        "\n",
        "x = [\"a\", \"b\", \"c\", \"d\"]\n",
        "x[1] = \"r\"\n",
        "x[2:] = [\"s\", \"t\"]\n",
        "For this and the following exercises, you'll continue working on the areas list that contains the names and areas of different rooms in a house."
      ]
    },
    {
      "cell_type": "code",
      "metadata": {
        "id": "7SF5Pf1yQlV5"
      },
      "source": [
        "# Create the areas list\n",
        "areas = [\"hallway\", 11.25, \"kitchen\", 18.0, \"living room\", 20.0, \"bedroom\", 10.75, \"bathroom\", 9.50]\n",
        "\n",
        "# Correct the bathroom area\n",
        "areas[-1] = 10.50\n",
        "\n",
        "# Change \"living room\" to \"chill zone\"\n",
        "areas[4] = \"chill zone\""
      ],
      "execution_count": null,
      "outputs": []
    },
    {
      "cell_type": "markdown",
      "metadata": {
        "id": "F-fbmEJkDQ7D"
      },
      "source": [
        "####**1.5.5-Extend a list**\n",
        "If you can change elements in a list, you sure want to be able to add elements to it, right? You can use the + operator:\n",
        "\n",
        "x = [\"a\", \"b\", \"c\", \"d\"]\n",
        "y = x + [\"e\", \"f\"]\n",
        "You just won the lottery, awesome! You decide to build a poolhouse and a garage. Can you add the information to the areas list?\n",
        "\n",
        "**Instruction**\n",
        "\n",
        "Use the + operator to paste the list [\"poolhouse\", 24.5] to the end of the areas list. Store the resulting list as areas_1.\n",
        "Further extend areas_1 by adding data on your garage. Add the string \"garage\" and float 15.45. Name the resulting list areas_2.\n"
      ]
    },
    {
      "cell_type": "code",
      "metadata": {
        "id": "faWhJsYxDoP6"
      },
      "source": [
        "# Create the areas list (updated version)\n",
        "areas = [\"hallway\", 11.25, \"kitchen\", 18.0, \"chill zone\", 20.0,\n",
        "         \"bedroom\", 10.75, \"bathroom\", 10.50]\n",
        "\n",
        "# Add poolhouse data to areas, new list is areas_1\n",
        "areas_1 = areas + [\"poolhouse\", 24.5]\n",
        "\n",
        "# Add garage data to areas_1, new list is areas_2\n",
        "areas_2 = areas_1 + [\"garage\", 15.45]\n",
        "\n",
        "areas_2 "
      ],
      "execution_count": null,
      "outputs": []
    },
    {
      "cell_type": "markdown",
      "metadata": {
        "id": "TPX6EqMNPcJ0"
      },
      "source": [
        "####**1.5.6-Inner workings of lists**\n",
        "At the end of the video, Hugo explained how Python lists work behind the scenes. In this exercise you'll get some hands-on experience with this.\n",
        "\n",
        "The Python code in the script already creates a list with the name areas and a copy named areas_copy. Next, the first element in the areas_copy list is changed and the areas list is printed out. If you hit Run Code you'll see that, although you've changed areas_copy, the change also takes effect in the areas list. That's because areas and areas_copy point to the same list.\n",
        "\n",
        "If you want to prevent changes in areas_copy from also taking effect in areas, you'll have to do a more explicit copy of the areas list. You can do this with list() or by using [:].\n",
        "\n",
        "**Instructions**\n",
        "\n",
        "0 XP\n",
        "Change the second command, that creates the variable areas_copy, such that areas_copy is an explicit copy of areas. After your edit, changes made to areas_copy shouldn't affect areas. Submit the answer to check this."
      ]
    },
    {
      "cell_type": "code",
      "metadata": {
        "id": "HphMmO3oPpmG",
        "colab": {
          "base_uri": "https://localhost:8080/",
          "height": 35
        },
        "outputId": "f5397ffa-b360-410d-a05f-4804d9df9f1e"
      },
      "source": [
        "# Create list areas\n",
        "areas = [11.25, 18.0, 20.0, 10.75, 9.50]\n",
        "\n",
        "# Create areas_copy\n",
        "areas_copy = list(areas)\n",
        "\n",
        "# Change areas_copy\n",
        "areas_copy[0] = 5.0\n",
        "\n",
        "# Print areas\n",
        "print(areas)"
      ],
      "execution_count": null,
      "outputs": [
        {
          "output_type": "stream",
          "text": [
            "[11.25, 18.0, 20.0, 10.75, 9.5]\n"
          ],
          "name": "stdout"
        }
      ]
    },
    {
      "cell_type": "markdown",
      "metadata": {
        "id": "ORty1OzLij4U"
      },
      "source": [
        "##**1.6-Functions and Packages**"
      ]
    },
    {
      "cell_type": "markdown",
      "metadata": {
        "id": "gvlZv4ori2rv"
      },
      "source": [
        "####**1.6.1-Functions**\n",
        "- Nothing New!\n",
        "- Type()\n",
        "- Piece of reusable code\n",
        "- Solvess particular task\n",
        "- Call function instead of writing code yourself"
      ]
    },
    {
      "cell_type": "markdown",
      "metadata": {
        "id": "qzcS5L8Gjp-D"
      },
      "source": [
        "####**1.6.2-Example**"
      ]
    },
    {
      "cell_type": "code",
      "metadata": {
        "id": "FQseVC-Nj05P",
        "colab": {
          "base_uri": "https://localhost:8080/",
          "height": 35
        },
        "outputId": "cf26d986-9b2a-46bc-c3a4-bcdfc10edad5"
      },
      "source": [
        "fam = [1.73,1.68,1.89]\n",
        "fam\n",
        "max(fam)"
      ],
      "execution_count": null,
      "outputs": [
        {
          "output_type": "execute_result",
          "data": {
            "text/plain": [
              "1.89"
            ]
          },
          "metadata": {
            "tags": []
          },
          "execution_count": 1
        }
      ]
    },
    {
      "cell_type": "code",
      "metadata": {
        "id": "thrE18jFkNNS"
      },
      "source": [
        "tallest = max(fam)\n",
        "tallest"
      ],
      "execution_count": null,
      "outputs": []
    },
    {
      "cell_type": "markdown",
      "metadata": {
        "id": "sjv03ubZC6W1"
      },
      "source": [
        "####**1.6.3-Familiar functions**\n",
        "\n",
        "Out of the box, Python offers a bunch of built-in functions to make your life as a data scientist easier. You already know two such functions: print() and type(). You've also used the functions str(), int(), bool() and float() to switch between data types. These are built-in functions as well.\n",
        "\n",
        "Calling a function is easy. To get the type of 3.0 and store the output as a new variable, result, you can use the following:\n",
        "\n",
        "result = type(3.0)\n",
        "The general recipe for calling functions and saving the result to a variable is thus:\n",
        "\n",
        "output = function_name(input)"
      ]
    },
    {
      "cell_type": "code",
      "metadata": {
        "id": "ziiC2vbif7k8",
        "colab": {
          "base_uri": "https://localhost:8080/",
          "height": 52
        },
        "outputId": "0165f3da-bc1f-406e-a96e-9c15719142a5"
      },
      "source": [
        "# Create variables var1 and var2\n",
        "var1 = [1, 2, 3, 4]\n",
        "var2 = True\n",
        "\n",
        "# Print out type of var1\n",
        "print(type(var1))\n",
        "\n",
        "# Print out length of var1\n",
        "print(len(var1))\n",
        "\n",
        "# Convert var2 to an integer: out2\n",
        "out2 = int(var2)"
      ],
      "execution_count": null,
      "outputs": [
        {
          "output_type": "stream",
          "text": [
            "<class 'list'>\n",
            "4\n"
          ],
          "name": "stdout"
        }
      ]
    },
    {
      "cell_type": "markdown",
      "metadata": {
        "id": "c13ngR5igig3"
      },
      "source": [
        "####**1.6.4-Multiple arguments**\n",
        "In the previous exercise, the square brackets around imag in the documentation showed us that the imag argument is optional. But Python also uses a different way to tell users about arguments being optional.\n",
        "\n",
        "Have a look at the documentation of sorted() by typing help(sorted) in the IPython Shell.\n",
        "\n",
        "You'll see that sorted() takes three arguments: iterable, key and reverse.\n",
        "\n",
        "key=None means that if you don't specify the key argument, it will be None. reverse=False means that if you don't specify the reverse argument, it will be False.\n",
        "\n",
        "In this exercise, you'll only have to specify iterable and reverse, not key. The first input you pass to sorted() will be matched to the iterable argument, but what about the second input? To tell Python you want to specify reverse without changing anything about key, you can use =:\n",
        "\n",
        "sorted(___, reverse = ___)\n",
        "Two lists have been created for you in the editor. Can you paste them together and sort them in descending order?\n",
        "\n",
        "Note: For now, we can understand an iterable as being any collection of objects, e.g. a List."
      ]
    },
    {
      "cell_type": "code",
      "metadata": {
        "id": "KqJ_4h9Bgr0g",
        "colab": {
          "base_uri": "https://localhost:8080/",
          "height": 35
        },
        "outputId": "e4037e87-a0c5-4e54-ce3f-73e241a71b43"
      },
      "source": [
        "# Create lists first and second\n",
        "first = [11.25, 18.0, 20.0]\n",
        "second = [10.75, 9.50]\n",
        "\n",
        "# Paste together first and second: full\n",
        "full = first + second\n",
        "\n",
        "# Sort full in descending order: full_sorted\n",
        "full_sorted = sorted(full, reverse = True)\n",
        "\n",
        "# Print out full_sorted\n",
        "print(full_sorted)"
      ],
      "execution_count": null,
      "outputs": [
        {
          "output_type": "stream",
          "text": [
            "[20.0, 18.0, 11.25, 10.75, 9.5]\n"
          ],
          "name": "stdout"
        }
      ]
    },
    {
      "cell_type": "markdown",
      "metadata": {
        "id": "W1PYAWYCQxrC"
      },
      "source": [
        "##**1.7.1-Methods**\n",
        "**Built_in Function**\n",
        "- Maximum of list:max()\n",
        "- Length of liat or string:len()\n",
        "- Get index in list:?\n",
        "- Reversing alist:?\n",
        "\n",
        "**You can think of methods as function that \"belong\"python objects**"
      ]
    },
    {
      "cell_type": "code",
      "metadata": {
        "id": "MCQ2S5DWSF0R"
      },
      "source": [
        "#Example of method\n",
        "\n",
        "#str(object) capitalize replace()\n",
        "sister = \"liz\"\n",
        "\n",
        "#float(object) bit_lenght()\n",
        "#conjugate()\n",
        "height = 1.73\n",
        "\n",
        "#list index() cout()\n",
        "fam = [\"liz\",1.73, \"emma\",1.68, \"mom\",1.71, \"dad\", 1.89]"
      ],
      "execution_count": null,
      "outputs": []
    },
    {
      "cell_type": "markdown",
      "metadata": {
        "id": "wqQ7PDh7TcyP"
      },
      "source": [
        "####**1.7.2-List method**\n"
      ]
    },
    {
      "cell_type": "code",
      "metadata": {
        "id": "VrHeRQxkTqrO"
      },
      "source": [
        "fam = [\"liz\",1,73, \"emma\",1,68, \"mom\",1.71, \"dad\",1.89]\n",
        "fam.index(\"mom\")# \"call method index() on fam\"\n",
        "#To call the method,you use the dot notation,like this.\n",
        "\n",
        "fam.count(1.71)\n"
      ],
      "execution_count": null,
      "outputs": []
    },
    {
      "cell_type": "markdown",
      "metadata": {
        "id": "DSLyWiM5VrKj"
      },
      "source": [
        "**Similarly,I can use the count method on the fam list to count the number of times 1-point-71 occurs in the list.**"
      ]
    },
    {
      "cell_type": "markdown",
      "metadata": {
        "id": "yR_OVnidWU4o"
      },
      "source": [
        "####**1.7.3-str method**"
      ]
    },
    {
      "cell_type": "code",
      "metadata": {
        "id": "fmAdAYUoWeH3",
        "colab": {
          "base_uri": "https://localhost:8080/",
          "height": 35
        },
        "outputId": "e7ec2b3e-295b-4b1d-b8f1-fdbca6219396"
      },
      "source": [
        "sister"
      ],
      "execution_count": null,
      "outputs": [
        {
          "output_type": "execute_result",
          "data": {
            "application/vnd.google.colaboratory.intrinsic+json": {
              "type": "string"
            },
            "text/plain": [
              "'liz'"
            ]
          },
          "metadata": {
            "tags": []
          },
          "execution_count": 15
        }
      ]
    },
    {
      "cell_type": "code",
      "metadata": {
        "id": "qghuR0PXWmWX",
        "colab": {
          "base_uri": "https://localhost:8080/",
          "height": 35
        },
        "outputId": "ba8a96a4-4c76-4899-99a7-893ec9225f6d"
      },
      "source": [
        "sister.capitalize()"
      ],
      "execution_count": null,
      "outputs": [
        {
          "output_type": "execute_result",
          "data": {
            "application/vnd.google.colaboratory.intrinsic+json": {
              "type": "string"
            },
            "text/plain": [
              "'Liz'"
            ]
          },
          "metadata": {
            "tags": []
          },
          "execution_count": 16
        }
      ]
    },
    {
      "cell_type": "markdown",
      "metadata": {
        "id": "hjfF_RrnWyAi"
      },
      "source": [
        "**You can call the method capitalize on sister,without any inputs.It returns a string where the frist letter is capitalized new.**"
      ]
    },
    {
      "cell_type": "markdown",
      "metadata": {
        "id": "FfqwCGXnYdGZ"
      },
      "source": [
        "####**1.7.4-String Methods**\n",
        "Strings come with a bunch of methods. Follow the instructions closely to discover some of them. If you want to discover them in more detail, you can always type help(str) in the IPython Shell.\n",
        "\n",
        "A string place has already been created for you to experiment with."
      ]
    },
    {
      "cell_type": "code",
      "metadata": {
        "id": "TpHre_Q2YnkR",
        "colab": {
          "base_uri": "https://localhost:8080/",
          "height": 52
        },
        "outputId": "e713072c-da5f-448f-d62d-7669267fe5e8"
      },
      "source": [
        "# string to experiment with: place\n",
        "place = \"poolhouse\"\n",
        "\n",
        "# Use upper() on place: place_up\n",
        "place_up = place.upper()\n",
        "\n",
        "# Print out place and place_up\n",
        "print(place)\n",
        "print(place_up)"
      ],
      "execution_count": null,
      "outputs": [
        {
          "output_type": "stream",
          "text": [
            "poolhouse\n",
            "POOLHOUSE\n"
          ],
          "name": "stdout"
        }
      ]
    },
    {
      "cell_type": "markdown",
      "metadata": {
        "id": "vVcRynj_ZKxh"
      },
      "source": [
        "####**1.7.5-List Methods**\n",
        "Strings are not the only Python types that have methods associated with them. Lists, floats, integers and booleans are also types that come packaged with a bunch of useful methods. In this exercise, you'll be experimenting with:\n",
        "\n",
        "index(), to get the index of the first element of a list that matches its input and\n",
        "count(), to get the number of times an element appears in a list.\n",
        "You'll be working on the list with the area of different parts of a house: areas.\n",
        "\n"
      ]
    },
    {
      "cell_type": "code",
      "metadata": {
        "id": "7fBGUq9cZiWu"
      },
      "source": [
        "# Create list areas\n",
        "areas = [11.25, 18.0, 20.0, 10.75, 9.50]\n",
        "\n",
        "# Print out the index of the element 20.0\n",
        "print(areas.index(20.0))\n",
        "\n",
        "# Print out how often 9.50 appears in areas\n",
        "print(areas.count(9.50))"
      ],
      "execution_count": null,
      "outputs": []
    },
    {
      "cell_type": "markdown",
      "metadata": {
        "id": "U3H7m61bDuaM"
      },
      "source": [
        "##**1.8.1-Packages**\n",
        "**What are packages**\n",
        "\n",
        "We don't usually store all of our files on our computer in the same location. We use a well-organized hierarchy of directories for easier access.\n",
        "\n",
        "Similar files are kept in the same directory, for example, we may keep all the songs in the \"music\" directory. Analogous to this, Python has packages for directories and modules for files."
      ]
    },
    {
      "cell_type": "markdown",
      "metadata": {
        "id": "AtjXCcB9D_AA"
      },
      "source": [
        "####**1.8.2-Motivation**\n",
        "- **Function and methods are powerful.**\n",
        "\n",
        "Python functions and methods are extremely powerful:You can basically use other people's code to solve your own problems.\n",
        "\n",
        "\n",
        "- **Lots of code you won't use.**\n",
        "\n",
        "There would be tons of tons of code in there that you'll never use.\n",
        "\n",
        "\n",
        "- **Maintenance problem**\n",
        "\n",
        "Maintaning all of this code would be a real pain.\n",
        "\n"
      ]
    },
    {
      "cell_type": "markdown",
      "metadata": {
        "id": "Rs4TMasLG13E"
      },
      "source": [
        "####**1.8.3-Packages**\n",
        "\n",
        "- **Directory of python scripts**\n",
        "\n",
        "You can think of packages as a director of python scripts.Each such script is a so-called module.\n",
        "\n",
        "- **Module**\n",
        "\n",
        "Modules in Python are simply Python files with a .py extension. The name of the module will be the name of the file. A Python module can have a set of functions, classes or variables defined and implemented\n",
        "\n",
        "**Types of module**\n",
        "\n",
        "There are two types of modulein python.\n",
        "\n",
        "**Built in module**\n",
        "- Pre installed in python.\n",
        "\n",
        "**External module**\n",
        "- Need to install using pip.\n",
        "\n",
        "\n",
        "\n",
        "- **Script**\n",
        "\n",
        "A Python script is a collection of commands in a file designed to be executed like a program. The file can of course contain functions and import various modules, but the idea is that it will be run or executed from the command line or from within a Python interactive shell to perform a specific task.\n",
        "\n",
        "- **Specify function,method,type.**\n",
        "\n",
        "Thses module specify,methods and new python types aimed at solving particular problems.\n",
        "\n",
        "- **Thousand of packages available**\n",
        "\n",
        "There are thousand of packages is available from internet.\n",
        "\n",
        "\n",
        "\n",
        "\n",
        "**Packages for Data science**\n",
        "\n",
        "- **Numpy**\n",
        "\n",
        "Nympy to efficiently work with arrays.\n",
        "\n",
        "- **Matplotlib**\n",
        "\n",
        "Matplotlib for data visualization,and scikit-learn for mechine learning.\n"
      ]
    },
    {
      "cell_type": "markdown",
      "metadata": {
        "id": "N-P3B7__MDFV"
      },
      "source": [
        "####**1.8.4-Install packages**\n",
        "\n",
        "To use python packages,you'll frist have to install them on your own system and then put code in your script tp tell python that you want to use thses packages\n",
        "\n",
        "**pip**\n",
        "\n",
        "- A packages maintenance system for python.\n",
        "- pip is the package manager for python.- \n",
        "- You can use to install pip amodule on your system.\n",
        "\n",
        "\n",
        "http://pip.readthedocs.org/en/stable/installing/\n",
        "You can download the file get-pip-dot-py.\n",
        "\n",
        "- **Terminal**\n",
        "\n",
        "Next you go to the terminal,and execute python3 get-pip-dot-py.\n",
        "\n",
        "- **pip3 install nump**\n",
        "\n",
        "If you install nump file.\n",
        "\n"
      ]
    },
    {
      "cell_type": "markdown",
      "metadata": {
        "id": "JIdTI02WfGFm"
      },
      "source": [
        "####**1.8.5-Import packages**\n",
        "\n",
        "Bofore you can do this,you should import the packages,or a specific module of the packages you can do this with the import statement.\n",
        "\n",
        "To import the entire numpy packages you can do import nump,loke this."
      ]
    },
    {
      "cell_type": "code",
      "metadata": {
        "id": "iRpLIY1YgPkI"
      },
      "source": [
        "import numpy\n",
        "array([1,2,3])"
      ],
      "execution_count": null,
      "outputs": []
    },
    {
      "cell_type": "markdown",
      "metadata": {
        "id": "0ob8Vf3fgeP0"
      },
      "source": [
        "A commonly used function in Numpy is array.\n",
        "\n",
        "**It take a list as input**"
      ]
    },
    {
      "cell_type": "code",
      "metadata": {
        "id": "ezoluiJSgvUz"
      },
      "source": [
        "numpy.array([1,2,3])"
      ],
      "execution_count": null,
      "outputs": []
    },
    {
      "cell_type": "markdown",
      "metadata": {
        "id": "X6oJXvKgg1ab"
      },
      "source": [
        "- **This one is correct**\n",
        "- **The Numpy array is very useful to do data science.**"
      ]
    },
    {
      "cell_type": "markdown",
      "metadata": {
        "id": "kEh-Uydfisx0"
      },
      "source": [
        "# **References**\n",
        "\n",
        "[[1] Learn Python](https://www.learnpython.org/en/Conditions)\n",
        "\n",
        "[[2] Real-Time Face Mask Detector with Python, OpenCV, Keras](https://data-flair.training/blogs/face-mask-detection-with-python/)\n",
        "\n",
        "[3] https://medium.com/mlpoint/numpy-for-machine-learning-211a3e58b574]\n",
        "\n",
        "[[4] Interesting Facts About Python Programming Language](https://pub.towardsai.net/8-interesting-facts-about-python-programming-language-ff8ccba88cad#3781)\n",
        "\n",
        "\n",
        "[20 Great Pandas Tricks For Data Science](https://towardsdatascience.com/20-great-pandas-tricks-for-data-science-3a6daed71da0)\n",
        "\n",
        "[Top 5 Python IDE’s For Data Science](https://preettheman.medium.com/top-python-ides-for-data-science-c49c6056cdb4)\n",
        "\n",
        "[Best extensions for JupyterLab!!](https://jlgjosue.medium.com/best-extensions-for-jupyterlab-185ab5f3e05c)\n",
        "\n",
        "[5 Useful Advanced Features of Python](https://python.plainenglish.io/5-useful-advanced-features-of-python-40f0d67fff84)"
      ]
    }
  ]
}