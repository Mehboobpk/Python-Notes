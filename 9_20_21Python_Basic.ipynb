{
  "nbformat": 4,
  "nbformat_minor": 0,
  "metadata": {
    "coursera": {
      "course_slug": "neural-networks-deep-learning",
      "graded_item_id": "XaIWT",
      "launcher_item_id": "zAgPl"
    },
    "kernelspec": {
      "display_name": "Python 3",
      "language": "python",
      "name": "python3"
    },
    "language_info": {
      "codemirror_mode": {
        "name": "ipython",
        "version": 3
      },
      "file_extension": ".py",
      "mimetype": "text/x-python",
      "name": "python",
      "nbconvert_exporter": "python",
      "pygments_lexer": "ipython3",
      "version": "3.6.2"
    },
    "colab": {
      "name": "9-20-21Python_Basic.ipynb",
      "provenance": [],
      "collapsed_sections": [],
      "toc_visible": true,
      "include_colab_link": true
    }
  },
  "cells": [
    {
      "cell_type": "markdown",
      "metadata": {
        "id": "view-in-github",
        "colab_type": "text"
      },
      "source": [
        "<a href=\"https://colab.research.google.com/github/hussain0048/Python/blob/master/9_20_21Python_Basic.ipynb\" target=\"_parent\"><img src=\"https://colab.research.google.com/assets/colab-badge.svg\" alt=\"Open In Colab\"/></a>"
      ]
    },
    {
      "cell_type": "markdown",
      "metadata": {
        "id": "P3xFiW9cwZR1"
      },
      "source": [
        "# **Table of Content**\n",
        "\n",
        "<div class=\"alert alert-block alert-info\" style=\"margin-top: 20px\">\n",
        "    <ol>\n",
        "        <li><a href=\"https://colab.research.google.com/drive/16RuGVxgCercSOghBqECW-Dz_DOEFd_t6#scrollTo=BwlGIq-fgExg\">Introduction</a></li>\n",
        "        <li><a href=\"#downloading_data\">Install Jupyter Notebook</a></li>\n",
        "        <li><a href=\"#pre-processing\">Prerequisites</a></li>\n",
        "        <li><a href=\"#setting_up_tree\">Importing libraries</a></li>\n",
        "        <li><a href=\"#modeling\">Processing</a></li>\n",
        "        <li><a href=\"#prediction\">Building the model</a></li>\n",
        "        <li><a href=\"#evaluation\">Making Predictions for test data</a></li>\n",
        "    </ol>\n",
        "</div>\n",
        "<br>\n",
        "<hr>"
      ]
    },
    {
      "cell_type": "markdown",
      "metadata": {
        "id": "2WZFQQORCAcS"
      },
      "source": [
        "# **1-Introduction**\n",
        "Python is a very simple language, and has a very straightforward syntax. It encourages programmers to program without boilerplate (prepared) code. There are two major Python versions, Python 2 and Python 3. Python 2 and 3 are quite different. This tutorial uses Python 3, because it more semantically correct and supports newer features.\n",
        "\n",
        "Python is a high-level programming language that Google, Facebook, NASA, and almost all other multinational companies worldwide use. Python has overtaken every language in recent years and has become the most popular and widely used programming language globally.\n",
        "Its popularity on the job market has grown to the extent that companies have made Python a requirement in their job postings. According to the Times of India, Python was among the top 5 highest-paid programming languages in 2021.\n",
        "But what exactly is Python, and why has it suddenly become such a sought-after language?\n",
        "\n",
        "#**2-Why is  ‘Python’?**\n",
        "\n",
        "Python is an interpreted, object-oriented programming language created by Guido van Rossum in 1991.\n",
        "Python can be used for everything from web development to Machine learning, Artificial intelligence, and Data Science.\n",
        "Unlike some other programming languages, Python does not require you to worry about syntax. Writing in Python is almost equal to written English. You have to use the proper functions or \"modules\" and let Python do the rest.\n",
        "The easy syntax of Python makes it great for beginners who are learning how to code and seasoned developers who want to quickly create software prototypes and earn a reasonable amount of income.\n",
        "Without wasting further time, let us get into the real business\n",
        "\n",
        "#**2-Why is it called ‘Python’?[4]**\n",
        "While many people assume the name Python Programming comes from something related to the Python snake, it actually comes from the TV comedy series ‘Monty Python’s Flying Circus.’ This series broadcast on the BBC channelin the United Kingdom in the 1970s and was a favorite of Guido Van Rossum’s. Because it was short, cryptic, and included the name of his favorite TV comedy show, he chose the name ‘Python.’\n",
        "\n",
        "#**3-Python does not require a compiler[4]**\n",
        "Python is a high-level, interpreted language that does not require a compiler, unlike other programming languages such as Java and C++.Python code is stored in a .pyc file, which serves as the Python engine and eliminates the need for a compiler.\n",
        "\n",
        "#**4-Python is one of Google’s official programming languages[4]**\n",
        "Python is one of the few programming languages that has been designated as an official Google language. Python became one of Google’s official programming languages due of its efficiency. It was advantageous to them because it is simple to use, even on large projects. Even YouTube is powered by Python programming.\n",
        "\n",
        "#**5-Python is similar to English[4]**\n",
        "Many people claim that Python is a simple language to learn. The fundamental reason for this claim is that Python is more similar to English than other programming languages. It’s simple to figure out what each line of code accomplishes. Everything is simple and straightforward.\n",
        "\n",
        "#**6-Wide range of aspects[4]**\n",
        "Python is a general-purpose programming language. In fact, it can be used in a wide range of coding scenarios like web development, artificial intelligence, machine learning, data analytics, internet of things and many more."
      ]
    },
    {
      "cell_type": "markdown",
      "metadata": {
        "id": "wAU3XpQj-IXe"
      },
      "source": [
        "![](https://drive.google.com/uc?export=view&id=1dGhEqYFL26I3zksGS6VGWMAfO6WM8kX5\n",
        ")"
      ]
    },
    {
      "cell_type": "markdown",
      "metadata": {
        "id": "fEReTqP9z6Qq"
      },
      "source": [
        "# **Access your PC Information using Platform Library**"
      ]
    },
    {
      "cell_type": "code",
      "metadata": {
        "id": "7SydDKYO0bM2",
        "colab": {
          "base_uri": "https://localhost:8080/",
          "height": 35
        },
        "outputId": "4ab4febd-e560-451e-f96d-d9094091b4fd"
      },
      "source": [
        "import platform \n",
        "# Retrun Machine Type\n",
        "platform.machine()"
      ],
      "execution_count": null,
      "outputs": [
        {
          "output_type": "execute_result",
          "data": {
            "application/vnd.google.colaboratory.intrinsic+json": {
              "type": "string"
            },
            "text/plain": [
              "'x86_64'"
            ]
          },
          "metadata": {},
          "execution_count": 1
        }
      ]
    },
    {
      "cell_type": "code",
      "metadata": {
        "id": "tUfGGySY0nI2"
      },
      "source": [
        "# retrun computer Name\n",
        "platform.node()"
      ],
      "execution_count": null,
      "outputs": []
    },
    {
      "cell_type": "code",
      "metadata": {
        "id": "41bsa8OM01Ll"
      },
      "source": [
        "# Return your current OS\n",
        "platform.platform()"
      ],
      "execution_count": null,
      "outputs": []
    },
    {
      "cell_type": "code",
      "metadata": {
        "id": "hP9N5G3j1O26"
      },
      "source": [
        "# Retrun process name\n",
        "platform.processor()"
      ],
      "execution_count": null,
      "outputs": []
    },
    {
      "cell_type": "code",
      "metadata": {
        "id": "dB4kwr4R1Vfo"
      },
      "source": [
        "# Retrun System release\n",
        "platform.release()"
      ],
      "execution_count": null,
      "outputs": []
    },
    {
      "cell_type": "code",
      "metadata": {
        "id": "-FJvgfN_1dXQ",
        "colab": {
          "base_uri": "https://localhost:8080/",
          "height": 35
        },
        "outputId": "f7561240-ba68-4399-c6e9-9b2c45bbb292"
      },
      "source": [
        "# Retrun OS name\n",
        "platform.system()"
      ],
      "execution_count": null,
      "outputs": [
        {
          "output_type": "execute_result",
          "data": {
            "application/vnd.google.colaboratory.intrinsic+json": {
              "type": "string"
            },
            "text/plain": [
              "'Linux'"
            ]
          },
          "metadata": {},
          "execution_count": 7
        }
      ]
    },
    {
      "cell_type": "code",
      "metadata": {
        "id": "JrUej5wX1sl6"
      },
      "source": [
        "# Retrun process name\n",
        "platform.uname()"
      ],
      "execution_count": null,
      "outputs": []
    },
    {
      "cell_type": "markdown",
      "metadata": {
        "id": "R1CeWBKSEkjD"
      },
      "source": [
        "# **IDE**"
      ]
    },
    {
      "cell_type": "markdown",
      "source": [
        "## **PyCharm**"
      ],
      "metadata": {
        "id": "CD0TNslfFiI8"
      }
    },
    {
      "cell_type": "markdown",
      "source": [
        "Next up we have PyCharm, this is one of my favorite IDE’s I pretty much use for all of my tutorials. PyCharm is one of the largest IDE’s on this list but it offers a ton of features."
      ],
      "metadata": {
        "id": "52-N0yChFtUu"
      }
    },
    {
      "cell_type": "markdown",
      "source": [
        "![](https://drive.google.com/uc?export=view&id=1hhsg82AzVSqtlpoSRXRwu77ZkT7yiWxq)"
      ],
      "metadata": {
        "id": "qt685jeGGJ3A"
      }
    },
    {
      "cell_type": "markdown",
      "source": [
        "One of my favorite things with this IDE is running the code within the environment, this allows us to run line by line or the whole program right in the IDE. On top of this, PyCharm has all of the following features as well:\n",
        "\n",
        "PyCharm is by far one of my favorite IDE’s To download for Python, download it here:\n",
        "\n",
        "https://www.jetbrains.com/pycharm/"
      ],
      "metadata": {
        "id": "zIqdCdTcIMTu"
      }
    },
    {
      "cell_type": "markdown",
      "source": [
        "## **Visual Studio Code**"
      ],
      "metadata": {
        "id": "ZUwfT1WtIgrS"
      }
    },
    {
      "cell_type": "markdown",
      "source": [
        "![](https://drive.google.com/uc?export=view&id=1zZ4EeJ--rtxCFIMLWQFKiRp3io4veQT7)"
      ],
      "metadata": {
        "id": "dJiKFFurJT3W"
      }
    },
    {
      "cell_type": "markdown",
      "source": [
        "Next up we have Visual Studio Code, this is a very popular IDE built by Microsoft! This IDE is a multi language interpreter, so you can run code from multiple different languages, one of these languages is Python!"
      ],
      "metadata": {
        "id": "8JdRY0J5Jcfn"
      }
    },
    {
      "cell_type": "markdown",
      "source": [
        "Visual Studio Code is an industry standard used at tons of different companies, so I would totally recommend learning it for sure! This is the link to download this software:\n",
        "\n",
        "https://code.visualstudio.com/"
      ],
      "metadata": {
        "id": "2iY8PBTCJfYK"
      }
    },
    {
      "cell_type": "markdown",
      "metadata": {
        "id": "M3R_O-6lEw2Z"
      },
      "source": [
        "![](https://drive.google.com/uc?export=view&id=1NSev_N3lLjUQZ5NFE8Kmm0jJWDfdAA5k)"
      ]
    },
    {
      "cell_type": "markdown",
      "metadata": {
        "id": "Ok0y6k_3EIQj"
      },
      "source": [
        "##**- Install Jupyter Notebook**\n",
        "in this machine learning project for beginners, we will use Jupyter Notebook for the development. Let’s see steps for the installation and configuration of Jupyter Notebook.\n",
        "\n",
        "Using pip python package manager you can install Jupyter notebook:"
      ]
    },
    {
      "cell_type": "code",
      "metadata": {
        "id": "pXDOoZn2Ea9x"
      },
      "source": [
        "pip3 install notebook"
      ],
      "execution_count": null,
      "outputs": []
    },
    {
      "cell_type": "markdown",
      "metadata": {
        "id": "e761fj-KEg2I"
      },
      "source": [
        "And that’s it, you have installed jupyter notebook\n",
        "\n",
        "After installing Jupyter notebook you can run the notebook server. To run the notebook, open terminal and type:"
      ]
    },
    {
      "cell_type": "code",
      "metadata": {
        "id": "M6wAlWSSEvWa"
      },
      "source": [
        "jupyter notebook"
      ],
      "execution_count": null,
      "outputs": []
    },
    {
      "cell_type": "markdown",
      "metadata": {
        "id": "eCskjWPwE3FB"
      },
      "source": [
        "It will start the notebook server at http://localhost:8888\n"
      ]
    },
    {
      "cell_type": "code",
      "metadata": {
        "id": "gYSnZoM86Lxq"
      },
      "source": [
        "!git clone https://github.com/hussain0048/Python.git"
      ],
      "execution_count": null,
      "outputs": []
    },
    {
      "cell_type": "markdown",
      "source": [
        "## **Google CoLab**"
      ],
      "metadata": {
        "id": "8m5woM6-JovL"
      }
    },
    {
      "cell_type": "markdown",
      "source": [
        "![](https://drive.google.com/uc?export=view&id=1YIY3dgHftHKRyRuNLK3a9OPPnVhLBQTg)"
      ],
      "metadata": {
        "id": "Vw8BekysKhE7"
      }
    },
    {
      "cell_type": "markdown",
      "source": [
        "Finally we have Google CoLab, one of my favorite IDE’s available right now. Google CoLab is a little bit different from the other IDE’s, there are no files to download, nothing to install, everything is ran within your browser!\n",
        "\n",
        "![image.png](data:image/png;base64,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)"
      ],
      "metadata": {
        "id": "3fSKc6DjKos7"
      }
    },
    {
      "cell_type": "markdown",
      "source": [
        "Another massive feature is that you get to have access to Google’s GPU’s for free! This allows you to run your code much faster compared to a CPU! That feature alone makes Google CoLab stand out over the other IDE’s. You can also share your code easily by sending them a link, very similar to sharing a Google Drive file to someone. If you want to learn more about Google CoLab, check out the link down below:\n",
        "\n",
        "https://colab.research.google.com/notebooks/"
      ],
      "metadata": {
        "id": "JSHV8orzK1AM"
      }
    },
    {
      "cell_type": "markdown",
      "source": [
        "## **Spyder**"
      ],
      "metadata": {
        "id": "SO_H4NoqLAAl"
      }
    },
    {
      "cell_type": "markdown",
      "source": [
        "![](\n",
        "https://drive.google.com/uc?export=view&id=1bT3Chuyd_NargQLmbh19lv05z47GNb0J)"
      ],
      "metadata": {
        "id": "qqZj5P_JLdJ1"
      }
    },
    {
      "cell_type": "markdown",
      "source": [
        "Starting off we have Spyder, a very powerful IDE specifically tailored for data science. Unlike some other IDE’s on this list, Spyder allows you to turn different languages inside one software, you can also run code line by line, per cell or the whole file!"
      ],
      "metadata": {
        "id": "4t0tNTbkLOvx"
      }
    },
    {
      "cell_type": "markdown",
      "source": [
        "![image.png](data:image/png;base64,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)"
      ],
      "metadata": {
        "id": "pL_SaIN7LSHy"
      }
    },
    {
      "cell_type": "markdown",
      "source": [
        "My 2 favorite things about this IDE are the variable explorer and the plots being plotted straight in the side bar (unlike other IDE’s which print them out differently). Another massive feature about Spyder are the plugins, there are tons of plugins available for this software for a ton of different tasks, if you want to download this IDE check out the link below:\n",
        "\n",
        "https://www.spyder-ide.org/"
      ],
      "metadata": {
        "id": "CBqemMU6LnXm"
      }
    },
    {
      "cell_type": "markdown",
      "metadata": {
        "id": "beVu-1UqCAcU"
      },
      "source": [
        "# 1- **Hello, World!**\n",
        "The simplest directive in Python is the \"print\" directive - it simply prints out a line (and also includes a newline, unlike in C).For example, one difference between Python 2 and 3 is the print statement. In Python 2, the \"print\" statement is not a function, and therefore it is invoked without parentheses. However, in Python 3, it is a function, and must be invoked with parentheses."
      ]
    },
    {
      "cell_type": "code",
      "metadata": {
        "id": "ZF03EKpuCAcV"
      },
      "source": [
        "#To print a string in Python 3, just write:\n",
        "print(\"This line will be printed.\")"
      ],
      "execution_count": null,
      "outputs": []
    },
    {
      "cell_type": "code",
      "metadata": {
        "id": "u7Cy9SPr653c"
      },
      "source": [
        "print(\"Goodbye, World!\")"
      ],
      "execution_count": null,
      "outputs": []
    },
    {
      "cell_type": "markdown",
      "metadata": {
        "collapsed": true,
        "id": "nhYP15aoCAcf"
      },
      "source": [
        "# 2- **Indentation**\n",
        "Python uses indentation for blocks, instead of curly braces. Both tabs and spaces are supported, but the standard indentation requires standard Python code to use four spaces. For example\n"
      ]
    },
    {
      "cell_type": "code",
      "metadata": {
        "id": "y1wsGi52CAch"
      },
      "source": [
        "x = 1\n",
        "if x == 1:\n",
        "    # indented four spaces\n",
        "    print(\"x is 1.\")"
      ],
      "execution_count": null,
      "outputs": []
    },
    {
      "cell_type": "code",
      "metadata": {
        "id": "zthc85D-kW6k"
      },
      "source": [
        "x = 1\n",
        "if x == 1:"
      ],
      "execution_count": null,
      "outputs": []
    },
    {
      "cell_type": "markdown",
      "metadata": {
        "id": "P4QYI2IoHWpL"
      },
      "source": [
        "# 3 - **Variables and Types**\n",
        "Python is completely object oriented, and not \"statically typed\". You do not need to declare variables before using them, or declare their type. Every variable in Python is an object.\n",
        "\n",
        "This tutorial will go over a few basic types of variables.\n"
      ]
    },
    {
      "cell_type": "markdown",
      "source": [
        "![](https://drive.google.com/uc?export=view&id=1JcCi5V8xSC4ZjPn8oh5icJDtk3XDWHPX)"
      ],
      "metadata": {
        "id": "2mPVkO9A3bUp"
      }
    },
    {
      "cell_type": "markdown",
      "metadata": {
        "id": "AMaWX5x481qW"
      },
      "source": [
        "## **3.1 Numbers**\n",
        "Python supports two types of numbers - integers and floating point numbers. (It also supports complex numbers, which will not be explained in this tutorial).\n",
        "\n",
        "To define an integer, use the following syntax:"
      ]
    },
    {
      "cell_type": "code",
      "metadata": {
        "id": "HV4itFik94rG"
      },
      "source": [
        "myint = 7\n",
        "print(myint)"
      ],
      "execution_count": null,
      "outputs": []
    },
    {
      "cell_type": "code",
      "metadata": {
        "id": "p9JGZRKCCAcq"
      },
      "source": [
        "#To define a floating point number, you may use one of the following notations:\n",
        "myfloat = 7.0\n",
        "print(myfloat)\n",
        "myfloats = float(7)\n",
        "print(myfloats)"
      ],
      "execution_count": null,
      "outputs": []
    },
    {
      "cell_type": "markdown",
      "metadata": {
        "id": "yCl8lMKR-WRg"
      },
      "source": [
        "## 3.2- **Strings**\n",
        "Strings are defined either with a single quote or a double quotes.The difference between the two is that using double quotes makes it easy to include apostrophes (whereas these would terminate the string if using single quotes)"
      ]
    },
    {
      "cell_type": "code",
      "metadata": {
        "id": "t1DlRZn5-m4_"
      },
      "source": [
        "mystring = 'hello'\n",
        "print(mystring)\n",
        "mystring = \"hello\"\n",
        "print(mystring)"
      ],
      "execution_count": null,
      "outputs": []
    },
    {
      "cell_type": "markdown",
      "metadata": {
        "id": "ehTTQE9YJF1Q"
      },
      "source": [
        "# 4 -**Lists**\n",
        "Lists are very similar to arrays. They can contain any type of variable, and they can contain as many variables as you wish. Lists can also be iterated over in a very simple manner. Here is an example of how to build a list."
      ]
    },
    {
      "cell_type": "code",
      "metadata": {
        "scrolled": true,
        "id": "TvqFi8-XCAcy"
      },
      "source": [
        "mylist = []\n",
        "mylist.append(\"a\")\n",
        "mylist.append(\"b\")\n",
        "mylist.append(\"c\")\n",
        "print(mylist[0]) # prints 1\n",
        "print(mylist[1]) # prints 2\n",
        "print(mylist[2]) # prints 3"
      ],
      "execution_count": null,
      "outputs": []
    },
    {
      "cell_type": "code",
      "metadata": {
        "id": "gmN5Z87UAzmf"
      },
      "source": [
        "# prints out 1,2,3\n",
        "for x in mylist:\n",
        "    print(x)"
      ],
      "execution_count": null,
      "outputs": []
    },
    {
      "cell_type": "code",
      "metadata": {
        "id": "iF-GaT_VBBRz"
      },
      "source": [
        "#Accessing an index which does not exist generates an exception (an error).\n",
        "mylist = [1,2,3]\n",
        "print(mylist[10])"
      ],
      "execution_count": null,
      "outputs": []
    },
    {
      "cell_type": "code",
      "metadata": {
        "id": "Op6F-nuA6pQA"
      },
      "source": [
        "\n",
        "my_list=list('abcc')"
      ],
      "execution_count": null,
      "outputs": []
    },
    {
      "cell_type": "code",
      "metadata": {
        "id": "k2Y9xpBW6xi1"
      },
      "source": [
        "my_list.index('c')"
      ],
      "execution_count": null,
      "outputs": []
    },
    {
      "cell_type": "code",
      "metadata": {
        "id": "nEesLa-g7HZk"
      },
      "source": [
        "my_list.reverse()"
      ],
      "execution_count": null,
      "outputs": []
    },
    {
      "cell_type": "code",
      "metadata": {
        "id": "uqma5n6M7MxU"
      },
      "source": [
        "my_list"
      ],
      "execution_count": null,
      "outputs": []
    },
    {
      "cell_type": "code",
      "metadata": {
        "id": "FJ2o1avx_swC"
      },
      "source": [
        "lst1 =[1,2,3]\n",
        "list2= [4,5,6]"
      ],
      "execution_count": null,
      "outputs": []
    },
    {
      "cell_type": "code",
      "metadata": {
        "id": "Xic0sU7Z_z4f"
      },
      "source": [
        "lst1.append(list2)"
      ],
      "execution_count": null,
      "outputs": []
    },
    {
      "cell_type": "code",
      "metadata": {
        "id": "jesslraV_6rG",
        "colab": {
          "base_uri": "https://localhost:8080/"
        },
        "outputId": "cc102845-9b4f-4175-a4e9-5803790836a8"
      },
      "source": [
        "lst1"
      ],
      "execution_count": null,
      "outputs": [
        {
          "output_type": "execute_result",
          "data": {
            "text/plain": [
              "[1, 2, 3, [4, 5, 6]]"
            ]
          },
          "metadata": {},
          "execution_count": 4
        }
      ]
    },
    {
      "cell_type": "code",
      "metadata": {
        "id": "9LXSuJRWAILJ"
      },
      "source": [
        "lst1.extend (list2)"
      ],
      "execution_count": null,
      "outputs": []
    },
    {
      "cell_type": "code",
      "metadata": {
        "id": "kIID5yDkAOvB",
        "colab": {
          "base_uri": "https://localhost:8080/"
        },
        "outputId": "8eba278e-9552-4c85-c55c-cfd509a80d6b"
      },
      "source": [
        "lst1"
      ],
      "execution_count": null,
      "outputs": [
        {
          "output_type": "execute_result",
          "data": {
            "text/plain": [
              "[1, 2, 3, [4, 5, 6], 4, 5, 6]"
            ]
          },
          "metadata": {},
          "execution_count": 7
        }
      ]
    },
    {
      "cell_type": "markdown",
      "metadata": {
        "id": "izbM6eEUKAV-"
      },
      "source": [
        "# **5- Basic Operators**\n",
        "This section explains how to use basic operators in Python."
      ]
    },
    {
      "cell_type": "markdown",
      "metadata": {
        "id": "M_GxDC5VBogz"
      },
      "source": [
        "## 5.1- Arithmetic Operators\n",
        "Just as any other programming languages, the addition, subtraction, multiplication, and division operators can be used with numbers."
      ]
    },
    {
      "cell_type": "code",
      "metadata": {
        "id": "zt-vctO1Kb3o",
        "colab": {
          "base_uri": "https://localhost:8080/",
          "height": 35
        },
        "outputId": "20ca8c15-8cf6-4cd3-e7ae-1b7bbf4ea793"
      },
      "source": [
        "number = 1 + 2 * 3 / 4.0\n",
        "print(number)\n"
      ],
      "execution_count": null,
      "outputs": [
        {
          "output_type": "stream",
          "text": [
            "2.5\n"
          ],
          "name": "stdout"
        }
      ]
    },
    {
      "cell_type": "code",
      "metadata": {
        "id": "YLQMNIDNuMLr"
      },
      "source": [
        "print(type(number))"
      ],
      "execution_count": null,
      "outputs": []
    },
    {
      "cell_type": "code",
      "metadata": {
        "id": "xAsBlVQ0DmXi",
        "colab": {
          "base_uri": "https://localhost:8080/",
          "height": 35
        },
        "outputId": "b24e2106-8d9e-48f6-d26e-18612e32b1f9"
      },
      "source": [
        "# Another operator available is the modulo (%) operator, which returns the integer remainder of the division. dividend % divisor = remainder\n",
        "remainder = 11 % 3\n",
        "print(remainder)"
      ],
      "execution_count": null,
      "outputs": [
        {
          "output_type": "stream",
          "text": [
            "2\n"
          ],
          "name": "stdout"
        }
      ]
    },
    {
      "cell_type": "code",
      "metadata": {
        "id": "lYnhlcS1DtiH"
      },
      "source": [
        "# Using two multiplication symbols makes a power relationship.\n",
        "squared = 7 ** 2\n",
        "cubed = 2 ** 3\n",
        "print(squared)\n",
        "print(cubed)\n"
      ],
      "execution_count": null,
      "outputs": []
    },
    {
      "cell_type": "markdown",
      "metadata": {
        "id": "1x8QNZN3CAdF"
      },
      "source": [
        "##5.2  -Using Operators with Strings\n",
        "Python supports concatenating strings using the addition operator:"
      ]
    },
    {
      "cell_type": "code",
      "metadata": {
        "id": "zNBdXxiHLfLW",
        "colab": {
          "base_uri": "https://localhost:8080/",
          "height": 34
        },
        "outputId": "fc89c894-c3de-41d0-bc3e-2c56d9219259"
      },
      "source": [
        "helloworld = \"hello\" + \" \" + \"world\"\n",
        "print(helloworld)"
      ],
      "execution_count": null,
      "outputs": [
        {
          "output_type": "stream",
          "text": [
            "hello world\n"
          ],
          "name": "stdout"
        }
      ]
    },
    {
      "cell_type": "code",
      "metadata": {
        "id": "RkXFMVZP76K4",
        "colab": {
          "base_uri": "https://localhost:8080/",
          "height": 35
        },
        "outputId": "6289712e-da8d-4952-c555-097499b2079b"
      },
      "source": [
        "lotsofhellos = \"hello\" * 10\n",
        "print(lotsofhellos)"
      ],
      "execution_count": null,
      "outputs": [
        {
          "output_type": "stream",
          "text": [
            "hellohellohellohellohellohellohellohellohellohello\n"
          ],
          "name": "stdout"
        }
      ]
    },
    {
      "cell_type": "markdown",
      "metadata": {
        "id": "12f__4N3FDY3"
      },
      "source": [
        "## 5.3- Using Operators with Lists"
      ]
    },
    {
      "cell_type": "code",
      "metadata": {
        "id": "FZWfCifvFTXC"
      },
      "source": [
        "even_numbers = [2,4,6,8]\n",
        "odd_numbers = [1,3,5,7]\n",
        "all_numbers = odd_numbers + even_numbers\n",
        "print(all_numbers)"
      ],
      "execution_count": null,
      "outputs": []
    },
    {
      "cell_type": "code",
      "metadata": {
        "id": "ss60eiRpFln5"
      },
      "source": [
        "# Just as in strings, Python supports forming new lists with a repeating sequence using the multiplication operator:\n",
        "print([1,2,3] * 3)"
      ],
      "execution_count": null,
      "outputs": []
    },
    {
      "cell_type": "markdown",
      "metadata": {
        "id": "-WNB53OY8IfG"
      },
      "source": [
        "# 6- String Formatting\n",
        "\n",
        "Python uses C-style string formatting to create new, formatted strings. The \"%\" operator is used to format a set of variables enclosed in a \"tuple\" (a fixed size list), together with a format string, which contains normal text together with \"argument specifiers\", special symbols like \"%s\" and \"%d\".\n",
        "\n",
        "Let's say you have a variable called \"name\" with your user name in it, and you would then like to print(out a greeting to that user.)\n"
      ]
    },
    {
      "cell_type": "code",
      "metadata": {
        "id": "-_ykAt_v8egH",
        "colab": {
          "base_uri": "https://localhost:8080/",
          "height": 34
        },
        "outputId": "aef47709-8e0e-46dd-cbb7-cd84c19df4cf"
      },
      "source": [
        "# This prints out \"Hello, John!\"\n",
        "name = \"John\"\n",
        "print(\"Hello, %s!\" % name)"
      ],
      "execution_count": null,
      "outputs": [
        {
          "output_type": "stream",
          "text": [
            "Hello, John!\n"
          ],
          "name": "stdout"
        }
      ]
    },
    {
      "cell_type": "markdown",
      "metadata": {
        "id": "OcoimUu1s4MI"
      },
      "source": [
        "To use two or more argument specifiers, use a tuple (parentheses):"
      ]
    },
    {
      "cell_type": "code",
      "metadata": {
        "id": "0tyfd8avhp58"
      },
      "source": [
        "# This prints out \"John is 23 years old.\"\n",
        "name = \"John\"\n",
        "age = 23\n",
        "print(\"%s is %d years old.\" % (name, age))"
      ],
      "execution_count": null,
      "outputs": []
    },
    {
      "cell_type": "markdown",
      "metadata": {
        "id": "l3epbWLyh-p4"
      },
      "source": [
        "Any object which is not a string can be formatted using the %s operator as well. The string which returns from the \"repr\" method of that object is formatted as the string. For example"
      ]
    },
    {
      "cell_type": "code",
      "metadata": {
        "id": "T-QKZojviCCq"
      },
      "source": [
        "# This prints out: A list: [1, 2, 3]\n",
        "mylist = [1,2,3]\n",
        "print(\"A list: %s\" % mylist)"
      ],
      "execution_count": null,
      "outputs": []
    },
    {
      "cell_type": "markdown",
      "metadata": {
        "id": "htcsGPA0iMJn"
      },
      "source": [
        "Here are some basic argument specifiers you should know:\n",
        "\n",
        "%s - String (or any object with a string representation, like numbers)\n",
        "\n",
        "%d - Integers\n",
        "\n",
        "%f - Floating point numbers\n",
        "\n",
        "%.<number of digits>f - Floating point numbers with a fixed amount of digits to the right of the dot.\n",
        "\n",
        "%x/%X - Integers in hex representation (lowercase/uppercase)"
      ]
    },
    {
      "cell_type": "markdown",
      "metadata": {
        "id": "BdpTOYOlCAdP"
      },
      "source": [
        "# 7-**Basic String Operations**\n",
        "Strings are bits of text. They can be defined as anything between quotes:\n",
        "\n"
      ]
    },
    {
      "cell_type": "code",
      "metadata": {
        "id": "R5uHKjQWZ0WV"
      },
      "source": [
        "astring = \"Hello world!\"\n",
        "astring2 = 'Hello world!'"
      ],
      "execution_count": null,
      "outputs": []
    },
    {
      "cell_type": "markdown",
      "metadata": {
        "id": "r_VGeM-W6ADp"
      },
      "source": [
        "As you can see, the first thing you learned was printing a simple sentence. This sentence was stored by Python as a string. However, instead of immediately printing strings out, we will explore the various things you can do to them. You can also use single quotes to assign a string. However, you will face problems if the value to be assigned itself contains single quotes.For example to assign the string in these bracket(single quotes are ' ') you need to use double quotes only like this"
      ]
    },
    {
      "cell_type": "code",
      "metadata": {
        "id": "RP9VUw8v6CKq",
        "colab": {
          "base_uri": "https://localhost:8080/"
        },
        "outputId": "0f432c03-12bc-46fe-b730-9c1596388e93"
      },
      "source": [
        "astring = \"Hello world!\"\n",
        "print(\"single quotes are ' '\")\n",
        "print(len(astring))"
      ],
      "execution_count": null,
      "outputs": [
        {
          "output_type": "stream",
          "text": [
            "single quotes are ' '\n",
            "12\n"
          ],
          "name": "stdout"
        }
      ]
    },
    {
      "cell_type": "code",
      "metadata": {
        "id": "kMZsbrdxMsk_",
        "colab": {
          "base_uri": "https://localhost:8080/"
        },
        "outputId": "2cad32ba-6871-4d0e-d944-f683de09f723"
      },
      "source": [
        "astring = \"Hello world!\"\n",
        "print(astring.index(\"o\"))"
      ],
      "execution_count": null,
      "outputs": [
        {
          "output_type": "stream",
          "text": [
            "4\n"
          ],
          "name": "stdout"
        }
      ]
    },
    {
      "cell_type": "markdown",
      "metadata": {
        "id": "jib_dHP4MnL8"
      },
      "source": [
        "That prints out 4, because the location of the first occurrence of the letter \"o\" is 4 characters away from the first character. Notice how there are actually two o's in the phrase - this method only recognizes the first.\n",
        "\n",
        "But why didn't it print out 5? Isn't \"o\" the fifth character in the string? To make things more simple, Python (and most other programming languages) start things at 0 instead of 1. So the index of \"o\" is 4."
      ]
    },
    {
      "cell_type": "code",
      "metadata": {
        "id": "_VZPHeAVM7W-",
        "colab": {
          "base_uri": "https://localhost:8080/"
        },
        "outputId": "2c84aef7-4e4a-4203-93a0-f8eadc1c3982"
      },
      "source": [
        "astring = \"Hello world!\"\n",
        "print(astring.count(\"H\"))"
      ],
      "execution_count": null,
      "outputs": [
        {
          "output_type": "stream",
          "text": [
            "1\n"
          ],
          "name": "stdout"
        }
      ]
    },
    {
      "cell_type": "markdown",
      "metadata": {
        "id": "vJuKccPBNkDH"
      },
      "source": [
        "For those of you using silly fonts, that is a lowercase L, not a number one. This counts the number of l's in the string. Therefore, it should print 3."
      ]
    },
    {
      "cell_type": "code",
      "metadata": {
        "id": "zntMPysON5Ts",
        "colab": {
          "base_uri": "https://localhost:8080/"
        },
        "outputId": "6a337577-0eab-4a7b-9b80-b2980421e779"
      },
      "source": [
        "astring = \"Hello world!\"\n",
        "print(astring[3:7])"
      ],
      "execution_count": null,
      "outputs": [
        {
          "output_type": "stream",
          "text": [
            "lo w\n"
          ],
          "name": "stdout"
        }
      ]
    },
    {
      "cell_type": "markdown",
      "metadata": {
        "id": "EHo45-BfN-wE"
      },
      "source": [
        "This prints a slice of the string, starting at index 3, and ending at index 6. But why 6 and not 7? Again, most programming languages do this - it makes doing math inside those brackets easier.\n",
        "\n",
        "If you just have one number in the brackets, it will give you the single character at that index. If you leave out the first number but keep the colon, it will give you a slice from the start to the number you left in. If you leave out the second number, it will give you a slice from the first number to the end.\n",
        "\n",
        "You can even put negative numbers inside the brackets. They are an easy way of starting at the end of the string instead of the beginning. This way, -3 means \"3rd character from the end\"."
      ]
    },
    {
      "cell_type": "code",
      "metadata": {
        "id": "f2fVOhDtOOVj"
      },
      "source": [
        "astring = \"Hello world!\"\n",
        "print(astring[3:7:2])"
      ],
      "execution_count": null,
      "outputs": []
    },
    {
      "cell_type": "markdown",
      "metadata": {
        "id": "9JPolHSEOSqH"
      },
      "source": [
        "This prints the characters of string from 3 to 7 skipping one character. This is extended slice syntax. The general form is [start:stop:step]."
      ]
    },
    {
      "cell_type": "code",
      "metadata": {
        "id": "1m8tU3n8OdSk"
      },
      "source": [
        "astring = \"Hello world!\"\n",
        "print(astring[3:7])\n",
        "print(astring[3:7:1])"
      ],
      "execution_count": null,
      "outputs": []
    },
    {
      "cell_type": "markdown",
      "metadata": {
        "id": "ZQp54I1kOneQ"
      },
      "source": [
        "Note that both of them produce same output\n",
        "\n",
        "There is no function like strrev in C to reverse a string. But with the above mentioned type of slice syntax you can easily reverse a string like this"
      ]
    },
    {
      "cell_type": "code",
      "metadata": {
        "id": "_4BaWsS0Osab",
        "colab": {
          "base_uri": "https://localhost:8080/",
          "height": 34
        },
        "outputId": "e0aacb32-f36f-4848-d408-8cd43f12897e"
      },
      "source": [
        "astring = \"Hello world!\"\n",
        "print(astring[::-1])"
      ],
      "execution_count": null,
      "outputs": [
        {
          "output_type": "stream",
          "text": [
            "!dlrow olleH\n"
          ],
          "name": "stdout"
        }
      ]
    },
    {
      "cell_type": "code",
      "metadata": {
        "id": "UXGsuQmhO1ND"
      },
      "source": [
        "astring = \"Hello world!\"\n",
        "print(astring.upper())\n",
        "print(astring.lower())"
      ],
      "execution_count": null,
      "outputs": []
    },
    {
      "cell_type": "markdown",
      "metadata": {
        "id": "0AFCFOpXO_Cr"
      },
      "source": [
        "hese make a new string with all letters converted to uppercase and lowercase, respectively."
      ]
    },
    {
      "cell_type": "code",
      "metadata": {
        "id": "yQGbPPncPA30"
      },
      "source": [
        "astring = \"Hello world!\"\n",
        "print(astring.startswith(\"Hello\"))\n",
        "print(astring.endswith(\"asdfasdfasdf\"))"
      ],
      "execution_count": null,
      "outputs": []
    },
    {
      "cell_type": "markdown",
      "metadata": {
        "id": "v5Rg7hGqPNMO"
      },
      "source": [
        "This is used to determine whether the string starts with something or ends with something, respectively. The first one will print True, as the string starts with \"Hello\". The second one will print False, as the string certainly does not end with \"asdfasdfasdf\""
      ]
    },
    {
      "cell_type": "code",
      "metadata": {
        "id": "bLLTo7DRPBIT"
      },
      "source": [
        "astring = \"Hello world!\"\n",
        "afewwords = astring.split(\" \")"
      ],
      "execution_count": null,
      "outputs": []
    },
    {
      "cell_type": "markdown",
      "metadata": {
        "id": "LTX2uBXKPZUx"
      },
      "source": [
        "This splits the string into a bunch of strings grouped together in a list. Since this example splits at a space, the first item in the list will be \"Hello\", and the second will be \"world!\"."
      ]
    },
    {
      "cell_type": "markdown",
      "metadata": {
        "id": "lTe0Qqi3CAeA"
      },
      "source": [
        "# 8- **Conditions**\n",
        "Python uses boolean variables to evaluate conditions. The boolean values True and False are returned when an expression is compared or evaluated. For example:"
      ]
    },
    {
      "cell_type": "code",
      "metadata": {
        "id": "Kq4Ho1l8Ksjt"
      },
      "source": [
        "x = 2\n",
        "print(x == 2) # prints out True\n",
        "print(x == 3) # prints out False\n",
        "print(x < 3) # prints out True\n"
      ],
      "execution_count": null,
      "outputs": []
    },
    {
      "cell_type": "markdown",
      "metadata": {
        "id": "t_FZLht0akQz"
      },
      "source": [
        "Notice that variable assignment is done using a single equals operator \"=\", whereas comparison between two variables is done using the double equals operator \"==\". The \"not equals\" operator is marked as \"!=\"."
      ]
    },
    {
      "cell_type": "markdown",
      "metadata": {
        "id": "-VwPfoQSS4Av"
      },
      "source": [
        "## 8.1 - Boolean operators\n",
        "The \"and\" and \"or\" boolean operators allow building complex boolean expressions, for example:"
      ]
    },
    {
      "cell_type": "code",
      "metadata": {
        "id": "5DYf8Quv_PxR"
      },
      "source": [
        "name = \"John\"\n",
        "age = 23\n",
        "if name == \"John\" and age == 23:\n",
        "    print(\"Your name is John, and you are also 23 years old.\")\n",
        "\n",
        "if name == \"John\" or name == \"Rick\":\n",
        "    print(\"Your name is either John or Rick.\")"
      ],
      "execution_count": null,
      "outputs": []
    },
    {
      "cell_type": "markdown",
      "metadata": {
        "id": "qrZx-6XeziR0"
      },
      "source": [
        "## 8.2 The \"in\" operator\n",
        "The \"in\" operator could be used to check if a specified object exists within an iterable object container, such as a list:"
      ]
    },
    {
      "cell_type": "code",
      "metadata": {
        "id": "_q87nKz4zxr1"
      },
      "source": [
        "name = \"John\"\n",
        "if name in [\"John\", \"Rick\"]:\n",
        "    print(\"Your name is either John or Rick.\")"
      ],
      "execution_count": null,
      "outputs": []
    },
    {
      "cell_type": "markdown",
      "metadata": {
        "id": "jnWR24dBHGty"
      },
      "source": [
        "Python uses indentation to define code blocks, instead of brackets. The standard Python indentation is 4 spaces, although tabs and any other space size will work, as long as it is consistent. Notice that code blocks do not need any termination.\n",
        "\n",
        "Here is an example for using Python's \"if\" statement using code blocks:"
      ]
    },
    {
      "cell_type": "code",
      "metadata": {
        "id": "YzkWkVZEbrpw"
      },
      "source": [
        "statement = False\n",
        "another_statement = True\n",
        "if statement is True:\n",
        "    # do something\n",
        "    pass\n",
        "elif another_statement is True: # else if\n",
        "    # do something else\n",
        "    pass\n",
        "else:\n",
        "    # do another thing\n",
        "    pass"
      ],
      "execution_count": null,
      "outputs": []
    },
    {
      "cell_type": "code",
      "metadata": {
        "id": "03BGhfi0b5Tx"
      },
      "source": [
        "x = 2\n",
        "if x == 2:\n",
        "    print(\"x equals two!\")\n",
        "else:\n",
        "    print(\"x does not equal to two.\")"
      ],
      "execution_count": null,
      "outputs": []
    },
    {
      "cell_type": "markdown",
      "metadata": {
        "id": "3BFbDJjCcACN"
      },
      "source": [
        "A statement is evaulated as true if one of the following is correct: 1. The \"True\" boolean variable is given, or calculated using an expression, such as an arithmetic comparison. 2. An object which is not considered \"empty\" is passed.\n",
        "\n",
        "Here are some examples for objects which are considered as empty: 1. An empty string: \"\" 2. An empty list: [] 3. The number zero: 0 4. The false boolean variable: False"
      ]
    },
    {
      "cell_type": "markdown",
      "metadata": {
        "id": "_Sq0XpVN0UZ7"
      },
      "source": [
        "## 8.3 The 'is' operator\n",
        "Unlike the double equals operator \"==\", the \"is\" operator does not match the values of the variables, but the instances themselves. For example:"
      ]
    },
    {
      "cell_type": "code",
      "metadata": {
        "id": "YQ2nyHRV0dnH",
        "colab": {
          "base_uri": "https://localhost:8080/",
          "height": 52
        },
        "outputId": "1c2b114f-7e56-4595-f427-abe0ac6540af"
      },
      "source": [
        "x = [1,2,3]\n",
        "y = [1,2,3]\n",
        "print(x == y) # Prints out True\n",
        "print(x is y) # Prints out False"
      ],
      "execution_count": null,
      "outputs": [
        {
          "output_type": "stream",
          "text": [
            "True\n",
            "False\n"
          ],
          "name": "stdout"
        }
      ]
    },
    {
      "cell_type": "markdown",
      "metadata": {
        "id": "tuCqDl8Ojb71"
      },
      "source": [
        "##8.4-**The \"not\" operator**\n",
        "Using \"not\" before a boolean expression inverts it:"
      ]
    },
    {
      "cell_type": "code",
      "metadata": {
        "id": "AEhV6wPLjxKW",
        "colab": {
          "base_uri": "https://localhost:8080/",
          "height": 52
        },
        "outputId": "719d1f6a-47cf-4fd3-f6f3-313507dd02b6"
      },
      "source": [
        "print(not False) # Prints out True\n",
        "print((not False) == (False)) # Prints out False"
      ],
      "execution_count": null,
      "outputs": [
        {
          "output_type": "stream",
          "text": [
            "True\n",
            "False\n"
          ],
          "name": "stdout"
        }
      ]
    },
    {
      "cell_type": "markdown",
      "metadata": {
        "id": "NSfAbkM9j9n0"
      },
      "source": [
        "#**9-Loops** \n",
        "There are two types of loops in Python, **For** and **While**."
      ]
    },
    {
      "cell_type": "markdown",
      "metadata": {
        "id": "CQw5qCkwkQtl"
      },
      "source": [
        "## **9.1- For Loops** \n",
        "For loops iterate over a given sequence. Here is an example [1]"
      ]
    },
    {
      "cell_type": "code",
      "metadata": {
        "id": "yXE0z8LTkh_n"
      },
      "source": [
        "primes = [2, 3, 5, 7]\n",
        "for prime in primes:\n",
        "    print(prime)"
      ],
      "execution_count": null,
      "outputs": []
    },
    {
      "cell_type": "markdown",
      "metadata": {
        "id": "Jk7_uCXBk2p8"
      },
      "source": [
        "For loops can iterate over a sequence of numbers using the \"range\" and \"xrange\" functions. The difference between range and xrange is that the range function returns a new list with numbers of that specified range, whereas xrange returns an iterator, which is more efficient. (Python 3 uses the range function, which acts like xrange). Note that the range function is zero based[1]"
      ]
    },
    {
      "cell_type": "code",
      "metadata": {
        "id": "75rKveONk5uR"
      },
      "source": [
        "# Prints out the numbers 0,1,2,3,4\n",
        "for x in range(5):\n",
        "    print(x)"
      ],
      "execution_count": null,
      "outputs": []
    },
    {
      "cell_type": "code",
      "metadata": {
        "id": "ZAVayvJGlJTf"
      },
      "source": [
        "# Prints out 3,4,5\n",
        "for x in range(3, 6):\n",
        "    print(x)"
      ],
      "execution_count": null,
      "outputs": []
    },
    {
      "cell_type": "code",
      "metadata": {
        "id": "ob6Xmq2olPbP"
      },
      "source": [
        "# Prints out 3,5,7\n",
        "for x in range(3, 8, 2):\n",
        "    print(x)"
      ],
      "execution_count": null,
      "outputs": []
    },
    {
      "cell_type": "markdown",
      "metadata": {
        "id": "z92vvofurd8i"
      },
      "source": [
        "## **9.5 \"while\" loops**\n",
        "While loops repeat as long as a certain boolean condition is met. For example:\n",
        "\n"
      ]
    },
    {
      "cell_type": "code",
      "metadata": {
        "id": "xWy8CNotruT-"
      },
      "source": [
        "# Prints out 0,1,2,3,4\n",
        "count = 0\n",
        "while count < 5:\n",
        "    print(count)\n",
        "    count += 1  # This is the same as count = count + 1"
      ],
      "execution_count": null,
      "outputs": []
    },
    {
      "cell_type": "markdown",
      "metadata": {
        "id": "Q1huBl7_s92A"
      },
      "source": [
        "##9.6 **break\" and \"continue\" statements**\n",
        "break is used to exit a for loop or a while loop, whereas continue is used to skip the current block, and return to the \"for\" or \"while\" statement. A few examples:"
      ]
    },
    {
      "cell_type": "code",
      "metadata": {
        "id": "loSiWLLftM6c"
      },
      "source": [
        "# Prints out 0,1,2,3,4\n",
        "count = 0\n",
        "while True:\n",
        "    print(count)\n",
        "    count += 1\n",
        "    if count >= 5:\n",
        "        break\n"
      ],
      "execution_count": null,
      "outputs": []
    },
    {
      "cell_type": "code",
      "metadata": {
        "id": "s0fLXLzetlUZ"
      },
      "source": [
        "# Prints out only odd numbers - 1,3,5,7,9\n",
        "for x in range(10):\n",
        "    # Check if x is even\n",
        "    if x % 2 == 0:\n",
        "        continue\n",
        "    print(x)"
      ],
      "execution_count": null,
      "outputs": []
    },
    {
      "cell_type": "markdown",
      "metadata": {
        "id": "yfQXiYbot7oP"
      },
      "source": [
        "##**9.6-Can we use \"else\" clause for loops?**\n",
        "unlike languages like C,CPP.. we can use else for loops. When the loop condition of \"for\" or \"while\" statement fails then code part in \"else\" is executed. If break statement is executed inside for loop then the \"else\" part is skipped. Note that \"else\" part is executed even if there is a continue statement."
      ]
    },
    {
      "cell_type": "code",
      "metadata": {
        "id": "9ja3raQ4uLVb"
      },
      "source": [
        "# Prints out 0,1,2,3,4 and then it prints \"count value reached 5\"\n",
        "\n",
        "count=0\n",
        "while(count<5):\n",
        "    print(count)\n",
        "    count +=1\n",
        "else:\n",
        "    print(\"count value reached %d\" %(count))\n",
        "\n",
        "# Prints out 1,2,3,4\n",
        "for i in range(1, 10):\n",
        "    if(i%5==0):\n",
        "        break\n",
        "    print(i)\n",
        "else:\n",
        "    print(\"this is not printed because for loop is terminated because of break but not due to fail in condition\")"
      ],
      "execution_count": null,
      "outputs": []
    },
    {
      "cell_type": "markdown",
      "metadata": {
        "id": "qLh5SRAmuwaM"
      },
      "source": [
        "#**10-Functions**\n",
        "\n",
        "**What are Functions?**\n",
        "\n",
        "Functions are a convenient way to divide your code into useful blocks, allowing us to order our code, make it more readable, reuse it and save some time. Also functions are a key way to define interfaces so programmers can share their code.\n",
        "\n",
        "**How do you write functions in Python?**\n",
        "\n",
        "As we have seen on previous tutorials, Python makes use of blocks.\n",
        "A block is a area of code of written in the format of:\n",
        "\n",
        "block_head:\n",
        "\n",
        "    1st block line\n",
        "    \n",
        "    2nd block line\n",
        "    ...\n",
        "\n",
        "\n",
        "Where a block line is more Python code (even another block), and the block head is of the following format: block_keyword block_name(argument1,argument2, ...) Block keywords you already know are \"if\", \"for\", and \"while\".\n",
        "\n",
        "Functions in python are defined using the block keyword \"def\", followed with the function's name as the block's name. For example:\n"
      ]
    },
    {
      "cell_type": "code",
      "metadata": {
        "id": "nQdEeASZvWVb"
      },
      "source": [
        "def my_function():\n",
        "    print(\"Hello From My Function!\")"
      ],
      "execution_count": null,
      "outputs": []
    },
    {
      "cell_type": "code",
      "metadata": {
        "id": "HBlxgMQHvFKh"
      },
      "source": [
        "def my_function_with_args(username, greeting):\n",
        "    print(\"Hello, %s , From My Function!, I wish you %s\"%(username, greeting))"
      ],
      "execution_count": null,
      "outputs": []
    },
    {
      "cell_type": "code",
      "metadata": {
        "id": "wTPbY8DpwMue"
      },
      "source": [
        "def sum_two_numbers(a, b):\n",
        "    return a + b"
      ],
      "execution_count": null,
      "outputs": []
    },
    {
      "cell_type": "markdown",
      "metadata": {
        "id": "3lJNUdzqwP7Y"
      },
      "source": [
        "##**10.1 call function**\n",
        "Simply write the function's name followed by (), placing any required arguments within the brackets. For example, lets call the functions written above (in the previous example): "
      ]
    },
    {
      "cell_type": "code",
      "metadata": {
        "id": "8QG7iGacw63l"
      },
      "source": [
        "# Define our 3 functions\n",
        "def my_function():\n",
        "    print(\"Hello From My Function!\")"
      ],
      "execution_count": null,
      "outputs": []
    },
    {
      "cell_type": "code",
      "metadata": {
        "id": "HhO7omhEw8yM"
      },
      "source": [
        "# print(a simple greeting)\n",
        "my_function()"
      ],
      "execution_count": null,
      "outputs": []
    },
    {
      "cell_type": "code",
      "metadata": {
        "id": "6mC_J_kDxG30"
      },
      "source": [
        "def my_function_with_args(username, greeting):\n",
        "    print(\"Hello, %s , From My Function!, I wish you %s\"%(username, greeting))"
      ],
      "execution_count": null,
      "outputs": []
    },
    {
      "cell_type": "code",
      "metadata": {
        "id": "oGuPF5M9xI8q"
      },
      "source": [
        "my_function_with_args(\"John Doe\", \"a great year!\")\n"
      ],
      "execution_count": null,
      "outputs": []
    },
    {
      "cell_type": "code",
      "metadata": {
        "id": "6Q2mEHjRxQ7Z"
      },
      "source": [
        "def sum_two_numbers(a, b):\n",
        "    return a + b"
      ],
      "execution_count": null,
      "outputs": []
    },
    {
      "cell_type": "markdown",
      "metadata": {
        "id": "YmZFiymirTKT"
      },
      "source": [
        "#**11-Classes and Objects**\n",
        "\n",
        "Objects are an encapsulation of variables and functions into a single entity. Objects get their variables and functions from classes. Classes are essentially a template to create your objects."
      ]
    },
    {
      "cell_type": "code",
      "metadata": {
        "id": "KkBbwaGDrun3"
      },
      "source": [
        "class MyClass:\n",
        "    variable = \"blah\"\n",
        "\n",
        "    def function(self):\n",
        "        print(\"This is a message inside the class.\")"
      ],
      "execution_count": null,
      "outputs": []
    },
    {
      "cell_type": "markdown",
      "metadata": {
        "id": "6kzj9a3bvJLW"
      },
      "source": [
        "We'll explain why you have to include that \"self\" as a parameter a little bit later. First, to assign the above class(template) to an object you would do the following:"
      ]
    },
    {
      "cell_type": "code",
      "metadata": {
        "id": "AjOtlu4TvPJO"
      },
      "source": [
        "class MyClass:\n",
        "    variable = \"blah\"\n",
        "\n",
        "    def function(self):\n",
        "        print(\"This is a message inside the class.\")\n",
        "\n",
        "myobjectx = MyClass()"
      ],
      "execution_count": null,
      "outputs": []
    },
    {
      "cell_type": "markdown",
      "metadata": {
        "id": "PkxO_bh8vZV6"
      },
      "source": [
        "Now the variable \"myobjectx\" holds an object of the class \"MyClass\" that contains the variable and the function defined within the class called \"MyClass\""
      ]
    },
    {
      "cell_type": "markdown",
      "metadata": {
        "id": "Gzb6ddHVvjJ5"
      },
      "source": [
        "## **11.1 Accessing Object Variables**\n",
        "To access the variable inside of the newly created object \"myobjectx\" you would do the following:"
      ]
    },
    {
      "cell_type": "code",
      "metadata": {
        "id": "5zORsV5Uvx_P"
      },
      "source": [
        "class MyClass:\n",
        "    variable = \"blah\"\n",
        "\n",
        "    def function(self):\n",
        "        print(\"This is a message inside the class.\")\n",
        "\n",
        "myobjectx = MyClass()\n",
        "\n",
        "myobjectx.variable"
      ],
      "execution_count": null,
      "outputs": []
    },
    {
      "cell_type": "markdown",
      "metadata": {
        "id": "yi3yquRxwHGn"
      },
      "source": [
        "So for instance the below would output the string \"blah\":\n"
      ]
    },
    {
      "cell_type": "code",
      "metadata": {
        "id": "V_t2WQwKwMUg"
      },
      "source": [
        "class MyClass:\n",
        "    variable = \"blah\"\n",
        "\n",
        "    def function(self):\n",
        "        print(\"This is a message inside the class.\")\n",
        "\n",
        "myobjectx = MyClass()\n",
        "\n",
        "print(myobjectx.variable)"
      ],
      "execution_count": null,
      "outputs": []
    },
    {
      "cell_type": "markdown",
      "metadata": {
        "id": "QUfyG--HwlkT"
      },
      "source": [
        "You can create multiple different objects that are of the same class(have the same variables and functions defined). However, each object contains independent copies of the variables defined in the class. For instance, if we were to define another object with the \"MyClass\" class and then change the string in the variable above:"
      ]
    },
    {
      "cell_type": "code",
      "metadata": {
        "id": "3RSVIyuSwhJk"
      },
      "source": [
        "class MyClass:\n",
        "    variable = \"blah\"\n",
        "\n",
        "    def function(self):\n",
        "        print(\"This is a message inside the class.\")\n",
        "\n",
        "myobjectx = MyClass()\n",
        "myobjecty = MyClass()\n",
        "\n",
        "myobjecty.variable = \"yackity\"\n",
        "\n",
        "# Then print out both values\n",
        "print(myobjectx.variable)\n",
        "print(myobjecty.variable)"
      ],
      "execution_count": null,
      "outputs": []
    },
    {
      "cell_type": "markdown",
      "metadata": {
        "id": "JTtkWqyL5aF0"
      },
      "source": [
        "##**11.2 Accessing Object Functions**\n",
        "To access a function inside of an object you use notation similar to accessing a variable:"
      ]
    },
    {
      "cell_type": "code",
      "metadata": {
        "id": "nb4Gcnjo5rmf"
      },
      "source": [
        "class MyClass:\n",
        "    variable = \"blah\"\n",
        "\n",
        "    def function(self):\n",
        "        print(\"This is a message inside the class.\")\n",
        "\n",
        "myobjectx = MyClass()\n",
        "\n",
        "myobjectx.function()"
      ],
      "execution_count": null,
      "outputs": []
    },
    {
      "cell_type": "markdown",
      "metadata": {
        "id": "tYMmgDot6HFU"
      },
      "source": [
        "We have a class defined for vehicles. Create two new vehicles called car1 and car2. Set car1 to be a red convertible worth $60,000.00 with a name of Fer, and car2 to be a blue van named Jump worth $10,000.00."
      ]
    },
    {
      "cell_type": "code",
      "metadata": {
        "id": "Wnf9WbrF6GN5"
      },
      "source": [
        "# define the Vehicle class\n",
        "class Vehicle:\n",
        "    name = \"\"\n",
        "    kind = \"car\"\n",
        "    color = \"\"\n",
        "    value = 100.00\n",
        "    def description(self):\n",
        "        desc_str = \"%s is a %s %s worth $%.2f.\" % (self.name, self.color, self.kind, self.value)\n",
        "        return desc_str\n",
        "\n",
        "# your code goes here\n",
        "car1 = Vehicle()\n",
        "car1.name = \"Fer\"\n",
        "car1.color = \"red\"\n",
        "car1.kind = \"convertible\"\n",
        "car1.value = 60000.00\n",
        "\n",
        "car2 = Vehicle()\n",
        "car2.name = \"Jump\"\n",
        "car2.color = \"blue\"\n",
        "car2.kind = \"van\"\n",
        "car2.value = 10000.00\n",
        "\n",
        "# test code\n",
        "print(car1.description())\n",
        "print(car2.description())"
      ],
      "execution_count": null,
      "outputs": []
    },
    {
      "cell_type": "markdown",
      "metadata": {
        "id": "Z-IEG6026_gb"
      },
      "source": [
        "# **12 Dictionaries**\n",
        "\n",
        "A dictionary is a data type similar to arrays, but works with keys and values instead of indexes. Each value stored in a dictionary can be accessed using a key, which is any type of object (a string, a number, a list, etc.) instead of using its index to address it.\n",
        "\n",
        "For example, a database of phone numbers could be stored using a dictionary like this:\n",
        "\n"
      ]
    },
    {
      "cell_type": "code",
      "metadata": {
        "id": "ZZqBvB3iAIhK"
      },
      "source": [
        "phonebook = {}\n",
        "phonebook[\"John\"] = 938477566\n",
        "phonebook[\"Jack\"] = 938377264\n",
        "phonebook[\"Jill\"] = 947662781\n",
        "print(phonebook)"
      ],
      "execution_count": null,
      "outputs": []
    },
    {
      "cell_type": "markdown",
      "metadata": {
        "id": "ufZ79qtTAZns"
      },
      "source": [
        "Alternatively, a dictionary can be initialized with the same values in the following notation:"
      ]
    },
    {
      "cell_type": "code",
      "metadata": {
        "id": "Me86b5AhAbTM",
        "colab": {
          "base_uri": "https://localhost:8080/",
          "height": 34
        },
        "outputId": "8226e559-a626-4206-b53f-4d13421d2586"
      },
      "source": [
        "phonebook = {\n",
        "    \"John\" : 938477566,\n",
        "    \"Jack\" : 938377264,\n",
        "    \"Jill\" : 947662781\n",
        "}\n",
        "print(phonebook)"
      ],
      "execution_count": null,
      "outputs": [
        {
          "output_type": "stream",
          "text": [
            "{'John': 938477566, 'Jack': 938377264, 'Jill': 947662781}\n"
          ],
          "name": "stdout"
        }
      ]
    },
    {
      "cell_type": "markdown",
      "metadata": {
        "id": "rXs4sAo4AtM_"
      },
      "source": [
        "## **12.1 Iterating over dictionaries**\n",
        "\n",
        "Dictionaries can be iterated over, just like a list. However, a dictionary, unlike a list, does not keep the order of the values stored in it. To iterate over key value pairs, use the following syntax:"
      ]
    },
    {
      "cell_type": "code",
      "metadata": {
        "id": "M1bfQ1xWT4yo"
      },
      "source": [
        "phonebook = {\"John\" : 938477566,\"Jack\" : 938377264,\"Jill\" : 947662781}\n",
        "for name, number in phonebook.items():\n",
        "    print(\"Phone number of %s is %d\" % (name, number))"
      ],
      "execution_count": null,
      "outputs": []
    },
    {
      "cell_type": "markdown",
      "metadata": {
        "id": "ojkYULYyUGlx"
      },
      "source": [
        "## **12.2- Removing a value**\n",
        " To remove a specified index, use either one of the following notations:"
      ]
    },
    {
      "cell_type": "code",
      "metadata": {
        "id": "aeMkNjqYUWFi"
      },
      "source": [
        "phonebook = {\n",
        "   \"John\" : 938477566,\n",
        "   \"Jack\" : 938377264,\n",
        "   \"Jill\" : 947662781\n",
        "}\n",
        "del phonebook[\"John\"]\n",
        "print(phonebook)"
      ],
      "execution_count": null,
      "outputs": []
    },
    {
      "cell_type": "markdown",
      "metadata": {
        "id": "59NHXDwkUfEY"
      },
      "source": [
        "##**12.3 Exercise**\n",
        "Add \"Jake\" to the phonebook with the phone number 938273443, and remove Jill from the phonebook.\n"
      ]
    },
    {
      "cell_type": "code",
      "metadata": {
        "id": "GmEIe3-JUrr4",
        "colab": {
          "base_uri": "https://localhost:8080/",
          "height": 51
        },
        "outputId": "04bb18f4-1187-40e5-c1d5-f2a1cff55017"
      },
      "source": [
        "phonebook = {\n",
        "    \"John\" : 938477566,\n",
        "    \"Jack\" : 938377264,\n",
        "    \"Jill\" : 947662781\n",
        "}\n",
        "\n",
        "# write your code here\n",
        "phonebook[\"Jake\"] = 938273443\n",
        "del phonebook[\"Jill\"]\n",
        "\n",
        "# testing code\n",
        "if \"Jake\" in phonebook:\n",
        "    print(\"Jake is listed in the phonebook.\")\n",
        "if \"Jill\" not in phonebook:\n",
        "    print(\"Jill is not listed in the phonebook.\")"
      ],
      "execution_count": null,
      "outputs": [
        {
          "output_type": "stream",
          "text": [
            "Jake is listed in the phonebook.\n",
            "Jill is not listed in the phonebook.\n"
          ],
          "name": "stdout"
        }
      ]
    },
    {
      "cell_type": "markdown",
      "metadata": {
        "id": "GAUb2kydVPgm"
      },
      "source": [
        "#**13-Modules and Packages**\n",
        "\n",
        "In programming, a module is a piece of software that has a specific functionality. For example, when building a ping pong game, one module would be responsible for the game logic, and\n",
        "another module would be responsible for drawing the game on the screen. Each module is a different file, which can be edited separately."
      ]
    },
    {
      "cell_type": "markdown",
      "metadata": {
        "id": "d_idURy4UaYb"
      },
      "source": [
        "## **13.1 Writing modules**\n",
        "Modules in Python are simply Python files with a .py extension. The name of the module will be the name of the file. A Python module can have a set of functions, classes or variables defined and implemented. In the example above, we will have two files, we will have:\n"
      ]
    },
    {
      "cell_type": "code",
      "metadata": {
        "id": "PRX0lF6qUont"
      },
      "source": [
        "mygame/\n",
        "mygame/game.py\n",
        "mygame/draw.py"
      ],
      "execution_count": null,
      "outputs": []
    },
    {
      "cell_type": "markdown",
      "metadata": {
        "id": "EaFsO-GlUxb9"
      },
      "source": [
        "The Python script game.py will implement the game. It will use the function draw_game from the file draw.py, or in other words, thedraw module, that implements the logic for drawing the game on the screen.\n",
        "\n",
        "Modules are imported from other modules using the import command. In this example, the game.py script may look something like this:"
      ]
    },
    {
      "cell_type": "code",
      "metadata": {
        "id": "9vK1VQu1U-CH"
      },
      "source": [
        "# game.py\n",
        "# import the draw module\n",
        "import draw\n",
        "\n",
        "def play_game():\n",
        "    ...\n",
        "\n",
        "def main():\n",
        "    result = play_game()\n",
        "    draw.draw_game(result)\n",
        "\n",
        "# this means that if this script is executed, then \n",
        "# main() will be executed\n",
        "if __name__ == '__main__':\n",
        "    main()"
      ],
      "execution_count": null,
      "outputs": []
    },
    {
      "cell_type": "markdown",
      "metadata": {
        "id": "-nJ2oA-BVE2S"
      },
      "source": [
        "The draw module may look something like this:"
      ]
    },
    {
      "cell_type": "code",
      "metadata": {
        "id": "p9ovRIBbVItG"
      },
      "source": [
        "# draw.py\n",
        "\n",
        "def draw_game():\n",
        "    ...\n",
        "\n",
        "def clear_screen(screen):"
      ],
      "execution_count": null,
      "outputs": []
    },
    {
      "cell_type": "markdown",
      "metadata": {
        "id": "Lhd1HbEPjxPo"
      },
      "source": [
        "n this example, the game module imports the draw module, which enables it to use functions implemented in that module. The main function would use the local function play_game to run the game, and then draw the result of the game using a function implemented in the draw module called draw_game. To use the function draw_game from the draw module, we would need to specify in which module the function is implemented, using the dot operator. To reference the draw_game function from the game module, we would need to import the draw module and only then call draw.draw_game().\n",
        "\n",
        "When the import draw directive will run, the Python interpreter will look for a file in the directory which the script was executed from, by the name of the module with a .py prefix, so in our case it will try to look for draw.py. If it will find one, it will import it. If not, he will continue to look for built-in modules.\n",
        "\n",
        "You may have noticed that when importing a module, a .pyc file appears, which is a compiled Python file. Python compiles files into Python bytecode so that it won't have to parse the files each time modules are loaded. If a .pyc file exists, it gets loaded instead of the .py file, but this process is transparent to the user."
      ]
    },
    {
      "cell_type": "markdown",
      "metadata": {
        "id": "YXHl89mHkKoi"
      },
      "source": [
        "## **13.2 Importing module objects to the current namespace**\n",
        "\n",
        "We may also import the function draw_game directly into the main script's namespace, by using the from command."
      ]
    },
    {
      "cell_type": "code",
      "metadata": {
        "id": "x6DbDFaIkdLT"
      },
      "source": [
        "# game.py\n",
        "# import the draw module\n",
        "from draw import draw_game\n",
        "\n",
        "def main():\n",
        "    result = play_game()\n",
        "    draw_game(result)"
      ],
      "execution_count": null,
      "outputs": []
    },
    {
      "cell_type": "markdown",
      "metadata": {
        "id": "DATAVdlrkiec"
      },
      "source": [
        "You may have noticed that in this example, draw_game does not precede with the name of the module it is imported from, because we've specified the module name in the import command.\n",
        "\n",
        "The advantages of using this notation is that it is easier to use the functions inside the current module because you don't need to specify which module the function comes from. However, any namespace cannot have two objects with the exact same name, so the import command may replace an existing object in the namespace."
      ]
    },
    {
      "cell_type": "markdown",
      "metadata": {
        "id": "m6gF7cGmW1cG"
      },
      "source": [
        "## **13.3-Importing all objects from a module**\n",
        "We may also use the import * command to import all objects from a specific module, like this:"
      ]
    },
    {
      "cell_type": "code",
      "metadata": {
        "id": "UbUeXFHeXHap"
      },
      "source": [
        "# game.py\n",
        "# import the draw module\n",
        "from draw import *\n",
        "\n",
        "def main():\n",
        "    result = play_game()\n",
        "    draw_game(result)"
      ],
      "execution_count": null,
      "outputs": []
    },
    {
      "cell_type": "markdown",
      "metadata": {
        "id": "sa1UxnJBXREh"
      },
      "source": [
        "## **13.4 Custom import name**\n",
        "\n",
        "We may also load modules under any name we want. This is useful when we want to import a module conditionally to use the same name in the rest of the code.\n",
        "\n",
        "For example, if you have two draw modules with slighty different names - you may do the following:"
      ]
    },
    {
      "cell_type": "code",
      "metadata": {
        "id": "m2FGe5uMXgjc"
      },
      "source": [
        "# game.py\n",
        "# import the draw module\n",
        "if visual_mode:\n",
        "    # in visual mode, we draw using graphics\n",
        "    import draw_visual as draw\n",
        "else:\n",
        "    # in textual mode, we print out text\n",
        "    import draw_textual as draw\n",
        "\n",
        "def main():\n",
        "    result = play_game()\n",
        "    # this can either be visual or textual depending on visual_mode\n",
        "    draw.draw_game(result)"
      ],
      "execution_count": null,
      "outputs": []
    },
    {
      "cell_type": "markdown",
      "metadata": {
        "id": "HDGVVOORYBCb"
      },
      "source": [
        "## **13.5 Module initialization**\n",
        "The first time a module is loaded into a running Python script, it is initialized by executing the code in the module once. If another module in your code imports the same module again, it will not be loaded twice but once only - so local variables inside the module act as a \"singleton\" - they are initialized only once.\n",
        "\n",
        "This is useful to know, because this means that you can rely on this behavior for initializing objects. For example:\n"
      ]
    },
    {
      "cell_type": "code",
      "metadata": {
        "id": "kGu4K-ieYQTu"
      },
      "source": [
        "# draw.py\n",
        "\n",
        "def draw_game():\n",
        "    # when clearing the screen we can use the main screen object initialized in this module\n",
        "    clear_screen(main_screen)\n",
        "    ...\n",
        "\n",
        "def clear_screen(screen):\n",
        "    ...\n",
        "\n",
        "class Screen():\n",
        "    ...\n",
        "\n",
        "# initialize main_screen as a singleton\n",
        "main_screen = Screen()"
      ],
      "execution_count": null,
      "outputs": []
    },
    {
      "cell_type": "markdown",
      "metadata": {
        "id": "AtJRdeaLkRiP"
      },
      "source": [
        "## **13.6 Extending module load path**\n",
        "\n",
        "There are a couple of ways we could tell the Python interpreter where to look for modules, aside from the default, which is the local directory and the built-in modules. You could either use the environment variable PYTHONPATH to specify additional directories to look for modules in, like this:\n",
        "\n"
      ]
    },
    {
      "cell_type": "code",
      "metadata": {
        "id": "V6SEZUHxkutg"
      },
      "source": [
        "PYTHONPATH=/foo python game.py"
      ],
      "execution_count": null,
      "outputs": []
    },
    {
      "cell_type": "markdown",
      "metadata": {
        "id": "SMpgZH_-k2e2"
      },
      "source": [
        "This will execute game.py, and will enable the script to load modules from the foo directory as well as the local directory.\n",
        "\n",
        "Another method is the sys.path.append function. You may execute it before running an import command:"
      ]
    },
    {
      "cell_type": "code",
      "metadata": {
        "id": "FvfE-R31k4YI"
      },
      "source": [
        "sys.path.append(\"/foo\")"
      ],
      "execution_count": null,
      "outputs": []
    },
    {
      "cell_type": "markdown",
      "metadata": {
        "id": "StuL1zFck_Qb"
      },
      "source": [
        "This will add the foo directory to the list of paths to look for modules in as well."
      ]
    },
    {
      "cell_type": "markdown",
      "metadata": {
        "id": "YJ74hlErlCGq"
      },
      "source": [
        "## **13.6 -Exploring built-in modules**\n",
        "\n",
        "Check out the full list of built-in modules in the Python standard library here.\n",
        "\n",
        "Two very important functions come in handy when exploring modules in Python - the dir and help functions.\n",
        "\n",
        "If we want to import the module urllib, which enables us to create read data from URLs, we simply import the module:"
      ]
    },
    {
      "cell_type": "code",
      "metadata": {
        "id": "lA8yqbFMlZ6a"
      },
      "source": [
        "# import the library\n",
        "import urllib\n",
        "\n",
        "# use it\n",
        "urllib.urlopen(...)"
      ],
      "execution_count": null,
      "outputs": []
    },
    {
      "cell_type": "markdown",
      "metadata": {
        "id": "HxyWYSYZlsjA"
      },
      "source": [
        "When we find the function in the module we want to use, we can read about it more using the help function, inside the Python interpreter:\n",
        "\n"
      ]
    },
    {
      "cell_type": "code",
      "metadata": {
        "id": "FQ9Kp7felu-K"
      },
      "source": [
        "help(urllib.urlopen)"
      ],
      "execution_count": null,
      "outputs": []
    },
    {
      "cell_type": "markdown",
      "metadata": {
        "id": "1UQzdbvXl2IW"
      },
      "source": [
        "## **13.7 Writing packages**\n",
        "\n",
        "Packages are namespaces which contain multiple packages and modules themselves. They are simply directories, but with a twist.\n",
        "\n",
        "Each package in Python is a directory which MUST contain a special file called __init__.py. This file can be empty, and it indicates that the directory it contains is a Python package, so it can be imported the same way a module can be imported.\n",
        "\n",
        "If we create a directory called foo, which marks the package name, we can then create a module inside that package called bar. We also must not forget to add the __init__.py file inside the foo directory.\n",
        "\n",
        "To use the module bar, we can import it in two ways"
      ]
    },
    {
      "cell_type": "markdown",
      "metadata": {
        "id": "dZ64WXxQlASh"
      },
      "source": [
        "#**Python Digital Cheat Sheet**\n",
        "\n",
        "![](https://drive.google.com/uc?export=view&id=1hbFJmUmMDLpnd4k3ASp9LqvTdflrdo1N)"
      ]
    },
    {
      "cell_type": "code",
      "metadata": {
        "id": "NtVOa_rSpES8"
      },
      "source": [
        "import foo.bar"
      ],
      "execution_count": null,
      "outputs": []
    },
    {
      "cell_type": "code",
      "metadata": {
        "id": "SelJWP2BpJa_"
      },
      "source": [
        "from foo import bar"
      ],
      "execution_count": null,
      "outputs": []
    },
    {
      "cell_type": "markdown",
      "metadata": {
        "id": "gVUbb39upXpO"
      },
      "source": [
        "In the first method, we must use the foo prefix whenever we access the module bar. In the second method, we don't, because we import the module to our module's namespace.\n",
        "\n",
        "The __init__.py file can also decide which modules the package exports as the API, while keeping other modules internal, by overriding the __all__ variable, like so:"
      ]
    },
    {
      "cell_type": "code",
      "metadata": {
        "id": "2afYS7AWpeC0"
      },
      "source": [
        "__init__.py:\n",
        "\n",
        "__all__ = [\"bar\"]"
      ],
      "execution_count": null,
      "outputs": []
    },
    {
      "cell_type": "markdown",
      "metadata": {
        "id": "40DsFInRUFZi"
      },
      "source": [
        "##**12-NumPy For Machine Learning**\n",
        "**Reference [3]**"
      ]
    },
    {
      "cell_type": "markdown",
      "metadata": {
        "id": "tx1uai5m-wf7"
      },
      "source": [
        "![](https://drive.google.com/uc?export=view&id=16akPUGgRlr-P3EJ_ienONdw-HiacwaLj)"
      ]
    },
    {
      "cell_type": "markdown",
      "metadata": {
        "id": "cPsBvwjkXc_o"
      },
      "source": [
        "####**12.1-Introduction to NumPy**\n",
        "\n",
        "NumPy stands for ‘Numerical Python’. It is an open-source Python library used to perform various mathematical and scientific tasks.NumPy is one of the very first libraries in Python that makes your numerical computations easy and efficient. This course will get you acquainted (familiarize) with NumPy. It contains multi-dimensional arrays and matrices, along with many high-level mathematical functions that operate on these arrays and matrices."
      ]
    },
    {
      "cell_type": "markdown",
      "metadata": {
        "id": "Sxwz5ifNYp8y"
      },
      "source": [
        "####**12.2- Installing NumPy**\n",
        "\n",
        "you can install NumPy with:"
      ]
    },
    {
      "cell_type": "code",
      "metadata": {
        "id": "0DZTvR_cY591"
      },
      "source": [
        "conda install numpy"
      ],
      "execution_count": null,
      "outputs": []
    },
    {
      "cell_type": "markdown",
      "metadata": {
        "id": "7i7ub8IMZcMA"
      },
      "source": [
        "**or**"
      ]
    },
    {
      "cell_type": "code",
      "metadata": {
        "id": "our9gtAhZd5l"
      },
      "source": [
        "pip install numpy"
      ],
      "execution_count": null,
      "outputs": []
    },
    {
      "cell_type": "markdown",
      "metadata": {
        "id": "uxg91R6nZ6i2"
      },
      "source": [
        "####**12.3-How to import NumPy?**\n",
        "\n",
        "After installing NumPy, you can now use this library by importing it. To import NumPy use:"
      ]
    },
    {
      "cell_type": "code",
      "metadata": {
        "id": "ul057H-0aOzH"
      },
      "source": [
        "import numpy as np\n"
      ],
      "execution_count": null,
      "outputs": []
    },
    {
      "cell_type": "markdown",
      "metadata": {
        "id": "AhMj8q6mcL2y"
      },
      "source": [
        "####**12.4-What is an array**\n",
        "\n",
        "An array is a data structure consisting of a collection of elements (values or variables), each identified by at least one array index or key.\n"
      ]
    },
    {
      "cell_type": "markdown",
      "metadata": {
        "id": "xv6zRflIDRrY"
      },
      "source": [
        "![](https://drive.google.com/uc?export=view&id=1KidYQvwakSB5DsDSpMTWtqojlUZVRyhr)"
      ]
    },
    {
      "cell_type": "markdown",
      "metadata": {
        "id": "Ap3dChbLG2FY"
      },
      "source": [
        "An array is known as the central data structure of the NumPy library. Array in NumPy is called as NumPy Array.\n"
      ]
    },
    {
      "cell_type": "markdown",
      "metadata": {
        "id": "Mr9TpXkHGgeH"
      },
      "source": [
        "![](https://drive.google.com/uc?export=view&id=1yvRXtvrSxdElgAbt0D54qC4h_z6LEu2p)"
      ]
    },
    {
      "cell_type": "markdown",
      "metadata": {
        "id": "UGiMuNLOG92I"
      },
      "source": [
        "####**12.5- What is the difference between Python List and a Numpy Array?**\n",
        "\n",
        "- Python list can contain elements with different data types whereas Numpy Array‘s elements are always homogeneous(same data types).\n",
        "\n",
        "- NumPy arrays are faster and more compact than Python lists.\n",
        "\n",
        "**Why NumPy Arrays are faster than Lists?**\n",
        "\n",
        "- NumPy Array uses fixed memory to store data and less memory than Python lists.\n",
        "\n",
        "- Contiguous memory allocation in NumPy Arrays."
      ]
    },
    {
      "cell_type": "markdown",
      "metadata": {
        "id": "dZ7AuyE2Hbww"
      },
      "source": [
        "####**12.6-Creating Arrays**\n",
        "\n",
        "NumPy Arrays of different dimensions can be created by using ndarray(n-dimensional array). It is an array class in NumPy.The basic ndarray can be created using the numpy.array() function in NumPy.\n",
        "\n",
        "numpy.array(object, dtype = None, copy = True, order = None, subok = False, ndmin = 0)"
      ]
    },
    {
      "cell_type": "markdown",
      "metadata": {
        "id": "djTo8ZGYH1gs"
      },
      "source": [
        "**(a)1-Dimensional Array**"
      ]
    },
    {
      "cell_type": "code",
      "metadata": {
        "id": "9DXzGQDkH5Jp"
      },
      "source": [
        "import numpy as np\n",
        "#creating 1-dimensional arrays\n",
        "#creating python list\n",
        "list_1 = [3,2,7]\n",
        "arr_1 = np.array(list_1,dtype=np.int16)\n",
        "print(arr_1)\n",
        "#or \n",
        "arr_1=np.array([3,2,7])\n",
        "print(arr_1)\n",
        "output:\n",
        "[3 2 7]\n",
        "#creating array of complex number\n",
        "arr_complex = np.array([1, 2, 3], dtype = complex)\n",
        "print(arr_complex)\n",
        "output:\n",
        "[1.+0.j 2.+0.j 3.+0.j]"
      ],
      "execution_count": null,
      "outputs": []
    },
    {
      "cell_type": "markdown",
      "metadata": {
        "id": "Wn9pJZw0H-VR"
      },
      "source": [
        "**(b)-Multi-Dimensional array**"
      ]
    },
    {
      "cell_type": "code",
      "metadata": {
        "id": "l5TMmEUMIJju"
      },
      "source": [
        "#creating two-dimensionsal array\n",
        "list_m = [[1, 2, 3], [4, 5, 6], [7, 8, 9]] #nested lists\n",
        "arr_m = np.array(list_m,dtype=np.int16)\n",
        "print(arr_m)\n",
        "output:\n",
        "[[1 2 3]\n",
        " [4 5 6]\n",
        " [7 8 9]]"
      ],
      "execution_count": null,
      "outputs": []
    },
    {
      "cell_type": "markdown",
      "metadata": {
        "id": "35ElippmJwqS"
      },
      "source": [
        "![](https://drive.google.com/uc?export=view&id=1XJ4_ttos8xhxT0QI-F35h8F1qB5QZQFd)"
      ]
    },
    {
      "cell_type": "markdown",
      "metadata": {
        "id": "LkvfdqK4J6P6"
      },
      "source": [
        "**you can create arrays with different Data Types (dtypes):**\n",
        "\n",
        "- Char : np.byte\n",
        "\n",
        "- Short : np.short\n",
        "\n",
        "- Integer : np.short\n",
        "\n",
        "- Long : np.int_\n",
        "\n",
        "- Float : np.single&np.float32\n",
        "\n",
        "- Double :np.double&np.float64\n",
        "\n",
        "- np.int8: integer (-128 to 127)\n",
        "\n",
        "- np.int16:integer( -32768 to 32767)\n",
        "\n",
        "- np.int32: integer(-2147483648 to 2147483647)\n",
        "\n",
        "- np.int64 :integer( -9223372036854775808 to \n",
        "9223372036854775807)"
      ]
    },
    {
      "cell_type": "markdown",
      "metadata": {
        "id": "TXqMMmfuKhcw"
      },
      "source": [
        "####**12.7-Array in NumPy also provides many functions to create different types of arrays.**"
      ]
    },
    {
      "cell_type": "markdown",
      "metadata": {
        "id": "WzGQelFNKwPk"
      },
      "source": [
        "**(i)-An Array having all elements 0**"
      ]
    },
    {
      "cell_type": "code",
      "metadata": {
        "id": "2kBASzaRK6wx"
      },
      "source": [
        "#Creating an array of all zeros\n",
        "arr_0 = np.zeros((2,2))  \n",
        "print(arr_0)\n",
        "output:\n",
        "[[0. 0.]\n",
        " [0. 0.]]"
      ],
      "execution_count": null,
      "outputs": []
    },
    {
      "cell_type": "markdown",
      "metadata": {
        "id": "-cJz4i4ULXxv"
      },
      "source": [
        "**(ii)-An Array having all elements 1**"
      ]
    },
    {
      "cell_type": "code",
      "metadata": {
        "id": "Y4yrg-CkLmSp"
      },
      "source": [
        "# Creating an array of all ones\n",
        "arr_1= np.ones((1,2))    \n",
        "print(arr_1)\n",
        "output:\n",
        "[[1. 1.]]"
      ],
      "execution_count": null,
      "outputs": []
    },
    {
      "cell_type": "markdown",
      "metadata": {
        "id": "aTWk0_MeLnm0"
      },
      "source": [
        "**(iii)-An array with a constant**"
      ]
    },
    {
      "cell_type": "code",
      "metadata": {
        "id": "N-XsX8-7Lu9k"
      },
      "source": [
        "# Creating a constant array\n",
        "arr_c = np.full((2,2), 7) \n",
        "print(arr_c)\n",
        "output:\n",
        "[[7 7]\n",
        " [7 7]]"
      ],
      "execution_count": null,
      "outputs": []
    },
    {
      "cell_type": "markdown",
      "metadata": {
        "id": "fmv6ijRWLxm8"
      },
      "source": [
        "**(iv)-Creating an array with start value, end value and number of values**"
      ]
    },
    {
      "cell_type": "code",
      "metadata": {
        "id": "Jj6O1enfL34a"
      },
      "source": [
        "arr_L = np.linspace(0, 5,7)\n",
        "print(arr_L)\n",
        "output:\n",
        "[0.         0.83333333 1.66666667 2.5        3.33333333 4.16666667\n",
        " 5.        ]\n",
        "#observe here dtype('float64')"
      ],
      "execution_count": null,
      "outputs": []
    },
    {
      "cell_type": "markdown",
      "metadata": {
        "id": "H39-R0WSL6i2"
      },
      "source": [
        "**(v)-Creating an array with start value, end value and number of values(datatypes int)**"
      ]
    },
    {
      "cell_type": "code",
      "metadata": {
        "id": "QXq_iEA_MEpy"
      },
      "source": [
        "arr_a=np.arange(1, 10,1)\n",
        "print(arr_a)\n",
        "output:\n",
        "[1 2 3 4 5 6 7 8 9]\n",
        "#here dtype('int32')"
      ],
      "execution_count": null,
      "outputs": []
    },
    {
      "cell_type": "markdown",
      "metadata": {
        "id": "rkqEJkrHSglE"
      },
      "source": [
        "**(vi)-An array filled with random values**"
      ]
    },
    {
      "cell_type": "code",
      "metadata": {
        "id": "0chArKP2Smhy"
      },
      "source": [
        "arr_r = np.random.random((2,2))  \n",
        "print(arr_r)\n",
        "output:                 \n",
        "[[0.05736758 0.58044299]\n",
        " [0.57759937 0.85564153]]"
      ],
      "execution_count": null,
      "outputs": []
    },
    {
      "cell_type": "markdown",
      "metadata": {
        "id": "lX3ic8JIS17p"
      },
      "source": [
        "**(vii)-An array filled with random integers**"
      ]
    },
    {
      "cell_type": "code",
      "metadata": {
        "id": "RD0rfYsCTA0-"
      },
      "source": [
        "arr_1= np.random.randint(10,100,7)  \n",
        "print(arr_1)\n",
        "output:                     \n",
        "[43 15 15 62 31 88 69]"
      ],
      "execution_count": null,
      "outputs": []
    },
    {
      "cell_type": "markdown",
      "metadata": {
        "id": "QN6fqAkkTB-Q"
      },
      "source": [
        "**(vii)-An array filled with random values(which follows Normal Distribution)**"
      ]
    },
    {
      "cell_type": "code",
      "metadata": {
        "id": "joFj-T13TJwd"
      },
      "source": [
        "arr_n= np.random.randn(10)  \n",
        "print(arr_n) \n",
        "output:\n",
        "[ 0.71586489 -0.2929509   0.1952457   1.07499362  0.08089464 -0.18440427\n",
        " -0.00194278  0.2594934   1.8713812  -0.76195258]"
      ],
      "execution_count": null,
      "outputs": []
    },
    {
      "cell_type": "markdown",
      "metadata": {
        "id": "NuKYobIqTM3A"
      },
      "source": [
        "**(viii)-Creating a 2x2 identity matrix**"
      ]
    },
    {
      "cell_type": "code",
      "metadata": {
        "id": "khaMF2pJTR0f"
      },
      "source": [
        "arr_I = np.eye(2)         Create a 2x2 identity matrix\n",
        "print(arr_I)\n",
        "output:\n",
        "[[1. 0.]\n",
        " [0. 1.]]"
      ],
      "execution_count": null,
      "outputs": []
    },
    {
      "cell_type": "markdown",
      "metadata": {
        "id": "lTJNxxj0TUfH"
      },
      "source": [
        "**(ix)-Creating Arrays from existing data\n",
        "This is useful for converting Python sequence into ndarray.\n",
        "numpy.asarray(a, dtype=None ,order = None)**"
      ]
    },
    {
      "cell_type": "code",
      "metadata": {
        "id": "1qjuzXgjTbiX"
      },
      "source": [
        "#converting list to ndarray \n",
        "import numpy as np\n",
        "x = [1,2,3] \n",
        "a = np.asarray(x) \n",
        "print (a)\n",
        "output:\n",
        "[1 2 3]\n",
        "# ndarray from tuple \n",
        "x_1 = (1,2,3) \n",
        "a_1 = np.asarray(x_1) \n",
        "print (a_1)\n",
        "output:\n",
        "[1 2 3]\n",
        "# ndarray from list of tuples \n",
        "import numpy as np\n",
        "x_2 = [(1,2,3),(4,5)] \n",
        "a_2 = np.asarray(x_2) \n",
        "print (a_2)\n",
        "output:\n",
        "[(1, 2, 3) (4, 5)]\n",
        "7.Important Arrays attributes\n",
        "arr.shape :It returns a tuple listing the length of the array along each dimension.\n",
        "import numpy as np \n",
        "arr = np.array([[1,2,3],[4,5,6]]) \n",
        "print (arr.shape)\n",
        "output: \n",
        "(2, 3)\n",
        "#resizing the above array\n",
        "a = np.array([[1,2,3],[4,5,6]]) \n",
        "a.shape = (3,2) \n",
        "print (a)\n",
        "output:\n",
        "[[1 2]\n",
        " [3 4]\n",
        " [5 6]]\n",
        "or \n",
        "a = np.array([[1,2,3],[4,5,6]]) \n",
        "b = a.reshape(3,2) \n",
        "print (b)\n",
        "Output:\n",
        "[[1, 2] \n",
        " [3, 4] \n",
        " [5, 6]]"
      ],
      "execution_count": null,
      "outputs": []
    },
    {
      "cell_type": "markdown",
      "metadata": {
        "id": "B2RWiXb-ULjm"
      },
      "source": [
        "![](https://drive.google.com/uc?export=view&id=15-CuES39D3Mzrkg1uFWlFBv0cAPhGaVS)"
      ]
    },
    {
      "cell_type": "markdown",
      "metadata": {
        "id": "GUsMTTqUAHIN"
      },
      "source": [
        "**arr.size :**\n",
        "- It returns the total number of elements in an array."
      ]
    },
    {
      "cell_type": "code",
      "metadata": {
        "id": "7Y3o2AIJAYor"
      },
      "source": [
        "import numpy as np \n",
        "x = np.array([[3,2,1],[4,6,1]]) \n",
        "print(x.size)\n",
        "output:\n",
        "6"
      ],
      "execution_count": null,
      "outputs": []
    },
    {
      "cell_type": "markdown",
      "metadata": {
        "id": "EEi1qcGQAa03"
      },
      "source": [
        "**arr.itemsize:**\n",
        "- It returns the number of bytes per element."
      ]
    },
    {
      "cell_type": "code",
      "metadata": {
        "id": "KW5-sZkbAg3U"
      },
      "source": [
        "import numpy as np \n",
        "a = np.array([[1,2,3],[4,5,6]]) \n",
        "a.itemsize\n",
        "output:\n",
        "4"
      ],
      "execution_count": null,
      "outputs": []
    },
    {
      "cell_type": "markdown",
      "metadata": {
        "id": "4qfaop8dAqjS"
      },
      "source": [
        "**arr.ndim:**\n",
        "- This array attribute returns the number of array dimensions."
      ]
    },
    {
      "cell_type": "code",
      "metadata": {
        "id": "mofVo4BdAvqd"
      },
      "source": [
        "import numpy as np \n",
        "a = np.array([[1,2,3],[4,5,6]]) \n",
        "a.ndim\n",
        "output:\n",
        "2"
      ],
      "execution_count": null,
      "outputs": []
    },
    {
      "cell_type": "markdown",
      "metadata": {
        "id": "OOMZ8k9TA6rU"
      },
      "source": [
        "**type(arr)**\n",
        "-  This attribute is used to check the type."
      ]
    },
    {
      "cell_type": "code",
      "metadata": {
        "id": "sIhPR9dqBHCK"
      },
      "source": [
        "#for example -\n",
        "import numpy as np \n",
        "arr = np.array([[1,2,3],[4,5,6]]) \n",
        "print (arr)\n",
        "output: \n",
        "[[1,2,3]\n",
        " [4,5,6]]\n",
        "type(arr)\n",
        "output:\n",
        "numpy.ndarray"
      ],
      "execution_count": null,
      "outputs": []
    },
    {
      "cell_type": "markdown",
      "metadata": {
        "id": "oENCfwjpBNgM"
      },
      "source": [
        "**arr.nbytes:**\n",
        "- It returns the number of bytes used by the data portion of the array."
      ]
    },
    {
      "cell_type": "code",
      "metadata": {
        "id": "q5_Z5KOxjTqM"
      },
      "source": [
        "import numpy as np \n",
        "a = np.array([[1,2,3],[4,5,6]]) \n",
        "a.nbytes\n",
        "output:\n",
        "24"
      ],
      "execution_count": null,
      "outputs": []
    },
    {
      "cell_type": "markdown",
      "metadata": {
        "id": "9qzlOWGqmr9A"
      },
      "source": [
        "####**12.8-Indexing&Slicing**\n",
        "\n",
        "Indexing is used to assign numbers to each element in the NumPy array or we can say it maps to the elements stored in an array. It helps to access an array element by referring to its index number.\n"
      ]
    },
    {
      "cell_type": "markdown",
      "metadata": {
        "id": "lA_OjTSgodZA"
      },
      "source": [
        "![](https://drive.google.com/uc?export=view&id=1U8ymNI1vrmuEHWHyE2TLSgaGzhIUsUaU)"
      ]
    },
    {
      "cell_type": "code",
      "metadata": {
        "id": "6HCINNzho60u"
      },
      "source": [
        "import numpy as np\n",
        "arr = np.arange(10)\n",
        "print(arr)\n",
        "output:\n",
        "[0 1 2 3 4 5 6 7 8 9]\n",
        "#Example-1\n",
        "print(arr[7])\n",
        "or \n",
        "print(arr[-3])\n",
        "output:\n",
        "7\n",
        "#Example-2\n",
        "print(arr[0:5])\n",
        "or \n",
        "print(arr[0:-4])\n",
        "output:\n",
        "[0 1 2 3 4 5]\n",
        "#Example-3\n",
        "print(arr[-4:-1])\n",
        "output:\n",
        "[6 7 8]"
      ],
      "execution_count": null,
      "outputs": []
    },
    {
      "cell_type": "markdown",
      "metadata": {
        "id": "qXuyptrd6WK5"
      },
      "source": [
        "Slicing is an operation used to extract a portion of elements from arrays by specifying lower and upper bound."
      ]
    },
    {
      "cell_type": "markdown",
      "metadata": {
        "id": "geAid_ea6dk7"
      },
      "source": [
        "**arr[lower:upper:step]**\n",
        "\n",
        "The lower bound element is included but the upper bound element is not included. The step value indicates the stride between the elements.\n"
      ]
    },
    {
      "cell_type": "markdown",
      "metadata": {
        "id": "voTnBcmI7eA8"
      },
      "source": [
        "![](https://drive.google.com/uc?export=view&id=1U8ymNI1vrmuEHWHyE2TLSgaGzhIUsUaU)"
      ]
    },
    {
      "cell_type": "markdown",
      "metadata": {
        "id": "5GsaAzGm72o0"
      },
      "source": [
        "**Slicing 1-Dimensional Array**"
      ]
    },
    {
      "cell_type": "code",
      "metadata": {
        "id": "0ZkT2KUhAx5X"
      },
      "source": [
        "import numpy as np \n",
        "arr = np.arange(10)\n",
        "#Slicing single element\n",
        "slice_arr = arr[2] \n",
        "print (slice_arr)\n",
        "output:\n",
        "[2]\n",
        "#Slicing elements in between indexes\n",
        "print (arr[2:5])\n",
        "or\n",
        "print (arr[-8:-5]) #using negative index\n",
        "output:\n",
        "[2,3,4]\n",
        "#using slice(lower,upper,step) function\n",
        "s = slice(2,7,2) \n",
        "print (arr[s])\n",
        "output:\n",
        "[2,4,6]\n",
        "or\n",
        "slice_arr = arr[2:7:2] \n",
        "print (slice_arr)\n",
        "output:\n",
        "[2,4,6]"
      ],
      "execution_count": null,
      "outputs": []
    },
    {
      "cell_type": "markdown",
      "metadata": {
        "id": "Hox90aTIAy_t"
      },
      "source": [
        "**For slicing specific elements**"
      ]
    },
    {
      "cell_type": "code",
      "metadata": {
        "id": "___nan3jA488"
      },
      "source": [
        "x= np.array([11,12,13,14,15])\n",
        "print(np.take(x, [0, 3,4]))\n",
        "output:\n",
        "[11 14 15]"
      ],
      "execution_count": null,
      "outputs": []
    },
    {
      "cell_type": "markdown",
      "metadata": {
        "id": "VsSoeSKCA6CM"
      },
      "source": [
        "**Omitting Indices-Omitted boundaries are assumed to be the beginning or end of the array/list. To understand better you can refer the above figure**"
      ]
    },
    {
      "cell_type": "code",
      "metadata": {
        "id": "g1gjp8ZcBCA-",
        "colab": {
          "base_uri": "https://localhost:8080/",
          "height": 131
        },
        "outputId": "6829fd5a-73c8-44af-bcc3-ad9139425ed4"
      },
      "source": [
        "arr=np.arange(10)\n",
        "#Example-1\n",
        "print(arr[:5])\n",
        "output:\n",
        "[0 1 2 3 4]\n",
        "#Example-2\n",
        "print(arr[5:])\n",
        "output:\n",
        "[5 6 7 8 9]\n",
        "#Example-3\n",
        "print(arr[::2])\n",
        "output:\n",
        "[0 2 4 6 8]"
      ],
      "execution_count": null,
      "outputs": [
        {
          "output_type": "error",
          "ename": "SyntaxError",
          "evalue": "ignored",
          "traceback": [
            "\u001b[0;36m  File \u001b[0;32m\"<ipython-input-1-e995df3c18e0>\"\u001b[0;36m, line \u001b[0;32m4\u001b[0m\n\u001b[0;31m    output:\u001b[0m\n\u001b[0m           ^\u001b[0m\n\u001b[0;31mSyntaxError\u001b[0m\u001b[0;31m:\u001b[0m invalid syntax\n"
          ]
        }
      ]
    },
    {
      "cell_type": "markdown",
      "metadata": {
        "id": "2Jqw5QpjBDFM"
      },
      "source": [
        "**Slicing Multi-Dimensional Arrays\n",
        "Slicing can be done in multi-dimensional arrays same as the above examples.**"
      ]
    },
    {
      "cell_type": "code",
      "metadata": {
        "id": "sElB2zNFBLKH"
      },
      "source": [
        "import numpy as np \n",
        "arr = np.array([[1,2,3],[3,4,5],[4,5,6]])\n",
        "print (arr)\n",
        "output:\n",
        "[[1 2 3]\n",
        " [3 4 5]\n",
        " [4 5 6]]\n",
        "#Slicing first row\n",
        "print (arr[0:1])\n",
        "output:\n",
        "[[1 2 3]]\n",
        "#slicing last 2 rows\n",
        "print (arr[1:])\n",
        "output:\n",
        "[[3 4 5]\n",
        " [4 5 6]]\n",
        "#slicing three rows and first column\n",
        "print (arr[0:3,0:1])\n",
        "output:\n",
        "[[1]\n",
        " [3]\n",
        " [4]]\n",
        "#slicing 4 from above array\n",
        "print (arr[1:2,1:2])\n",
        "output:\n",
        "[[4]] "
      ],
      "execution_count": null,
      "outputs": []
    },
    {
      "cell_type": "markdown",
      "metadata": {
        "id": "2aWq7vvABhJG"
      },
      "source": [
        "![](https://drive.google.com/uc?export=view&id=1jagSjwYeNNmNsgwtNFi6aeEEQjKZeHjY)"
      ]
    },
    {
      "cell_type": "markdown",
      "metadata": {
        "id": "cfdOSSMfBvRX"
      },
      "source": [
        "##**12.9-Stacking & Splitting**"
      ]
    },
    {
      "cell_type": "markdown",
      "metadata": {
        "id": "VLOczg5fB45Q"
      },
      "source": [
        "Stacking is used to join a sequence of same dimension arrays along a new axis.\n",
        "\n",
        "numpy.stack(arrays,axis) : It returns a stacked array of the input arrays which has one more dimension than the input arrays."
      ]
    },
    {
      "cell_type": "code",
      "metadata": {
        "id": "aHDvR6geq-fW"
      },
      "source": [
        "import numpy as np\n",
        "arr_1 = np.array([1, 2, 3])\n",
        "arr_2 = np.array([2, 3, 4])\n",
        "arr_stack=np.stack((arr_1,arr_2),axis=0)\n",
        "print(arr_stack)\n",
        "print(arr_stack.shape)\n",
        "output:\n",
        "[[1 2 3]\n",
        " [2 3 4]]\n",
        "(2,3)\n",
        "arr_stack=np.stack((arr_1,arr_2),axis=1)\n",
        "print(arr_stack)\n",
        "print(arr_stack.shape)\n",
        "output:\n",
        "[[1 2]\n",
        " [2 3]\n",
        " [3 4]]\n",
        "(3,2)"
      ],
      "execution_count": null,
      "outputs": []
    },
    {
      "cell_type": "markdown",
      "metadata": {
        "id": "sR0OTVDrq_q1"
      },
      "source": [
        "The axis parameter specifies the index of the new axis in the dimensions of the result."
      ]
    },
    {
      "cell_type": "markdown",
      "metadata": {
        "id": "eU9plC5Crmor"
      },
      "source": [
        "![](https://drive.google.com/uc?export=view&id=1ZV1j1V2FD_aRr094j5dFQLyBZwIoMAmU)"
      ]
    },
    {
      "cell_type": "markdown",
      "metadata": {
        "id": "axnWCkmirv31"
      },
      "source": [
        "**numpy.vstack(tup) :**\n",
        "\n",
        " Join arrays in sequence vertically (row-wise). The array formed by stacking will be at least 2-D. The arrays to be stacked must have the same shape along all but the first axis. 1-D arrays must have the same length."
      ]
    },
    {
      "cell_type": "markdown",
      "metadata": {
        "id": "Jux0tm-lVQtU"
      },
      "source": [
        "**numpy.hstack(tup) :**\n",
        "\n",
        " Join arrays in sequence horizontally(column-wise). The arrays to be stacked must have the same shape along all but the second axis, except 1-D arrays which can be any length."
      ]
    },
    {
      "cell_type": "code",
      "metadata": {
        "id": "YTHSRZMcVX_P"
      },
      "source": [
        "# Generate random arrays\n",
        "arr_1 = np.random.randint(10, size=(2, 2))\n",
        "print(\" arr_1\\n\", arr_1)\n",
        "arr_2 = np.random.randint(10, size=(2, 2))\n",
        "print(\" arr_2\\n\", arr_2)\n",
        "output:\n",
        " arr_1\n",
        " [[0 2]\n",
        " [7 6]]\n",
        " arr_2\n",
        " [[3 7]\n",
        " [1 4]]\n",
        "# Stack arr_2 under arr_1\n",
        "a=np.vstack((arr_1, arr_2))\n",
        "print(a)\n",
        "output:\n",
        "[[0 2]\n",
        " [7 6]\n",
        " [3 7]\n",
        " [1 4]]\n",
        "# Stacking  horizontally\n",
        "b=np.hstack((arr_1, arr_2))\n",
        "print(b)\n",
        "output:\n",
        "[[0 2 3 7]\n",
        " [7 6 1 4]]"
      ],
      "execution_count": null,
      "outputs": []
    },
    {
      "cell_type": "markdown",
      "metadata": {
        "id": "OVZjqgHrWSMB"
      },
      "source": [
        "![](https://drive.google.com/uc?export=view&id=1XC9sd2BodhoVrP7I90ZRCPQfPmopSICw)"
      ]
    },
    {
      "cell_type": "markdown",
      "metadata": {
        "id": "xs_TvJ1JWdOX"
      },
      "source": [
        "**numpy.dstack(tup) :**\n",
        "\n",
        " Join arrays in sequence depth wise (along the third axis). The array formed by stacking will be at least 3-D. The arrays to be stacked must have the same shape along all but the third axis. 1-D or 2-D arrays must have the same shape."
      ]
    },
    {
      "cell_type": "code",
      "metadata": {
        "id": "348Ql4ndWl_O"
      },
      "source": [
        "#continuing above commands\n",
        "#stacking depth wise\n",
        "c=np.dstack((arr_1, arr_2))\n",
        "print(c)\n",
        "output:\n",
        "[[[0 3]\n",
        " [2 7]]\n",
        "[[7 1]\n",
        " [6 4]]]"
      ],
      "execution_count": null,
      "outputs": []
    },
    {
      "cell_type": "markdown",
      "metadata": {
        "id": "42Mmbsr0Wpss"
      },
      "source": [
        "**numpy.column_stack(tup) :**\n",
        "\n",
        " It works the same as hstack and joins arrays in sequence horizontally(column-wise)."
      ]
    },
    {
      "cell_type": "markdown",
      "metadata": {
        "id": "ZNca282AWwPY"
      },
      "source": [
        "**numpy.row_stack(tup) :**\n",
        "\n",
        " It works the same as vstack and joins arrays in sequence vertically(row-wise)."
      ]
    },
    {
      "cell_type": "code",
      "metadata": {
        "id": "JBCvRmAnW3gK"
      },
      "source": [
        "# row_stack()\n",
        "a=np.row_stack((arr_1, arr_2))\n",
        "print(a)\n",
        "output:\n",
        "[[0 2]\n",
        " [7 6]\n",
        " [3 7]\n",
        " [1 4]]\n",
        "# column_stack()\n",
        "b=np.column_stack((arr_1, arr_2))\n",
        "print(b)\n",
        "output:\n",
        "[[0 2 3 7]\n",
        " [7 6 1 4]]"
      ],
      "execution_count": null,
      "outputs": []
    },
    {
      "cell_type": "markdown",
      "metadata": {
        "id": "jhb5Pn2jW_B8"
      },
      "source": [
        "Splitting is used to split an array into multiple sub-arrays. It can be done using following NumPy functions."
      ]
    },
    {
      "cell_type": "markdown",
      "metadata": {
        "id": "g2o0vibSXGE1"
      },
      "source": [
        "**numpy.split(array,Indices_or_sections,axis) :**\n",
        "\n",
        " This function used to split an array into multiple sub-arrays of equal size. It returns a list of sub-arrays."
      ]
    },
    {
      "cell_type": "markdown",
      "metadata": {
        "id": "5Vhr1A1qnw87"
      },
      "source": [
        "#**Introduction to Python** \n"
      ]
    },
    {
      "cell_type": "markdown",
      "metadata": {
        "id": "-dk1o0hT91qR"
      },
      "source": [
        "##**13.1-Exception Handling**\n"
      ]
    },
    {
      "cell_type": "markdown",
      "metadata": {
        "id": "GpyuHY_r-JM5"
      },
      "source": [
        "####**13.2-Exception Handling**\n",
        "\n",
        "Exception handling is the way to avoiding the errors in a  programs\n",
        "Example:-\n",
        "         Let say you have a python program and you wrote 15 to 16 line code and before its work just fine Now you made some changes and may you have at line 6 and 5  error and that line 6 and 7 line command restricts your program from execution normally do this  in line 6 and 7 is an exception .\n",
        " So now we define exception handling   finding a way to avoid these errors Now may you have many questions in your mind.\n",
        "1st Question : Why we needed exception handling.\n",
        "2nd Question : How we can do exception handling.\n",
        "\n",
        "1st and 2nd AnswerAnswer : before i told you exception is the obstacle which is restricting the program from execution so we use exception handling for this problem\n",
        "\n",
        "\n",
        "Syntax :-\n",
        "\n",
        "      Try:\n",
        "          “ the code that rise the errors “\n",
        "       Except exception :\n",
        "             “The code display when errors occurs “\n",
        "      Final :\n",
        "           “ code you want to execute in both cases “\n",
        "\n",
        " In the try section we write the code where errors may occur so if it throws an error then it jumps to the exception section and in the end both are executed in the final section.\n"
      ]
    },
    {
      "cell_type": "code",
      "metadata": {
        "id": "iooLOBvb_Dbj"
      },
      "source": [
        "print(\"Enter num 1 : \")\n",
        "num1 = input() \n",
        " \n",
        "print(\"Enter num 2 : \")\n",
        "num2 = input() \n",
        " \n",
        "try: \n",
        "    print(\"Addition of Number 1 and Number 2 = \" ,  int(num1) + int(num2) )\n",
        " \n",
        "except Exception as e:\n",
        "    print(e)\n",
        " \n"
      ],
      "execution_count": null,
      "outputs": []
    },
    {
      "cell_type": "markdown",
      "metadata": {
        "id": "DepF_86JXkdO"
      },
      "source": [
        "##**14-Introduction to pandas**\n"
      ]
    },
    {
      "cell_type": "markdown",
      "metadata": {
        "id": "NRjb-bWuYI7y"
      },
      "source": [
        "####**14.1-what is Pandas**\n"
      ]
    },
    {
      "cell_type": "markdown",
      "metadata": {
        "id": "50Q2Kmo2ahDr"
      },
      "source": [
        "Officially stands for python Data Analysis library \n",
        "It is open source \n",
        "\n",
        "1.  It is a tool used by data scientists to: \n",
        "2.  Read,\n",
        "3.  write\n",
        "4.  manipulate \n",
        "5.  Analysis the data "
      ]
    },
    {
      "cell_type": "markdown",
      "metadata": {
        "id": "8BBYIABScbtm"
      },
      "source": [
        "####**14.2-why pandas**"
      ]
    },
    {
      "cell_type": "markdown",
      "metadata": {
        "id": "a-jKQlQ-c3Ju"
      },
      "source": [
        " \n",
        "1. It is helps you to explore and manipulate data in an    efficient manner\n",
        "2. It helps you to analyze large volume of data with ease when we say large volumes   it is millions of rows/ records\n",
        "\n",
        "\n",
        "**import panda as pd **\n",
        "\n",
        "pd use for shortcut\n",
        "\n"
      ]
    },
    {
      "cell_type": "markdown",
      "metadata": {
        "id": "5q8X0Q6TYsGz"
      },
      "source": [
        ""
      ]
    },
    {
      "cell_type": "markdown",
      "metadata": {
        "id": "MopTIt6DoYTC"
      },
      "source": [
        "####**1.1-Hello python** \n",
        "In this course we will learn Python for Data science.\n",
        "Python was conceived by Guido van Rossum and released in 1991.\n",
        "Nowadays you can use Python to bulid practically any place of software.\n",
        "- Pythson is  open source.\n",
        "- It is free to use.\n",
        "- Python packages ,also for Data science.\n",
        "- It is very easy to bulid packages in Python which code that you can share with other people to solve specific problem.\n",
        "In this courde well start to bulid up your data science coding skills bit by bit ,so make sure to stick around to see  how powerful the language can be.\n",
        "\n",
        "**Version of Python**\n",
        "\n",
        "Currently three are two common version of python ,version 2- point -7 and 3-point-5 and later.Apart from some syntactical difference they are pretty similar, but as support for version 2 will fade over him our course focus on python 3.\n",
        "\n",
        "**Python shell**\n",
        "\n",
        "Python shell,a place where you can type python code immediately see your result.\n",
        "In Datacamp's exercise interface this shell is embedd here.\n",
        "Lets start off simple and use python as a calculator.\n",
        "let me type 4 + 5 and hit enter your result is 9.\n",
        "The python shell that's used here is actually not the original one we're using ipython.\n",
        "Ipython is created by Fernado Perez and is part of broader jupyter ecosystem.\n",
        "\n",
        "**Python script**\n",
        "\n",
        "Python script are simply text files with the extension(dot)py.\n",
        "\n",
        "- Text files-py\n",
        "- List of python commands\n",
        "- similar to typing in ipython shell.\n",
        "\n",
        "The next step is submitting the answer.\n",
        "You have explicity use print inside script if you and to generate output execution.\n",
        "You can write the code and submit  your code will be executed."
      ]
    },
    {
      "cell_type": "markdown",
      "metadata": {
        "id": "wLIXexqxKplI"
      },
      "source": [
        "####**1.1.1-The Python Interface** \n",
        "\n",
        "In the Python script on the right, you can type Python code to solve the exercises. If you hit Run Code or Submit Answer, your python script (script.py) is executed and the output is shown in the IPython Shell. Submit Answer checks whether your submission is correct and gives you feedback.\n",
        "\n",
        "You can hit Run Code and Submit Answer as often as you want. If you're stuck, you can click Get Hint, and ultimately Get Solution.\n",
        "\n",
        "You can also use the IPython Shell interactively by simply typing commands and hitting Enter. When you work in the shell directly, your code will not be checked for correctness so it is a great way to experiment.\n",
        "\n",
        "- Experiment in the IPython Shell; type 5 / 8, for example.\n",
        "- Add another line of code to the Python script on the top-right (not in the Shell): print(7 + 10).\n",
        "- Hit Submit Answer to execute the Python script and receive feedback.\n"
      ]
    },
    {
      "cell_type": "markdown",
      "metadata": {
        "id": "NP1Va__QUMwp"
      },
      "source": [
        "## 13 Data Analysis\n",
        "    "
      ]
    },
    {
      "cell_type": "code",
      "metadata": {
        "id": "oTRJIOyPLa9H"
      },
      "source": [
        "# Example, do not modify!\n",
        "print(5 / 8)\n",
        "# output 0.625\n",
        "\n",
        "# Print the sum of 7 and 10\n",
        "print(7+10)\n",
        "# output 17"
      ],
      "execution_count": null,
      "outputs": []
    },
    {
      "cell_type": "markdown",
      "metadata": {
        "id": "SUhdtQc3yDR2"
      },
      "source": [
        "####**1.1.2-Any comments** \n",
        "\n",
        "Something that Hugo didn't mention in his videos is that you can add comments to your Python scripts. Comments are important to make sure that you and others can understand what your code is about.\n",
        "\n",
        "To add comments to your Python script, you can use the # tag. These comments are not run as Python code, so they will not influence your result. As an example, take the comment on the right, # Division; it is completely ignored during execution."
      ]
    },
    {
      "cell_type": "code",
      "metadata": {
        "id": "hRrSKSyZzT5U"
      },
      "source": [
        "#Addition\n",
        "print(6 + 8)\n",
        "\n",
        "#Subtraction\n",
        "print(8-5)"
      ],
      "execution_count": null,
      "outputs": []
    },
    {
      "cell_type": "markdown",
      "metadata": {
        "id": "VAlT1IScy-92"
      },
      "source": [
        "####**1.1.3-Python as a calculator** \n",
        "\n",
        "Python is perfectly suited to do basic calculations. Apart from addition, subtraction, multiplication and division, there is also support for more advanced operations such as:\n",
        "\n",
        "Exponentiation: **. This operator raises the number to its left to the power of the number to its right. For example 4**2 will give 16.\n",
        "Modulo: %. This operator returns the remainder of the division of the number to the left by the number on its right. For example 18 % 7 equals 4.\n",
        "The code in the script on the right gives some examples."
      ]
    },
    {
      "cell_type": "code",
      "metadata": {
        "id": "0hPM9Ky_zlrZ"
      },
      "source": [
        "# Addition, subtraction\n",
        "print(5 + 5)\n",
        "print(5 - 5)\n",
        "\n",
        "# Multiplication, division, modulo, and exponentiation\n",
        "print(3 * 5)\n",
        "print(10 / 2)\n",
        "print(18 % 7)\n",
        "print(4 ** 2)"
      ],
      "execution_count": null,
      "outputs": []
    },
    {
      "cell_type": "markdown",
      "metadata": {
        "id": "DIf1bvjC5zpP"
      },
      "source": [
        "#**1.2-Variables and types**\n",
        "**Variable**\n",
        "\n",
        "- Specific ,case_sensitive name\n",
        "- call up value through variable name\n",
        "- 1.79m_68.7kg\n",
        "\n",
        "**Reproducibility**\n"
      ]
    },
    {
      "cell_type": "code",
      "metadata": {
        "id": "bMUf453kcRG-"
      },
      "source": [
        "height = 1.79\n",
        "weight = 68.7\n",
        "bmi = weight/height**2\n",
        "print(bmi)"
      ],
      "execution_count": null,
      "outputs": []
    },
    {
      "cell_type": "markdown",
      "metadata": {
        "id": "jbNqdrEdW4u6"
      },
      "source": [
        "**Python type(1)**\n",
        "\n",
        "**type(bmi)**\n",
        "\n",
        "**float**\n",
        "\n",
        "**day of week =5**\n",
        "\n",
        "**type(day_of_week)**"
      ]
    },
    {
      "cell_type": "markdown",
      "metadata": {
        "id": "ut6Ao4cjX2LG"
      },
      "source": [
        "**Python type(2)**\n",
        "\n"
      ]
    },
    {
      "cell_type": "code",
      "metadata": {
        "id": "_FIEaHJxX_ie"
      },
      "source": [
        "x =\"body mass index\"\n",
        "y =\"this works too\"\n",
        "type(y)"
      ],
      "execution_count": null,
      "outputs": []
    },
    {
      "cell_type": "markdown",
      "metadata": {
        "id": "IC9ug92FYPxV"
      },
      "source": [
        "**Python Type type(3)**\n",
        "\n"
      ]
    },
    {
      "cell_type": "code",
      "metadata": {
        "id": "1mNepwpaYb7x"
      },
      "source": [
        "2+3\n",
        "'ab' + 'cd'"
      ],
      "execution_count": null,
      "outputs": []
    },
    {
      "cell_type": "markdown",
      "metadata": {
        "id": "HBHeZR7qJUQH"
      },
      "source": [
        "####**1.2.1-Variable Assignment** "
      ]
    },
    {
      "cell_type": "code",
      "metadata": {
        "id": "rdYoZvp4Jg_e"
      },
      "source": [
        "# Create a variable saving\n",
        "savings = 100\n",
        "\n",
        "# Print out savings\n",
        "print(savings)"
      ],
      "execution_count": null,
      "outputs": []
    },
    {
      "cell_type": "markdown",
      "metadata": {
        "id": "Ovt6XNTO2pnF"
      },
      "source": [
        "####**1.2.2-Calculations with variables**\n",
        "Remember how you calculated the money you ended up with after 7 years of investing $100? You did something like this:\n",
        "\n",
        "100 * 1.1 ** 7\n",
        "Instead of calculating with the actual values, you can use variables instead. The savings variable you've created in the previous exercise represents the $100 you started with. It's up to you to create a new variable to represent 1.1 and then redo the calculations!"
      ]
    },
    {
      "cell_type": "code",
      "metadata": {
        "id": "ZLF-SdGs2wPi"
      },
      "source": [
        "# Create a variable savings\n",
        "savings = 100\n",
        "\n",
        "# Create a variable growth_multiplier\n",
        "growth_multiplier = 1.1\n",
        "\n",
        "# Calculate result\n",
        "result = savings * growth_multiplier ** 7\n"
      ],
      "execution_count": null,
      "outputs": []
    },
    {
      "cell_type": "markdown",
      "metadata": {
        "id": "8ukZX-9i3FU2"
      },
      "source": [
        "####**1.2.3-Other variable types**\n",
        "In the previous exercise, you worked with two Python data types:\n",
        "\n",
        "int, or integer: a number without a fractional part. savings, with the value 100, is an example of an integer.\n",
        "float, or floating point: a number that has both an integer and fractional part, separated by a point. growth_multiplier, with the value 1.1, is an example of a float.\n",
        "Next to numerical data types, there are two other very common data types:\n",
        "\n",
        "str, or string: a type to represent text. You can use single or double quotes to build a string.\n",
        "bool, or boolean: a type to represent logical values. Can only be True or False (the capitalization is important!)."
      ]
    },
    {
      "cell_type": "code",
      "metadata": {
        "id": "Fccqilfo3Ndj"
      },
      "source": [
        "# Create a variable desc\n",
        "desc = \"compound interest\"\n",
        "\n",
        "# Create a variable profitable\n",
        "profitable = True"
      ],
      "execution_count": null,
      "outputs": []
    },
    {
      "cell_type": "markdown",
      "metadata": {
        "id": "_K-LrBKy4s89"
      },
      "source": [
        "####**1.2.4-Operations with other types**\n",
        "Hugo mentioned that different types behave differently in Python.\n",
        "\n",
        "When you sum two strings, for example, you'll get different behavior than when you sum two integers or two booleans.\n",
        "\n",
        "In the script some variables with different types have already been created. It's up to you to use them. New Section"
      ]
    },
    {
      "cell_type": "code",
      "metadata": {
        "id": "YdOka2tk41xF"
      },
      "source": [
        "savings = 100\n",
        "growth_multiplier = 1.1\n",
        "desc = \"compound interest\"\n",
        "\n",
        "# Assign product of savings and growth_multiplier to year1\n",
        "year1 = savings * growth_multiplier\n",
        "\n",
        "# Print the type of year1\n",
        "print(type(year1))"
      ],
      "execution_count": null,
      "outputs": []
    },
    {
      "cell_type": "markdown",
      "metadata": {
        "id": "4FRPVhtHaSD9"
      },
      "source": [
        "####**1.2.5-Type conversion**\n",
        "Using the + operator to paste together two strings can be very useful in building custom messages.\n",
        "\n",
        "Suppose, for example, that you've calculated the return of your investment and want to summarize the results in a string. Assuming the integer savings and float result are defined, you can try something like this:"
      ]
    },
    {
      "cell_type": "code",
      "metadata": {
        "id": "NCRAFWTpbG83"
      },
      "source": [
        "# Definition of savings and result\n",
        "savings = 100\n",
        "result = 100 * 1.10 ** 7\n",
        "\n",
        "# Fix the printout\n",
        "print(\"I started with $\" + str(savings) + \" and now have $\" + str(result) + \". Awesome!\")\n",
        "\n",
        "# Definition of pi_string\n",
        "pi_string = \"3.1415926\""
      ],
      "execution_count": null,
      "outputs": []
    },
    {
      "cell_type": "markdown",
      "metadata": {
        "id": "RZ19BrMUrLEz"
      },
      "source": [
        "####**1.2.5-Can Python handle everything?**\n",
        "\n",
        "Now that you know something more about combining different sources of information, have a look at the four Python expressions below. Which one of these will throw an error? You can always copy and paste this code in the IPython Shell to find out!\n",
        "\n",
        "Possible Answers\n",
        "\n",
        "- \"I can add integers, like \" + str(5) + \" to strings.\"\n",
        "- \"I said \" + (\"Hey \" * 2) + \"Hey!\"\n",
        "- \"The correct answer to this multiple choice exercise is answer number \" + 2 (**correct**)\n",
        "- True + False"
      ]
    },
    {
      "cell_type": "markdown",
      "metadata": {
        "id": "3gckZIpJ0K6f"
      },
      "source": [
        "#**1.3-Python Lists**\n",
        "\n",
        "Learn to store, access, and manipulate data in lists: the first step toward efficiently working with huge amounts of data."
      ]
    },
    {
      "cell_type": "markdown",
      "metadata": {
        "id": "ywuurmY80m4q"
      },
      "source": [
        "####**1.3.1-Python Data type**\n",
        "\n",
        "- float = real number\n",
        "- int = integer\n",
        "- str = string text\n",
        "- bool = True,False\n",
        "- Each variables represents sigle value"
      ]
    },
    {
      "cell_type": "markdown",
      "metadata": {
        "id": "EWe1yyKb68bP"
      },
      "source": [
        "####**1.3.2-Problem**\n",
        "- Data science .many data points \n",
        "- Height of entire family"
      ]
    },
    {
      "cell_type": "code",
      "metadata": {
        "id": "CGubisvW7Xc4"
      },
      "source": [
        "height1 = 1.73\n",
        "height2 = 1.68\n",
        "height3 = 1.71\n",
        "height4 = 1.89"
      ],
      "execution_count": null,
      "outputs": []
    },
    {
      "cell_type": "markdown",
      "metadata": {
        "id": "k57kds7Z7xZP"
      },
      "source": [
        "- inconvenient"
      ]
    },
    {
      "cell_type": "markdown",
      "metadata": {
        "id": "IokM2e_q730o"
      },
      "source": [
        "####**1.3.3-Python list**\n",
        "[a,b,c]\n",
        "\n",
        "[1.73,1.68,1.71,1.89]\n",
        "\n",
        "fam = [1.73,1.68,1.71,1.89]\n",
        "\n",
        "fam\n",
        "\n",
        "- name a callective of values\n",
        "- contain any type"
      ]
    },
    {
      "cell_type": "markdown",
      "metadata": {
        "id": "KShevDMu9Ygi"
      },
      "source": [
        "####**1.3.4-Create a list**\n",
        "As opposed to int, bool etc., a list is a compound data type; you can group values together:\n",
        "\n",
        "a = \"is\"\n",
        "b = \"nice\"\n",
        "my_list = [\"my\", \"list\", a, b]\n",
        "After measuring the height of your family, you decide to collect some information on the house you're living in. The areas of the different parts of your house are stored in separate variables for now, as shown in the script."
      ]
    },
    {
      "cell_type": "code",
      "metadata": {
        "id": "ojGxBFFC9iul"
      },
      "source": [
        "# Area variables (in square meters)\n",
        "hall = 11.25\n",
        "kit = 18.0\n",
        "liv = 20.0\n",
        "bed = 10.75\n",
        "bath = 9.50\n",
        "\n",
        "# Create list areas\n",
        "areas = [hall, kit, liv, bed, bath]"
      ],
      "execution_count": null,
      "outputs": []
    },
    {
      "cell_type": "markdown",
      "metadata": {
        "id": "rlN4B0ZuKNyN"
      },
      "source": [
        "####**1.3.5-Create list with different types**\n",
        "A list can contain any Python type. Although it's not really common, a list can also contain a mix of Python types including strings, floats, booleans, etc.\n",
        "\n",
        "The printout of the previous exercise wasn't really satisfying. It's just a list of numbers representing the areas, but you can't tell which area corresponds to which part of your house.\n",
        "\n",
        "The code on the right is the start of a solution. For some of the areas, the name of the corresponding room is already placed in front. Pay attention here! \"bathroom\" is a string, while bath is a variable that represents the float 9.50 you specified earlier."
      ]
    },
    {
      "cell_type": "code",
      "metadata": {
        "id": "GjiEbi1IKXeB"
      },
      "source": [
        "# area variables (in square meters)\n",
        "hall = 11.25\n",
        "kit = 18.0\n",
        "liv = 20.0\n",
        "bed = 10.75\n",
        "bath = 9.50\n",
        "\n",
        "# Adapt list areas\n",
        "\n",
        "\n",
        "\n",
        "\n",
        "\n",
        "\n",
        "areas = [\"hallway\", hall, \"kitchen\", kit, \"living room\", liv, \"bedroom\", bed, \"bathroom\", bath]\n"
      ],
      "execution_count": null,
      "outputs": []
    },
    {
      "cell_type": "markdown",
      "metadata": {
        "id": "cAB5yfW2Ldx9"
      },
      "source": [
        "####**1.3.6-List of lists**\n",
        "As a data scientist, you'll often be dealing with a lot of data, and it will make sense to group some of this data.\n",
        "\n",
        "Instead of creating a flat list containing strings and floats, representing the names and areas of the rooms in your house, you can create a list of lists. The script on the right can already give you an idea.\n",
        "\n",
        "Don't get confused here: \"hallway\" is a string, while hall is a variable that represents the float 11.25 you specified earlier."
      ]
    },
    {
      "cell_type": "code",
      "metadata": {
        "id": "S6FjtKbdLmN6"
      },
      "source": [
        "# area variables (in square meters)\n",
        "hall = 11.25\n",
        "kit = 18.0\n",
        "liv = 20.0\n",
        "bed = 10.75\n",
        "bath = 9.50\n",
        "\n",
        "# house information as list of lists\n",
        "house = [[\"hallway\", hall],\n",
        "           [\"kitchen\", kit],\n",
        "         [\"living room\", liv],\n",
        "         [\"bedroom\", bed],\n",
        "         [\"bathroom\", bath]]\n",
        "\n",
        "         # Print out house\n",
        "print(house)\n",
        "\n",
        "# Print out the type of house\n",
        "print(type(house))\n"
      ],
      "execution_count": null,
      "outputs": []
    },
    {
      "cell_type": "markdown",
      "metadata": {
        "id": "TNpybAPWfc_f"
      },
      "source": [
        "#**1.4-Subsetting lists**\n"
      ]
    },
    {
      "cell_type": "code",
      "metadata": {
        "id": "2dxw267_gP1-",
        "colab": {
          "base_uri": "https://localhost:8080/",
          "height": 35
        },
        "outputId": "a9ae6059-02d5-43fb-bdd9-860ae1e4e85f"
      },
      "source": [
        "fam = [\"1iz\",1.73, \"emma\",1.68, \"mom\",1.71, \"dad\",1.89]\n",
        "fam[3]"
      ],
      "execution_count": null,
      "outputs": [
        {
          "output_type": "execute_result",
          "data": {
            "text/plain": [
              "1.68"
            ]
          },
          "metadata": {
            "tags": []
          },
          "execution_count": 4
        }
      ]
    },
    {
      "cell_type": "markdown",
      "metadata": {
        "id": "Ne3y6gglkMUI"
      },
      "source": [
        "**Similary to select the string \"dad\" from the list.**"
      ]
    },
    {
      "cell_type": "code",
      "metadata": {
        "id": "37nkr8P2kcyc",
        "colab": {
          "base_uri": "https://localhost:8080/",
          "height": 35
        },
        "outputId": "b8b45774-22a8-4bc0-9cf4-51f9f8603b79"
      },
      "source": [
        "fam = [\"1iz\",1.73, \"emma\",1.68, \"mom\",1.71, \"dad\",1.89]\n",
        "fam[6]"
      ],
      "execution_count": null,
      "outputs": [
        {
          "output_type": "execute_result",
          "data": {
            "application/vnd.google.colaboratory.intrinsic+json": {
              "type": "string"
            },
            "text/plain": [
              "'dad'"
            ]
          },
          "metadata": {
            "tags": []
          },
          "execution_count": 5
        }
      ]
    },
    {
      "cell_type": "markdown",
      "metadata": {
        "id": "J3N0MezDkjsX"
      },
      "source": [
        "**For multiple index**"
      ]
    },
    {
      "cell_type": "code",
      "metadata": {
        "id": "aCuORd7OksDK",
        "colab": {
          "base_uri": "https://localhost:8080/",
          "height": 35
        },
        "outputId": "dfefe5b2-2804-43f1-cca8-b2d43b1b61bb"
      },
      "source": [
        "fam = [\"1iz\",1.73, \"emma\",1.68, \"mom\",1.71, \"dad\",1.89]\n",
        "fam[3:5]"
      ],
      "execution_count": null,
      "outputs": [
        {
          "output_type": "execute_result",
          "data": {
            "text/plain": [
              "[1.68, 'mom']"
            ]
          },
          "metadata": {
            "tags": []
          },
          "execution_count": 6
        }
      ]
    },
    {
      "cell_type": "markdown",
      "metadata": {
        "id": "L07lH3wU6yJZ"
      },
      "source": [
        "####**1.4.1-Subset and conquer**\n",
        "Subsetting Python lists is a piece of cake. Take the code sample below, which creates a list x and then selects \"b\" from it. Remember that this is the second element, so it has index 1. You can also use negative indexing.\n",
        "\n",
        "x = [\"a\", \"b\", \"c\", \"d\"]\n",
        "x[1]\n",
        "x[-3] # same result!\n",
        "Remember the areas list from before, containing both strings and floats? Its definition is already in the script. Can you add the correct code to do some Python subsetting?"
      ]
    },
    {
      "cell_type": "code",
      "metadata": {
        "id": "aFjDBtuI68IP"
      },
      "source": [
        "# Create the areas list\n",
        "areas = [\"hallway\", 11.25, \"kitchen\", 18.0, \"living room\", 20.0, \"bedroom\", 10.75, \"bathroom\", 9.50]\n",
        "\n",
        "# Print out second element from areas\n",
        "print(areas[1])\n",
        "\n",
        "# Print out last element from areas\n",
        "print(areas[-1])"
      ],
      "execution_count": null,
      "outputs": []
    },
    {
      "cell_type": "markdown",
      "metadata": {
        "id": "AbWZc-8M7Q6O"
      },
      "source": [
        "####**1.4.2-Subset and calculate**\n",
        "After you've extracted values from a list, you can use them to perform additional calculations. Take this example, where the second and fourth element of a list x are extracted. The strings that result are pasted together using the + operator:\n",
        "\n",
        "x = [\"a\", \"b\", \"c\", \"d\"]\n",
        "print(x[1] + x[3])"
      ]
    },
    {
      "cell_type": "code",
      "metadata": {
        "id": "9m7LqWLt7sI8",
        "colab": {
          "base_uri": "https://localhost:8080/"
        },
        "outputId": "367841df-e300-439c-d737-419725032245"
      },
      "source": [
        "# Create the areas list\n",
        "areas = [\"hallway\", 11.25, \"kitchen\", 18.0, \"living room\", 20.0, \"bedroom\", 10.75, \"bathroom\", 9.50]\n",
        "\n",
        "# Sum of kitchen and bedroom area: eat_sleep_area\n",
        "eat_sleep_area = areas[3] + areas[-3]\n",
        "\n",
        "# Print the variable eat_sleep_area\n",
        "print(eat_sleep_area)"
      ],
      "execution_count": null,
      "outputs": [
        {
          "output_type": "stream",
          "text": [
            "28.75\n"
          ],
          "name": "stdout"
        }
      ]
    },
    {
      "cell_type": "markdown",
      "metadata": {
        "id": "Z9NfPqZj0fga"
      },
      "source": [
        "####1.4.3-Slicing and dicing**\n",
        "Selecting single values from a list is just one part of the story. It's also possible to slice your list, which means selecting multiple elements from your list. Use the following syntax:\n",
        "\n",
        "my_list[start:end]\n",
        "The start index will be included, while the end index is not.\n",
        "\n",
        "The code sample below shows an example. A list with \"b\" and \"c\", corresponding to indexes 1 and 2, are selected from a list x:\n",
        "\n",
        "x = [\"a\", \"b\", \"c\", \"d\"]\n",
        "x[1:3]\n",
        "The elements with index 1 and 2 are included, while the element with index 3 is not."
      ]
    },
    {
      "cell_type": "code",
      "metadata": {
        "id": "Fgb4SnMn1Zr7"
      },
      "source": [
        "# Create the areas list\n",
        "areas = [\"hallway\", 11.25, \"kitchen\", 18.0, \"living room\", 20.0, \"bedroom\", 10.75, \"bathroom\", 9.50]\n",
        "\n",
        "# Use slicing to create downstairs\n",
        "downstairs = areas[0:6]\n",
        "\n",
        "# Use slicing to create upstairs\n",
        "upstairs = areas[6:10]\n",
        "\n",
        "# Print out downstairs and upstairs"
      ],
      "execution_count": null,
      "outputs": []
    },
    {
      "cell_type": "markdown",
      "metadata": {
        "id": "N01XBS-i3jy-"
      },
      "source": [
        "#**1.5-Manipulating Lists**"
      ]
    },
    {
      "cell_type": "markdown",
      "metadata": {
        "id": "WRYzkpT83vBX"
      },
      "source": [
        "####**1.5.1-List Manipilating**\n",
        "- Change list elements\n",
        "- Add list elements\n",
        "- Remove list elements"
      ]
    },
    {
      "cell_type": "markdown",
      "metadata": {
        "id": "ZvyGay8T9DHr"
      },
      "source": [
        "####**1.5.2-Changing list element**"
      ]
    },
    {
      "cell_type": "code",
      "metadata": {
        "id": "5Bfkj3G59QTt",
        "colab": {
          "base_uri": "https://localhost:8080/",
          "height": 35
        },
        "outputId": "8c96a705-7940-4366-994f-f42cde22ba05"
      },
      "source": [
        "fam = [\"1lz\", 1.73, \"emma\", 1.68, \"mom\", 1.71, \"dad\",1.89]\n",
        "fam[7]"
      ],
      "execution_count": null,
      "outputs": [
        {
          "output_type": "execute_result",
          "data": {
            "text/plain": [
              "1.89"
            ]
          },
          "metadata": {
            "tags": []
          },
          "execution_count": 2
        }
      ]
    },
    {
      "cell_type": "markdown",
      "metadata": {
        "id": "C6w3uZTLAGtF"
      },
      "source": [
        "####**1.5.3-Adding and removing elemtents**"
      ]
    },
    {
      "cell_type": "code",
      "metadata": {
        "id": "8NgHyNl9AUBo",
        "colab": {
          "base_uri": "https://localhost:8080/",
          "height": 35
        },
        "outputId": "610655f8-0d39-44d1-d145-6c4a777f8e52"
      },
      "source": [
        "fam+[\"me\",1.79]\n",
        "fam_ext = fam+[\"me\",1.79]\n",
        "del(fam[2])\n",
        "fam"
      ],
      "execution_count": null,
      "outputs": [
        {
          "output_type": "execute_result",
          "data": {
            "text/plain": [
              "['1lz', 1.73, 1.68, 'mom', 1.71, 'dad', 1.89]"
            ]
          },
          "metadata": {
            "tags": []
          },
          "execution_count": 3
        }
      ]
    },
    {
      "cell_type": "markdown",
      "metadata": {
        "id": "lAy5jEzNLKIc"
      },
      "source": [
        "####**1.5.4-Replace list elements**\n",
        "Replacing list elements is pretty easy. Simply subset the list and assign new values to the subset. You can select single elements or you can change entire list slices at once.\n",
        "\n",
        "Use the IPython Shell to experiment with the commands below. Can you tell what's happening and why?\n",
        "\n",
        "x = [\"a\", \"b\", \"c\", \"d\"]\n",
        "x[1] = \"r\"\n",
        "x[2:] = [\"s\", \"t\"]\n",
        "For this and the following exercises, you'll continue working on the areas list that contains the names and areas of different rooms in a house."
      ]
    },
    {
      "cell_type": "code",
      "metadata": {
        "id": "7SF5Pf1yQlV5"
      },
      "source": [
        "# Create the areas list\n",
        "areas = [\"hallway\", 11.25, \"kitchen\", 18.0, \"living room\", 20.0, \"bedroom\", 10.75, \"bathroom\", 9.50]\n",
        "\n",
        "# Correct the bathroom area\n",
        "areas[-1] = 10.50\n",
        "\n",
        "# Change \"living room\" to \"chill zone\"\n",
        "areas[4] = \"chill zone\""
      ],
      "execution_count": null,
      "outputs": []
    },
    {
      "cell_type": "markdown",
      "metadata": {
        "id": "F-fbmEJkDQ7D"
      },
      "source": [
        "####**1.5.5-Extend a list**\n",
        "If you can change elements in a list, you sure want to be able to add elements to it, right? You can use the + operator:\n",
        "\n",
        "x = [\"a\", \"b\", \"c\", \"d\"]\n",
        "y = x + [\"e\", \"f\"]\n",
        "You just won the lottery, awesome! You decide to build a poolhouse and a garage. Can you add the information to the areas list?\n",
        "\n",
        "**Instruction**\n",
        "\n",
        "Use the + operator to paste the list [\"poolhouse\", 24.5] to the end of the areas list. Store the resulting list as areas_1.\n",
        "Further extend areas_1 by adding data on your garage. Add the string \"garage\" and float 15.45. Name the resulting list areas_2.\n"
      ]
    },
    {
      "cell_type": "code",
      "metadata": {
        "id": "faWhJsYxDoP6"
      },
      "source": [
        "# Create the areas list (updated version)\n",
        "areas = [\"hallway\", 11.25, \"kitchen\", 18.0, \"chill zone\", 20.0,\n",
        "         \"bedroom\", 10.75, \"bathroom\", 10.50]\n",
        "\n",
        "# Add poolhouse data to areas, new list is areas_1\n",
        "areas_1 = areas + [\"poolhouse\", 24.5]\n",
        "\n",
        "# Add garage data to areas_1, new list is areas_2\n",
        "areas_2 = areas_1 + [\"garage\", 15.45]\n",
        "\n",
        "areas_2 "
      ],
      "execution_count": null,
      "outputs": []
    },
    {
      "cell_type": "markdown",
      "metadata": {
        "id": "TPX6EqMNPcJ0"
      },
      "source": [
        "####**1.5.6-Inner workings of lists**\n",
        "At the end of the video, Hugo explained how Python lists work behind the scenes. In this exercise you'll get some hands-on experience with this.\n",
        "\n",
        "The Python code in the script already creates a list with the name areas and a copy named areas_copy. Next, the first element in the areas_copy list is changed and the areas list is printed out. If you hit Run Code you'll see that, although you've changed areas_copy, the change also takes effect in the areas list. That's because areas and areas_copy point to the same list.\n",
        "\n",
        "If you want to prevent changes in areas_copy from also taking effect in areas, you'll have to do a more explicit copy of the areas list. You can do this with list() or by using [:].\n",
        "\n",
        "**Instructions**\n",
        "\n",
        "0 XP\n",
        "Change the second command, that creates the variable areas_copy, such that areas_copy is an explicit copy of areas. After your edit, changes made to areas_copy shouldn't affect areas. Submit the answer to check this."
      ]
    },
    {
      "cell_type": "code",
      "metadata": {
        "id": "HphMmO3oPpmG",
        "colab": {
          "base_uri": "https://localhost:8080/",
          "height": 35
        },
        "outputId": "f5397ffa-b360-410d-a05f-4804d9df9f1e"
      },
      "source": [
        "# Create list areas\n",
        "areas = [11.25, 18.0, 20.0, 10.75, 9.50]\n",
        "\n",
        "# Create areas_copy\n",
        "areas_copy = list(areas)\n",
        "\n",
        "# Change areas_copy\n",
        "areas_copy[0] = 5.0\n",
        "\n",
        "# Print areas\n",
        "print(areas)"
      ],
      "execution_count": null,
      "outputs": [
        {
          "output_type": "stream",
          "text": [
            "[11.25, 18.0, 20.0, 10.75, 9.5]\n"
          ],
          "name": "stdout"
        }
      ]
    },
    {
      "cell_type": "markdown",
      "metadata": {
        "id": "ORty1OzLij4U"
      },
      "source": [
        "##**1.6-Functions and Packages**"
      ]
    },
    {
      "cell_type": "markdown",
      "metadata": {
        "id": "gvlZv4ori2rv"
      },
      "source": [
        "####**1.6.1-Functions**\n",
        "- Nothing New!\n",
        "- Type()\n",
        "- Piece of reusable code\n",
        "- Solvess particular task\n",
        "- Call function instead of writing code yourself"
      ]
    },
    {
      "cell_type": "markdown",
      "metadata": {
        "id": "qzcS5L8Gjp-D"
      },
      "source": [
        "####**1.6.2-Example**"
      ]
    },
    {
      "cell_type": "code",
      "metadata": {
        "id": "FQseVC-Nj05P",
        "colab": {
          "base_uri": "https://localhost:8080/",
          "height": 35
        },
        "outputId": "cf26d986-9b2a-46bc-c3a4-bcdfc10edad5"
      },
      "source": [
        "fam = [1.73,1.68,1.89]\n",
        "fam\n",
        "max(fam)"
      ],
      "execution_count": null,
      "outputs": [
        {
          "output_type": "execute_result",
          "data": {
            "text/plain": [
              "1.89"
            ]
          },
          "metadata": {
            "tags": []
          },
          "execution_count": 1
        }
      ]
    },
    {
      "cell_type": "code",
      "metadata": {
        "id": "thrE18jFkNNS"
      },
      "source": [
        "tallest = max(fam)\n",
        "tallest"
      ],
      "execution_count": null,
      "outputs": []
    },
    {
      "cell_type": "markdown",
      "metadata": {
        "id": "sjv03ubZC6W1"
      },
      "source": [
        "####**1.6.3-Familiar functions**\n",
        "\n",
        "Out of the box, Python offers a bunch of built-in functions to make your life as a data scientist easier. You already know two such functions: print() and type(). You've also used the functions str(), int(), bool() and float() to switch between data types. These are built-in functions as well.\n",
        "\n",
        "Calling a function is easy. To get the type of 3.0 and store the output as a new variable, result, you can use the following:\n",
        "\n",
        "result = type(3.0)\n",
        "The general recipe for calling functions and saving the result to a variable is thus:\n",
        "\n",
        "output = function_name(input)"
      ]
    },
    {
      "cell_type": "code",
      "metadata": {
        "id": "ziiC2vbif7k8",
        "colab": {
          "base_uri": "https://localhost:8080/",
          "height": 52
        },
        "outputId": "0165f3da-bc1f-406e-a96e-9c15719142a5"
      },
      "source": [
        "# Create variables var1 and var2\n",
        "var1 = [1, 2, 3, 4]\n",
        "var2 = True\n",
        "\n",
        "# Print out type of var1\n",
        "print(type(var1))\n",
        "\n",
        "# Print out length of var1\n",
        "print(len(var1))\n",
        "\n",
        "# Convert var2 to an integer: out2\n",
        "out2 = int(var2)"
      ],
      "execution_count": null,
      "outputs": [
        {
          "output_type": "stream",
          "text": [
            "<class 'list'>\n",
            "4\n"
          ],
          "name": "stdout"
        }
      ]
    },
    {
      "cell_type": "markdown",
      "metadata": {
        "id": "c13ngR5igig3"
      },
      "source": [
        "####**1.6.4-Multiple arguments**\n",
        "In the previous exercise, the square brackets around imag in the documentation showed us that the imag argument is optional. But Python also uses a different way to tell users about arguments being optional.\n",
        "\n",
        "Have a look at the documentation of sorted() by typing help(sorted) in the IPython Shell.\n",
        "\n",
        "You'll see that sorted() takes three arguments: iterable, key and reverse.\n",
        "\n",
        "key=None means that if you don't specify the key argument, it will be None. reverse=False means that if you don't specify the reverse argument, it will be False.\n",
        "\n",
        "In this exercise, you'll only have to specify iterable and reverse, not key. The first input you pass to sorted() will be matched to the iterable argument, but what about the second input? To tell Python you want to specify reverse without changing anything about key, you can use =:\n",
        "\n",
        "sorted(___, reverse = ___)\n",
        "Two lists have been created for you in the editor. Can you paste them together and sort them in descending order?\n",
        "\n",
        "Note: For now, we can understand an iterable as being any collection of objects, e.g. a List."
      ]
    },
    {
      "cell_type": "code",
      "metadata": {
        "id": "KqJ_4h9Bgr0g",
        "colab": {
          "base_uri": "https://localhost:8080/",
          "height": 35
        },
        "outputId": "e4037e87-a0c5-4e54-ce3f-73e241a71b43"
      },
      "source": [
        "# Create lists first and second\n",
        "first = [11.25, 18.0, 20.0]\n",
        "second = [10.75, 9.50]\n",
        "\n",
        "# Paste together first and second: full\n",
        "full = first + second\n",
        "\n",
        "# Sort full in descending order: full_sorted\n",
        "full_sorted = sorted(full, reverse = True)\n",
        "\n",
        "# Print out full_sorted\n",
        "print(full_sorted)"
      ],
      "execution_count": null,
      "outputs": [
        {
          "output_type": "stream",
          "text": [
            "[20.0, 18.0, 11.25, 10.75, 9.5]\n"
          ],
          "name": "stdout"
        }
      ]
    },
    {
      "cell_type": "markdown",
      "metadata": {
        "id": "W1PYAWYCQxrC"
      },
      "source": [
        "##**1.7.1-Methods**\n",
        "**Built_in Function**\n",
        "- Maximum of list:max()\n",
        "- Length of liat or string:len()\n",
        "- Get index in list:?\n",
        "- Reversing alist:?\n",
        "\n",
        "**You can think of methods as function that \"belong\"python objects**"
      ]
    },
    {
      "cell_type": "code",
      "metadata": {
        "id": "MCQ2S5DWSF0R"
      },
      "source": [
        "#Example of method\n",
        "\n",
        "#str(object) capitalize replace()\n",
        "sister = \"liz\"\n",
        "\n",
        "#float(object) bit_lenght()\n",
        "#conjugate()\n",
        "height = 1.73\n",
        "\n",
        "#list index() cout()\n",
        "fam = [\"liz\",1.73, \"emma\",1.68, \"mom\",1.71, \"dad\", 1.89]"
      ],
      "execution_count": null,
      "outputs": []
    },
    {
      "cell_type": "markdown",
      "metadata": {
        "id": "wqQ7PDh7TcyP"
      },
      "source": [
        "####**1.7.2-List method**\n"
      ]
    },
    {
      "cell_type": "code",
      "metadata": {
        "id": "VrHeRQxkTqrO"
      },
      "source": [
        "fam = [\"liz\",1,73, \"emma\",1,68, \"mom\",1.71, \"dad\",1.89]\n",
        "fam.index(\"mom\")# \"call method index() on fam\"\n",
        "#To call the method,you use the dot notation,like this.\n",
        "\n",
        "fam.count(1.71)\n"
      ],
      "execution_count": null,
      "outputs": []
    },
    {
      "cell_type": "markdown",
      "metadata": {
        "id": "DSLyWiM5VrKj"
      },
      "source": [
        "**Similarly,I can use the count method on the fam list to count the number of times 1-point-71 occurs in the list.**"
      ]
    },
    {
      "cell_type": "markdown",
      "metadata": {
        "id": "yR_OVnidWU4o"
      },
      "source": [
        "####**1.7.3-str method**"
      ]
    },
    {
      "cell_type": "code",
      "metadata": {
        "id": "fmAdAYUoWeH3",
        "colab": {
          "base_uri": "https://localhost:8080/",
          "height": 35
        },
        "outputId": "e7ec2b3e-295b-4b1d-b8f1-fdbca6219396"
      },
      "source": [
        "sister"
      ],
      "execution_count": null,
      "outputs": [
        {
          "output_type": "execute_result",
          "data": {
            "application/vnd.google.colaboratory.intrinsic+json": {
              "type": "string"
            },
            "text/plain": [
              "'liz'"
            ]
          },
          "metadata": {
            "tags": []
          },
          "execution_count": 15
        }
      ]
    },
    {
      "cell_type": "code",
      "metadata": {
        "id": "qghuR0PXWmWX",
        "colab": {
          "base_uri": "https://localhost:8080/",
          "height": 35
        },
        "outputId": "ba8a96a4-4c76-4899-99a7-893ec9225f6d"
      },
      "source": [
        "sister.capitalize()"
      ],
      "execution_count": null,
      "outputs": [
        {
          "output_type": "execute_result",
          "data": {
            "application/vnd.google.colaboratory.intrinsic+json": {
              "type": "string"
            },
            "text/plain": [
              "'Liz'"
            ]
          },
          "metadata": {
            "tags": []
          },
          "execution_count": 16
        }
      ]
    },
    {
      "cell_type": "markdown",
      "metadata": {
        "id": "hjfF_RrnWyAi"
      },
      "source": [
        "**You can call the method capitalize on sister,without any inputs.It returns a string where the frist letter is capitalized new.**"
      ]
    },
    {
      "cell_type": "markdown",
      "metadata": {
        "id": "FfqwCGXnYdGZ"
      },
      "source": [
        "####**1.7.4-String Methods**\n",
        "Strings come with a bunch of methods. Follow the instructions closely to discover some of them. If you want to discover them in more detail, you can always type help(str) in the IPython Shell.\n",
        "\n",
        "A string place has already been created for you to experiment with."
      ]
    },
    {
      "cell_type": "code",
      "metadata": {
        "id": "TpHre_Q2YnkR",
        "colab": {
          "base_uri": "https://localhost:8080/",
          "height": 52
        },
        "outputId": "e713072c-da5f-448f-d62d-7669267fe5e8"
      },
      "source": [
        "# string to experiment with: place\n",
        "place = \"poolhouse\"\n",
        "\n",
        "# Use upper() on place: place_up\n",
        "place_up = place.upper()\n",
        "\n",
        "# Print out place and place_up\n",
        "print(place)\n",
        "print(place_up)"
      ],
      "execution_count": null,
      "outputs": [
        {
          "output_type": "stream",
          "text": [
            "poolhouse\n",
            "POOLHOUSE\n"
          ],
          "name": "stdout"
        }
      ]
    },
    {
      "cell_type": "markdown",
      "metadata": {
        "id": "vVcRynj_ZKxh"
      },
      "source": [
        "####**1.7.5-List Methods**\n",
        "Strings are not the only Python types that have methods associated with them. Lists, floats, integers and booleans are also types that come packaged with a bunch of useful methods. In this exercise, you'll be experimenting with:\n",
        "\n",
        "index(), to get the index of the first element of a list that matches its input and\n",
        "count(), to get the number of times an element appears in a list.\n",
        "You'll be working on the list with the area of different parts of a house: areas.\n",
        "\n"
      ]
    },
    {
      "cell_type": "code",
      "metadata": {
        "id": "7fBGUq9cZiWu"
      },
      "source": [
        "# Create list areas\n",
        "areas = [11.25, 18.0, 20.0, 10.75, 9.50]\n",
        "\n",
        "# Print out the index of the element 20.0\n",
        "print(areas.index(20.0))\n",
        "\n",
        "# Print out how often 9.50 appears in areas\n",
        "print(areas.count(9.50))"
      ],
      "execution_count": null,
      "outputs": []
    },
    {
      "cell_type": "markdown",
      "metadata": {
        "id": "U3H7m61bDuaM"
      },
      "source": [
        "##**1.8.1-Packages**\n",
        "**What are packages**\n",
        "\n",
        "We don't usually store all of our files on our computer in the same location. We use a well-organized hierarchy of directories for easier access.\n",
        "\n",
        "Similar files are kept in the same directory, for example, we may keep all the songs in the \"music\" directory. Analogous to this, Python has packages for directories and modules for files."
      ]
    },
    {
      "cell_type": "markdown",
      "metadata": {
        "id": "AtjXCcB9D_AA"
      },
      "source": [
        "####**1.8.2-Motivation**\n",
        "- **Function and methods are powerful.**\n",
        "\n",
        "Python functions and methods are extremely powerful:You can basically use other people's code to solve your own problems.\n",
        "\n",
        "\n",
        "- **Lots of code you won't use.**\n",
        "\n",
        "There would be tons of tons of code in there that you'll never use.\n",
        "\n",
        "\n",
        "- **Maintenance problem**\n",
        "\n",
        "Maintaning all of this code would be a real pain.\n",
        "\n"
      ]
    },
    {
      "cell_type": "markdown",
      "metadata": {
        "id": "Rs4TMasLG13E"
      },
      "source": [
        "####**1.8.3-Packages**\n",
        "\n",
        "- **Directory of python scripts**\n",
        "\n",
        "You can think of packages as a director of python scripts.Each such script is a so-called module.\n",
        "\n",
        "- **Module**\n",
        "\n",
        "Modules in Python are simply Python files with a .py extension. The name of the module will be the name of the file. A Python module can have a set of functions, classes or variables defined and implemented\n",
        "\n",
        "**Types of module**\n",
        "\n",
        "There are two types of modulein python.\n",
        "\n",
        "**Built in module**\n",
        "- Pre installed in python.\n",
        "\n",
        "**External module**\n",
        "- Need to install using pip.\n",
        "\n",
        "\n",
        "\n",
        "- **Script**\n",
        "\n",
        "A Python script is a collection of commands in a file designed to be executed like a program. The file can of course contain functions and import various modules, but the idea is that it will be run or executed from the command line or from within a Python interactive shell to perform a specific task.\n",
        "\n",
        "- **Specify function,method,type.**\n",
        "\n",
        "Thses module specify,methods and new python types aimed at solving particular problems.\n",
        "\n",
        "- **Thousand of packages available**\n",
        "\n",
        "There are thousand of packages is available from internet.\n",
        "\n",
        "\n",
        "\n",
        "\n",
        "**Packages for Data science**\n",
        "\n",
        "- **Numpy**\n",
        "\n",
        "Nympy to efficiently work with arrays.\n",
        "\n",
        "- **Matplotlib**\n",
        "\n",
        "Matplotlib for data visualization,and scikit-learn for mechine learning.\n"
      ]
    },
    {
      "cell_type": "markdown",
      "metadata": {
        "id": "N-P3B7__MDFV"
      },
      "source": [
        "####**1.8.4-Install packages**\n",
        "\n",
        "To use python packages,you'll frist have to install them on your own system and then put code in your script tp tell python that you want to use thses packages\n",
        "\n",
        "**pip**\n",
        "\n",
        "- A packages maintenance system for python.\n",
        "- pip is the package manager for python.- \n",
        "- You can use to install pip amodule on your system.\n",
        "\n",
        "\n",
        "http://pip.readthedocs.org/en/stable/installing/\n",
        "You can download the file get-pip-dot-py.\n",
        "\n",
        "- **Terminal**\n",
        "\n",
        "Next you go to the terminal,and execute python3 get-pip-dot-py.\n",
        "\n",
        "- **pip3 install nump**\n",
        "\n",
        "If you install nump file.\n",
        "\n"
      ]
    },
    {
      "cell_type": "markdown",
      "metadata": {
        "id": "JIdTI02WfGFm"
      },
      "source": [
        "####**1.8.5-Import packages**\n",
        "\n",
        "Bofore you can do this,you should import the packages,or a specific module of the packages you can do this with the import statement.\n",
        "\n",
        "To import the entire numpy packages you can do import nump,loke this."
      ]
    },
    {
      "cell_type": "code",
      "metadata": {
        "id": "iRpLIY1YgPkI"
      },
      "source": [
        "import numpy\n",
        "array([1,2,3])"
      ],
      "execution_count": null,
      "outputs": []
    },
    {
      "cell_type": "markdown",
      "metadata": {
        "id": "0ob8Vf3fgeP0"
      },
      "source": [
        "A commonly used function in Numpy is array.\n",
        "\n",
        "**It take a list as input**"
      ]
    },
    {
      "cell_type": "code",
      "metadata": {
        "id": "ezoluiJSgvUz"
      },
      "source": [
        "numpy.array([1,2,3])"
      ],
      "execution_count": null,
      "outputs": []
    },
    {
      "cell_type": "markdown",
      "metadata": {
        "id": "X6oJXvKgg1ab"
      },
      "source": [
        "- **This one is correct**\n",
        "- **The Numpy array is very useful to do data science.**"
      ]
    },
    {
      "cell_type": "markdown",
      "metadata": {
        "id": "kEh-Uydfisx0"
      },
      "source": [
        "# **References**\n",
        "\n",
        "[[1] Learn Python](https://www.learnpython.org/en/Conditions)\n",
        "\n",
        "[[2] Real-Time Face Mask Detector with Python, OpenCV, Keras](https://data-flair.training/blogs/face-mask-detection-with-python/)\n",
        "\n",
        "[3] https://medium.com/mlpoint/numpy-for-machine-learning-211a3e58b574]\n",
        "\n",
        "[[4] Interesting Facts About Python Programming Language](https://pub.towardsai.net/8-interesting-facts-about-python-programming-language-ff8ccba88cad#3781)\n",
        "\n",
        "\n",
        "[20 Great Pandas Tricks For Data Science](https://towardsdatascience.com/20-great-pandas-tricks-for-data-science-3a6daed71da0)\n",
        "\n",
        "[Top 5 Python IDE’s For Data Science](https://preettheman.medium.com/top-python-ides-for-data-science-c49c6056cdb4)\n",
        "\n",
        "[Best extensions for JupyterLab!!](https://jlgjosue.medium.com/best-extensions-for-jupyterlab-185ab5f3e05c)\n",
        "\n",
        "[5 Useful Advanced Features of Python](https://python.plainenglish.io/5-useful-advanced-features-of-python-40f0d67fff84)\n",
        "\n",
        "[Quick Recap : 60 days of Data Science and Machine Learning Series](https://medium.com/coders-mojo/quick-recap-60-days-of-data-science-and-machine-learning-series-457ca0e98279)\n",
        "\n",
        "[Top 10 Python Frameworks for Web Development in 2022](https://enlear.academy/top-10-python-frameworks-for-web-development-in-2022-22b37bb03c02)\n",
        "\n",
        "[10 Tools I Wish I Knew When I Started Working with Python](https://python.plainenglish.io/10-tools-to-help-claw-your-way-back-to-sanity-while-coding-python-df0af160c33e)"
      ]
    }
  ]
}