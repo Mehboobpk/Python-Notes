{
  "nbformat": 4,
  "nbformat_minor": 0,
  "metadata": {
    "colab": {
      "provenance": [],
      "toc_visible": true,
      "include_colab_link": true
    },
    "kernelspec": {
      "name": "python3",
      "display_name": "Python 3"
    },
    "language_info": {
      "name": "python"
    }
  },
  "cells": [
    {
      "cell_type": "markdown",
      "metadata": {
        "id": "view-in-github",
        "colab_type": "text"
      },
      "source": [
        "<a href=\"https://colab.research.google.com/github/hussain0048/Python/blob/master/NumPy_101.ipynb\" target=\"_parent\"><img src=\"https://colab.research.google.com/assets/colab-badge.svg\" alt=\"Open In Colab\"/></a>"
      ]
    },
    {
      "cell_type": "markdown",
      "source": [
        "# NumPy Course from Beginner Level to Intermediate and Advance"
      ],
      "metadata": {
        "id": "nE-S1DGZeqfj"
      }
    },
    {
      "cell_type": "markdown",
      "source": [
        "# NumPy | Beginner Level"
      ],
      "metadata": {
        "id": "L2c1EIl6e0-b"
      }
    },
    {
      "cell_type": "markdown",
      "source": [
        "####**Chaptar 1-Introduction to NumPy**\n",
        "\n",
        "NumPy stands for ‘Numerical Python’. It is an open-source Python library used to perform various mathematical and scientific tasks.NumPy is one of the very first libraries in Python that makes your numerical computations easy and efficient. This course will get you acquainted (familiarize) with NumPy. It contains multi-dimensional arrays and matrices, along with many high-lev[link text](https://)"
      ],
      "metadata": {
        "id": "RLwXpfoFfD69"
      }
    },
    {
      "cell_type": "markdown",
      "source": [
        "**How to Install Numpy?**"
      ],
      "metadata": {
        "id": "1Em_GmIwfQZ1"
      }
    },
    {
      "cell_type": "code",
      "source": [
        "pip install numpy"
      ],
      "metadata": {
        "colab": {
          "base_uri": "https://localhost:8080/"
        },
        "id": "cGZRkk99fS3i",
        "outputId": "75db5d81-2718-486a-deb0-6d1d22206bf1"
      },
      "execution_count": null,
      "outputs": [
        {
          "output_type": "stream",
          "name": "stdout",
          "text": [
            "Looking in indexes: https://pypi.org/simple, https://us-python.pkg.dev/colab-wheels/public/simple/\n",
            "Requirement already satisfied: numpy in /usr/local/lib/python3.8/dist-packages (1.21.6)\n"
          ]
        }
      ]
    },
    {
      "cell_type": "markdown",
      "source": [
        "####**How to Import Numpy?**"
      ],
      "metadata": {
        "id": "bevbIYRRf8A6"
      }
    },
    {
      "cell_type": "code",
      "source": [
        "import numpy as np"
      ],
      "metadata": {
        "id": "HQ7JdzuMfmT7"
      },
      "execution_count": null,
      "outputs": []
    },
    {
      "cell_type": "markdown",
      "source": [
        "####**What is an array**\n",
        "\n",
        "An array is a data structure consisting of a collection of elements (values or variables), each identified by at least one array index or key.\n",
        "An array is known as the central data structure of the NumPy library. Array in NumPy is called as NumPy Array."
      ],
      "metadata": {
        "id": "nibd9Acog9Gs"
      }
    },
    {
      "cell_type": "markdown",
      "source": [
        "##**The Basics operations on Numpy Array**\n",
        "NumPy’s main object is the homogeneous multidimensional array. It is a table of elements (usually numbers), all of the\n",
        "same type, indexed by a tuple of non-negative integers. In NumPy dimensions are called axes.\n",
        "For example, the array for the coordinates of a point in 3D space, [1, 2, 1], has one axis. That axis has 3 elements\n",
        "in it, so we say it has a length of 3. In the example pictured below, the array has 2 axes. The first axis has a length of 2,\n",
        "the second axis has a length of 3.\n",
        "[[1., 0., 0.],\n",
        "[0., 1., 2.]]\n",
        "NumPy’s array class is called ndarray. It is also known by the alias array. Note that numpy.array is not the\n",
        "same as the Standard Python Library class array.array, which only"
      ],
      "metadata": {
        "id": "TuIFR11HiUmK"
      }
    },
    {
      "cell_type": "markdown",
      "source": [
        "\n",
        "**ndarray.ndim**\n",
        "\n",
        "the number of axes (dimensions) of the array.\n",
        "\n",
        "**ndarray.shape**\n",
        "\n",
        "the dimensions of the array. This is a tuple of integers indicating the size of the array in each dimension. For a\n",
        "matrix with n rows and m columns, shape will be (n,m). The length of the shape tuple is therefore the number of axes, ndim.\n",
        "\n",
        "**ndarray.size**\n",
        "\n",
        "the total number of elements of the array. This is equal to the product of the elements of shape.\n",
        "\n",
        "**ndarray.dtype**\n",
        "\n",
        "an object describing the type of the elements in the array. One can create or specify dtype’s using standard Python\n",
        "types. Additionally NumPy provides types of its own. numpy.int32, numpy.int16, and numpy.float64 are some\n",
        "examples.\n",
        "\n",
        "**ndarray.itemsize**\n",
        "\n",
        "the size in bytes of each element of the array. For example, an array of elements of type float64 has itemsize\n",
        "8 (=64/8), while one of type complex32 has itemsize 4 (=32/8). It is equivalent to ndarray.dtype.\n",
        "\n",
        "**itemsize.**\n",
        "\n",
        "ndarray.data\n",
        "the buffer containing the actual elements of the array. Normally, we won’t need to use this attribute because we\n",
        "will access the elements in an array using indexing facilities.\n"
      ],
      "metadata": {
        "id": "DMQHKx5ig_TD"
      }
    },
    {
      "cell_type": "markdown",
      "source": [
        "**An example**\n"
      ],
      "metadata": {
        "id": "zGCRH2O7g_gr"
      }
    },
    {
      "cell_type": "code",
      "source": [
        "arr = np.arange(15).reshape(3, 5) \n",
        "# Arange function will create 15 points from 0 to 14 and then reshape will reshape it accordingly\n"
      ],
      "metadata": {
        "id": "G1kxfmaijN7a"
      },
      "execution_count": null,
      "outputs": []
    },
    {
      "cell_type": "code",
      "source": [
        "arr"
      ],
      "metadata": {
        "colab": {
          "base_uri": "https://localhost:8080/"
        },
        "id": "RSbQiIVRgAxQ",
        "outputId": "0d5dc18e-7035-4fcf-8832-33a05904d5d0"
      },
      "execution_count": null,
      "outputs": [
        {
          "output_type": "execute_result",
          "data": {
            "text/plain": [
              "array([[ 0,  1,  2,  3,  4],\n",
              "       [ 5,  6,  7,  8,  9],\n",
              "       [10, 11, 12, 13, 14]])"
            ]
          },
          "metadata": {},
          "execution_count": 10
        }
      ]
    },
    {
      "cell_type": "code",
      "source": [
        "print(arr.shape)"
      ],
      "metadata": {
        "colab": {
          "base_uri": "https://localhost:8080/"
        },
        "id": "F3ClKsPphVYX",
        "outputId": "3141e85a-3117-4e2f-e888-c8cc189be79a"
      },
      "execution_count": null,
      "outputs": [
        {
          "output_type": "stream",
          "name": "stdout",
          "text": [
            "(3, 5)\n"
          ]
        }
      ]
    },
    {
      "cell_type": "code",
      "source": [
        "print(arr.ndim)"
      ],
      "metadata": {
        "colab": {
          "base_uri": "https://localhost:8080/"
        },
        "id": "YJEwJExEj6G5",
        "outputId": "97446dfe-88e2-40b6-8b6d-66a91e7757d0"
      },
      "execution_count": null,
      "outputs": [
        {
          "output_type": "stream",
          "name": "stdout",
          "text": [
            "2\n"
          ]
        }
      ]
    },
    {
      "cell_type": "code",
      "source": [
        "print(arr.dtype.name)"
      ],
      "metadata": {
        "colab": {
          "base_uri": "https://localhost:8080/"
        },
        "id": "TvyxWmNjj_Oo",
        "outputId": "a8bd7c2d-2854-4205-cb55-04881d3b557a"
      },
      "execution_count": null,
      "outputs": [
        {
          "output_type": "stream",
          "name": "stdout",
          "text": [
            "int64\n"
          ]
        }
      ]
    },
    {
      "cell_type": "code",
      "source": [
        "print(arr.size)"
      ],
      "metadata": {
        "colab": {
          "base_uri": "https://localhost:8080/"
        },
        "id": "3Vi0y_23kGWY",
        "outputId": "ffdce256-520f-419c-c724-7d7920edadb2"
      },
      "execution_count": null,
      "outputs": [
        {
          "output_type": "stream",
          "name": "stdout",
          "text": [
            "15\n"
          ]
        }
      ]
    },
    {
      "cell_type": "code",
      "source": [
        "print(type(arr))"
      ],
      "metadata": {
        "colab": {
          "base_uri": "https://localhost:8080/"
        },
        "id": "VNAPiinlkJoI",
        "outputId": "3b5efffd-0668-4442-f301-ed03219a00dd"
      },
      "execution_count": null,
      "outputs": [
        {
          "output_type": "stream",
          "name": "stdout",
          "text": [
            "<class 'numpy.ndarray'>\n"
          ]
        }
      ]
    },
    {
      "cell_type": "code",
      "source": [],
      "metadata": {
        "id": "yaxh1EWCkcKh"
      },
      "execution_count": null,
      "outputs": []
    },
    {
      "cell_type": "markdown",
      "source": [
        "## **Array Creation**"
      ],
      "metadata": {
        "id": "Mm9QRTZokflx"
      }
    },
    {
      "cell_type": "markdown",
      "source": [
        "There are several ways to create arrays.\n",
        "For example, you can create an array from a regular Python list or tuple using the array function. The type of the\n",
        "resulting array is deduced from the type of the elements in the sequences"
      ],
      "metadata": {
        "id": "NFyAWgpCknPU"
      }
    },
    {
      "cell_type": "code",
      "source": [
        "arr_a = np.array([2, 3, 4]) # array creation of integer data type"
      ],
      "metadata": {
        "id": "S4LctFAjkhT4"
      },
      "execution_count": null,
      "outputs": []
    },
    {
      "cell_type": "code",
      "source": [
        "print(arr_a)"
      ],
      "metadata": {
        "colab": {
          "base_uri": "https://localhost:8080/"
        },
        "id": "895Lww8Xktvh",
        "outputId": "86138a70-372a-4152-d76b-95e018c9b695"
      },
      "execution_count": null,
      "outputs": [
        {
          "output_type": "stream",
          "name": "stdout",
          "text": [
            "[2 3 4]\n"
          ]
        }
      ]
    },
    {
      "cell_type": "code",
      "source": [
        "arr_a.dtype # Data Type"
      ],
      "metadata": {
        "colab": {
          "base_uri": "https://localhost:8080/"
        },
        "id": "bmxS5T9Mku7y",
        "outputId": "026bebf5-39ef-458a-d752-5d578cdf2260"
      },
      "execution_count": null,
      "outputs": [
        {
          "output_type": "execute_result",
          "data": {
            "text/plain": [
              "dtype('int64')"
            ]
          },
          "metadata": {},
          "execution_count": 19
        }
      ]
    },
    {
      "cell_type": "code",
      "source": [
        "arr_b = np.array([4.0,5.4,42.5]) # array creation with float data type\n",
        "print(arr_b)\n",
        "print(arr_b.dtype)\n"
      ],
      "metadata": {
        "colab": {
          "base_uri": "https://localhost:8080/"
        },
        "id": "xw-DCovHkzJ7",
        "outputId": "b0b29470-e931-436e-fa68-b7bf3d6aca14"
      },
      "execution_count": null,
      "outputs": [
        {
          "output_type": "stream",
          "name": "stdout",
          "text": [
            "[ 4.   5.4 42.5]\n",
            "float64\n"
          ]
        }
      ]
    },
    {
      "cell_type": "markdown",
      "source": [
        "## **Array Creation with Builtin functions**"
      ],
      "metadata": {
        "id": "VzKOOIddluHa"
      }
    },
    {
      "cell_type": "code",
      "source": [
        "arr_zeros = np.zeros((5,5))\n",
        "arr_zeros"
      ],
      "metadata": {
        "colab": {
          "base_uri": "https://localhost:8080/"
        },
        "id": "1N9dllV0lyYf",
        "outputId": "aabc4954-831e-4e33-913c-f9069cef9f97"
      },
      "execution_count": null,
      "outputs": [
        {
          "output_type": "execute_result",
          "data": {
            "text/plain": [
              "array([[0., 0., 0., 0., 0.],\n",
              "       [0., 0., 0., 0., 0.],\n",
              "       [0., 0., 0., 0., 0.],\n",
              "       [0., 0., 0., 0., 0.],\n",
              "       [0., 0., 0., 0., 0.]])"
            ]
          },
          "metadata": {},
          "execution_count": 24
        }
      ]
    },
    {
      "cell_type": "code",
      "source": [
        "arr_ones= np.ones((5,5))\n",
        "arr_ones"
      ],
      "metadata": {
        "colab": {
          "base_uri": "https://localhost:8080/"
        },
        "id": "BuoYHsh1l6cH",
        "outputId": "a5a07373-b5de-4429-ceff-6e70237408f3"
      },
      "execution_count": null,
      "outputs": [
        {
          "output_type": "execute_result",
          "data": {
            "text/plain": [
              "array([[1., 1., 1., 1., 1.],\n",
              "       [1., 1., 1., 1., 1.],\n",
              "       [1., 1., 1., 1., 1.],\n",
              "       [1., 1., 1., 1., 1.],\n",
              "       [1., 1., 1., 1., 1.]])"
            ]
          },
          "metadata": {},
          "execution_count": 25
        }
      ]
    },
    {
      "cell_type": "code",
      "source": [
        "arr_create = np.arange(5,50, 2)\n",
        "arr_create\n",
        "len(arr_create)"
      ],
      "metadata": {
        "colab": {
          "base_uri": "https://localhost:8080/"
        },
        "id": "INYodR2Ul_mI",
        "outputId": "6a736caa-cc8f-4ffb-92e4-b345bab326d0"
      },
      "execution_count": null,
      "outputs": [
        {
          "output_type": "execute_result",
          "data": {
            "text/plain": [
              "23"
            ]
          },
          "metadata": {},
          "execution_count": 33
        }
      ]
    },
    {
      "cell_type": "markdown",
      "source": [
        "##Printing Arrays"
      ],
      "metadata": {
        "id": "rCkHha3rnSdE"
      }
    },
    {
      "cell_type": "markdown",
      "source": [
        "Printing array in numpy is very easy and can do it by using the builtin print function"
      ],
      "metadata": {
        "id": "_vHgHyoFnY_y"
      }
    },
    {
      "cell_type": "markdown",
      "source": [
        "When you print an array, NumPy displays it in a similar way to nested lists, but with the following layout:\n",
        "• the last axis is printed from left to right,\n",
        "• the second-to-last is printed from top to bottom,\n",
        "• the rest are also printed from top to bottom, with each slice separated from the next by an empty line.\n",
        "One-dimensional arrays are then printed as rows, bidimensionals as matrices and tridimensionals as lists of matrices"
      ],
      "metadata": {
        "id": "idIHLH5nnmSC"
      }
    },
    {
      "cell_type": "code",
      "source": [
        "arr = np.arange(5)\n",
        "print(arr)"
      ],
      "metadata": {
        "colab": {
          "base_uri": "https://localhost:8080/"
        },
        "id": "P9s_1nismfhd",
        "outputId": "ab979b3c-5ba7-44cc-b246-d7df3e059622"
      },
      "execution_count": null,
      "outputs": [
        {
          "output_type": "stream",
          "name": "stdout",
          "text": [
            "[0 1 2 3 4]\n"
          ]
        }
      ]
    },
    {
      "cell_type": "code",
      "source": [
        "arr = np.arange(12).reshape(3,4)\n",
        "print(arr)"
      ],
      "metadata": {
        "colab": {
          "base_uri": "https://localhost:8080/"
        },
        "id": "7O9ScLNLnx7R",
        "outputId": "5b6738c9-b549-4469-f92b-b0dc6182de5b"
      },
      "execution_count": null,
      "outputs": [
        {
          "output_type": "stream",
          "name": "stdout",
          "text": [
            "[[ 0  1  2  3]\n",
            " [ 4  5  6  7]\n",
            " [ 8  9 10 11]]\n"
          ]
        }
      ]
    },
    {
      "cell_type": "code",
      "source": [
        "arr = np.arange(24).reshape(2,3,4)\n",
        "print(arr)"
      ],
      "metadata": {
        "colab": {
          "base_uri": "https://localhost:8080/"
        },
        "id": "j9ly-cwAn5_A",
        "outputId": "5be4ccae-e81a-4158-e26e-6bf0da9aa057"
      },
      "execution_count": null,
      "outputs": [
        {
          "output_type": "stream",
          "name": "stdout",
          "text": [
            "[[[ 0  1  2  3]\n",
            "  [ 4  5  6  7]\n",
            "  [ 8  9 10 11]]\n",
            "\n",
            " [[12 13 14 15]\n",
            "  [16 17 18 19]\n",
            "  [20 21 22 23]]]\n"
          ]
        }
      ]
    },
    {
      "cell_type": "code",
      "source": [
        "arr = np.arange(1000)\n",
        "print(arr)"
      ],
      "metadata": {
        "colab": {
          "base_uri": "https://localhost:8080/"
        },
        "id": "Rg0pIFpjoA7h",
        "outputId": "c54c9b99-e989-4d0f-d14a-2e97764d72d5"
      },
      "execution_count": null,
      "outputs": [
        {
          "output_type": "stream",
          "name": "stdout",
          "text": [
            "[  0   1   2   3   4   5   6   7   8   9  10  11  12  13  14  15  16  17\n",
            "  18  19  20  21  22  23  24  25  26  27  28  29  30  31  32  33  34  35\n",
            "  36  37  38  39  40  41  42  43  44  45  46  47  48  49  50  51  52  53\n",
            "  54  55  56  57  58  59  60  61  62  63  64  65  66  67  68  69  70  71\n",
            "  72  73  74  75  76  77  78  79  80  81  82  83  84  85  86  87  88  89\n",
            "  90  91  92  93  94  95  96  97  98  99 100 101 102 103 104 105 106 107\n",
            " 108 109 110 111 112 113 114 115 116 117 118 119 120 121 122 123 124 125\n",
            " 126 127 128 129 130 131 132 133 134 135 136 137 138 139 140 141 142 143\n",
            " 144 145 146 147 148 149 150 151 152 153 154 155 156 157 158 159 160 161\n",
            " 162 163 164 165 166 167 168 169 170 171 172 173 174 175 176 177 178 179\n",
            " 180 181 182 183 184 185 186 187 188 189 190 191 192 193 194 195 196 197\n",
            " 198 199 200 201 202 203 204 205 206 207 208 209 210 211 212 213 214 215\n",
            " 216 217 218 219 220 221 222 223 224 225 226 227 228 229 230 231 232 233\n",
            " 234 235 236 237 238 239 240 241 242 243 244 245 246 247 248 249 250 251\n",
            " 252 253 254 255 256 257 258 259 260 261 262 263 264 265 266 267 268 269\n",
            " 270 271 272 273 274 275 276 277 278 279 280 281 282 283 284 285 286 287\n",
            " 288 289 290 291 292 293 294 295 296 297 298 299 300 301 302 303 304 305\n",
            " 306 307 308 309 310 311 312 313 314 315 316 317 318 319 320 321 322 323\n",
            " 324 325 326 327 328 329 330 331 332 333 334 335 336 337 338 339 340 341\n",
            " 342 343 344 345 346 347 348 349 350 351 352 353 354 355 356 357 358 359\n",
            " 360 361 362 363 364 365 366 367 368 369 370 371 372 373 374 375 376 377\n",
            " 378 379 380 381 382 383 384 385 386 387 388 389 390 391 392 393 394 395\n",
            " 396 397 398 399 400 401 402 403 404 405 406 407 408 409 410 411 412 413\n",
            " 414 415 416 417 418 419 420 421 422 423 424 425 426 427 428 429 430 431\n",
            " 432 433 434 435 436 437 438 439 440 441 442 443 444 445 446 447 448 449\n",
            " 450 451 452 453 454 455 456 457 458 459 460 461 462 463 464 465 466 467\n",
            " 468 469 470 471 472 473 474 475 476 477 478 479 480 481 482 483 484 485\n",
            " 486 487 488 489 490 491 492 493 494 495 496 497 498 499 500 501 502 503\n",
            " 504 505 506 507 508 509 510 511 512 513 514 515 516 517 518 519 520 521\n",
            " 522 523 524 525 526 527 528 529 530 531 532 533 534 535 536 537 538 539\n",
            " 540 541 542 543 544 545 546 547 548 549 550 551 552 553 554 555 556 557\n",
            " 558 559 560 561 562 563 564 565 566 567 568 569 570 571 572 573 574 575\n",
            " 576 577 578 579 580 581 582 583 584 585 586 587 588 589 590 591 592 593\n",
            " 594 595 596 597 598 599 600 601 602 603 604 605 606 607 608 609 610 611\n",
            " 612 613 614 615 616 617 618 619 620 621 622 623 624 625 626 627 628 629\n",
            " 630 631 632 633 634 635 636 637 638 639 640 641 642 643 644 645 646 647\n",
            " 648 649 650 651 652 653 654 655 656 657 658 659 660 661 662 663 664 665\n",
            " 666 667 668 669 670 671 672 673 674 675 676 677 678 679 680 681 682 683\n",
            " 684 685 686 687 688 689 690 691 692 693 694 695 696 697 698 699 700 701\n",
            " 702 703 704 705 706 707 708 709 710 711 712 713 714 715 716 717 718 719\n",
            " 720 721 722 723 724 725 726 727 728 729 730 731 732 733 734 735 736 737\n",
            " 738 739 740 741 742 743 744 745 746 747 748 749 750 751 752 753 754 755\n",
            " 756 757 758 759 760 761 762 763 764 765 766 767 768 769 770 771 772 773\n",
            " 774 775 776 777 778 779 780 781 782 783 784 785 786 787 788 789 790 791\n",
            " 792 793 794 795 796 797 798 799 800 801 802 803 804 805 806 807 808 809\n",
            " 810 811 812 813 814 815 816 817 818 819 820 821 822 823 824 825 826 827\n",
            " 828 829 830 831 832 833 834 835 836 837 838 839 840 841 842 843 844 845\n",
            " 846 847 848 849 850 851 852 853 854 855 856 857 858 859 860 861 862 863\n",
            " 864 865 866 867 868 869 870 871 872 873 874 875 876 877 878 879 880 881\n",
            " 882 883 884 885 886 887 888 889 890 891 892 893 894 895 896 897 898 899\n",
            " 900 901 902 903 904 905 906 907 908 909 910 911 912 913 914 915 916 917\n",
            " 918 919 920 921 922 923 924 925 926 927 928 929 930 931 932 933 934 935\n",
            " 936 937 938 939 940 941 942 943 944 945 946 947 948 949 950 951 952 953\n",
            " 954 955 956 957 958 959 960 961 962 963 964 965 966 967 968 969 970 971\n",
            " 972 973 974 975 976 977 978 979 980 981 982 983 984 985 986 987 988 989\n",
            " 990 991 992 993 994 995 996 997 998 999]\n"
          ]
        }
      ]
    },
    {
      "cell_type": "markdown",
      "source": [
        "## Basic Mathematic Operations"
      ],
      "metadata": {
        "id": "3gtbL5POocfK"
      }
    },
    {
      "cell_type": "code",
      "source": [
        "A = np.arange(12).reshape(3,4)\n",
        "A"
      ],
      "metadata": {
        "colab": {
          "base_uri": "https://localhost:8080/"
        },
        "id": "FALoUIz9orON",
        "outputId": "e532ea2f-e79a-42e2-fd07-d91b0beccc26"
      },
      "execution_count": null,
      "outputs": [
        {
          "output_type": "execute_result",
          "data": {
            "text/plain": [
              "array([[ 0,  1,  2,  3],\n",
              "       [ 4,  5,  6,  7],\n",
              "       [ 8,  9, 10, 11]])"
            ]
          },
          "metadata": {},
          "execution_count": 41
        }
      ]
    },
    {
      "cell_type": "code",
      "source": [
        "B = np.arange(12).reshape(3,4)\n",
        "B"
      ],
      "metadata": {
        "colab": {
          "base_uri": "https://localhost:8080/"
        },
        "id": "8tvy_1d9o1Cs",
        "outputId": "ab303b79-df82-4c9f-f7f1-e4d5b7e46c7b"
      },
      "execution_count": null,
      "outputs": [
        {
          "output_type": "execute_result",
          "data": {
            "text/plain": [
              "array([[ 0,  1,  2,  3],\n",
              "       [ 4,  5,  6,  7],\n",
              "       [ 8,  9, 10, 11]])"
            ]
          },
          "metadata": {},
          "execution_count": 43
        }
      ]
    },
    {
      "cell_type": "code",
      "source": [
        "A+B"
      ],
      "metadata": {
        "colab": {
          "base_uri": "https://localhost:8080/"
        },
        "id": "pwqDdqpVo5t9",
        "outputId": "e0da380a-b58a-43bd-a81d-c5a2fdfd8a2a"
      },
      "execution_count": null,
      "outputs": [
        {
          "output_type": "execute_result",
          "data": {
            "text/plain": [
              "array([[ 0,  2,  4,  6],\n",
              "       [ 8, 10, 12, 14],\n",
              "       [16, 18, 20, 22]])"
            ]
          },
          "metadata": {},
          "execution_count": 44
        }
      ]
    },
    {
      "cell_type": "code",
      "source": [
        "A-B"
      ],
      "metadata": {
        "colab": {
          "base_uri": "https://localhost:8080/"
        },
        "id": "kN-er8eTo9ft",
        "outputId": "7acd770d-9bf1-42f1-d241-018a85c11dc5"
      },
      "execution_count": null,
      "outputs": [
        {
          "output_type": "execute_result",
          "data": {
            "text/plain": [
              "array([[0, 0, 0, 0],\n",
              "       [0, 0, 0, 0],\n",
              "       [0, 0, 0, 0]])"
            ]
          },
          "metadata": {},
          "execution_count": 45
        }
      ]
    },
    {
      "cell_type": "code",
      "source": [
        "A*B"
      ],
      "metadata": {
        "colab": {
          "base_uri": "https://localhost:8080/"
        },
        "id": "iOX3p32xo-6F",
        "outputId": "40f2e87a-8e13-4345-9e50-6525abaee287"
      },
      "execution_count": null,
      "outputs": [
        {
          "output_type": "execute_result",
          "data": {
            "text/plain": [
              "array([[  0,   1,   4,   9],\n",
              "       [ 16,  25,  36,  49],\n",
              "       [ 64,  81, 100, 121]])"
            ]
          },
          "metadata": {},
          "execution_count": 46
        }
      ]
    },
    {
      "cell_type": "code",
      "source": [
        "A/B"
      ],
      "metadata": {
        "colab": {
          "base_uri": "https://localhost:8080/"
        },
        "id": "ZeYGP9xbpAxt",
        "outputId": "23c6ff30-c63a-4de6-9791-469306708e6a"
      },
      "execution_count": null,
      "outputs": [
        {
          "output_type": "stream",
          "name": "stderr",
          "text": [
            "<ipython-input-47-5d618eb3152c>:1: RuntimeWarning: invalid value encountered in true_divide\n",
            "  A/B\n"
          ]
        },
        {
          "output_type": "execute_result",
          "data": {
            "text/plain": [
              "array([[nan,  1.,  1.,  1.],\n",
              "       [ 1.,  1.,  1.,  1.],\n",
              "       [ 1.,  1.,  1.,  1.]])"
            ]
          },
          "metadata": {},
          "execution_count": 47
        }
      ]
    },
    {
      "cell_type": "code",
      "source": [],
      "metadata": {
        "id": "8xrzcP_dpB_l"
      },
      "execution_count": null,
      "outputs": []
    },
    {
      "cell_type": "markdown",
      "source": [
        "## **Universal Functions**"
      ],
      "metadata": {
        "id": "sEiIJgEopSCp"
      }
    },
    {
      "cell_type": "markdown",
      "source": [
        "NumPy provides familiar mathematical functions such as sin, cos, and exp. In NumPy, these are called “universal functions” (ufunc). Within NumPy, these functions operate elementwise on an array, producing an array as output."
      ],
      "metadata": {
        "id": "L3uchx6EpWff"
      }
    },
    {
      "cell_type": "code",
      "source": [
        "B = np.arange(3)\n",
        "print(B)\n",
        "print(np.exp(B))\n",
        "print(np.sqrt(B))\n",
        "C = np.array([2., -1., 4.])\n",
        "print(np.add(B, C))\n"
      ],
      "metadata": {
        "id": "jnjIg_gjpTOt"
      },
      "execution_count": null,
      "outputs": []
    },
    {
      "cell_type": "markdown",
      "source": [
        "### **Trigonometric functions**"
      ],
      "metadata": {
        "id": "BHniR_53R_FY"
      }
    },
    {
      "cell_type": "code",
      "source": [
        "import numpy as np\n",
        "x = np.linspace(-4, 4, 200)\n",
        "\n",
        "# sin function\n",
        "sin = np.sin(x)\n",
        "# cosine function\n",
        "cos = np.cos(x)\n",
        "# tangent function\n",
        "tan = np.tan(x)"
      ],
      "metadata": {
        "id": "HEJ_QyFgSGgx"
      },
      "execution_count": null,
      "outputs": []
    },
    {
      "cell_type": "code",
      "source": [
        "import matplotlib.pylab as plt\n",
        "plt.style.use('dark_background')\n",
        "%config InlineBackend.figure_format = 'retina' # to get high resolution images"
      ],
      "metadata": {
        "id": "H354vn9aSJ4J"
      },
      "execution_count": null,
      "outputs": []
    },
    {
      "cell_type": "code",
      "source": [
        "fig, (ax1, ax2, ax3) = plt.subplots(3, 1)\n",
        "ax1.plot(x, sin)\n",
        "ax1.set_title(\"sin\")\n",
        "ax2.plot(x, cos)\n",
        "ax2.set_title(\"cos\")\n",
        "ax3.plot(x, tan)\n",
        "ax3.set_title(\"tan\")\n",
        "plt.tight_layout()"
      ],
      "metadata": {
        "id": "xCPEWcr4SM8h"
      },
      "execution_count": null,
      "outputs": []
    },
    {
      "cell_type": "markdown",
      "source": [
        "# Indexing, Slicing and Iterating"
      ],
      "metadata": {
        "id": "akjQC01bp-Bw"
      }
    },
    {
      "cell_type": "markdown",
      "source": [
        "One-dimensional arrays can be indexed, sliced and iterated over, much like lists and other Python sequences"
      ],
      "metadata": {
        "id": "XXCuukCTqIHr"
      }
    },
    {
      "cell_type": "code",
      "source": [
        "a = np.arange(10)**3 # create 10 elements and multiply 3 times with itself"
      ],
      "metadata": {
        "id": "Rm_hn2BDqBI_"
      },
      "execution_count": null,
      "outputs": []
    },
    {
      "cell_type": "code",
      "source": [
        "a"
      ],
      "metadata": {
        "colab": {
          "base_uri": "https://localhost:8080/"
        },
        "id": "0RlJsuLHqLxR",
        "outputId": "e1d42c75-8298-433d-8e75-607007c3f00d"
      },
      "execution_count": null,
      "outputs": [
        {
          "output_type": "execute_result",
          "data": {
            "text/plain": [
              "array([  0,   1,   8,  27,  64, 125, 216, 343, 512, 729])"
            ]
          },
          "metadata": {},
          "execution_count": 52
        }
      ]
    },
    {
      "cell_type": "code",
      "source": [
        "a[2:5] # this will print the elements from 2 to 5-1"
      ],
      "metadata": {
        "colab": {
          "base_uri": "https://localhost:8080/"
        },
        "id": "nY_sVc8_qMf3",
        "outputId": "624c78aa-6559-4a2c-992a-1158ae2ef35b"
      },
      "execution_count": null,
      "outputs": [
        {
          "output_type": "execute_result",
          "data": {
            "text/plain": [
              "array([ 8, 27, 64])"
            ]
          },
          "metadata": {},
          "execution_count": 54
        }
      ]
    },
    {
      "cell_type": "code",
      "source": [
        "a[:6:2] = 1000 # store the value 1000 from 0 to 6 with jumps of 2\n",
        "a\n"
      ],
      "metadata": {
        "colab": {
          "base_uri": "https://localhost:8080/"
        },
        "id": "jTqfEiZrqPYv",
        "outputId": "fb3c7005-a123-43e5-d9ec-f4c5afeae280"
      },
      "execution_count": null,
      "outputs": [
        {
          "output_type": "execute_result",
          "data": {
            "text/plain": [
              "array([1000,    1, 1000,   27, 1000,  125,  216,  343,  512,  729])"
            ]
          },
          "metadata": {},
          "execution_count": 57
        }
      ]
    },
    {
      "cell_type": "code",
      "source": [
        "a[::-1] # Reverse the array a"
      ],
      "metadata": {
        "colab": {
          "base_uri": "https://localhost:8080/"
        },
        "id": "c1y5GiDAqrzw",
        "outputId": "52597f1b-77a1-4e7a-ae1b-15d13b118023"
      },
      "execution_count": null,
      "outputs": [
        {
          "output_type": "execute_result",
          "data": {
            "text/plain": [
              "array([ 729,  512,  343,  216,  125, 1000,   27, 1000,    1, 1000])"
            ]
          },
          "metadata": {},
          "execution_count": 58
        }
      ]
    },
    {
      "cell_type": "code",
      "source": [
        "a"
      ],
      "metadata": {
        "colab": {
          "base_uri": "https://localhost:8080/"
        },
        "id": "o8XsZa1trAXx",
        "outputId": "78559797-594b-495a-dc1e-e67182567cb2"
      },
      "execution_count": null,
      "outputs": [
        {
          "output_type": "execute_result",
          "data": {
            "text/plain": [
              "array([1000,    1, 1000,   27, 1000,  125,  216,  343,  512,  729])"
            ]
          },
          "metadata": {},
          "execution_count": 59
        }
      ]
    },
    {
      "cell_type": "code",
      "source": [],
      "metadata": {
        "id": "1P8KW0SHrBqQ"
      },
      "execution_count": null,
      "outputs": []
    },
    {
      "cell_type": "markdown",
      "source": [
        "# Iterating over multidimensional arrays"
      ],
      "metadata": {
        "id": "77PY9AO_sAYq"
      }
    },
    {
      "cell_type": "code",
      "source": [
        "arr = np.arange(24).reshape(2,3,4)\n",
        "arr"
      ],
      "metadata": {
        "colab": {
          "base_uri": "https://localhost:8080/"
        },
        "id": "KKKycTxhsB33",
        "outputId": "730f75ea-9360-4c30-f3e9-3cb329ff41a4"
      },
      "execution_count": null,
      "outputs": [
        {
          "output_type": "execute_result",
          "data": {
            "text/plain": [
              "array([[[ 0,  1,  2,  3],\n",
              "        [ 4,  5,  6,  7],\n",
              "        [ 8,  9, 10, 11]],\n",
              "\n",
              "       [[12, 13, 14, 15],\n",
              "        [16, 17, 18, 19],\n",
              "        [20, 21, 22, 23]]])"
            ]
          },
          "metadata": {},
          "execution_count": 61
        }
      ]
    },
    {
      "cell_type": "code",
      "source": [
        "for row in arr:\n",
        "    print(row)"
      ],
      "metadata": {
        "colab": {
          "base_uri": "https://localhost:8080/"
        },
        "id": "t2tang7hsa3J",
        "outputId": "32bf4640-b8a6-49c6-d583-a5771729a82d"
      },
      "execution_count": null,
      "outputs": [
        {
          "output_type": "stream",
          "name": "stdout",
          "text": [
            "[[ 0  1  2  3]\n",
            " [ 4  5  6  7]\n",
            " [ 8  9 10 11]]\n",
            "[[12 13 14 15]\n",
            " [16 17 18 19]\n",
            " [20 21 22 23]]\n"
          ]
        }
      ]
    },
    {
      "cell_type": "code",
      "source": [
        "for row in arr:\n",
        "  for ro in row:\n",
        "    print(ro)"
      ],
      "metadata": {
        "colab": {
          "base_uri": "https://localhost:8080/"
        },
        "id": "Px6nqp6gsgro",
        "outputId": "43e887d4-c004-4565-b42c-8d05fe4b8565"
      },
      "execution_count": null,
      "outputs": [
        {
          "output_type": "stream",
          "name": "stdout",
          "text": [
            "[0 1 2 3]\n",
            "[4 5 6 7]\n",
            "[ 8  9 10 11]\n",
            "[12 13 14 15]\n",
            "[16 17 18 19]\n",
            "[20 21 22 23]\n"
          ]
        }
      ]
    },
    {
      "cell_type": "code",
      "source": [
        "for ele in arr.flat:\n",
        "  print(ele)"
      ],
      "metadata": {
        "colab": {
          "base_uri": "https://localhost:8080/"
        },
        "id": "-L6vLOapsqvZ",
        "outputId": "df91a3d7-fa09-4643-dc65-4633c3e99f4a"
      },
      "execution_count": null,
      "outputs": [
        {
          "output_type": "stream",
          "name": "stdout",
          "text": [
            "0\n",
            "1\n",
            "2\n",
            "3\n",
            "4\n",
            "5\n",
            "6\n",
            "7\n",
            "8\n",
            "9\n",
            "10\n",
            "11\n",
            "12\n",
            "13\n",
            "14\n",
            "15\n",
            "16\n",
            "17\n",
            "18\n",
            "19\n",
            "20\n",
            "21\n",
            "22\n",
            "23\n"
          ]
        }
      ]
    },
    {
      "cell_type": "markdown",
      "source": [
        "# Copies and Views"
      ],
      "metadata": {
        "id": "pXtKcyg-67WJ"
      }
    },
    {
      "cell_type": "markdown",
      "source": [
        "**No Copy at All**\n",
        "Simple assignments make no copy of objects or their data\n"
      ],
      "metadata": {
        "id": "c2gQBvP67Gf_"
      }
    },
    {
      "cell_type": "code",
      "source": [
        "a = np.array([[ 0, 1, 2, 3],\n",
        "[ 4, 5, 6, 7],[ 8, 9, 10, 11]])"
      ],
      "metadata": {
        "id": "gxH5G_mzxCcu"
      },
      "execution_count": null,
      "outputs": []
    },
    {
      "cell_type": "code",
      "source": [
        "a"
      ],
      "metadata": {
        "colab": {
          "base_uri": "https://localhost:8080/"
        },
        "id": "bpCrdFTv6h7r",
        "outputId": "8102b035-3f7f-4a8a-cb7e-af3ec3542335"
      },
      "execution_count": null,
      "outputs": [
        {
          "output_type": "execute_result",
          "data": {
            "text/plain": [
              "array([[ 0,  1,  2,  3],\n",
              "       [ 4,  5,  6,  7],\n",
              "       [ 8,  9, 10, 11]])"
            ]
          },
          "metadata": {},
          "execution_count": 71
        }
      ]
    },
    {
      "cell_type": "code",
      "source": [
        "b = a # No Copy at all but pointing to the same addsress\n",
        "b "
      ],
      "metadata": {
        "colab": {
          "base_uri": "https://localhost:8080/"
        },
        "id": "XLrhEASW7SKL",
        "outputId": "818b137d-f951-4182-ec2d-bcf128d29bf3"
      },
      "execution_count": null,
      "outputs": [
        {
          "output_type": "execute_result",
          "data": {
            "text/plain": [
              "array([[ 0,  1,  2,  3],\n",
              "       [ 4,  5,  6,  7],\n",
              "       [ 8,  9, 10, 11]])"
            ]
          },
          "metadata": {},
          "execution_count": 75
        }
      ]
    },
    {
      "cell_type": "code",
      "source": [
        "b is a"
      ],
      "metadata": {
        "colab": {
          "base_uri": "https://localhost:8080/"
        },
        "id": "0kkgRIqm7UcE",
        "outputId": "3dab01aa-4230-42ee-f33c-e4aaef940db6"
      },
      "execution_count": null,
      "outputs": [
        {
          "output_type": "execute_result",
          "data": {
            "text/plain": [
              "True"
            ]
          },
          "metadata": {},
          "execution_count": 73
        }
      ]
    },
    {
      "cell_type": "code",
      "source": [
        "a is b"
      ],
      "metadata": {
        "colab": {
          "base_uri": "https://localhost:8080/"
        },
        "id": "fjj-U-zp7cQi",
        "outputId": "416e84f8-2c7b-423b-abec-b3b5d7675262"
      },
      "execution_count": null,
      "outputs": [
        {
          "output_type": "execute_result",
          "data": {
            "text/plain": [
              "True"
            ]
          },
          "metadata": {},
          "execution_count": 74
        }
      ]
    },
    {
      "cell_type": "markdown",
      "source": [
        "####**View or Shallow Copy**\n"
      ],
      "metadata": {
        "id": "qaV7hOa67rnN"
      }
    },
    {
      "cell_type": "code",
      "source": [
        "c = a.view()"
      ],
      "metadata": {
        "id": "Nr7Dj6yr7dKS"
      },
      "execution_count": null,
      "outputs": []
    },
    {
      "cell_type": "code",
      "source": [
        "c"
      ],
      "metadata": {
        "colab": {
          "base_uri": "https://localhost:8080/"
        },
        "id": "KIWzInyF7zQS",
        "outputId": "d27d60c4-c5e0-420e-c735-07107f4192d5"
      },
      "execution_count": null,
      "outputs": [
        {
          "output_type": "execute_result",
          "data": {
            "text/plain": [
              "array([[ 0,  1,  2,  3],\n",
              "       [ 4,  5,  6,  7],\n",
              "       [ 8,  9, 10, 11]])"
            ]
          },
          "metadata": {},
          "execution_count": 77
        }
      ]
    },
    {
      "cell_type": "code",
      "source": [
        "c is a # will be false b/c c is not a but a shallow copy of it"
      ],
      "metadata": {
        "colab": {
          "base_uri": "https://localhost:8080/"
        },
        "id": "6iwwiqGf70r6",
        "outputId": "cede99fe-8c8f-40cb-c326-dcad3fa34b3d"
      },
      "execution_count": null,
      "outputs": [
        {
          "output_type": "execute_result",
          "data": {
            "text/plain": [
              "False"
            ]
          },
          "metadata": {},
          "execution_count": 79
        }
      ]
    },
    {
      "cell_type": "code",
      "source": [
        "c.flags.owndata # will be false b/c c copied data from a"
      ],
      "metadata": {
        "colab": {
          "base_uri": "https://localhost:8080/"
        },
        "id": "HjVKF9pl72HS",
        "outputId": "493c0cfb-af8c-41c1-ac99-893928b35395"
      },
      "execution_count": null,
      "outputs": [
        {
          "output_type": "execute_result",
          "data": {
            "text/plain": [
              "False"
            ]
          },
          "metadata": {},
          "execution_count": 81
        }
      ]
    },
    {
      "cell_type": "code",
      "source": [
        "c = c.reshape((2, 6)) # c matrix data will be changed after executing this cell but Matrix a will remain the same "
      ],
      "metadata": {
        "id": "RVv1TfiY8EDy"
      },
      "execution_count": null,
      "outputs": []
    },
    {
      "cell_type": "code",
      "source": [
        "c"
      ],
      "metadata": {
        "colab": {
          "base_uri": "https://localhost:8080/"
        },
        "id": "XqxQ609J8NRa",
        "outputId": "198b679b-bd22-4de2-c70b-6f239a13a8b8"
      },
      "execution_count": null,
      "outputs": [
        {
          "output_type": "execute_result",
          "data": {
            "text/plain": [
              "array([[ 0,  1,  2,  3,  4,  5],\n",
              "       [ 6,  7,  8,  9, 10, 11]])"
            ]
          },
          "metadata": {},
          "execution_count": 83
        }
      ]
    },
    {
      "cell_type": "code",
      "source": [
        "a # a will be 3 x 4"
      ],
      "metadata": {
        "colab": {
          "base_uri": "https://localhost:8080/"
        },
        "id": "InRw7TWb8OFK",
        "outputId": "0a7dd677-8b61-4d4f-8349-b4b1db30187d"
      },
      "execution_count": null,
      "outputs": [
        {
          "output_type": "execute_result",
          "data": {
            "text/plain": [
              "array([[ 0,  1,  2,  3],\n",
              "       [ 4,  5,  6,  7],\n",
              "       [ 8,  9, 10, 11]])"
            ]
          },
          "metadata": {},
          "execution_count": 86
        }
      ]
    },
    {
      "cell_type": "markdown",
      "source": [
        "####**Deep Copy**"
      ],
      "metadata": {
        "id": "Jv7ePAIg8nzd"
      }
    },
    {
      "cell_type": "markdown",
      "source": [
        "The copy method makes a complete copy of the array and its data."
      ],
      "metadata": {
        "id": "75k-vLTd8usc"
      }
    },
    {
      "cell_type": "code",
      "source": [
        "d = a.copy() # a new array object with new data is created"
      ],
      "metadata": {
        "id": "iPAJuI5D8q01"
      },
      "execution_count": null,
      "outputs": []
    },
    {
      "cell_type": "code",
      "source": [
        "d"
      ],
      "metadata": {
        "colab": {
          "base_uri": "https://localhost:8080/"
        },
        "id": "RgQj7dDa9ITq",
        "outputId": "b2d3696c-3070-4cec-9475-fdd438f3fdf4"
      },
      "execution_count": null,
      "outputs": [
        {
          "output_type": "execute_result",
          "data": {
            "text/plain": [
              "array([[ 0,  1,  2,  3],\n",
              "       [ 4,  5,  6,  7],\n",
              "       [ 8,  9, 10, 11]])"
            ]
          },
          "metadata": {},
          "execution_count": 88
        }
      ]
    },
    {
      "cell_type": "code",
      "source": [
        "d is a # will be false b/c d is stand alone matrix now"
      ],
      "metadata": {
        "colab": {
          "base_uri": "https://localhost:8080/"
        },
        "id": "_szLPQx39JU3",
        "outputId": "07eea849-61e8-4cc7-edad-899c4e029a02"
      },
      "execution_count": null,
      "outputs": [
        {
          "output_type": "execute_result",
          "data": {
            "text/plain": [
              "False"
            ]
          },
          "metadata": {},
          "execution_count": 90
        }
      ]
    },
    {
      "cell_type": "code",
      "source": [
        "d is c # will be false b/c c is another matrix of a which is shallow copy"
      ],
      "metadata": {
        "colab": {
          "base_uri": "https://localhost:8080/"
        },
        "id": "6yqyYV5D9K8_",
        "outputId": "7cc235a4-5198-4517-b48c-48b47a529705"
      },
      "execution_count": null,
      "outputs": [
        {
          "output_type": "execute_result",
          "data": {
            "text/plain": [
              "False"
            ]
          },
          "metadata": {},
          "execution_count": 92
        }
      ]
    },
    {
      "cell_type": "code",
      "source": [
        "d[1:2] = 100\n",
        "d"
      ],
      "metadata": {
        "colab": {
          "base_uri": "https://localhost:8080/"
        },
        "id": "tCR5FGlD9SRA",
        "outputId": "1d61bb9c-bec5-4a33-f22e-47bb112147c1"
      },
      "execution_count": null,
      "outputs": [
        {
          "output_type": "execute_result",
          "data": {
            "text/plain": [
              "array([[  0,   1,   2,   3],\n",
              "       [100, 100, 100, 100],\n",
              "       [  8,   9,  10,  11]])"
            ]
          },
          "metadata": {},
          "execution_count": 94
        }
      ]
    },
    {
      "cell_type": "code",
      "source": [],
      "metadata": {
        "id": "1kMUsG-s9hGw"
      },
      "execution_count": null,
      "outputs": []
    },
    {
      "cell_type": "markdown",
      "source": [
        "# Functions and Methods Overview"
      ],
      "metadata": {
        "id": "Nyba22my9srh"
      }
    }
  ]
}