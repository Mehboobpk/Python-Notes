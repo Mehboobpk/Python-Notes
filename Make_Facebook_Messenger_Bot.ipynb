{
  "nbformat": 4,
  "nbformat_minor": 0,
  "metadata": {
    "colab": {
      "name": "Make Facebook Messenger Bot.ipynb",
      "provenance": [],
      "authorship_tag": "ABX9TyOfXcmcE3Ju1M7kTAj4uWpo",
      "include_colab_link": true
    },
    "kernelspec": {
      "name": "python3",
      "display_name": "Python 3"
    }
  },
  "cells": [
    {
      "cell_type": "markdown",
      "metadata": {
        "id": "view-in-github",
        "colab_type": "text"
      },
      "source": [
        "<a href=\"https://colab.research.google.com/github/hussain0048/Python/blob/master/Make_Facebook_Messenger_Bot.ipynb\" target=\"_parent\"><img src=\"https://colab.research.google.com/assets/colab-badge.svg\" alt=\"Open In Colab\"/></a>"
      ]
    },
    {
      "cell_type": "markdown",
      "metadata": {
        "id": "lz2_flCmsWc9",
        "colab_type": "text"
      },
      "source": [
        "# **How to Make Facebook Messenger Bot in Python**\n",
        "Being able to automate stuff and make useful bots in Facebook messenger appears to be interesting and cool, in this tutorial, we will see how we can connect in Facebook messenger in Python and do various of different cool things!\n",
        "\n",
        "We gonna be using fbchat library, it works by emulating the browser. This means doing the exact same GET/POST requests and tricking Facebook into thinking it's accessing the website normally. Therefore, this API isn't official and it doesn't require any API key, instead, it requires the credentials of your Facebook account."
      ]
    },
    {
      "cell_type": "code",
      "metadata": {
        "id": "jrfWjAV4s8za",
        "colab_type": "code",
        "colab": {}
      },
      "source": [
        "!git clone https://github.com/hussain0048/Python.git"
      ],
      "execution_count": null,
      "outputs": []
    },
    {
      "cell_type": "code",
      "metadata": {
        "id": "YmNAIWR-r77s",
        "colab_type": "code",
        "colab": {}
      },
      "source": [
        "!pip3 install fbchat"
      ],
      "execution_count": null,
      "outputs": []
    },
    {
      "cell_type": "code",
      "metadata": {
        "id": "bQ5gmIpttJRG",
        "colab_type": "code",
        "colab": {}
      },
      "source": [
        "from fbchat import Client\n",
        "from fbchat.models import Message"
      ],
      "execution_count": null,
      "outputs": []
    },
    {
      "cell_type": "markdown",
      "metadata": {
        "id": "Ndyjo0U8tRAN",
        "colab_type": "text"
      },
      "source": [
        "#**1-facebook user credentials**\n"
      ]
    },
    {
      "cell_type": "code",
      "metadata": {
        "id": "ksZGVH7VtbzV",
        "colab_type": "code",
        "colab": {}
      },
      "source": [
        "username = \"hussain0048@hotmail.com\"\n",
        "password = \"abc@12345678\"\n",
        "# login\n",
        "client = Client(username, password)"
      ],
      "execution_count": null,
      "outputs": []
    },
    {
      "cell_type": "code",
      "metadata": {
        "id": "ZO7SrFvlnJrm",
        "colab_type": "code",
        "colab": {}
      },
      "source": [
        "import smtplib\n",
        "server=smtplib.SMTP_SSL(\"smtp.gmail.com\",465)\n",
        "server.login(\"mushtaqmsit@gmail.com\",\"@hussainali\")\n",
        "server.sendmail(\"mushtaqmsit@gmail.com\",\"theshahzad2019@gmail.com\",\" Hellow, how are you\")"
      ],
      "execution_count": null,
      "outputs": []
    },
    {
      "cell_type": "markdown",
      "metadata": {
        "id": "Hy_Rcms5-PRU",
        "colab_type": "text"
      },
      "source": [
        "https://myaccount.google.com/lesssecureapps?pli=1\n",
        "\n",
        "https://www.youtube.com/watch?v=Y_tnWTjTfzY"
      ]
    },
    {
      "cell_type": "markdown",
      "metadata": {
        "id": "reGaJRz5sErC",
        "colab_type": "text"
      },
      "source": [
        "#**References**\n",
        "[How to Make Facebook Messenger Bot in Python](https://www.thepythoncode.com/article/make-bot-fbchat-python?utm_source=newsletter&utm_medium=email&utm_campaign=newsletter)"
      ]
    }
  ]
}