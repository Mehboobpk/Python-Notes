{
  "nbformat": 4,
  "nbformat_minor": 0,
  "metadata": {
    "colab": {
      "name": "Python Real life Projects.ipynb",
      "provenance": [],
      "toc_visible": true,
      "authorship_tag": "ABX9TyPUkZCKAWGHEVDC6UlZo4I8",
      "include_colab_link": true
    },
    "kernelspec": {
      "name": "python3",
      "display_name": "Python 3"
    },
    "language_info": {
      "name": "python"
    }
  },
  "cells": [
    {
      "cell_type": "markdown",
      "metadata": {
        "id": "view-in-github",
        "colab_type": "text"
      },
      "source": [
        "<a href=\"https://colab.research.google.com/github/hussain0048/Python/blob/master/Python_Real_life_Projects.ipynb\" target=\"_parent\"><img src=\"https://colab.research.google.com/assets/colab-badge.svg\" alt=\"Open In Colab\"/></a>"
      ]
    },
    {
      "cell_type": "markdown",
      "metadata": {
        "id": "80Z0zj4XYbgm"
      },
      "source": [
        "##**1-Make a News App with Python | News API | Python Project for Beginners**"
      ]
    },
    {
      "cell_type": "code",
      "metadata": {
        "id": "gLPJzdE5Ykcv"
      },
      "source": [
        "import requests\n",
        "import tkinter as tk\n",
        "\n",
        "\n",
        "def getNews():\n",
        "    api_key = \"6e962a63418e4cfdb7395372c3b0ca87\"\n",
        "    url = \"https://newsapi.org/v2/top-headlines?country=us&apiKey=\"+api_key\n",
        "    news = requests.get(url).json()\n",
        "\n",
        "    articles = news[\"articles\"]\n",
        "\n",
        "    my_articles = []\n",
        "    my_news = \"\"\n",
        "\n",
        "    for article in articles:\n",
        "        my_articles.append(article[\"title\"])\n",
        "\n",
        "    for i in range(10):\n",
        "        my_news = my_news + str(i+1) + \". \" + my_articles[i] + \"\\n\"\n",
        "\n",
        "    label.config(text = my_news)\n",
        "\n",
        "\n",
        "\n",
        "canvas = tk.Tk()\n",
        "canvas.geometry(\"900x600\")\n",
        "canvas.title(\"News App\")\n",
        "\n",
        "button = tk.Button(canvas, font = 24, text = \"Reload\", command = getNews)\n",
        "button.pack(pady = 20)\n",
        "\n",
        "label = tk.Label(canvas, font = 18, justify = \"left\")\n",
        "label.pack(pady = 20)\n",
        "\n",
        "getNews()\n",
        "\n",
        "canvas.mainloop()"
      ],
      "execution_count": null,
      "outputs": []
    },
    {
      "cell_type": "markdown",
      "metadata": {
        "id": "I6fDwilkAItR"
      },
      "source": [
        "##**2-Shutdown Computer with Voice in Python**"
      ]
    },
    {
      "cell_type": "code",
      "metadata": {
        "id": "DcxFbJBfASL8"
      },
      "source": [
        "# Importing required modules\n",
        "# importing pyttsx3\n",
        "import pyttsx3\n",
        "# importing speech_recognition\n",
        "import speech_recognition as sr\n",
        "# importing os module\n",
        "import os\n",
        "\n",
        "\n",
        "# creating take_commands() function which\n",
        "# can take some audio, Recognize and return\n",
        "# if there are not any errors\n",
        "def take_commands():\n",
        "    # initializing speech_recognition\n",
        "    r = sr.Recognizer()\n",
        "    # opening physical microphone of computer\n",
        "    with sr.Microphone() as source:\n",
        "        print('Listening')\n",
        "        r.pause_threshold = 0.7\n",
        "        # storing audio/sound to audio variable\n",
        "        audio = r.listen(source)\n",
        "        try:\n",
        "            print(\"Recognizing\")\n",
        "            # Recognizing audio using google api\n",
        "            Query = r.recognize_google(audio)\n",
        "            print(\"the query is printed='\", Query, \"'\")\n",
        "        except Exception as e:\n",
        "            print(e)\n",
        "            print(\"Say that again sir\")\n",
        "            # returning none if there are errors\n",
        "            return \"None\"\n",
        "    # returning audio as text\n",
        "    import time\n",
        "    time.sleep(2)\n",
        "    return Query\n",
        "\n",
        "\n",
        "# creating Speak() function to giving Speaking power\n",
        "# to our voice assistant\n",
        "def Speak(audio):\n",
        "    # initializing pyttsx3 module\n",
        "    engine = pyttsx3.init()\n",
        "    # anything we pass inside engine.say(),\n",
        "    # will be spoken by our voice assistant\n",
        "    engine.say(audio)\n",
        "    engine.runAndWait()\n",
        "\n",
        "Speak(\"Do you want to shutdown your computer sir?\")\n",
        "while True:\n",
        "    command = take_commands()\n",
        "    if \"no\" in command:\n",
        "        Speak(\"Thank u sir I will not shut down the computer\")\n",
        "        break\n",
        "    if \"yes\" in command:\n",
        "        # Shutting down\n",
        "        Speak(\"Shutting the computer\")\n",
        "        os.system(\"shutdown /s /t 30\")\n",
        "        break\n",
        "    Speak(\"Say that again sir\")"
      ],
      "execution_count": null,
      "outputs": []
    },
    {
      "cell_type": "markdown",
      "metadata": {
        "id": "rT83HhzlYv4A"
      },
      "source": [
        "##**References**\n"
      ]
    },
    {
      "cell_type": "markdown",
      "metadata": {
        "id": "rYLC6R7QY3rf"
      },
      "source": [
        "[[1]Make a News App with Python | News API | Python Project for Beginners](https://www.youtube.com/watch?v=gXl88MaxueY)\n",
        "\n",
        "[[2]Shutdown Computer with Voice in Python](https://www.youtube.com/watch?v=bFaOZFMi3J8)"
      ]
    }
  ]
}