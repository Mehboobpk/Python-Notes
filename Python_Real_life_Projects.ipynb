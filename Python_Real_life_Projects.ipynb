{
  "nbformat": 4,
  "nbformat_minor": 0,
  "metadata": {
    "colab": {
      "name": "Python Real life Projects.ipynb",
      "provenance": [],
      "toc_visible": true,
      "authorship_tag": "ABX9TyMpxr+EUdBM/is+VEt8L/Su",
      "include_colab_link": true
    },
    "kernelspec": {
      "name": "python3",
      "display_name": "Python 3"
    },
    "language_info": {
      "name": "python"
    }
  },
  "cells": [
    {
      "cell_type": "markdown",
      "metadata": {
        "id": "view-in-github",
        "colab_type": "text"
      },
      "source": [
        "<a href=\"https://colab.research.google.com/github/hussain0048/Python/blob/master/Python_Real_life_Projects.ipynb\" target=\"_parent\"><img src=\"https://colab.research.google.com/assets/colab-badge.svg\" alt=\"Open In Colab\"/></a>"
      ]
    },
    {
      "cell_type": "markdown",
      "metadata": {
        "id": "80Z0zj4XYbgm"
      },
      "source": [
        "##**1-Make a News App with Python | News API | Python Project for Beginners**"
      ]
    },
    {
      "cell_type": "code",
      "metadata": {
        "id": "gLPJzdE5Ykcv"
      },
      "source": [
        "import requests\n",
        "import tkinter as tk\n",
        "\n",
        "\n",
        "def getNews():\n",
        "    api_key = \"6e962a63418e4cfdb7395372c3b0ca87\"\n",
        "    url = \"https://newsapi.org/v2/top-headlines?country=us&apiKey=\"+api_key\n",
        "    news = requests.get(url).json()\n",
        "\n",
        "    articles = news[\"articles\"]\n",
        "\n",
        "    my_articles = []\n",
        "    my_news = \"\"\n",
        "\n",
        "    for article in articles:\n",
        "        my_articles.append(article[\"title\"])\n",
        "\n",
        "    for i in range(10):\n",
        "        my_news = my_news + str(i+1) + \". \" + my_articles[i] + \"\\n\"\n",
        "\n",
        "    label.config(text = my_news)\n",
        "\n",
        "\n",
        "\n",
        "canvas = tk.Tk()\n",
        "canvas.geometry(\"900x600\")\n",
        "canvas.title(\"News App\")\n",
        "\n",
        "button = tk.Button(canvas, font = 24, text = \"Reload\", command = getNews)\n",
        "button.pack(pady = 20)\n",
        "\n",
        "label = tk.Label(canvas, font = 18, justify = \"left\")\n",
        "label.pack(pady = 20)\n",
        "\n",
        "getNews()\n",
        "\n",
        "canvas.mainloop()"
      ],
      "execution_count": null,
      "outputs": []
    },
    {
      "cell_type": "markdown",
      "metadata": {
        "id": "I6fDwilkAItR"
      },
      "source": [
        "##**2-Shutdown Computer with Voice in Python**"
      ]
    },
    {
      "cell_type": "code",
      "metadata": {
        "id": "DcxFbJBfASL8"
      },
      "source": [
        "# Importing required modules\n",
        "# importing pyttsx3\n",
        "import pyttsx3\n",
        "# importing speech_recognition\n",
        "import speech_recognition as sr\n",
        "# importing os module\n",
        "import os\n",
        "\n",
        "\n",
        "# creating take_commands() function which\n",
        "# can take some audio, Recognize and return\n",
        "# if there are not any errors\n",
        "def take_commands():\n",
        "    # initializing speech_recognition\n",
        "    r = sr.Recognizer()\n",
        "    # opening physical microphone of computer\n",
        "    with sr.Microphone() as source:\n",
        "        print('Listening')\n",
        "        r.pause_threshold = 0.7\n",
        "        # storing audio/sound to audio variable\n",
        "        audio = r.listen(source)\n",
        "        try:\n",
        "            print(\"Recognizing\")\n",
        "            # Recognizing audio using google api\n",
        "            Query = r.recognize_google(audio)\n",
        "            print(\"the query is printed='\", Query, \"'\")\n",
        "        except Exception as e:\n",
        "            print(e)\n",
        "            print(\"Say that again sir\")\n",
        "            # returning none if there are errors\n",
        "            return \"None\"\n",
        "    # returning audio as text\n",
        "    import time\n",
        "    time.sleep(2)\n",
        "    return Query\n",
        "\n",
        "\n",
        "# creating Speak() function to giving Speaking power\n",
        "# to our voice assistant\n",
        "def Speak(audio):\n",
        "    # initializing pyttsx3 module\n",
        "    engine = pyttsx3.init()\n",
        "    # anything we pass inside engine.say(),\n",
        "    # will be spoken by our voice assistant\n",
        "    engine.say(audio)\n",
        "    engine.runAndWait()\n",
        "\n",
        "Speak(\"Do you want to shutdown your computer sir?\")\n",
        "while True:\n",
        "    command = take_commands()\n",
        "    if \"no\" in command:\n",
        "        Speak(\"Thank u sir I will not shut down the computer\")\n",
        "        break\n",
        "    if \"yes\" in command:\n",
        "        # Shutting down\n",
        "        Speak(\"Shutting the computer\")\n",
        "        os.system(\"shutdown /s /t 30\")\n",
        "        break\n",
        "    Speak(\"Say that again sir\")"
      ],
      "execution_count": null,
      "outputs": []
    },
    {
      "cell_type": "markdown",
      "metadata": {
        "id": "iX72ZsqLTWiF"
      },
      "source": [
        "##**3-Create a Simple Voice Assistant That Sends Email using Python** "
      ]
    },
    {
      "cell_type": "code",
      "metadata": {
        "id": "yMsSZdXDhliv"
      },
      "source": [
        "import speech_recognition as sr\n",
        "import yagmail\n",
        "\n",
        "recognizer=sr.Recognizer()\n",
        "with sr.Microphone() as source:\n",
        "    print('Clearing background noise..')\n",
        "    recognizer.adjust_for_ambient_noise(source,duration=1)\n",
        "    print(\"waiting for your message...\")\n",
        "    recordedaudio=recognizer.listen(source)\n",
        "    print('Done recording..!')\n",
        "try:\n",
        "    print('Printing the message..')\n",
        "    text=recognizer.recognize_google(recordedaudio,language='en-US')\n",
        "\n",
        "    print('Your message:{}'.format(text))\n",
        "\n",
        "except Exception as ex:\n",
        "    print(ex)\n",
        "\n",
        "#Automate mails:\n",
        "\n",
        "reciever='forexample@gmail.com'\n",
        "message=text\n",
        "sender=yagmail.SMTP('theshahzad2019@gmail.com ')\n",
        "sender.send(to=reciever,subject='This is an automated mail',contents=message)"
      ],
      "execution_count": null,
      "outputs": []
    },
    {
      "cell_type": "markdown",
      "metadata": {
        "id": "I-f-YtQTavV1"
      },
      "source": [
        "##**4-How to Convert Speech to Text in Python**\n"
      ]
    },
    {
      "cell_type": "code",
      "metadata": {
        "id": "9no3h-Bqa9yO"
      },
      "source": [
        "import speech_recognition as sr\n",
        "\n",
        "filename = \"WhatsApp Ptt 2021-04-22 at 3.41.58 AM\"\n",
        "# initialize the recognizer\n",
        "r = sr.Recognizer()\n",
        "# open the file\n",
        "with sr.AudioFile(filename) as source:\n",
        "    # listen for the data (load audio to memory)\n",
        "    audio_data = r.record(source)\n",
        "    # recognize (convert from speech to text)\n",
        "    text = r.recognize_google(audio_data)\n",
        "    print(text)\n",
        "with sr.Microphone() as source:\n",
        "    # read the audio data from the default microphone\n",
        "    audio_data = r.record(source, duration=5)\n",
        "print(\"Recognizing...\")\n",
        "    # convert speech to text\n",
        "text = r.recognize_google(audio_data)\n",
        "print(text)"
      ],
      "execution_count": null,
      "outputs": []
    },
    {
      "cell_type": "markdown",
      "metadata": {
        "id": "E_ZBKT5B8yMc"
      },
      "source": [
        "##**5-Create Your Own Translator Using Python**"
      ]
    },
    {
      "cell_type": "code",
      "metadata": {
        "id": "bdZv5dSK87Sx"
      },
      "source": [
        "from googletrans import Translator\n",
        "Translator = Translator()\n",
        "# taking some text from our website in french language\n",
        "text = '''Python est un langage de programmation interprété et de haut\n",
        "            niveau qui a été créé à la fin des années 1980, mais il a été implémenté\n",
        "            en décembre 1989 par Guido Van Rossum . Le mot Python vient du serpent.\n",
        "            Selon la récente enquête de StackOverflow , Python a dépassé la popularité de Java'''\n",
        "\n",
        "dt = Translator.detect(text)\n",
        "print(dt)\n",
        "\n",
        "translate = Translator.translate(text, dest=\"en\")\n",
        "print(dt)"
      ],
      "execution_count": null,
      "outputs": []
    },
    {
      "cell_type": "markdown",
      "metadata": {
        "id": "x0Ycz-_1Psda"
      },
      "source": [
        "##**6-Send Daily Push Notifications to Your Phone**"
      ]
    },
    {
      "cell_type": "code",
      "metadata": {
        "id": "hdz8S1irP0Ge"
      },
      "source": [
        "from pushbullet import Pushbullet # First of all you can create two file and open it then open the \n",
        "# pushbullet.com website and generte the API token no. Then install the pushbullet mobile App on your mobile\n",
        "# with your gmail and run the program.\n",
        "\n",
        "API_KEY = \"o.m3FtJswIBqCgtywwuo8MtCh8ZAQFMQsL\"\n",
        "file = 'resolution.txt'\n",
        "\n",
        "with open(filename, mode='r') as f:\n",
        "    print(f.read())\n",
        "\n",
        "pb = Pushbullet(API_KEY)\n",
        "push = pb.push_note(\"This is the title\", text)"
      ],
      "execution_count": null,
      "outputs": []
    },
    {
      "cell_type": "markdown",
      "metadata": {
        "id": "i1G0dqSLnr_g"
      },
      "source": [
        "##**7-Python Auto Clicker**"
      ]
    },
    {
      "cell_type": "code",
      "metadata": {
        "id": "yFbN20qpeorp"
      },
      "source": [
        "import time\n",
        "import threading\n",
        "from pynput.mouse import Button, Controller\n",
        "from pynput.keyboard import Listener, KeyCode\n",
        "\n",
        "\n",
        "delay = 0.001\n",
        "button = Button.left\n",
        "start_stop_key = KeyCode(char='s')\n",
        "exit_key = KeyCode(char='e')\n",
        "\n",
        "\n",
        "class ClickMouse(threading.Thread):\n",
        "    def __init__(self, delay, button):\n",
        "        super(ClickMouse, self).__init__()\n",
        "        self.delay = delay\n",
        "        self.button = button\n",
        "        self.running = False\n",
        "        self.program_running = True\n",
        "\n",
        "    def start_clicking(self):\n",
        "        self.running = True\n",
        "\n",
        "    def stop_clicking(self):\n",
        "        self.running = False\n",
        "\n",
        "    def exit(self):\n",
        "        self.stop_clicking()\n",
        "        self.program_running = False\n",
        "\n",
        "    def run(self):\n",
        "        while self.program_running:\n",
        "            while self.running:\n",
        "                mouse.click(self.button)\n",
        "                time.sleep(self.delay)\n",
        "            time.sleep(0.1)\n",
        "\n",
        "\n",
        "mouse = Controller()\n",
        "click_thread = ClickMouse(delay, button)\n",
        "click_thread.start()\n",
        "\n",
        "\n",
        "def on_press(key):\n",
        "    if key == start_stop_key:\n",
        "        if click_thread.running:\n",
        "            click_thread.stop_clicking()\n",
        "        else:\n",
        "            click_thread.start_clicking()\n",
        "    elif key == exit_key:\n",
        "        click_thread.exit()\n",
        "        listener.stop()\n",
        "\n",
        "\n",
        "with Listener(on_press=on_press) as listener:\n",
        "    listener.join()"
      ],
      "execution_count": null,
      "outputs": []
    },
    {
      "cell_type": "markdown",
      "metadata": {
        "id": "Leu4RJFAWw-r"
      },
      "source": [
        "##**8-Draw multiple pattern using Python Turtle**"
      ]
    },
    {
      "cell_type": "code",
      "metadata": {
        "id": "JDFGjWLvW6MF"
      },
      "source": [
        "import turtle\n",
        "\n",
        "pat = turtle.Turtle()\n",
        "scr = turtle.Screen()\n",
        "scr.bgcolor(\"Black\")\n",
        "pat.speed(0)\n",
        "\n",
        "radius = 60\n",
        "pat.pensize(2)\n",
        "colour = [\"Red\",\"Magenta\",\"Blue\"]\n",
        "pat.color(colour[1])\n",
        "for i in range(6):\n",
        "    pat.circle(radius)\n",
        "    pat.right(60)\n",
        "\n",
        "turtle.done()    \n"
      ],
      "execution_count": null,
      "outputs": []
    },
    {
      "cell_type": "markdown",
      "metadata": {
        "id": "rT83HhzlYv4A"
      },
      "source": [
        "##**References**\n"
      ]
    },
    {
      "cell_type": "markdown",
      "metadata": {
        "id": "rYLC6R7QY3rf"
      },
      "source": [
        "[[1]Make a News App with Python | News API | Python Project for Beginners](https://www.youtube.com/watch?v=gXl88MaxueY)\n",
        "\n",
        "[[2]Shutdown Computer with Voice in Python](https://www.youtube.com/watch?v=bFaOZFMi3J8)\n",
        "\n",
        "[[3]Create a Simple Voice Assistant That Sends Email using Python](https://youtu.be/IRqUgsVmyus)\n",
        "\n",
        "[[4]How to Convert Speech to Text in Python](https://morioh.com/p/339e45f0f43b?f=5c21fb01c16e2556b555ab32&fbclid=IwAR1dEfcb1yFe30nK6Pd3m3nZznSgpOjih7iWhY7hNFWqKa9BV4Qd1draa7w)\n",
        "\n",
        "[[5]Create Your Own Translator Using Python](https://www.youtube.com/watch?v=nBMrG6-Y_K4)\n",
        "\n",
        "[[6]Send Daily Push Notifications to Your Phone](https://www.youtube.com/watch?v=tbzPcKRZlHg)\n",
        "\n",
        "[[7]Python Auto Clicker](https://www.youtube.com/watch?v=eamTeszpeZ4)\n",
        "\n",
        "[[8]Draw multiple pattern using Python Turtle](https://www.youtube.com/watch?v=ojL41F1AhWc)"
      ]
    }
  ]
}