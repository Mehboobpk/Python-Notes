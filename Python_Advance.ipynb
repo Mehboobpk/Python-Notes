{
  "nbformat": 4,
  "nbformat_minor": 0,
  "metadata": {
    "colab": {
      "name": "Python Advance.ipynb",
      "provenance": [],
      "collapsed_sections": [],
      "toc_visible": true,
      "include_colab_link": true
    },
    "kernelspec": {
      "name": "python3",
      "display_name": "Python 3"
    }
  },
  "cells": [
    {
      "cell_type": "markdown",
      "metadata": {
        "id": "view-in-github",
        "colab_type": "text"
      },
      "source": [
        "<a href=\"https://colab.research.google.com/github/hussain0048/Python/blob/master/Python_Advance.ipynb\" target=\"_parent\"><img src=\"https://colab.research.google.com/assets/colab-badge.svg\" alt=\"Open In Colab\"/></a>"
      ]
    },
    {
      "cell_type": "markdown",
      "metadata": {
        "id": "HH0IVhPvQkou"
      },
      "source": [
        "#**1-File Handling**[1]\n",
        "\n",
        "**What is File Handling?**\n",
        "\n",
        "- File is named location on disk (hard drive) to store related information.\n",
        "\n",
        "- They are used to permanently store data in a non-volatile memory (e.g. hard disk). Data in all systems in stored in the form of files.\n",
        "\n",
        "- Databases also uses file systems behind the scene.\n",
        "\n",
        "- Working with files, make your program capable of saving in Secondary Memory (also known as Persistence Storage); which is Non-volatile (which even keep the data when the computer is turned off), we use files for future use of the data by permanently storing them."
      ]
    },
    {
      "cell_type": "markdown",
      "metadata": {
        "id": "dZ0zKXM8GN8s"
      },
      "source": [
        "#**2-What are Basic File Operations?**[1]"
      ]
    },
    {
      "cell_type": "markdown",
      "metadata": {
        "id": "jSWxuh9FGWIR"
      },
      "source": [
        "Following are the basic operations in File Handling in Python:-\n",
        "\n",
        "\n",
        "- Create File in Python\n",
        "- Open File in Python\n",
        "- Read File in Python\n",
        "- Write in File\n",
        "- Append to File"
      ]
    },
    {
      "cell_type": "markdown",
      "metadata": {
        "id": "_oQ9yx8-HTY_"
      },
      "source": [
        "#**3-How to Open File in Python?**"
      ]
    },
    {
      "cell_type": "markdown",
      "metadata": {
        "id": "nbYav3HuHbH_"
      },
      "source": [
        "- In order to read from Files or Writing data on Files, we need to read it first.\n",
        "\n",
        "- Whenever the file is open, we do required calculations and then need to close file. open() method is used in Python to Open File. This function returns a file object, also called a handle, as it is used to read or modify the file accordingly;"
      ]
    },
    {
      "cell_type": "code",
      "metadata": {
        "id": "ZRgosRBcHyN1"
      },
      "source": [
        "def open(file, mode='r', buffering=None, encoding=None, errors=None, newline=None, closefd=True):\n",
        "    # Python Open Method"
      ],
      "execution_count": null,
      "outputs": []
    },
    {
      "cell_type": "markdown",
      "metadata": {
        "id": "rMjx9biRHzbq"
      },
      "source": [
        "- **file**: is the file path i-e directory where your file is saved\n",
        "\n",
        "- **mode**: Define the purpose of opening file i-e read, write, append etc.\n",
        "\n",
        "- **buffering**: is an optional integer used to set the buffering policy\n",
        "\n",
        "- **encoding**: is the name of the encoding used to decode or encode the file.\n",
        "\n",
        "      - default encoding is platform dependent\n",
        "       - In windows, it is cp1252\n",
        "       - utf-8 in Linux\n",
        "- **errors**: is an optional string that specifies how encoding errors are to be handled—this argument should not be used in binary mode.\n",
        "\n",
        "- **newline**: controls how universal newlines works (it only applies to text mode). It can be:\n",
        "\n",
        "- None\n",
        "- ‘ ‘\n",
        "- ‘\\n’\n",
        "- ‘\\r’\n",
        "- ‘\\r\\n’"
      ]
    },
    {
      "cell_type": "markdown",
      "metadata": {
        "id": "cC-dTgckOI53"
      },
      "source": [
        "#**4-What are different File Opening Modes in Python?**"
      ]
    },
    {
      "cell_type": "markdown",
      "metadata": {
        "id": "1M_XWZgX-bl0"
      },
      "source": [
        "Character Use in Open()            - Description of the Character Used in Open()\n",
        "\n",
        "- r                                - open for reading (default)\n",
        "\n",
        "- w                                - open for writing, truncating the file first\n",
        "\n",
        "- x                                - create a new file and open it for writing\n",
        "\n",
        "- a                                - open for writing, appending to the end of the file if it exists\n",
        "\n",
        "- b                                - binary mode\n",
        "\n",
        "- t                                - text mode (default)\n",
        "\n",
        "- +                                - open a disk file for updating (reading and writing)\n",
        "\n",
        "- U                                - universal newline mode (deprecated)"
      ]
    },
    {
      "cell_type": "code",
      "metadata": {
        "id": "V2u9WdmzASkQ"
      },
      "source": [
        "f = open(\"Ultimate-Facebook-Scraper-2.0/LICENSE\")\n",
        "print(f)\n",
        "# <_io.TextIOWrapper name='Ultimate-Facebook-Scraper-2.0/LICENSE' mode='r' encoding='cp1252'>"
      ],
      "execution_count": null,
      "outputs": []
    },
    {
      "cell_type": "markdown",
      "metadata": {
        "id": "yT1lz6xnAVvU"
      },
      "source": [
        "In file handling in Python, once we open file with a defined MODE, we can read or write data accordingly"
      ]
    },
    {
      "cell_type": "markdown",
      "metadata": {
        "id": "4LawjuBbAZ8y"
      },
      "source": [
        "#**5-How to Read File in Python?**"
      ]
    },
    {
      "cell_type": "code",
      "metadata": {
        "id": "vvHwC0aECs2M"
      },
      "source": [
        "f = open(\"Ultimate-Facebook-Scraper-2.0/LICENSE\")\n",
        "\n",
        "data_1 = f.read(3)\n",
        "data_2 = f.readlines()\n",
        "data_3 = f.readable()\n",
        "\n",
        "print(data_1)\n",
        "print(data_2[0:3])\n",
        "print(data_3)\n",
        "\n",
        "print(\"File is closed?: \",f.closed)\n",
        "f.close()\n",
        "print(\"File is closed?: \",f.closed)\n",
        "\n",
        "# MIT\n",
        "# [' License\\n', '\\n', 'Copyright (c) 2020 harismuneer, Hassaan-Elahi\\n']\n",
        "# True\n",
        "# File is closed?:  False\n",
        "# File is closed?:  True"
      ],
      "execution_count": null,
      "outputs": []
    },
    {
      "cell_type": "markdown",
      "metadata": {
        "id": "IoNH-7BgCxB2"
      },
      "source": [
        "**There are 2 different reading style;**\n",
        "\n",
        "**read(N)**: - this return complete data from file as string, we can read “N” character from it\n",
        "\n",
        "**readLines():**- Read all lines from files and return a list\n",
        "\n",
        "\n",
        "Python also give us the facility of automatically closed files after opening and reading or writing. As shown in following code, there is not need to close file explicitly;"
      ]
    },
    {
      "cell_type": "code",
      "metadata": {
        "id": "dVFMLiBQDKqI"
      },
      "source": [
        "with open(\"Ultimate-Facebook-Scraper-2.0/LICENSE\") as f:\n",
        "    data_1 = f.read(3)\n",
        "    data_2 = f.readlines()\n",
        "    data_3 = f.readable()\n",
        "\n",
        "print(data_1)\n",
        "print(data_2[0:3])\n",
        "print(data_3)\n",
        "\n",
        "print(\"File is closed?: \",f.closed)\n",
        "\n",
        "# MIT\n",
        "# [' License\\n', '\\n', 'Copyright (c) 2020 harismuneer, Hassaan-Elahi\\n']\n",
        "# True\n",
        "# File is closed?:  True"
      ],
      "execution_count": null,
      "outputs": []
    },
    {
      "cell_type": "markdown",
      "metadata": {
        "id": "9TLCMnFhDOK8"
      },
      "source": [
        "Closing a file will free up the resources that were tied with the file. It is done using the close() method available in Python. Python has a garbage collector to clean up unreferenced objects but we must not rely on it to close the file."
      ]
    },
    {
      "cell_type": "markdown",
      "metadata": {
        "id": "1oggfSXyDS_b"
      },
      "source": [
        "If file does not exist, it will give Exception."
      ]
    },
    {
      "cell_type": "code",
      "metadata": {
        "id": "6QmDYG9nDWKK"
      },
      "source": [
        "with open(\"NOFILE.txt\", 'r') as f:\n",
        "    data = f.readlines()\n",
        "# FileNotFoundError: [Errno 2] No such file or directory: 'NOFILE.txt'"
      ],
      "execution_count": null,
      "outputs": []
    },
    {
      "cell_type": "markdown",
      "metadata": {
        "id": "FAuGJ4kxDasX"
      },
      "source": [
        "#**6-How to Read File in Binary Mode?**"
      ]
    },
    {
      "cell_type": "markdown",
      "metadata": {
        "id": "jpI3HaztDmaE"
      },
      "source": [
        "On the other hand, binary mode returns bytes and this is the mode to be used when dealing with non-text files like images or executable files. The default is reading in text mode. In this mode, we get strings when reading from the file."
      ]
    },
    {
      "cell_type": "code",
      "metadata": {
        "id": "40K-CUXYDpaf"
      },
      "source": [
        "with open(\"Ultimate-Facebook-Scraper-2.0/LICENSE\", 'rb') as f:\n",
        "    data = f.readlines()\n",
        "print(data[0])\n",
        "# b'MIT License\\n'"
      ],
      "execution_count": null,
      "outputs": []
    },
    {
      "cell_type": "markdown",
      "metadata": {
        "id": "jOwc7ENVI2lr"
      },
      "source": [
        "\n",
        "\n",
        "\n",
        "#**7-Build web app using fastapi using python**\n",
        "\n",
        "\n"
      ]
    },
    {
      "cell_type": "code",
      "metadata": {
        "id": "oCdsW64sNE6y"
      },
      "source": [
        "from google.colab import files\n",
        "uploaded = files.upload()"
      ],
      "execution_count": null,
      "outputs": []
    },
    {
      "cell_type": "markdown",
      "metadata": {
        "id": "KIEWxjCURJR-"
      },
      "source": [
        "[This is the link of the web app which is build using FastApi] \n",
        "(https://github.com/hussain0048/Python/blob/master/Projects/Fastapi-webapp.py)"
      ]
    },
    {
      "cell_type": "markdown",
      "metadata": {
        "id": "ti9OdCEOJzOR"
      },
      "source": [
        ""
      ]
    },
    {
      "cell_type": "markdown",
      "metadata": {
        "id": "KgLiZVl3x7dj"
      },
      "source": [
        "##**8-GUI with Python** "
      ]
    },
    {
      "cell_type": "code",
      "metadata": {
        "colab": {
          "base_uri": "https://localhost:8080/"
        },
        "id": "yGFlqZwDyLuF",
        "outputId": "0c9ee974-ce73-46bb-b82b-9887eb597487"
      },
      "source": [
        "#@title String fields\n",
        "#We can create the some type of variable like below\n",
        "#param is used to GUI feature option\n",
        "text = 'values' #@param {type:\"string\"}\n",
        "First = \"1st option\" #@param [\"1st option\", \"2nd option\", \"3rd option\"]\n",
        "second  = '2nd option' #@param [\"1st option\", \"2nd option\", \"3rd option\"] {allow-input: true}\n",
        "\n",
        "print(text)\n",
        "print(First)\n",
        "print(second)"
      ],
      "execution_count": null,
      "outputs": [
        {
          "output_type": "stream",
          "text": [
            "values\n",
            "1st option\n",
            "2nd option\n"
          ],
          "name": "stdout"
        }
      ]
    },
    {
      "cell_type": "code",
      "metadata": {
        "colab": {
          "base_uri": "https://localhost:8080/"
        },
        "id": "51my9jl6yO2r",
        "outputId": "ff97c9b4-4434-4b48-d118-89fc6914658f"
      },
      "source": [
        "#@title Raw fields\n",
        "\n",
        "raw_input = None #@param {type:\"raw\"}\n",
        "raw_dropdown = raw_input #@param [1, \"raw_input\", \"False\", \"'string'\"] {type:\"raw\"}\n",
        "\n",
        "print(raw_input)\n",
        "print(raw_dropdown)"
      ],
      "execution_count": null,
      "outputs": [
        {
          "output_type": "stream",
          "text": [
            "None\n",
            "None\n"
          ],
          "name": "stdout"
        }
      ]
    },
    {
      "cell_type": "code",
      "metadata": {
        "colab": {
          "base_uri": "https://localhost:8080/"
        },
        "id": "rvW0us76yS69",
        "outputId": "4a3971ce-9647-4f22-8976-f17fd3f44637"
      },
      "source": [
        "#@title Date fields\n",
        "date_input = '2021-01-04' #@param {type:\"date\"}\n",
        "\n",
        "print(date_input)"
      ],
      "execution_count": null,
      "outputs": [
        {
          "output_type": "stream",
          "text": [
            "2021-01-04\n"
          ],
          "name": "stdout"
        }
      ]
    },
    {
      "cell_type": "code",
      "metadata": {
        "colab": {
          "base_uri": "https://localhost:8080/"
        },
        "id": "ZY6OwZZzyWAJ",
        "outputId": "ba5f8cd8-4c8d-488b-8bcd-8e63f11a904f"
      },
      "source": [
        "#@title Number fields\n",
        "number_input = 10.0 #@param {type:\"number\"}\n",
        "number_slider = 0.5 #@param {type:\"slider\", min:-1, max:1, step:0.1}\n",
        "\n",
        "integer_input = 10 #@param {type:\"integer\"}\n",
        "integer_slider = 4 #@param {type:\"slider\", min:0, max:100, step:1}\n",
        "\n",
        "print(number_input)\n",
        "print(number_slider)\n",
        "\n",
        "print(integer_input)\n",
        "print(integer_slider)"
      ],
      "execution_count": null,
      "outputs": [
        {
          "output_type": "stream",
          "text": [
            "10.0\n",
            "0.5\n",
            "10\n",
            "4\n"
          ],
          "name": "stdout"
        }
      ]
    },
    {
      "cell_type": "code",
      "metadata": {
        "colab": {
          "base_uri": "https://localhost:8080/"
        },
        "id": "3vv5TaGsyZKA",
        "outputId": "7b09717a-f586-4d6e-e229-7a440e19514c"
      },
      "source": [
        "#@title Boolean fields\n",
        "boolean_checkbox = False #@param {type:\"boolean\"}\n",
        "boolean_dropdown = True #@param [\"False\", \"True\"] {type:\"raw\"}\n",
        "\n",
        "print(boolean_checkbox)\n",
        "print(boolean_dropdown)"
      ],
      "execution_count": null,
      "outputs": [
        {
          "output_type": "stream",
          "text": [
            "False\n",
            "True\n"
          ],
          "name": "stdout"
        }
      ]
    },
    {
      "cell_type": "code",
      "metadata": {
        "colab": {
          "base_uri": "https://localhost:8080/"
        },
        "id": "dhRTG8kRyceY",
        "outputId": "ed7827e7-28a7-4a11-d909-b19e0c33ac47"
      },
      "source": [
        "#@title After running this cell manually, it will auto-run if you change the selected value. { run: \"auto\" }\n",
        "\n",
        "option2 = \"C\" #@param [\"A\", \"B\", \"C\"]\n",
        "print('You selected', option2)"
      ],
      "execution_count": null,
      "outputs": [
        {
          "output_type": "stream",
          "text": [
            "You selected C\n"
          ],
          "name": "stdout"
        }
      ]
    },
    {
      "cell_type": "markdown",
      "metadata": {
        "id": "QemubCb74WzX"
      },
      "source": [
        "##**9-Pandas[3]**"
      ]
    },
    {
      "cell_type": "markdown",
      "metadata": {
        "id": "vooIdmLy-22T"
      },
      "source": [
        "####**9.1-Welcome to DataFrames**"
      ]
    },
    {
      "cell_type": "markdown",
      "metadata": {
        "id": "WlGsR938_E-c"
      },
      "source": [
        "A DataFrame is how Pandas represents a table. You can access columns, rows and individual cells.\n",
        "\n",
        "Suppose you constructed a DataFrame by"
      ]
    },
    {
      "cell_type": "code",
      "metadata": {
        "id": "_anTAlaZ_KRL"
      },
      "source": [
        "import pandas as pd\n",
        "df = pd.DataFrame({'name': ['Jeff', 'Esha', 'Jia'], \n",
        "                   'age': [30, 56, 8]})\n"
      ],
      "execution_count": null,
      "outputs": []
    },
    {
      "cell_type": "code",
      "metadata": {
        "colab": {
          "base_uri": "https://localhost:8080/",
          "height": 141
        },
        "id": "HT7QlWR7_tNp",
        "outputId": "b6b4b1a8-1ca6-4c14-dddd-fe8fa1eee04b"
      },
      "source": [
        "df.head()"
      ],
      "execution_count": null,
      "outputs": [
        {
          "output_type": "execute_result",
          "data": {
            "text/html": [
              "<div>\n",
              "<style scoped>\n",
              "    .dataframe tbody tr th:only-of-type {\n",
              "        vertical-align: middle;\n",
              "    }\n",
              "\n",
              "    .dataframe tbody tr th {\n",
              "        vertical-align: top;\n",
              "    }\n",
              "\n",
              "    .dataframe thead th {\n",
              "        text-align: right;\n",
              "    }\n",
              "</style>\n",
              "<table border=\"1\" class=\"dataframe\">\n",
              "  <thead>\n",
              "    <tr style=\"text-align: right;\">\n",
              "      <th></th>\n",
              "      <th>name</th>\n",
              "      <th>age</th>\n",
              "    </tr>\n",
              "  </thead>\n",
              "  <tbody>\n",
              "    <tr>\n",
              "      <th>0</th>\n",
              "      <td>Jeff</td>\n",
              "      <td>30</td>\n",
              "    </tr>\n",
              "    <tr>\n",
              "      <th>1</th>\n",
              "      <td>Esha</td>\n",
              "      <td>56</td>\n",
              "    </tr>\n",
              "    <tr>\n",
              "      <th>2</th>\n",
              "      <td>Jia</td>\n",
              "      <td>8</td>\n",
              "    </tr>\n",
              "  </tbody>\n",
              "</table>\n",
              "</div>"
            ],
            "text/plain": [
              "   name  age\n",
              "0  Jeff   30\n",
              "1  Esha   56\n",
              "2   Jia    8"
            ]
          },
          "metadata": {
            "tags": []
          },
          "execution_count": 3
        }
      ]
    },
    {
      "cell_type": "markdown",
      "metadata": {
        "id": "Xz657mzzqP__"
      },
      "source": [
        "####**9.2-Select columns**\n"
      ]
    },
    {
      "cell_type": "markdown",
      "metadata": {
        "id": "5CONQtc6qcPY"
      },
      "source": [
        "You can select one column by doing df[column_name], such as df['age'], or multiple columns as df[[column_name1, column_name2]]. For a single column, you can also select it using the attribute syntax, df.<column_name>, as in, df.age. Note, a single column in Pandas is called a Series and operates differently from a DataFrame.\n",
        "\n",
        "Suppose you constructed a DataFrame by"
      ]
    },
    {
      "cell_type": "code",
      "metadata": {
        "id": "CgOA3xQmqhrn"
      },
      "source": [
        "import pandas as pd\n",
        "\n",
        "df = pd.DataFrame({'name': ['Jeff', 'Esha', 'Jia'], \n",
        "                   'age': [30, 56, 8]})"
      ],
      "execution_count": null,
      "outputs": []
    },
    {
      "cell_type": "code",
      "metadata": {
        "colab": {
          "base_uri": "https://localhost:8080/",
          "height": 141
        },
        "id": "gPtY0uGX7mno",
        "outputId": "2a87627f-90de-4a1c-c359-76b980e45ddb"
      },
      "source": [
        "df"
      ],
      "execution_count": null,
      "outputs": [
        {
          "output_type": "execute_result",
          "data": {
            "text/html": [
              "<div>\n",
              "<style scoped>\n",
              "    .dataframe tbody tr th:only-of-type {\n",
              "        vertical-align: middle;\n",
              "    }\n",
              "\n",
              "    .dataframe tbody tr th {\n",
              "        vertical-align: top;\n",
              "    }\n",
              "\n",
              "    .dataframe thead th {\n",
              "        text-align: right;\n",
              "    }\n",
              "</style>\n",
              "<table border=\"1\" class=\"dataframe\">\n",
              "  <thead>\n",
              "    <tr style=\"text-align: right;\">\n",
              "      <th></th>\n",
              "      <th>name</th>\n",
              "      <th>age</th>\n",
              "    </tr>\n",
              "  </thead>\n",
              "  <tbody>\n",
              "    <tr>\n",
              "      <th>0</th>\n",
              "      <td>Jeff</td>\n",
              "      <td>30</td>\n",
              "    </tr>\n",
              "    <tr>\n",
              "      <th>1</th>\n",
              "      <td>Esha</td>\n",
              "      <td>56</td>\n",
              "    </tr>\n",
              "    <tr>\n",
              "      <th>2</th>\n",
              "      <td>Jia</td>\n",
              "      <td>8</td>\n",
              "    </tr>\n",
              "  </tbody>\n",
              "</table>\n",
              "</div>"
            ],
            "text/plain": [
              "   name  age\n",
              "0  Jeff   30\n",
              "1  Esha   56\n",
              "2   Jia    8"
            ]
          },
          "metadata": {
            "tags": []
          },
          "execution_count": 21
        }
      ]
    },
    {
      "cell_type": "code",
      "metadata": {
        "id": "2HmGSpgY3q-s"
      },
      "source": [
        "df1 = df['age']"
      ],
      "execution_count": null,
      "outputs": []
    },
    {
      "cell_type": "code",
      "metadata": {
        "colab": {
          "base_uri": "https://localhost:8080/"
        },
        "id": "KZk0314q4YLN",
        "outputId": "4e657e5a-5710-4ca5-e478-5daa1c882310"
      },
      "source": [
        "df1"
      ],
      "execution_count": null,
      "outputs": [
        {
          "output_type": "execute_result",
          "data": {
            "text/plain": [
              "0    30\n",
              "1    56\n",
              "2     8\n",
              "Name: age, dtype: int64"
            ]
          },
          "metadata": {
            "tags": []
          },
          "execution_count": 22
        }
      ]
    },
    {
      "cell_type": "code",
      "metadata": {
        "id": "hJy47cGi_2L-",
        "colab": {
          "base_uri": "https://localhost:8080/",
          "height": 141
        },
        "outputId": "6ad08253-9abd-4cfd-e08d-69f2ee9de53f"
      },
      "source": [
        "df.head()"
      ],
      "execution_count": null,
      "outputs": [
        {
          "output_type": "execute_result",
          "data": {
            "text/html": [
              "<div>\n",
              "<style scoped>\n",
              "    .dataframe tbody tr th:only-of-type {\n",
              "        vertical-align: middle;\n",
              "    }\n",
              "\n",
              "    .dataframe tbody tr th {\n",
              "        vertical-align: top;\n",
              "    }\n",
              "\n",
              "    .dataframe thead th {\n",
              "        text-align: right;\n",
              "    }\n",
              "</style>\n",
              "<table border=\"1\" class=\"dataframe\">\n",
              "  <thead>\n",
              "    <tr style=\"text-align: right;\">\n",
              "      <th></th>\n",
              "      <th>name</th>\n",
              "      <th>age</th>\n",
              "    </tr>\n",
              "  </thead>\n",
              "  <tbody>\n",
              "    <tr>\n",
              "      <th>0</th>\n",
              "      <td>Jeff</td>\n",
              "      <td>30</td>\n",
              "    </tr>\n",
              "    <tr>\n",
              "      <th>1</th>\n",
              "      <td>Esha</td>\n",
              "      <td>56</td>\n",
              "    </tr>\n",
              "    <tr>\n",
              "      <th>2</th>\n",
              "      <td>Jia</td>\n",
              "      <td>8</td>\n",
              "    </tr>\n",
              "  </tbody>\n",
              "</table>\n",
              "</div>"
            ],
            "text/plain": [
              "   name  age\n",
              "0  Jeff   30\n",
              "1  Esha   56\n",
              "2   Jia    8"
            ]
          },
          "metadata": {
            "tags": []
          },
          "execution_count": 23
        }
      ]
    },
    {
      "cell_type": "markdown",
      "metadata": {
        "id": "jf41Ap3QGHRM"
      },
      "source": [
        "####**9.3-Select rows by label (.loc)**"
      ]
    },
    {
      "cell_type": "markdown",
      "metadata": {
        "id": "WDicKPvAGTwL"
      },
      "source": [
        "You can select the rows of a DataFrame one of two ways. One way is with df.loc[...].\n",
        "\n",
        " df.loc[...] selects rows based on their index value. To select a single row, you can do df.loc[index_value], for example, df.loc[156].\n",
        " \n",
        "  To select multiple rows, you can do df.loc[[index_value1, index_value2]], for example, df.loc[[132, 156]].\n",
        "\n",
        "Suppose you constructed a DataFrame by"
      ]
    },
    {
      "cell_type": "code",
      "metadata": {
        "id": "drH4dyJVGgFC"
      },
      "source": [
        "import pandas as pd\n",
        "\n",
        "df = pd.DataFrame({'name': ['Jeff', 'Esha', 'Jia'], \n",
        "                   'age': [30, 56, 8]},\n",
        "                   index=[132, 156, 27])"
      ],
      "execution_count": null,
      "outputs": []
    },
    {
      "cell_type": "code",
      "metadata": {
        "colab": {
          "base_uri": "https://localhost:8080/",
          "height": 141
        },
        "id": "Ese7M6j98E3I",
        "outputId": "fa4f2e11-54cb-4357-ae22-f6ab39b881ac"
      },
      "source": [
        "df"
      ],
      "execution_count": null,
      "outputs": [
        {
          "output_type": "execute_result",
          "data": {
            "text/html": [
              "<div>\n",
              "<style scoped>\n",
              "    .dataframe tbody tr th:only-of-type {\n",
              "        vertical-align: middle;\n",
              "    }\n",
              "\n",
              "    .dataframe tbody tr th {\n",
              "        vertical-align: top;\n",
              "    }\n",
              "\n",
              "    .dataframe thead th {\n",
              "        text-align: right;\n",
              "    }\n",
              "</style>\n",
              "<table border=\"1\" class=\"dataframe\">\n",
              "  <thead>\n",
              "    <tr style=\"text-align: right;\">\n",
              "      <th></th>\n",
              "      <th>name</th>\n",
              "      <th>age</th>\n",
              "    </tr>\n",
              "  </thead>\n",
              "  <tbody>\n",
              "    <tr>\n",
              "      <th>132</th>\n",
              "      <td>Jeff</td>\n",
              "      <td>30</td>\n",
              "    </tr>\n",
              "    <tr>\n",
              "      <th>156</th>\n",
              "      <td>Esha</td>\n",
              "      <td>56</td>\n",
              "    </tr>\n",
              "    <tr>\n",
              "      <th>27</th>\n",
              "      <td>Jia</td>\n",
              "      <td>8</td>\n",
              "    </tr>\n",
              "  </tbody>\n",
              "</table>\n",
              "</div>"
            ],
            "text/plain": [
              "     name  age\n",
              "132  Jeff   30\n",
              "156  Esha   56\n",
              "27    Jia    8"
            ]
          },
          "metadata": {
            "tags": []
          },
          "execution_count": 32
        }
      ]
    },
    {
      "cell_type": "code",
      "metadata": {
        "colab": {
          "base_uri": "https://localhost:8080/",
          "height": 110
        },
        "id": "e8HpI5MG-t4A",
        "outputId": "b81d7aa6-b3d6-4d43-ac2f-acbbcf8deb3f"
      },
      "source": [
        "df.loc[[27, 132]]"
      ],
      "execution_count": null,
      "outputs": [
        {
          "output_type": "execute_result",
          "data": {
            "text/html": [
              "<div>\n",
              "<style scoped>\n",
              "    .dataframe tbody tr th:only-of-type {\n",
              "        vertical-align: middle;\n",
              "    }\n",
              "\n",
              "    .dataframe tbody tr th {\n",
              "        vertical-align: top;\n",
              "    }\n",
              "\n",
              "    .dataframe thead th {\n",
              "        text-align: right;\n",
              "    }\n",
              "</style>\n",
              "<table border=\"1\" class=\"dataframe\">\n",
              "  <thead>\n",
              "    <tr style=\"text-align: right;\">\n",
              "      <th></th>\n",
              "      <th>name</th>\n",
              "      <th>age</th>\n",
              "    </tr>\n",
              "  </thead>\n",
              "  <tbody>\n",
              "    <tr>\n",
              "      <th>27</th>\n",
              "      <td>Jia</td>\n",
              "      <td>8</td>\n",
              "    </tr>\n",
              "    <tr>\n",
              "      <th>132</th>\n",
              "      <td>Jeff</td>\n",
              "      <td>30</td>\n",
              "    </tr>\n",
              "  </tbody>\n",
              "</table>\n",
              "</div>"
            ],
            "text/plain": [
              "     name  age\n",
              "27    Jia    8\n",
              "132  Jeff   30"
            ]
          },
          "metadata": {
            "tags": []
          },
          "execution_count": 34
        }
      ]
    },
    {
      "cell_type": "code",
      "metadata": {
        "id": "LdXl9xV0_END"
      },
      "source": [
        "df"
      ],
      "execution_count": null,
      "outputs": []
    },
    {
      "cell_type": "code",
      "metadata": {
        "id": "W_YA1S42GjLv"
      },
      "source": [
        "df.head()"
      ],
      "execution_count": null,
      "outputs": []
    },
    {
      "cell_type": "markdown",
      "metadata": {
        "id": "la-I_2kJGope"
      },
      "source": [
        "####**9.4-Select rows by position (.iloc)**"
      ]
    },
    {
      "cell_type": "markdown",
      "metadata": {
        "id": "mQWUTwK_G0Bo"
      },
      "source": [
        "You can select the rows of a DataFrame one of two ways.\n",
        " One way is with df.iloc[...]. df.iloc[...] selects rows based on their position in the DataFrame.\n",
        " \n",
        "  To select a single row, you can do df.iloc[position], for example, df.loc[1] selects the row with Esha below. To select multiple rows, you can do df.iloc[[position1, position2]], for example, df.loc[[0, 2]].\n",
        "\n",
        "Suppose you constructed a DataFrame by"
      ]
    },
    {
      "cell_type": "code",
      "metadata": {
        "id": "APpf9NWTG_ct"
      },
      "source": [
        "import pandas as pd\n",
        "\n",
        "df = pd.DataFrame({'name': ['Jeff', 'Esha', 'Jia'], \n",
        "                   'age': [30, 56, 8]},\n",
        "                   index=[132, 156, 27])"
      ],
      "execution_count": null,
      "outputs": []
    },
    {
      "cell_type": "code",
      "metadata": {
        "colab": {
          "base_uri": "https://localhost:8080/"
        },
        "id": "hX4WVYqGT5lG",
        "outputId": "8374542d-8524-4e0d-bfcd-f4c4539b7bdb"
      },
      "source": [
        "df.iloc[2]"
      ],
      "execution_count": null,
      "outputs": [
        {
          "output_type": "execute_result",
          "data": {
            "text/plain": [
              "name    Jia\n",
              "age       8\n",
              "Name: 27, dtype: object"
            ]
          },
          "metadata": {
            "tags": []
          },
          "execution_count": 15
        }
      ]
    },
    {
      "cell_type": "code",
      "metadata": {
        "id": "Pdkc-pGjHFY_"
      },
      "source": [
        "df.head()"
      ],
      "execution_count": null,
      "outputs": []
    },
    {
      "cell_type": "markdown",
      "metadata": {
        "id": "wZJ7oC_kSapq"
      },
      "source": [
        "####**9.5-Aggregate a column**"
      ]
    },
    {
      "cell_type": "markdown",
      "metadata": {
        "id": "LakUWhGDSlU0"
      },
      "source": [
        "DataFrames can calculate aggregations on columns. Aggregation functions such as mean, max, min,  are available.\n",
        "\n",
        "Using the same DataFrame from before,"
      ]
    },
    {
      "cell_type": "code",
      "metadata": {
        "id": "2sjw5ElKSpA6"
      },
      "source": [
        "import pandas as pd\n",
        "\n",
        "df = pd.DataFrame({'name': ['Jeff', 'Esha', 'Jia'], \n",
        "                   'age': [30, 56, 8]})"
      ],
      "execution_count": null,
      "outputs": []
    },
    {
      "cell_type": "code",
      "metadata": {
        "id": "FRAmU9MMStfa",
        "colab": {
          "base_uri": "https://localhost:8080/",
          "height": 141
        },
        "outputId": "1c6a0d4c-3785-4b7d-b1eb-adfbed6a250a"
      },
      "source": [
        "df.head()"
      ],
      "execution_count": null,
      "outputs": [
        {
          "output_type": "execute_result",
          "data": {
            "text/html": [
              "<div>\n",
              "<style scoped>\n",
              "    .dataframe tbody tr th:only-of-type {\n",
              "        vertical-align: middle;\n",
              "    }\n",
              "\n",
              "    .dataframe tbody tr th {\n",
              "        vertical-align: top;\n",
              "    }\n",
              "\n",
              "    .dataframe thead th {\n",
              "        text-align: right;\n",
              "    }\n",
              "</style>\n",
              "<table border=\"1\" class=\"dataframe\">\n",
              "  <thead>\n",
              "    <tr style=\"text-align: right;\">\n",
              "      <th></th>\n",
              "      <th>name</th>\n",
              "      <th>age</th>\n",
              "    </tr>\n",
              "  </thead>\n",
              "  <tbody>\n",
              "    <tr>\n",
              "      <th>0</th>\n",
              "      <td>Jeff</td>\n",
              "      <td>30</td>\n",
              "    </tr>\n",
              "    <tr>\n",
              "      <th>1</th>\n",
              "      <td>Esha</td>\n",
              "      <td>56</td>\n",
              "    </tr>\n",
              "    <tr>\n",
              "      <th>2</th>\n",
              "      <td>Jia</td>\n",
              "      <td>8</td>\n",
              "    </tr>\n",
              "  </tbody>\n",
              "</table>\n",
              "</div>"
            ],
            "text/plain": [
              "   name  age\n",
              "0  Jeff   30\n",
              "1  Esha   56\n",
              "2   Jia    8"
            ]
          },
          "metadata": {
            "tags": []
          },
          "execution_count": 43
        }
      ]
    },
    {
      "cell_type": "markdown",
      "metadata": {
        "id": "DF3736FILVeo"
      },
      "source": [
        "What is the minimum value of age? Define a variable min_age with the value of df.age.min() would output."
      ]
    },
    {
      "cell_type": "code",
      "metadata": {
        "colab": {
          "base_uri": "https://localhost:8080/"
        },
        "id": "XbeQRFweNj9_",
        "outputId": "4ab36064-23d6-48fc-9323-d2a83cd20e98"
      },
      "source": [
        "min_data"
      ],
      "execution_count": null,
      "outputs": [
        {
          "output_type": "execute_result",
          "data": {
            "text/plain": [
              "name    Jia\n",
              "age       8\n",
              "Name: 2, dtype: object"
            ]
          },
          "metadata": {
            "tags": []
          },
          "execution_count": 44
        }
      ]
    },
    {
      "cell_type": "code",
      "metadata": {
        "colab": {
          "base_uri": "https://localhost:8080/"
        },
        "id": "lsUSsM6rNCSz",
        "outputId": "fe199684-195f-4d55-abf2-fa115aa1052b"
      },
      "source": [
        "maxm_data"
      ],
      "execution_count": null,
      "outputs": [
        {
          "output_type": "execute_result",
          "data": {
            "text/plain": [
              "name    Esha\n",
              "age       56\n",
              "Name: 1, dtype: object"
            ]
          },
          "metadata": {
            "tags": []
          },
          "execution_count": 45
        }
      ]
    },
    {
      "cell_type": "markdown",
      "metadata": {
        "id": "YMfBV_x_N_Hv"
      },
      "source": [
        "####**9.6-Creating a new column**"
      ]
    },
    {
      "cell_type": "markdown",
      "metadata": {
        "id": "4i9zkZwGOH2h"
      },
      "source": [
        "You can add a new column to a DataFrame by doing df[new_column_name] = value_for_each_row. Typically, you will create a new column from one or more existing columns in your DataFrame. Most operators that work on single values in python will work on DataFrames such as +, -, *, /, ==, <, and >."
      ]
    },
    {
      "cell_type": "code",
      "metadata": {
        "id": "D9IHOH3kgUyG"
      },
      "source": [
        "import pandas as pd\n",
        "import numpy as np\n",
        "\n",
        "df = pd.DataFrame({'name': ['Jeff', 'Esha', 'Jia'], \n",
        "                   'age': [30, 56, 8]})"
      ],
      "execution_count": null,
      "outputs": []
    },
    {
      "cell_type": "code",
      "metadata": {
        "colab": {
          "base_uri": "https://localhost:8080/"
        },
        "id": "0PMtdPR0gYHZ",
        "outputId": "a5730d86-cd72-48fd-f68a-a312fe8ae0dc"
      },
      "source": [
        "pd.Series([3, -5, 7, 4],  index=['a',  'b',  'c',  'd'])\n"
      ],
      "execution_count": null,
      "outputs": [
        {
          "output_type": "execute_result",
          "data": {
            "text/plain": [
              "a    3\n",
              "b   -5\n",
              "c    7\n",
              "d    4\n",
              "dtype: int64"
            ]
          },
          "metadata": {
            "tags": []
          },
          "execution_count": 47
        }
      ]
    },
    {
      "cell_type": "markdown",
      "metadata": {
        "id": "Q7EzouPjhkPH"
      },
      "source": [
        "####**9.7-Modify a column**"
      ]
    },
    {
      "cell_type": "markdown",
      "metadata": {
        "id": "dd3QXzNxhtfK"
      },
      "source": [
        "Similar to adding a column, you can replace an existing column by using the same column syntax (df[column] = value_for_each_row) but with column equal to an existing column name.\n",
        "\n",
        "Using the same DataFrame shape from the previous exercise,"
      ]
    },
    {
      "cell_type": "code",
      "metadata": {
        "colab": {
          "base_uri": "https://localhost:8080/",
          "height": 202
        },
        "id": "lwpL1sIZhxIc",
        "outputId": "8fd221f5-a7cc-4498-d5d7-953a6effcce3"
      },
      "source": [
        "import pandas as pd\n",
        "\n",
        "data = {'country': ['Italy','Spain','Greece','France','Portugal'],\n",
        "        'popu': [61, 46, 11, 65, 10],\n",
        "        'percent': [0.83,0.63,0.15,0.88,0.14]}\n",
        "\n",
        "df = pd.DataFrame(data, index=['ITA', 'ESP', 'GRC', 'FRA', 'PRT'])\n",
        "df"
      ],
      "execution_count": null,
      "outputs": [
        {
          "output_type": "execute_result",
          "data": {
            "text/html": [
              "<div>\n",
              "<style scoped>\n",
              "    .dataframe tbody tr th:only-of-type {\n",
              "        vertical-align: middle;\n",
              "    }\n",
              "\n",
              "    .dataframe tbody tr th {\n",
              "        vertical-align: top;\n",
              "    }\n",
              "\n",
              "    .dataframe thead th {\n",
              "        text-align: right;\n",
              "    }\n",
              "</style>\n",
              "<table border=\"1\" class=\"dataframe\">\n",
              "  <thead>\n",
              "    <tr style=\"text-align: right;\">\n",
              "      <th></th>\n",
              "      <th>country</th>\n",
              "      <th>popu</th>\n",
              "      <th>percent</th>\n",
              "    </tr>\n",
              "  </thead>\n",
              "  <tbody>\n",
              "    <tr>\n",
              "      <th>ITA</th>\n",
              "      <td>Italy</td>\n",
              "      <td>61</td>\n",
              "      <td>0.83</td>\n",
              "    </tr>\n",
              "    <tr>\n",
              "      <th>ESP</th>\n",
              "      <td>Spain</td>\n",
              "      <td>46</td>\n",
              "      <td>0.63</td>\n",
              "    </tr>\n",
              "    <tr>\n",
              "      <th>GRC</th>\n",
              "      <td>Greece</td>\n",
              "      <td>11</td>\n",
              "      <td>0.15</td>\n",
              "    </tr>\n",
              "    <tr>\n",
              "      <th>FRA</th>\n",
              "      <td>France</td>\n",
              "      <td>65</td>\n",
              "      <td>0.88</td>\n",
              "    </tr>\n",
              "    <tr>\n",
              "      <th>PRT</th>\n",
              "      <td>Portugal</td>\n",
              "      <td>10</td>\n",
              "      <td>0.14</td>\n",
              "    </tr>\n",
              "  </tbody>\n",
              "</table>\n",
              "</div>"
            ],
            "text/plain": [
              "      country  popu  percent\n",
              "ITA     Italy    61     0.83\n",
              "ESP     Spain    46     0.63\n",
              "GRC    Greece    11     0.15\n",
              "FRA    France    65     0.88\n",
              "PRT  Portugal    10     0.14"
            ]
          },
          "metadata": {
            "tags": []
          },
          "execution_count": 48
        }
      ]
    },
    {
      "cell_type": "markdown",
      "metadata": {
        "id": "xAaYvqE5iUW8"
      },
      "source": [
        "####**9.8-Filter rows**"
      ]
    },
    {
      "cell_type": "markdown",
      "metadata": {
        "id": "LUoZzlJbnRBu"
      },
      "source": [
        "You can filter the rows of a DataFrame to only contain rows that meet some condition. For example, df[df.age >= 16] would return a new DataFrame with same columns and only the rows for which the age value was greater than or equal to 16.\n",
        "\n",
        "Using the DataFrame"
      ]
    },
    {
      "cell_type": "code",
      "metadata": {
        "id": "kKt4nXFKnSSl",
        "colab": {
          "base_uri": "https://localhost:8080/",
          "height": 204
        },
        "outputId": "a27bebb7-e57e-4e8a-ac59-7d09d96cc449"
      },
      "source": [
        "import numpy as np \n",
        "import pandas as pd\n",
        "\n",
        "data = {'country': ['Italy','Spain','Greece','France','Portugal'],\n",
        "        'popu': [61, 46, 11, 65, 10],\n",
        "        'percent': [0.83,0.63,0.15,0.88,0.14]}\n",
        "\n",
        "df = pd.DataFrame(data, index=['ITA', 'ESP', 'GRC', 'FRA', 'PRT'])\n",
        "df"
      ],
      "execution_count": null,
      "outputs": [
        {
          "output_type": "execute_result",
          "data": {
            "text/html": [
              "<div>\n",
              "<style scoped>\n",
              "    .dataframe tbody tr th:only-of-type {\n",
              "        vertical-align: middle;\n",
              "    }\n",
              "\n",
              "    .dataframe tbody tr th {\n",
              "        vertical-align: top;\n",
              "    }\n",
              "\n",
              "    .dataframe thead th {\n",
              "        text-align: right;\n",
              "    }\n",
              "</style>\n",
              "<table border=\"1\" class=\"dataframe\">\n",
              "  <thead>\n",
              "    <tr style=\"text-align: right;\">\n",
              "      <th></th>\n",
              "      <th>country</th>\n",
              "      <th>popu</th>\n",
              "      <th>percent</th>\n",
              "    </tr>\n",
              "  </thead>\n",
              "  <tbody>\n",
              "    <tr>\n",
              "      <th>ITA</th>\n",
              "      <td>Italy</td>\n",
              "      <td>61</td>\n",
              "      <td>0.83</td>\n",
              "    </tr>\n",
              "    <tr>\n",
              "      <th>ESP</th>\n",
              "      <td>Spain</td>\n",
              "      <td>46</td>\n",
              "      <td>0.63</td>\n",
              "    </tr>\n",
              "    <tr>\n",
              "      <th>GRC</th>\n",
              "      <td>Greece</td>\n",
              "      <td>11</td>\n",
              "      <td>0.15</td>\n",
              "    </tr>\n",
              "    <tr>\n",
              "      <th>FRA</th>\n",
              "      <td>France</td>\n",
              "      <td>65</td>\n",
              "      <td>0.88</td>\n",
              "    </tr>\n",
              "    <tr>\n",
              "      <th>PRT</th>\n",
              "      <td>Portugal</td>\n",
              "      <td>10</td>\n",
              "      <td>0.14</td>\n",
              "    </tr>\n",
              "  </tbody>\n",
              "</table>\n",
              "</div>"
            ],
            "text/plain": [
              "      country  popu  percent\n",
              "ITA     Italy    61     0.83\n",
              "ESP     Spain    46     0.63\n",
              "GRC    Greece    11     0.15\n",
              "FRA    France    65     0.88\n",
              "PRT  Portugal    10     0.14"
            ]
          },
          "metadata": {
            "tags": []
          },
          "execution_count": 2
        }
      ]
    },
    {
      "cell_type": "code",
      "metadata": {
        "id": "9YAvgbRrniCr",
        "colab": {
          "base_uri": "https://localhost:8080/",
          "height": 204
        },
        "outputId": "a2e5670c-6f49-411f-8e3f-9ef73d22e943"
      },
      "source": [
        "# Rename 'popu' column to 'population'\n",
        "dfnew = df.rename(columns={'popu': 'population'})\n",
        "dfnew"
      ],
      "execution_count": null,
      "outputs": [
        {
          "output_type": "execute_result",
          "data": {
            "text/html": [
              "<div>\n",
              "<style scoped>\n",
              "    .dataframe tbody tr th:only-of-type {\n",
              "        vertical-align: middle;\n",
              "    }\n",
              "\n",
              "    .dataframe tbody tr th {\n",
              "        vertical-align: top;\n",
              "    }\n",
              "\n",
              "    .dataframe thead th {\n",
              "        text-align: right;\n",
              "    }\n",
              "</style>\n",
              "<table border=\"1\" class=\"dataframe\">\n",
              "  <thead>\n",
              "    <tr style=\"text-align: right;\">\n",
              "      <th></th>\n",
              "      <th>country</th>\n",
              "      <th>population</th>\n",
              "      <th>percent</th>\n",
              "    </tr>\n",
              "  </thead>\n",
              "  <tbody>\n",
              "    <tr>\n",
              "      <th>ITA</th>\n",
              "      <td>Italy</td>\n",
              "      <td>61</td>\n",
              "      <td>0.83</td>\n",
              "    </tr>\n",
              "    <tr>\n",
              "      <th>ESP</th>\n",
              "      <td>Spain</td>\n",
              "      <td>46</td>\n",
              "      <td>0.63</td>\n",
              "    </tr>\n",
              "    <tr>\n",
              "      <th>GRC</th>\n",
              "      <td>Greece</td>\n",
              "      <td>11</td>\n",
              "      <td>0.15</td>\n",
              "    </tr>\n",
              "    <tr>\n",
              "      <th>FRA</th>\n",
              "      <td>France</td>\n",
              "      <td>65</td>\n",
              "      <td>0.88</td>\n",
              "    </tr>\n",
              "    <tr>\n",
              "      <th>PRT</th>\n",
              "      <td>Portugal</td>\n",
              "      <td>10</td>\n",
              "      <td>0.14</td>\n",
              "    </tr>\n",
              "  </tbody>\n",
              "</table>\n",
              "</div>"
            ],
            "text/plain": [
              "      country  population  percent\n",
              "ITA     Italy          61     0.83\n",
              "ESP     Spain          46     0.63\n",
              "GRC    Greece          11     0.15\n",
              "FRA    France          65     0.88\n",
              "PRT  Portugal          10     0.14"
            ]
          },
          "metadata": {
            "tags": []
          },
          "execution_count": 3
        }
      ]
    },
    {
      "cell_type": "code",
      "metadata": {
        "id": "wHv6sy-Gnpro",
        "colab": {
          "base_uri": "https://localhost:8080/",
          "height": 204
        },
        "outputId": "02659fd1-f276-4015-867b-09fb8196063a"
      },
      "source": [
        "# Add a list as a new column \n",
        "dfnew['capital city'] = ['Rome','Madrid','Athens','Paris','Lisbon']\n",
        "dfnew\n"
      ],
      "execution_count": null,
      "outputs": [
        {
          "output_type": "execute_result",
          "data": {
            "text/html": [
              "<div>\n",
              "<style scoped>\n",
              "    .dataframe tbody tr th:only-of-type {\n",
              "        vertical-align: middle;\n",
              "    }\n",
              "\n",
              "    .dataframe tbody tr th {\n",
              "        vertical-align: top;\n",
              "    }\n",
              "\n",
              "    .dataframe thead th {\n",
              "        text-align: right;\n",
              "    }\n",
              "</style>\n",
              "<table border=\"1\" class=\"dataframe\">\n",
              "  <thead>\n",
              "    <tr style=\"text-align: right;\">\n",
              "      <th></th>\n",
              "      <th>country</th>\n",
              "      <th>population</th>\n",
              "      <th>percent</th>\n",
              "      <th>capital city</th>\n",
              "    </tr>\n",
              "  </thead>\n",
              "  <tbody>\n",
              "    <tr>\n",
              "      <th>ITA</th>\n",
              "      <td>Italy</td>\n",
              "      <td>61</td>\n",
              "      <td>0.83</td>\n",
              "      <td>Rome</td>\n",
              "    </tr>\n",
              "    <tr>\n",
              "      <th>ESP</th>\n",
              "      <td>Spain</td>\n",
              "      <td>46</td>\n",
              "      <td>0.63</td>\n",
              "      <td>Madrid</td>\n",
              "    </tr>\n",
              "    <tr>\n",
              "      <th>GRC</th>\n",
              "      <td>Greece</td>\n",
              "      <td>11</td>\n",
              "      <td>0.15</td>\n",
              "      <td>Athens</td>\n",
              "    </tr>\n",
              "    <tr>\n",
              "      <th>FRA</th>\n",
              "      <td>France</td>\n",
              "      <td>65</td>\n",
              "      <td>0.88</td>\n",
              "      <td>Paris</td>\n",
              "    </tr>\n",
              "    <tr>\n",
              "      <th>PRT</th>\n",
              "      <td>Portugal</td>\n",
              "      <td>10</td>\n",
              "      <td>0.14</td>\n",
              "      <td>Lisbon</td>\n",
              "    </tr>\n",
              "  </tbody>\n",
              "</table>\n",
              "</div>"
            ],
            "text/plain": [
              "      country  population  percent capital city\n",
              "ITA     Italy          61     0.83         Rome\n",
              "ESP     Spain          46     0.63       Madrid\n",
              "GRC    Greece          11     0.15       Athens\n",
              "FRA    France          65     0.88        Paris\n",
              "PRT  Portugal          10     0.14       Lisbon"
            ]
          },
          "metadata": {
            "tags": []
          },
          "execution_count": 4
        }
      ]
    },
    {
      "cell_type": "code",
      "metadata": {
        "id": "O9P-i8Son5pY",
        "colab": {
          "base_uri": "https://localhost:8080/",
          "height": 204
        },
        "outputId": "a7e7b47c-189e-415d-f3e5-6a49f8e8d569"
      },
      "source": [
        "# Add an array as a new column \n",
        "ar = np.array([39,34,30,33,351])\n",
        "ar\n",
        "dfnew['Calling code'] = ar\n",
        "dfnew"
      ],
      "execution_count": null,
      "outputs": [
        {
          "output_type": "execute_result",
          "data": {
            "text/html": [
              "<div>\n",
              "<style scoped>\n",
              "    .dataframe tbody tr th:only-of-type {\n",
              "        vertical-align: middle;\n",
              "    }\n",
              "\n",
              "    .dataframe tbody tr th {\n",
              "        vertical-align: top;\n",
              "    }\n",
              "\n",
              "    .dataframe thead th {\n",
              "        text-align: right;\n",
              "    }\n",
              "</style>\n",
              "<table border=\"1\" class=\"dataframe\">\n",
              "  <thead>\n",
              "    <tr style=\"text-align: right;\">\n",
              "      <th></th>\n",
              "      <th>country</th>\n",
              "      <th>population</th>\n",
              "      <th>percent</th>\n",
              "      <th>capital city</th>\n",
              "      <th>Calling code</th>\n",
              "    </tr>\n",
              "  </thead>\n",
              "  <tbody>\n",
              "    <tr>\n",
              "      <th>ITA</th>\n",
              "      <td>Italy</td>\n",
              "      <td>61</td>\n",
              "      <td>0.83</td>\n",
              "      <td>Rome</td>\n",
              "      <td>39</td>\n",
              "    </tr>\n",
              "    <tr>\n",
              "      <th>ESP</th>\n",
              "      <td>Spain</td>\n",
              "      <td>46</td>\n",
              "      <td>0.63</td>\n",
              "      <td>Madrid</td>\n",
              "      <td>34</td>\n",
              "    </tr>\n",
              "    <tr>\n",
              "      <th>GRC</th>\n",
              "      <td>Greece</td>\n",
              "      <td>11</td>\n",
              "      <td>0.15</td>\n",
              "      <td>Athens</td>\n",
              "      <td>30</td>\n",
              "    </tr>\n",
              "    <tr>\n",
              "      <th>FRA</th>\n",
              "      <td>France</td>\n",
              "      <td>65</td>\n",
              "      <td>0.88</td>\n",
              "      <td>Paris</td>\n",
              "      <td>33</td>\n",
              "    </tr>\n",
              "    <tr>\n",
              "      <th>PRT</th>\n",
              "      <td>Portugal</td>\n",
              "      <td>10</td>\n",
              "      <td>0.14</td>\n",
              "      <td>Lisbon</td>\n",
              "      <td>351</td>\n",
              "    </tr>\n",
              "  </tbody>\n",
              "</table>\n",
              "</div>"
            ],
            "text/plain": [
              "      country  population  percent capital city  Calling code\n",
              "ITA     Italy          61     0.83         Rome            39\n",
              "ESP     Spain          46     0.63       Madrid            34\n",
              "GRC    Greece          11     0.15       Athens            30\n",
              "FRA    France          65     0.88        Paris            33\n",
              "PRT  Portugal          10     0.14       Lisbon           351"
            ]
          },
          "metadata": {
            "tags": []
          },
          "execution_count": 5
        }
      ]
    },
    {
      "cell_type": "markdown",
      "metadata": {
        "id": "ok9HGhu1o9Yh"
      },
      "source": [
        "####**9.9-Select rows by boolean expressions**"
      ]
    },
    {
      "cell_type": "markdown",
      "metadata": {
        "id": "pCBmwEx9pHyB"
      },
      "source": [
        "You can make complex boolean (true/false) expressions to select or filter rows in your DataFrame. For example, if our DataFrame had a column age, we could select people who are 16 or older by doing df[df.age >= 16]. But suppose we wanted people who are 16 and older and live in New York. Then we could select them by doing df[(df.age >= 16) & (df.city == 'New York')]. The & in that expression means \"and\", | means \"or\" and ~ means \"not\". Unfortunately, you can't use the python operators and, or, and not with Pandas objects.\n",
        "\n",
        "One gotcha about using & (and) and | (or) to make boolean expressions in Pandas is that you need to wrap each piece between a & or | in parenthesis. This is an unfortunate issue due to the way python evaluates operators. If you are interested, you can read more about it here. In either case, remember to wrap each piece in parenthesis!\n",
        "\n",
        "Suppose you constructed a DataFrame by"
      ]
    },
    {
      "cell_type": "markdown",
      "metadata": {
        "id": "oh817mKjMATP"
      },
      "source": [
        "####**9.10-Conditional column update**"
      ]
    },
    {
      "cell_type": "markdown",
      "metadata": {
        "id": "rfAI9FD-MIR_"
      },
      "source": [
        "Sometimes you are interested in setting the value of a column only if the row meets some condition. For example, if our DataFrame has two columns, accuracy and predicted_text, we may want to set the predicted_text to the empty string ('') if the accuracy is less than 50. We can do this by using .loc[], by doing df.loc[df.accuracy <= 50, 'predicted_text'] = ''. The first argument to loc (df.accuracy <= 50) creates a column of boolean (True/False) values, one for each row. This selects rows to update. The second argument is the column we want to update. .fillna() is a convenient special case method for conditional updates when the condition is the column is NaN.\n",
        "\n",
        "Suppose you constructed a DataFrame by"
      ]
    },
    {
      "cell_type": "code",
      "metadata": {
        "colab": {
          "base_uri": "https://localhost:8080/"
        },
        "id": "QZy2rYoKiVsX",
        "outputId": "d7836330-59e5-4d19-f942-35fe6fcc6d8c"
      },
      "source": [
        "import pandas as pd\n",
        "import numpy as np\n",
        "\n",
        "df = pd.DataFrame({'Type':list('ABBC'), 'Set':list('ZZXY')})\n",
        "df['color'] = np.where(df['Set']=='Z', 'green', 'red')\n",
        "print(df)"
      ],
      "execution_count": null,
      "outputs": [
        {
          "output_type": "stream",
          "text": [
            "  Type Set  color\n",
            "0    A   Z  green\n",
            "1    B   Z  green\n",
            "2    B   X    red\n",
            "3    C   Y    red\n"
          ],
          "name": "stdout"
        }
      ]
    },
    {
      "cell_type": "markdown",
      "metadata": {
        "id": "CvVReahmi1Jg"
      },
      "source": [
        "####**9.11-Bucketing values using cut**"
      ]
    },
    {
      "cell_type": "markdown",
      "metadata": {
        "id": "JL_SvUqZi_lt"
      },
      "source": [
        "Pandas gives functions to group values into buckets, cut and qcut.\n",
        "\n",
        "Using the DataFrame shape,"
      ]
    },
    {
      "cell_type": "markdown",
      "metadata": {
        "id": "XhMsVdP3QCQr"
      },
      "source": [
        "#**References**\n",
        "\n",
        "[[1]File Handling in Python; Read, Write, Create, Append, Open Files](https://skilllx.com/file-handling-in-python-read-write-create-append-open-files/?fbclid=IwAR0sPMIifrXmXjIIdcYaPImr5nOhFKNAlRyU6Cw4zgqppkUjFmQxpd4n5Gs)\n",
        "\n",
        "[[2]Python GUI Projects](https://amankharwal.medium.com/7-python-gui-projects-for-beginners-87ae2c695d78)\n",
        "\n",
        "[[3]Pandas](https://pandaspractice.com/exercise/1-welcome)\n",
        "\n"
      ]
    }
  ]
}