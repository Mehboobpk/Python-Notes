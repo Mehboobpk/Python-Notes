{
  "nbformat": 4,
  "nbformat_minor": 0,
  "metadata": {
    "colab": {
      "name": "To Send Email Using Python.ipynb",
      "provenance": []
    },
    "kernelspec": {
      "name": "python3",
      "display_name": "Python 3"
    }
  },
  "cells": [
    {
      "cell_type": "markdown",
      "metadata": {
        "id": "lz2_flCmsWc9",
        "colab_type": "text"
      },
      "source": [
        "# **To Send Email Using Python**\n"
      ]
    },
    {
      "cell_type": "code",
      "metadata": {
        "id": "ZO7SrFvlnJrm",
        "colab_type": "code",
        "colab": {}
      },
      "source": [
        "import smtplib\n",
        "server=smtplib.SMTP_SSL(\"smtp.gmail.com\",465)\n",
        "server.login(\"mushtaqmsit@gmail.com\",\"Pass\")\n",
        "server.sendmail(\"mushtaqmsit@gmail.com\",\"theshahzad2019@gmail.com\",\" Hellow, how are you\")"
      ],
      "execution_count": null,
      "outputs": []
    },
    {
      "cell_type": "markdown",
      "metadata": {
        "id": "reGaJRz5sErC",
        "colab_type": "text"
      },
      "source": [
        "#**References**\n",
        "[Python Email Tutorial | How To Send Email Using Python ](https://www.youtube.com/watch?v=Y_tnWTjTfzY)\n",
        "\n",
        "[Less secure app access](https://myaccount.google.com/lesssecureapps?pli=1)"
      ]
    }
  ]
}