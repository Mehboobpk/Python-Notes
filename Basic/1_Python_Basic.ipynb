{
  "nbformat": 4,
  "nbformat_minor": 0,
  "metadata": {
    "coursera": {
      "course_slug": "neural-networks-deep-learning",
      "graded_item_id": "XaIWT",
      "launcher_item_id": "zAgPl"
    },
    "kernelspec": {
      "display_name": "Python 3",
      "language": "python",
      "name": "python3"
    },
    "language_info": {
      "codemirror_mode": {
        "name": "ipython",
        "version": 3
      },
      "file_extension": ".py",
      "mimetype": "text/x-python",
      "name": "python",
      "nbconvert_exporter": "python",
      "pygments_lexer": "ipython3",
      "version": "3.6.2"
    },
    "colab": {
      "name": "1-Python Basic.ipynb",
      "provenance": [],
      "collapsed_sections": [],
      "toc_visible": true,
      "include_colab_link": true
    }
  },
  "cells": [
    {
      "cell_type": "markdown",
      "metadata": {
        "id": "view-in-github",
        "colab_type": "text"
      },
      "source": [
        "<a href=\"https://colab.research.google.com/github/hussain0048/Python/blob/master/Basic/1_Python_Basic.ipynb\" target=\"_parent\"><img src=\"https://colab.research.google.com/assets/colab-badge.svg\" alt=\"Open In Colab\"/></a>"
      ]
    },
    {
      "cell_type": "markdown",
      "metadata": {
        "id": "2WZFQQORCAcS",
        "colab_type": "text"
      },
      "source": [
        "# What is mean by Python\n",
        "\n",
        "**Introduction:**\n",
        "\n",
        "Python is a very simple language, and has a very straightforward syntax. It encourages programmers to program without boilerplate (prepared) code. There are two major Python versions, Python 2 and Python 3. Python 2 and 3 are quite different. This tutorial uses Python 3, because it more semantically correct and supports newer features."
      ]
    },
    {
      "cell_type": "markdown",
      "metadata": {
        "id": "Ok0y6k_3EIQj",
        "colab_type": "text"
      },
      "source": [
        "#**Install Jupyter Notebook**[2]\n",
        "n this machine learning project for beginners, we will use Jupyter Notebook for the development. Let’s see steps for the installation and configuration of Jupyter Notebook.\n",
        "\n",
        "Using pip python package manager you can install Jupyter notebook:"
      ]
    },
    {
      "cell_type": "code",
      "metadata": {
        "id": "pXDOoZn2Ea9x",
        "colab_type": "code",
        "colab": {}
      },
      "source": [
        "pip3 install notebook"
      ],
      "execution_count": null,
      "outputs": []
    },
    {
      "cell_type": "markdown",
      "metadata": {
        "id": "e761fj-KEg2I",
        "colab_type": "text"
      },
      "source": [
        "And that’s it, you have installed jupyter notebook\n",
        "\n",
        "After installing Jupyter notebook you can run the notebook server. To run the notebook, open terminal and type:"
      ]
    },
    {
      "cell_type": "code",
      "metadata": {
        "id": "M6wAlWSSEvWa",
        "colab_type": "code",
        "colab": {}
      },
      "source": [
        "jupyter notebook"
      ],
      "execution_count": null,
      "outputs": []
    },
    {
      "cell_type": "markdown",
      "metadata": {
        "id": "eCskjWPwE3FB",
        "colab_type": "text"
      },
      "source": [
        "It will start the notebook server at http://localhost:8888\n"
      ]
    },
    {
      "cell_type": "code",
      "metadata": {
        "id": "gYSnZoM86Lxq",
        "colab_type": "code",
        "colab": {}
      },
      "source": [
        "!git clone https://github.com/hussain0048/Python.git"
      ],
      "execution_count": null,
      "outputs": []
    },
    {
      "cell_type": "markdown",
      "metadata": {
        "id": "beVu-1UqCAcU",
        "colab_type": "text"
      },
      "source": [
        "# 1- **Hello, World!**\n",
        "The simplest directive in Python is the \"print\" directive - it simply prints out a line (and also includes a newline, unlike in C).For example, one difference between Python 2 and 3 is the print statement. In Python 2, the \"print\" statement is not a function, and therefore it is invoked without parentheses. However, in Python 3, it is a function, and must be invoked with parentheses."
      ]
    },
    {
      "cell_type": "code",
      "metadata": {
        "id": "ZF03EKpuCAcV",
        "colab_type": "code",
        "colab": {}
      },
      "source": [
        "#To print a string in Python 3, just write:\n",
        "print(\"This line will be printed.\")"
      ],
      "execution_count": null,
      "outputs": []
    },
    {
      "cell_type": "code",
      "metadata": {
        "id": "u7Cy9SPr653c",
        "colab_type": "code",
        "colab": {}
      },
      "source": [
        "print(\"Goodbye, World!\")"
      ],
      "execution_count": null,
      "outputs": []
    },
    {
      "cell_type": "markdown",
      "metadata": {
        "collapsed": true,
        "id": "nhYP15aoCAcf",
        "colab_type": "text"
      },
      "source": [
        "# 2- **Indentation**\n",
        "Python uses indentation for blocks, instead of curly braces. Both tabs and spaces are supported, but the standard indentation requires standard Python code to use four spaces. For example\n"
      ]
    },
    {
      "cell_type": "code",
      "metadata": {
        "id": "y1wsGi52CAch",
        "colab_type": "code",
        "colab": {}
      },
      "source": [
        "x = 1\n",
        "if x == 1:\n",
        "    # indented four spaces\n",
        "    print(\"x is 1.\")"
      ],
      "execution_count": null,
      "outputs": []
    },
    {
      "cell_type": "code",
      "metadata": {
        "id": "zthc85D-kW6k",
        "colab_type": "code",
        "colab": {}
      },
      "source": [
        "x = 1\n",
        "if x == 1:"
      ],
      "execution_count": null,
      "outputs": []
    },
    {
      "cell_type": "markdown",
      "metadata": {
        "id": "P4QYI2IoHWpL",
        "colab_type": "text"
      },
      "source": [
        "# 3 - **Variables and Types**\n",
        "Python is completely object oriented, and not \"statically typed\". You do not need to declare variables before using them, or declare their type. Every variable in Python is an object.\n",
        "\n",
        "This tutorial will go over a few basic types of variables.\n"
      ]
    },
    {
      "cell_type": "markdown",
      "metadata": {
        "id": "AMaWX5x481qW",
        "colab_type": "text"
      },
      "source": [
        "## **3.1 Numbers**\n",
        "Python supports two types of numbers - integers and floating point numbers. (It also supports complex numbers, which will not be explained in this tutorial).\n",
        "\n",
        "To define an integer, use the following syntax:"
      ]
    },
    {
      "cell_type": "code",
      "metadata": {
        "id": "HV4itFik94rG",
        "colab_type": "code",
        "colab": {}
      },
      "source": [
        "myint = 7\n",
        "print(myint)"
      ],
      "execution_count": null,
      "outputs": []
    },
    {
      "cell_type": "code",
      "metadata": {
        "id": "p9JGZRKCCAcq",
        "colab_type": "code",
        "colab": {}
      },
      "source": [
        "#To define a floating point number, you may use one of the following notations:\n",
        "myfloat = 7.0\n",
        "print(myfloat)\n",
        "myfloats = float(7)\n",
        "print(myfloats)"
      ],
      "execution_count": null,
      "outputs": []
    },
    {
      "cell_type": "markdown",
      "metadata": {
        "id": "yCl8lMKR-WRg",
        "colab_type": "text"
      },
      "source": [
        "## 3.2- **Strings**\n",
        "Strings are defined either with a single quote or a double quotes.The difference between the two is that using double quotes makes it easy to include apostrophes (whereas these would terminate the string if using single quotes)"
      ]
    },
    {
      "cell_type": "code",
      "metadata": {
        "id": "t1DlRZn5-m4_",
        "colab_type": "code",
        "colab": {}
      },
      "source": [
        "mystring = 'hello'\n",
        "print(mystring)\n",
        "mystring = \"hello\"\n",
        "print(mystring)"
      ],
      "execution_count": null,
      "outputs": []
    },
    {
      "cell_type": "markdown",
      "metadata": {
        "id": "ehTTQE9YJF1Q",
        "colab_type": "text"
      },
      "source": [
        "# 4 -**Lists**\n",
        "Lists are very similar to arrays. They can contain any type of variable, and they can contain as many variables as you wish. Lists can also be iterated over in a very simple manner. Here is an example of how to build a list."
      ]
    },
    {
      "cell_type": "code",
      "metadata": {
        "scrolled": true,
        "id": "TvqFi8-XCAcy",
        "colab_type": "code",
        "colab": {}
      },
      "source": [
        "mylist = []\n",
        "mylist.append(\"a\")\n",
        "mylist.append(\"b\")\n",
        "mylist.append(\"c\")\n",
        "print(mylist[0]) # prints 1\n",
        "print(mylist[1]) # prints 2\n",
        "print(mylist[2]) # prints 3"
      ],
      "execution_count": null,
      "outputs": []
    },
    {
      "cell_type": "code",
      "metadata": {
        "id": "gmN5Z87UAzmf",
        "colab_type": "code",
        "colab": {}
      },
      "source": [
        "# prints out 1,2,3\n",
        "for x in mylist:\n",
        "    print(x)"
      ],
      "execution_count": null,
      "outputs": []
    },
    {
      "cell_type": "code",
      "metadata": {
        "id": "iF-GaT_VBBRz",
        "colab_type": "code",
        "colab": {}
      },
      "source": [
        "#Accessing an index which does not exist generates an exception (an error).\n",
        "mylist = [1,2,3]\n",
        "print(mylist[10])"
      ],
      "execution_count": null,
      "outputs": []
    },
    {
      "cell_type": "markdown",
      "metadata": {
        "id": "izbM6eEUKAV-",
        "colab_type": "text"
      },
      "source": [
        "# 5- Basic Operators\n",
        "This section explains how to use basic operators in Python."
      ]
    },
    {
      "cell_type": "markdown",
      "metadata": {
        "id": "M_GxDC5VBogz",
        "colab_type": "text"
      },
      "source": [
        "## 5.1- Arithmetic Operators\n",
        "Just as any other programming languages, the addition, subtraction, multiplication, and division operators can be used with numbers."
      ]
    },
    {
      "cell_type": "code",
      "metadata": {
        "id": "zt-vctO1Kb3o",
        "colab_type": "code",
        "colab": {
          "base_uri": "https://localhost:8080/",
          "height": 35
        },
        "outputId": "20ca8c15-8cf6-4cd3-e7ae-1b7bbf4ea793"
      },
      "source": [
        "number = 1 + 2 * 3 / 4.0\n",
        "print(number)\n"
      ],
      "execution_count": 1,
      "outputs": [
        {
          "output_type": "stream",
          "text": [
            "2.5\n"
          ],
          "name": "stdout"
        }
      ]
    },
    {
      "cell_type": "code",
      "metadata": {
        "id": "YLQMNIDNuMLr",
        "colab_type": "code",
        "colab": {}
      },
      "source": [
        "print(type(number))"
      ],
      "execution_count": null,
      "outputs": []
    },
    {
      "cell_type": "code",
      "metadata": {
        "id": "xAsBlVQ0DmXi",
        "colab_type": "code",
        "colab": {
          "base_uri": "https://localhost:8080/",
          "height": 35
        },
        "outputId": "b24e2106-8d9e-48f6-d26e-18612e32b1f9"
      },
      "source": [
        "# Another operator available is the modulo (%) operator, which returns the integer remainder of the division. dividend % divisor = remainder\n",
        "remainder = 11 % 3\n",
        "print(remainder)"
      ],
      "execution_count": 5,
      "outputs": [
        {
          "output_type": "stream",
          "text": [
            "2\n"
          ],
          "name": "stdout"
        }
      ]
    },
    {
      "cell_type": "code",
      "metadata": {
        "id": "lYnhlcS1DtiH",
        "colab_type": "code",
        "colab": {}
      },
      "source": [
        "# Using two multiplication symbols makes a power relationship.\n",
        "squared = 7 ** 2\n",
        "cubed = 2 ** 3\n",
        "print(squared)\n",
        "print(cubed)\n"
      ],
      "execution_count": null,
      "outputs": []
    },
    {
      "cell_type": "markdown",
      "metadata": {
        "id": "1x8QNZN3CAdF",
        "colab_type": "text"
      },
      "source": [
        "##5.2  -Using Operators with Strings\n",
        "Python supports concatenating strings using the addition operator:"
      ]
    },
    {
      "cell_type": "code",
      "metadata": {
        "id": "zNBdXxiHLfLW",
        "colab_type": "code",
        "colab": {
          "base_uri": "https://localhost:8080/",
          "height": 34
        },
        "outputId": "fc89c894-c3de-41d0-bc3e-2c56d9219259"
      },
      "source": [
        "helloworld = \"hello\" + \" \" + \"world\"\n",
        "print(helloworld)"
      ],
      "execution_count": null,
      "outputs": [
        {
          "output_type": "stream",
          "text": [
            "hello world\n"
          ],
          "name": "stdout"
        }
      ]
    },
    {
      "cell_type": "code",
      "metadata": {
        "id": "RkXFMVZP76K4",
        "colab_type": "code",
        "colab": {}
      },
      "source": [
        "lotsofhellos = \"hello\" * 10\n",
        "print(lotsofhellos)"
      ],
      "execution_count": null,
      "outputs": []
    },
    {
      "cell_type": "markdown",
      "metadata": {
        "id": "12f__4N3FDY3",
        "colab_type": "text"
      },
      "source": [
        "## 5.3- Using Operators with Lists"
      ]
    },
    {
      "cell_type": "code",
      "metadata": {
        "id": "FZWfCifvFTXC",
        "colab_type": "code",
        "colab": {}
      },
      "source": [
        "even_numbers = [2,4,6,8]\n",
        "odd_numbers = [1,3,5,7]\n",
        "all_numbers = odd_numbers + even_numbers\n",
        "print(all_numbers)"
      ],
      "execution_count": null,
      "outputs": []
    },
    {
      "cell_type": "code",
      "metadata": {
        "id": "ss60eiRpFln5",
        "colab_type": "code",
        "colab": {}
      },
      "source": [
        "# Just as in strings, Python supports forming new lists with a repeating sequence using the multiplication operator:\n",
        "print([1,2,3] * 3)"
      ],
      "execution_count": null,
      "outputs": []
    },
    {
      "cell_type": "markdown",
      "metadata": {
        "id": "-WNB53OY8IfG",
        "colab_type": "text"
      },
      "source": [
        "# 6- String Formatting\n",
        "\n",
        "Python uses C-style string formatting to create new, formatted strings. The \"%\" operator is used to format a set of variables enclosed in a \"tuple\" (a fixed size list), together with a format string, which contains normal text together with \"argument specifiers\", special symbols like \"%s\" and \"%d\".\n",
        "\n",
        "Let's say you have a variable called \"name\" with your user name in it, and you would then like to print(out a greeting to that user.)\n"
      ]
    },
    {
      "cell_type": "code",
      "metadata": {
        "id": "-_ykAt_v8egH",
        "colab_type": "code",
        "colab": {
          "base_uri": "https://localhost:8080/",
          "height": 34
        },
        "outputId": "aef47709-8e0e-46dd-cbb7-cd84c19df4cf"
      },
      "source": [
        "# This prints out \"Hello, John!\"\n",
        "name = \"John\"\n",
        "print(\"Hello, %s!\" % name)"
      ],
      "execution_count": null,
      "outputs": [
        {
          "output_type": "stream",
          "text": [
            "Hello, John!\n"
          ],
          "name": "stdout"
        }
      ]
    },
    {
      "cell_type": "markdown",
      "metadata": {
        "id": "OcoimUu1s4MI",
        "colab_type": "text"
      },
      "source": [
        "To use two or more argument specifiers, use a tuple (parentheses):"
      ]
    },
    {
      "cell_type": "code",
      "metadata": {
        "id": "0tyfd8avhp58",
        "colab_type": "code",
        "colab": {}
      },
      "source": [
        "# This prints out \"John is 23 years old.\"\n",
        "name = \"John\"\n",
        "age = 23\n",
        "print(\"%s is %d years old.\" % (name, age))"
      ],
      "execution_count": null,
      "outputs": []
    },
    {
      "cell_type": "markdown",
      "metadata": {
        "id": "l3epbWLyh-p4",
        "colab_type": "text"
      },
      "source": [
        "Any object which is not a string can be formatted using the %s operator as well. The string which returns from the \"repr\" method of that object is formatted as the string. For example"
      ]
    },
    {
      "cell_type": "code",
      "metadata": {
        "id": "T-QKZojviCCq",
        "colab_type": "code",
        "colab": {}
      },
      "source": [
        "# This prints out: A list: [1, 2, 3]\n",
        "mylist = [1,2,3]\n",
        "print(\"A list: %s\" % mylist)"
      ],
      "execution_count": null,
      "outputs": []
    },
    {
      "cell_type": "markdown",
      "metadata": {
        "id": "htcsGPA0iMJn",
        "colab_type": "text"
      },
      "source": [
        "Here are some basic argument specifiers you should know:\n",
        "\n",
        "%s - String (or any object with a string representation, like numbers)\n",
        "\n",
        "%d - Integers\n",
        "\n",
        "%f - Floating point numbers\n",
        "\n",
        "%.<number of digits>f - Floating point numbers with a fixed amount of digits to the right of the dot.\n",
        "\n",
        "%x/%X - Integers in hex representation (lowercase/uppercase)"
      ]
    },
    {
      "cell_type": "markdown",
      "metadata": {
        "id": "BdpTOYOlCAdP",
        "colab_type": "text"
      },
      "source": [
        "# 7-**Basic String Operations**\n",
        "Strings are bits of text. They can be defined as anything between quotes:\n",
        "\n"
      ]
    },
    {
      "cell_type": "code",
      "metadata": {
        "id": "R5uHKjQWZ0WV",
        "colab_type": "code",
        "colab": {}
      },
      "source": [
        "astring = \"Hello world!\"\n",
        "astring2 = 'Hello world!'"
      ],
      "execution_count": null,
      "outputs": []
    },
    {
      "cell_type": "markdown",
      "metadata": {
        "id": "r_VGeM-W6ADp",
        "colab_type": "text"
      },
      "source": [
        "As you can see, the first thing you learned was printing a simple sentence. This sentence was stored by Python as a string. However, instead of immediately printing strings out, we will explore the various things you can do to them. You can also use single quotes to assign a string. However, you will face problems if the value to be assigned itself contains single quotes.For example to assign the string in these bracket(single quotes are ' ') you need to use double quotes only like this"
      ]
    },
    {
      "cell_type": "code",
      "metadata": {
        "id": "RP9VUw8v6CKq",
        "colab_type": "code",
        "colab": {}
      },
      "source": [
        "astring = \"Hello world!\"\n",
        "print(\"single quotes are ' '\")\n",
        "print(len(astring))"
      ],
      "execution_count": null,
      "outputs": []
    },
    {
      "cell_type": "code",
      "metadata": {
        "id": "kMZsbrdxMsk_",
        "colab_type": "code",
        "colab": {}
      },
      "source": [
        "astring = \"Hello world!\"\n",
        "print(astring.index(\"o\"))"
      ],
      "execution_count": null,
      "outputs": []
    },
    {
      "cell_type": "markdown",
      "metadata": {
        "id": "jib_dHP4MnL8",
        "colab_type": "text"
      },
      "source": [
        "That prints out 4, because the location of the first occurrence of the letter \"o\" is 4 characters away from the first character. Notice how there are actually two o's in the phrase - this method only recognizes the first.\n",
        "\n",
        "But why didn't it print out 5? Isn't \"o\" the fifth character in the string? To make things more simple, Python (and most other programming languages) start things at 0 instead of 1. So the index of \"o\" is 4."
      ]
    },
    {
      "cell_type": "code",
      "metadata": {
        "id": "_VZPHeAVM7W-",
        "colab_type": "code",
        "colab": {}
      },
      "source": [
        "astring = \"Hello world!\"\n",
        "print(astring.count(\"l\"))"
      ],
      "execution_count": null,
      "outputs": []
    },
    {
      "cell_type": "markdown",
      "metadata": {
        "id": "vJuKccPBNkDH",
        "colab_type": "text"
      },
      "source": [
        "For those of you using silly fonts, that is a lowercase L, not a number one. This counts the number of l's in the string. Therefore, it should print 3."
      ]
    },
    {
      "cell_type": "code",
      "metadata": {
        "id": "zntMPysON5Ts",
        "colab_type": "code",
        "colab": {}
      },
      "source": [
        "astring = \"Hello world!\"\n",
        "print(astring[3:7])"
      ],
      "execution_count": null,
      "outputs": []
    },
    {
      "cell_type": "markdown",
      "metadata": {
        "id": "EHo45-BfN-wE",
        "colab_type": "text"
      },
      "source": [
        "This prints a slice of the string, starting at index 3, and ending at index 6. But why 6 and not 7? Again, most programming languages do this - it makes doing math inside those brackets easier.\n",
        "\n",
        "If you just have one number in the brackets, it will give you the single character at that index. If you leave out the first number but keep the colon, it will give you a slice from the start to the number you left in. If you leave out the second number, it will give you a slice from the first number to the end.\n",
        "\n",
        "You can even put negative numbers inside the brackets. They are an easy way of starting at the end of the string instead of the beginning. This way, -3 means \"3rd character from the end\"."
      ]
    },
    {
      "cell_type": "code",
      "metadata": {
        "id": "f2fVOhDtOOVj",
        "colab_type": "code",
        "colab": {}
      },
      "source": [
        "astring = \"Hello world!\"\n",
        "print(astring[3:7:2])"
      ],
      "execution_count": null,
      "outputs": []
    },
    {
      "cell_type": "markdown",
      "metadata": {
        "id": "9JPolHSEOSqH",
        "colab_type": "text"
      },
      "source": [
        "This prints the characters of string from 3 to 7 skipping one character. This is extended slice syntax. The general form is [start:stop:step]."
      ]
    },
    {
      "cell_type": "code",
      "metadata": {
        "id": "1m8tU3n8OdSk",
        "colab_type": "code",
        "colab": {}
      },
      "source": [
        "astring = \"Hello world!\"\n",
        "print(astring[3:7])\n",
        "print(astring[3:7:1])"
      ],
      "execution_count": null,
      "outputs": []
    },
    {
      "cell_type": "markdown",
      "metadata": {
        "id": "ZQp54I1kOneQ",
        "colab_type": "text"
      },
      "source": [
        "Note that both of them produce same output\n",
        "\n",
        "There is no function like strrev in C to reverse a string. But with the above mentioned type of slice syntax you can easily reverse a string like this"
      ]
    },
    {
      "cell_type": "code",
      "metadata": {
        "id": "_4BaWsS0Osab",
        "colab_type": "code",
        "colab": {
          "base_uri": "https://localhost:8080/",
          "height": 34
        },
        "outputId": "e0aacb32-f36f-4848-d408-8cd43f12897e"
      },
      "source": [
        "astring = \"Hello world!\"\n",
        "print(astring[::-1])"
      ],
      "execution_count": null,
      "outputs": [
        {
          "output_type": "stream",
          "text": [
            "!dlrow olleH\n"
          ],
          "name": "stdout"
        }
      ]
    },
    {
      "cell_type": "code",
      "metadata": {
        "id": "UXGsuQmhO1ND",
        "colab_type": "code",
        "colab": {}
      },
      "source": [
        "astring = \"Hello world!\"\n",
        "print(astring.upper())\n",
        "print(astring.lower())"
      ],
      "execution_count": null,
      "outputs": []
    },
    {
      "cell_type": "markdown",
      "metadata": {
        "id": "0AFCFOpXO_Cr",
        "colab_type": "text"
      },
      "source": [
        "hese make a new string with all letters converted to uppercase and lowercase, respectively."
      ]
    },
    {
      "cell_type": "code",
      "metadata": {
        "id": "yQGbPPncPA30",
        "colab_type": "code",
        "colab": {}
      },
      "source": [
        "astring = \"Hello world!\"\n",
        "print(astring.startswith(\"Hello\"))\n",
        "print(astring.endswith(\"asdfasdfasdf\"))"
      ],
      "execution_count": null,
      "outputs": []
    },
    {
      "cell_type": "markdown",
      "metadata": {
        "id": "v5Rg7hGqPNMO",
        "colab_type": "text"
      },
      "source": [
        "This is used to determine whether the string starts with something or ends with something, respectively. The first one will print True, as the string starts with \"Hello\". The second one will print False, as the string certainly does not end with \"asdfasdfasdf\""
      ]
    },
    {
      "cell_type": "code",
      "metadata": {
        "id": "bLLTo7DRPBIT",
        "colab_type": "code",
        "colab": {}
      },
      "source": [
        "astring = \"Hello world!\"\n",
        "afewwords = astring.split(\" \")"
      ],
      "execution_count": null,
      "outputs": []
    },
    {
      "cell_type": "markdown",
      "metadata": {
        "id": "LTX2uBXKPZUx",
        "colab_type": "text"
      },
      "source": [
        "This splits the string into a bunch of strings grouped together in a list. Since this example splits at a space, the first item in the list will be \"Hello\", and the second will be \"world!\"."
      ]
    },
    {
      "cell_type": "markdown",
      "metadata": {
        "id": "lTe0Qqi3CAeA",
        "colab_type": "text"
      },
      "source": [
        "# 8- **Conditions**\n",
        "Python uses boolean variables to evaluate conditions. The boolean values True and False are returned when an expression is compared or evaluated. For example:"
      ]
    },
    {
      "cell_type": "code",
      "metadata": {
        "id": "Kq4Ho1l8Ksjt",
        "colab_type": "code",
        "colab": {}
      },
      "source": [
        "x = 2\n",
        "print(x == 2) # prints out True\n",
        "print(x == 3) # prints out False\n",
        "print(x < 3) # prints out True\n"
      ],
      "execution_count": null,
      "outputs": []
    },
    {
      "cell_type": "markdown",
      "metadata": {
        "id": "t_FZLht0akQz",
        "colab_type": "text"
      },
      "source": [
        "Notice that variable assignment is done using a single equals operator \"=\", whereas comparison between two variables is done using the double equals operator \"==\". The \"not equals\" operator is marked as \"!=\"."
      ]
    },
    {
      "cell_type": "markdown",
      "metadata": {
        "id": "-VwPfoQSS4Av",
        "colab_type": "text"
      },
      "source": [
        "## 8.1 - Boolean operators\n",
        "The \"and\" and \"or\" boolean operators allow building complex boolean expressions, for example:"
      ]
    },
    {
      "cell_type": "code",
      "metadata": {
        "id": "5DYf8Quv_PxR",
        "colab_type": "code",
        "colab": {}
      },
      "source": [
        "name = \"John\"\n",
        "age = 23\n",
        "if name == \"John\" and age == 23:\n",
        "    print(\"Your name is John, and you are also 23 years old.\")\n",
        "\n",
        "if name == \"John\" or name == \"Rick\":\n",
        "    print(\"Your name is either John or Rick.\")"
      ],
      "execution_count": null,
      "outputs": []
    },
    {
      "cell_type": "markdown",
      "metadata": {
        "id": "qrZx-6XeziR0",
        "colab_type": "text"
      },
      "source": [
        "## 8.2 The \"in\" operator\n",
        "The \"in\" operator could be used to check if a specified object exists within an iterable object container, such as a list:"
      ]
    },
    {
      "cell_type": "code",
      "metadata": {
        "id": "_q87nKz4zxr1",
        "colab_type": "code",
        "colab": {}
      },
      "source": [
        "name = \"John\"\n",
        "if name in [\"John\", \"Rick\"]:\n",
        "    print(\"Your name is either John or Rick.\")"
      ],
      "execution_count": null,
      "outputs": []
    },
    {
      "cell_type": "markdown",
      "metadata": {
        "id": "jnWR24dBHGty",
        "colab_type": "text"
      },
      "source": [
        "Python uses indentation to define code blocks, instead of brackets. The standard Python indentation is 4 spaces, although tabs and any other space size will work, as long as it is consistent. Notice that code blocks do not need any termination.\n",
        "\n",
        "Here is an example for using Python's \"if\" statement using code blocks:"
      ]
    },
    {
      "cell_type": "code",
      "metadata": {
        "id": "YzkWkVZEbrpw",
        "colab_type": "code",
        "colab": {}
      },
      "source": [
        "statement = False\n",
        "another_statement = True\n",
        "if statement is True:\n",
        "    # do something\n",
        "    pass\n",
        "elif another_statement is True: # else if\n",
        "    # do something else\n",
        "    pass\n",
        "else:\n",
        "    # do another thing\n",
        "    pass"
      ],
      "execution_count": null,
      "outputs": []
    },
    {
      "cell_type": "code",
      "metadata": {
        "id": "03BGhfi0b5Tx",
        "colab_type": "code",
        "colab": {}
      },
      "source": [
        "x = 2\n",
        "if x == 2:\n",
        "    print(\"x equals two!\")\n",
        "else:\n",
        "    print(\"x does not equal to two.\")"
      ],
      "execution_count": null,
      "outputs": []
    },
    {
      "cell_type": "markdown",
      "metadata": {
        "id": "3BFbDJjCcACN",
        "colab_type": "text"
      },
      "source": [
        "A statement is evaulated as true if one of the following is correct: 1. The \"True\" boolean variable is given, or calculated using an expression, such as an arithmetic comparison. 2. An object which is not considered \"empty\" is passed.\n",
        "\n",
        "Here are some examples for objects which are considered as empty: 1. An empty string: \"\" 2. An empty list: [] 3. The number zero: 0 4. The false boolean variable: False"
      ]
    },
    {
      "cell_type": "markdown",
      "metadata": {
        "id": "_Sq0XpVN0UZ7",
        "colab_type": "text"
      },
      "source": [
        "## 8.3 The 'is' operator\n",
        "Unlike the double equals operator \"==\", the \"is\" operator does not match the values of the variables, but the instances themselves. For example:"
      ]
    },
    {
      "cell_type": "code",
      "metadata": {
        "id": "YQ2nyHRV0dnH",
        "colab_type": "code",
        "colab": {}
      },
      "source": [
        "x = [1,2,3]\n",
        "y = [1,2,3]\n",
        "print(x == y) # Prints out True\n",
        "print(x is y) # Prints out False"
      ],
      "execution_count": null,
      "outputs": []
    },
    {
      "cell_type": "markdown",
      "metadata": {
        "id": "tuCqDl8Ojb71",
        "colab_type": "text"
      },
      "source": [
        "##8.4-**The \"not\" operator**\n",
        "Using \"not\" before a boolean expression inverts it:"
      ]
    },
    {
      "cell_type": "code",
      "metadata": {
        "id": "AEhV6wPLjxKW",
        "colab_type": "code",
        "colab": {}
      },
      "source": [
        "print(not False) # Prints out True\n",
        "print((not False) == (False)) # Prints out False"
      ],
      "execution_count": null,
      "outputs": []
    },
    {
      "cell_type": "markdown",
      "metadata": {
        "id": "NSfAbkM9j9n0",
        "colab_type": "text"
      },
      "source": [
        "#**9-Loops** \n",
        "There are two types of loops in Python, for and while."
      ]
    },
    {
      "cell_type": "markdown",
      "metadata": {
        "id": "CQw5qCkwkQtl",
        "colab_type": "text"
      },
      "source": [
        "## **9.1- For Loops** \n",
        "For loops iterate over a given sequence. Here is an example [1]"
      ]
    },
    {
      "cell_type": "code",
      "metadata": {
        "id": "yXE0z8LTkh_n",
        "colab_type": "code",
        "colab": {}
      },
      "source": [
        "primes = [2, 3, 5, 7]\n",
        "for prime in primes:\n",
        "    print(prime)"
      ],
      "execution_count": null,
      "outputs": []
    },
    {
      "cell_type": "markdown",
      "metadata": {
        "id": "Jk7_uCXBk2p8",
        "colab_type": "text"
      },
      "source": [
        "For loops can iterate over a sequence of numbers using the \"range\" and \"xrange\" functions. The difference between range and xrange is that the range function returns a new list with numbers of that specified range, whereas xrange returns an iterator, which is more efficient. (Python 3 uses the range function, which acts like xrange). Note that the range function is zero based[1]"
      ]
    },
    {
      "cell_type": "code",
      "metadata": {
        "id": "75rKveONk5uR",
        "colab_type": "code",
        "colab": {}
      },
      "source": [
        "# Prints out the numbers 0,1,2,3,4\n",
        "for x in range(5):\n",
        "    print(x)"
      ],
      "execution_count": null,
      "outputs": []
    },
    {
      "cell_type": "code",
      "metadata": {
        "id": "ZAVayvJGlJTf",
        "colab_type": "code",
        "colab": {}
      },
      "source": [
        "# Prints out 3,4,5\n",
        "for x in range(3, 6):\n",
        "    print(x)"
      ],
      "execution_count": null,
      "outputs": []
    },
    {
      "cell_type": "code",
      "metadata": {
        "id": "ob6Xmq2olPbP",
        "colab_type": "code",
        "colab": {}
      },
      "source": [
        "# Prints out 3,5,7\n",
        "for x in range(3, 8, 2):\n",
        "    print(x)"
      ],
      "execution_count": null,
      "outputs": []
    },
    {
      "cell_type": "markdown",
      "metadata": {
        "id": "z92vvofurd8i",
        "colab_type": "text"
      },
      "source": [
        "## **9.5 \"while\" loops**\n",
        "While loops repeat as long as a certain boolean condition is met. For example:\n",
        "\n"
      ]
    },
    {
      "cell_type": "code",
      "metadata": {
        "id": "xWy8CNotruT-",
        "colab_type": "code",
        "colab": {}
      },
      "source": [
        "# Prints out 0,1,2,3,4\n",
        "count = 0\n",
        "while count < 5:\n",
        "    print(count)\n",
        "    count += 1  # This is the same as count = count + 1"
      ],
      "execution_count": null,
      "outputs": []
    },
    {
      "cell_type": "markdown",
      "metadata": {
        "id": "Q1huBl7_s92A",
        "colab_type": "text"
      },
      "source": [
        "##9.6 **break\" and \"continue\" statements**\n",
        "break is used to exit a for loop or a while loop, whereas continue is used to skip the current block, and return to the \"for\" or \"while\" statement. A few examples:"
      ]
    },
    {
      "cell_type": "code",
      "metadata": {
        "id": "loSiWLLftM6c",
        "colab_type": "code",
        "colab": {}
      },
      "source": [
        "# Prints out 0,1,2,3,4\n",
        "count = 0\n",
        "while True:\n",
        "    print(count)\n",
        "    count += 1\n",
        "    if count >= 5:\n",
        "        break\n"
      ],
      "execution_count": null,
      "outputs": []
    },
    {
      "cell_type": "code",
      "metadata": {
        "id": "s0fLXLzetlUZ",
        "colab_type": "code",
        "colab": {}
      },
      "source": [
        "# Prints out only odd numbers - 1,3,5,7,9\n",
        "for x in range(10):\n",
        "    # Check if x is even\n",
        "    if x % 2 == 0:\n",
        "        continue\n",
        "    print(x)"
      ],
      "execution_count": null,
      "outputs": []
    },
    {
      "cell_type": "markdown",
      "metadata": {
        "id": "yfQXiYbot7oP",
        "colab_type": "text"
      },
      "source": [
        "##**9.6-Can we use \"else\" clause for loops?**\n",
        "unlike languages like C,CPP.. we can use else for loops. When the loop condition of \"for\" or \"while\" statement fails then code part in \"else\" is executed. If break statement is executed inside for loop then the \"else\" part is skipped. Note that \"else\" part is executed even if there is a continue statement."
      ]
    },
    {
      "cell_type": "code",
      "metadata": {
        "id": "9ja3raQ4uLVb",
        "colab_type": "code",
        "colab": {}
      },
      "source": [
        "# Prints out 0,1,2,3,4 and then it prints \"count value reached 5\"\n",
        "\n",
        "count=0\n",
        "while(count<5):\n",
        "    print(count)\n",
        "    count +=1\n",
        "else:\n",
        "    print(\"count value reached %d\" %(count))\n",
        "\n",
        "# Prints out 1,2,3,4\n",
        "for i in range(1, 10):\n",
        "    if(i%5==0):\n",
        "        break\n",
        "    print(i)\n",
        "else:\n",
        "    print(\"this is not printed because for loop is terminated because of break but not due to fail in condition\")"
      ],
      "execution_count": null,
      "outputs": []
    },
    {
      "cell_type": "markdown",
      "metadata": {
        "id": "qLh5SRAmuwaM",
        "colab_type": "text"
      },
      "source": [
        "#**10-Functions**\n",
        "\n",
        "**What are Functions?**\n",
        "\n",
        "Functions are a convenient way to divide your code into useful blocks, allowing us to order our code, make it more readable, reuse it and save some time. Also functions are a key way to define interfaces so programmers can share their code.\n",
        "\n",
        "**How do you write functions in Python?**\n",
        "\n",
        "As we have seen on previous tutorials, Python makes use of blocks.\n",
        "A block is a area of code of written in the format of:\n",
        "\n",
        "block_head:\n",
        "\n",
        "    1st block line\n",
        "    \n",
        "    2nd block line\n",
        "    ...\n",
        "\n",
        "\n",
        "Where a block line is more Python code (even another block), and the block head is of the following format: block_keyword block_name(argument1,argument2, ...) Block keywords you already know are \"if\", \"for\", and \"while\".\n",
        "\n",
        "Functions in python are defined using the block keyword \"def\", followed with the function's name as the block's name. For example:\n"
      ]
    },
    {
      "cell_type": "code",
      "metadata": {
        "id": "nQdEeASZvWVb",
        "colab_type": "code",
        "colab": {}
      },
      "source": [
        "def my_function():\n",
        "    print(\"Hello From My Function!\")"
      ],
      "execution_count": null,
      "outputs": []
    },
    {
      "cell_type": "code",
      "metadata": {
        "id": "HBlxgMQHvFKh",
        "colab_type": "code",
        "colab": {}
      },
      "source": [
        "def my_function_with_args(username, greeting):\n",
        "    print(\"Hello, %s , From My Function!, I wish you %s\"%(username, greeting))"
      ],
      "execution_count": null,
      "outputs": []
    },
    {
      "cell_type": "code",
      "metadata": {
        "id": "wTPbY8DpwMue",
        "colab_type": "code",
        "colab": {}
      },
      "source": [
        "def sum_two_numbers(a, b):\n",
        "    return a + b"
      ],
      "execution_count": null,
      "outputs": []
    },
    {
      "cell_type": "markdown",
      "metadata": {
        "id": "3lJNUdzqwP7Y",
        "colab_type": "text"
      },
      "source": [
        "##**10.1 call function**\n",
        "Simply write the function's name followed by (), placing any required arguments within the brackets. For example, lets call the functions written above (in the previous example): "
      ]
    },
    {
      "cell_type": "code",
      "metadata": {
        "id": "8QG7iGacw63l",
        "colab_type": "code",
        "colab": {}
      },
      "source": [
        "# Define our 3 functions\n",
        "def my_function():\n",
        "    print(\"Hello From My Function!\")"
      ],
      "execution_count": null,
      "outputs": []
    },
    {
      "cell_type": "code",
      "metadata": {
        "id": "HhO7omhEw8yM",
        "colab_type": "code",
        "colab": {}
      },
      "source": [
        "# print(a simple greeting)\n",
        "my_function()"
      ],
      "execution_count": null,
      "outputs": []
    },
    {
      "cell_type": "code",
      "metadata": {
        "id": "6mC_J_kDxG30",
        "colab_type": "code",
        "colab": {}
      },
      "source": [
        "def my_function_with_args(username, greeting):\n",
        "    print(\"Hello, %s , From My Function!, I wish you %s\"%(username, greeting))"
      ],
      "execution_count": null,
      "outputs": []
    },
    {
      "cell_type": "code",
      "metadata": {
        "id": "oGuPF5M9xI8q",
        "colab_type": "code",
        "colab": {}
      },
      "source": [
        "my_function_with_args(\"John Doe\", \"a great year!\")\n"
      ],
      "execution_count": null,
      "outputs": []
    },
    {
      "cell_type": "code",
      "metadata": {
        "id": "6Q2mEHjRxQ7Z",
        "colab_type": "code",
        "colab": {}
      },
      "source": [
        "def sum_two_numbers(a, b):\n",
        "    return a + b"
      ],
      "execution_count": null,
      "outputs": []
    },
    {
      "cell_type": "markdown",
      "metadata": {
        "id": "YmZFiymirTKT",
        "colab_type": "text"
      },
      "source": [
        "#**11-Classes and Objects**\n",
        "\n",
        "Objects are an encapsulation of variables and functions into a single entity. Objects get their variables and functions from classes. Classes are essentially a template to create your objects."
      ]
    },
    {
      "cell_type": "code",
      "metadata": {
        "id": "KkBbwaGDrun3",
        "colab_type": "code",
        "colab": {}
      },
      "source": [
        "class MyClass:\n",
        "    variable = \"blah\"\n",
        "\n",
        "    def function(self):\n",
        "        print(\"This is a message inside the class.\")"
      ],
      "execution_count": null,
      "outputs": []
    },
    {
      "cell_type": "markdown",
      "metadata": {
        "id": "6kzj9a3bvJLW",
        "colab_type": "text"
      },
      "source": [
        "We'll explain why you have to include that \"self\" as a parameter a little bit later. First, to assign the above class(template) to an object you would do the following:"
      ]
    },
    {
      "cell_type": "code",
      "metadata": {
        "id": "AjOtlu4TvPJO",
        "colab_type": "code",
        "colab": {}
      },
      "source": [
        "class MyClass:\n",
        "    variable = \"blah\"\n",
        "\n",
        "    def function(self):\n",
        "        print(\"This is a message inside the class.\")\n",
        "\n",
        "myobjectx = MyClass()"
      ],
      "execution_count": null,
      "outputs": []
    },
    {
      "cell_type": "markdown",
      "metadata": {
        "id": "PkxO_bh8vZV6",
        "colab_type": "text"
      },
      "source": [
        "Now the variable \"myobjectx\" holds an object of the class \"MyClass\" that contains the variable and the function defined within the class called \"MyClass\""
      ]
    },
    {
      "cell_type": "markdown",
      "metadata": {
        "id": "Gzb6ddHVvjJ5",
        "colab_type": "text"
      },
      "source": [
        "## **11.1 Accessing Object Variables**\n",
        "To access the variable inside of the newly created object \"myobjectx\" you would do the following:"
      ]
    },
    {
      "cell_type": "code",
      "metadata": {
        "id": "5zORsV5Uvx_P",
        "colab_type": "code",
        "colab": {}
      },
      "source": [
        "class MyClass:\n",
        "    variable = \"blah\"\n",
        "\n",
        "    def function(self):\n",
        "        print(\"This is a message inside the class.\")\n",
        "\n",
        "myobjectx = MyClass()\n",
        "\n",
        "myobjectx.variable"
      ],
      "execution_count": null,
      "outputs": []
    },
    {
      "cell_type": "markdown",
      "metadata": {
        "id": "yi3yquRxwHGn",
        "colab_type": "text"
      },
      "source": [
        "So for instance the below would output the string \"blah\":\n"
      ]
    },
    {
      "cell_type": "code",
      "metadata": {
        "id": "V_t2WQwKwMUg",
        "colab_type": "code",
        "colab": {}
      },
      "source": [
        "class MyClass:\n",
        "    variable = \"blah\"\n",
        "\n",
        "    def function(self):\n",
        "        print(\"This is a message inside the class.\")\n",
        "\n",
        "myobjectx = MyClass()\n",
        "\n",
        "print(myobjectx.variable)"
      ],
      "execution_count": null,
      "outputs": []
    },
    {
      "cell_type": "markdown",
      "metadata": {
        "id": "QUfyG--HwlkT",
        "colab_type": "text"
      },
      "source": [
        "You can create multiple different objects that are of the same class(have the same variables and functions defined). However, each object contains independent copies of the variables defined in the class. For instance, if we were to define another object with the \"MyClass\" class and then change the string in the variable above:"
      ]
    },
    {
      "cell_type": "code",
      "metadata": {
        "id": "3RSVIyuSwhJk",
        "colab_type": "code",
        "colab": {}
      },
      "source": [
        "class MyClass:\n",
        "    variable = \"blah\"\n",
        "\n",
        "    def function(self):\n",
        "        print(\"This is a message inside the class.\")\n",
        "\n",
        "myobjectx = MyClass()\n",
        "myobjecty = MyClass()\n",
        "\n",
        "myobjecty.variable = \"yackity\"\n",
        "\n",
        "# Then print out both values\n",
        "print(myobjectx.variable)\n",
        "print(myobjecty.variable)"
      ],
      "execution_count": null,
      "outputs": []
    },
    {
      "cell_type": "markdown",
      "metadata": {
        "id": "JTtkWqyL5aF0",
        "colab_type": "text"
      },
      "source": [
        "##**11.2 Accessing Object Functions**\n",
        "To access a function inside of an object you use notation similar to accessing a variable:"
      ]
    },
    {
      "cell_type": "code",
      "metadata": {
        "id": "nb4Gcnjo5rmf",
        "colab_type": "code",
        "colab": {}
      },
      "source": [
        "class MyClass:\n",
        "    variable = \"blah\"\n",
        "\n",
        "    def function(self):\n",
        "        print(\"This is a message inside the class.\")\n",
        "\n",
        "myobjectx = MyClass()\n",
        "\n",
        "myobjectx.function()"
      ],
      "execution_count": null,
      "outputs": []
    },
    {
      "cell_type": "markdown",
      "metadata": {
        "id": "tYMmgDot6HFU",
        "colab_type": "text"
      },
      "source": [
        "We have a class defined for vehicles. Create two new vehicles called car1 and car2. Set car1 to be a red convertible worth $60,000.00 with a name of Fer, and car2 to be a blue van named Jump worth $10,000.00."
      ]
    },
    {
      "cell_type": "code",
      "metadata": {
        "id": "Wnf9WbrF6GN5",
        "colab_type": "code",
        "colab": {}
      },
      "source": [
        "# define the Vehicle class\n",
        "class Vehicle:\n",
        "    name = \"\"\n",
        "    kind = \"car\"\n",
        "    color = \"\"\n",
        "    value = 100.00\n",
        "    def description(self):\n",
        "        desc_str = \"%s is a %s %s worth $%.2f.\" % (self.name, self.color, self.kind, self.value)\n",
        "        return desc_str\n",
        "\n",
        "# your code goes here\n",
        "car1 = Vehicle()\n",
        "car1.name = \"Fer\"\n",
        "car1.color = \"red\"\n",
        "car1.kind = \"convertible\"\n",
        "car1.value = 60000.00\n",
        "\n",
        "car2 = Vehicle()\n",
        "car2.name = \"Jump\"\n",
        "car2.color = \"blue\"\n",
        "car2.kind = \"van\"\n",
        "car2.value = 10000.00\n",
        "\n",
        "# test code\n",
        "print(car1.description())\n",
        "print(car2.description())"
      ],
      "execution_count": null,
      "outputs": []
    },
    {
      "cell_type": "markdown",
      "metadata": {
        "id": "Z-IEG6026_gb",
        "colab_type": "text"
      },
      "source": [
        "# **12 Dictionaries**\n",
        "\n",
        "A dictionary is a data type similar to arrays, but works with keys and values instead of indexes. Each value stored in a dictionary can be accessed using a key, which is any type of object (a string, a number, a list, etc.) instead of using its index to address it.\n",
        "\n",
        "For example, a database of phone numbers could be stored using a dictionary like this:\n",
        "\n"
      ]
    },
    {
      "cell_type": "code",
      "metadata": {
        "id": "ZZqBvB3iAIhK",
        "colab_type": "code",
        "colab": {}
      },
      "source": [
        "phonebook = {}\n",
        "phonebook[\"John\"] = 938477566\n",
        "phonebook[\"Jack\"] = 938377264\n",
        "phonebook[\"Jill\"] = 947662781\n",
        "print(phonebook)"
      ],
      "execution_count": null,
      "outputs": []
    },
    {
      "cell_type": "markdown",
      "metadata": {
        "id": "ufZ79qtTAZns",
        "colab_type": "text"
      },
      "source": [
        "Alternatively, a dictionary can be initialized with the same values in the following notation:"
      ]
    },
    {
      "cell_type": "code",
      "metadata": {
        "id": "Me86b5AhAbTM",
        "colab_type": "code",
        "colab": {
          "base_uri": "https://localhost:8080/",
          "height": 34
        },
        "outputId": "8226e559-a626-4206-b53f-4d13421d2586"
      },
      "source": [
        "phonebook = {\n",
        "    \"John\" : 938477566,\n",
        "    \"Jack\" : 938377264,\n",
        "    \"Jill\" : 947662781\n",
        "}\n",
        "print(phonebook)"
      ],
      "execution_count": null,
      "outputs": [
        {
          "output_type": "stream",
          "text": [
            "{'John': 938477566, 'Jack': 938377264, 'Jill': 947662781}\n"
          ],
          "name": "stdout"
        }
      ]
    },
    {
      "cell_type": "markdown",
      "metadata": {
        "id": "rXs4sAo4AtM_",
        "colab_type": "text"
      },
      "source": [
        "## **12.1 Iterating over dictionaries**\n",
        "\n",
        "Dictionaries can be iterated over, just like a list. However, a dictionary, unlike a list, does not keep the order of the values stored in it. To iterate over key value pairs, use the following syntax:"
      ]
    },
    {
      "cell_type": "code",
      "metadata": {
        "id": "M1bfQ1xWT4yo",
        "colab_type": "code",
        "colab": {}
      },
      "source": [
        "phonebook = {\"John\" : 938477566,\"Jack\" : 938377264,\"Jill\" : 947662781}\n",
        "for name, number in phonebook.items():\n",
        "    print(\"Phone number of %s is %d\" % (name, number))"
      ],
      "execution_count": null,
      "outputs": []
    },
    {
      "cell_type": "markdown",
      "metadata": {
        "id": "ojkYULYyUGlx",
        "colab_type": "text"
      },
      "source": [
        "## **12.2- Removing a value**\n",
        " To remove a specified index, use either one of the following notations:"
      ]
    },
    {
      "cell_type": "code",
      "metadata": {
        "id": "aeMkNjqYUWFi",
        "colab_type": "code",
        "colab": {}
      },
      "source": [
        "phonebook = {\n",
        "   \"John\" : 938477566,\n",
        "   \"Jack\" : 938377264,\n",
        "   \"Jill\" : 947662781\n",
        "}\n",
        "del phonebook[\"John\"]\n",
        "print(phonebook)"
      ],
      "execution_count": null,
      "outputs": []
    },
    {
      "cell_type": "markdown",
      "metadata": {
        "id": "59NHXDwkUfEY",
        "colab_type": "text"
      },
      "source": [
        "##**12.3 Exercise**\n",
        "Add \"Jake\" to the phonebook with the phone number 938273443, and remove Jill from the phonebook.\n"
      ]
    },
    {
      "cell_type": "code",
      "metadata": {
        "id": "GmEIe3-JUrr4",
        "colab_type": "code",
        "colab": {
          "base_uri": "https://localhost:8080/",
          "height": 51
        },
        "outputId": "04bb18f4-1187-40e5-c1d5-f2a1cff55017"
      },
      "source": [
        "phonebook = {\n",
        "    \"John\" : 938477566,\n",
        "    \"Jack\" : 938377264,\n",
        "    \"Jill\" : 947662781\n",
        "}\n",
        "\n",
        "# write your code here\n",
        "phonebook[\"Jake\"] = 938273443\n",
        "del phonebook[\"Jill\"]\n",
        "\n",
        "# testing code\n",
        "if \"Jake\" in phonebook:\n",
        "    print(\"Jake is listed in the phonebook.\")\n",
        "if \"Jill\" not in phonebook:\n",
        "    print(\"Jill is not listed in the phonebook.\")"
      ],
      "execution_count": null,
      "outputs": [
        {
          "output_type": "stream",
          "text": [
            "Jake is listed in the phonebook.\n",
            "Jill is not listed in the phonebook.\n"
          ],
          "name": "stdout"
        }
      ]
    },
    {
      "cell_type": "markdown",
      "metadata": {
        "id": "GAUb2kydVPgm",
        "colab_type": "text"
      },
      "source": [
        "#**13-Modules and Packages**\n",
        "\n",
        "In programming, a module is a piece of software that has a specific functionality. For example, when building a ping pong game, one module would be responsible for the game logic, and\n",
        "another module would be responsible for drawing the game on the screen. Each module is a different file, which can be edited separately."
      ]
    },
    {
      "cell_type": "markdown",
      "metadata": {
        "id": "d_idURy4UaYb",
        "colab_type": "text"
      },
      "source": [
        "## **13.1 Writing modules**\n",
        "Modules in Python are simply Python files with a .py extension. The name of the module will be the name of the file. A Python module can have a set of functions, classes or variables defined and implemented. In the example above, we will have two files, we will have:\n"
      ]
    },
    {
      "cell_type": "code",
      "metadata": {
        "id": "PRX0lF6qUont",
        "colab_type": "code",
        "colab": {}
      },
      "source": [
        "mygame/\n",
        "mygame/game.py\n",
        "mygame/draw.py"
      ],
      "execution_count": null,
      "outputs": []
    },
    {
      "cell_type": "markdown",
      "metadata": {
        "id": "EaFsO-GlUxb9",
        "colab_type": "text"
      },
      "source": [
        "The Python script game.py will implement the game. It will use the function draw_game from the file draw.py, or in other words, thedraw module, that implements the logic for drawing the game on the screen.\n",
        "\n",
        "Modules are imported from other modules using the import command. In this example, the game.py script may look something like this:"
      ]
    },
    {
      "cell_type": "code",
      "metadata": {
        "id": "9vK1VQu1U-CH",
        "colab_type": "code",
        "colab": {}
      },
      "source": [
        "# game.py\n",
        "# import the draw module\n",
        "import draw\n",
        "\n",
        "def play_game():\n",
        "    ...\n",
        "\n",
        "def main():\n",
        "    result = play_game()\n",
        "    draw.draw_game(result)\n",
        "\n",
        "# this means that if this script is executed, then \n",
        "# main() will be executed\n",
        "if __name__ == '__main__':\n",
        "    main()"
      ],
      "execution_count": null,
      "outputs": []
    },
    {
      "cell_type": "markdown",
      "metadata": {
        "id": "-nJ2oA-BVE2S",
        "colab_type": "text"
      },
      "source": [
        "The draw module may look something like this:"
      ]
    },
    {
      "cell_type": "code",
      "metadata": {
        "id": "p9ovRIBbVItG",
        "colab_type": "code",
        "colab": {}
      },
      "source": [
        "# draw.py\n",
        "\n",
        "def draw_game():\n",
        "    ...\n",
        "\n",
        "def clear_screen(screen):"
      ],
      "execution_count": null,
      "outputs": []
    },
    {
      "cell_type": "markdown",
      "metadata": {
        "id": "Lhd1HbEPjxPo",
        "colab_type": "text"
      },
      "source": [
        "n this example, the game module imports the draw module, which enables it to use functions implemented in that module. The main function would use the local function play_game to run the game, and then draw the result of the game using a function implemented in the draw module called draw_game. To use the function draw_game from the draw module, we would need to specify in which module the function is implemented, using the dot operator. To reference the draw_game function from the game module, we would need to import the draw module and only then call draw.draw_game().\n",
        "\n",
        "When the import draw directive will run, the Python interpreter will look for a file in the directory which the script was executed from, by the name of the module with a .py prefix, so in our case it will try to look for draw.py. If it will find one, it will import it. If not, he will continue to look for built-in modules.\n",
        "\n",
        "You may have noticed that when importing a module, a .pyc file appears, which is a compiled Python file. Python compiles files into Python bytecode so that it won't have to parse the files each time modules are loaded. If a .pyc file exists, it gets loaded instead of the .py file, but this process is transparent to the user."
      ]
    },
    {
      "cell_type": "markdown",
      "metadata": {
        "id": "YXHl89mHkKoi",
        "colab_type": "text"
      },
      "source": [
        "## **13.2 Importing module objects to the current namespace**\n",
        "\n",
        "We may also import the function draw_game directly into the main script's namespace, by using the from command."
      ]
    },
    {
      "cell_type": "code",
      "metadata": {
        "id": "x6DbDFaIkdLT",
        "colab_type": "code",
        "colab": {}
      },
      "source": [
        "# game.py\n",
        "# import the draw module\n",
        "from draw import draw_game\n",
        "\n",
        "def main():\n",
        "    result = play_game()\n",
        "    draw_game(result)"
      ],
      "execution_count": null,
      "outputs": []
    },
    {
      "cell_type": "markdown",
      "metadata": {
        "id": "DATAVdlrkiec",
        "colab_type": "text"
      },
      "source": [
        "You may have noticed that in this example, draw_game does not precede with the name of the module it is imported from, because we've specified the module name in the import command.\n",
        "\n",
        "The advantages of using this notation is that it is easier to use the functions inside the current module because you don't need to specify which module the function comes from. However, any namespace cannot have two objects with the exact same name, so the import command may replace an existing object in the namespace."
      ]
    },
    {
      "cell_type": "markdown",
      "metadata": {
        "id": "m6gF7cGmW1cG",
        "colab_type": "text"
      },
      "source": [
        "## **13.3-Importing all objects from a module**\n",
        "We may also use the import * command to import all objects from a specific module, like this:"
      ]
    },
    {
      "cell_type": "code",
      "metadata": {
        "id": "UbUeXFHeXHap",
        "colab_type": "code",
        "colab": {}
      },
      "source": [
        "# game.py\n",
        "# import the draw module\n",
        "from draw import *\n",
        "\n",
        "def main():\n",
        "    result = play_game()\n",
        "    draw_game(result)"
      ],
      "execution_count": null,
      "outputs": []
    },
    {
      "cell_type": "markdown",
      "metadata": {
        "id": "sa1UxnJBXREh",
        "colab_type": "text"
      },
      "source": [
        "## **13.4 Custom import name**\n",
        "\n",
        "We may also load modules under any name we want. This is useful when we want to import a module conditionally to use the same name in the rest of the code.\n",
        "\n",
        "For example, if you have two draw modules with slighty different names - you may do the following:"
      ]
    },
    {
      "cell_type": "code",
      "metadata": {
        "id": "m2FGe5uMXgjc",
        "colab_type": "code",
        "colab": {}
      },
      "source": [
        "# game.py\n",
        "# import the draw module\n",
        "if visual_mode:\n",
        "    # in visual mode, we draw using graphics\n",
        "    import draw_visual as draw\n",
        "else:\n",
        "    # in textual mode, we print out text\n",
        "    import draw_textual as draw\n",
        "\n",
        "def main():\n",
        "    result = play_game()\n",
        "    # this can either be visual or textual depending on visual_mode\n",
        "    draw.draw_game(result)"
      ],
      "execution_count": null,
      "outputs": []
    },
    {
      "cell_type": "markdown",
      "metadata": {
        "id": "HDGVVOORYBCb",
        "colab_type": "text"
      },
      "source": [
        "## **13.5 Module initialization**\n",
        "The first time a module is loaded into a running Python script, it is initialized by executing the code in the module once. If another module in your code imports the same module again, it will not be loaded twice but once only - so local variables inside the module act as a \"singleton\" - they are initialized only once.\n",
        "\n",
        "This is useful to know, because this means that you can rely on this behavior for initializing objects. For example:\n"
      ]
    },
    {
      "cell_type": "code",
      "metadata": {
        "id": "kGu4K-ieYQTu",
        "colab_type": "code",
        "colab": {}
      },
      "source": [
        "# draw.py\n",
        "\n",
        "def draw_game():\n",
        "    # when clearing the screen we can use the main screen object initialized in this module\n",
        "    clear_screen(main_screen)\n",
        "    ...\n",
        "\n",
        "def clear_screen(screen):\n",
        "    ...\n",
        "\n",
        "class Screen():\n",
        "    ...\n",
        "\n",
        "# initialize main_screen as a singleton\n",
        "main_screen = Screen()"
      ],
      "execution_count": null,
      "outputs": []
    },
    {
      "cell_type": "markdown",
      "metadata": {
        "id": "AtJRdeaLkRiP",
        "colab_type": "text"
      },
      "source": [
        "## **13.6 Extending module load path**\n",
        "\n",
        "There are a couple of ways we could tell the Python interpreter where to look for modules, aside from the default, which is the local directory and the built-in modules. You could either use the environment variable PYTHONPATH to specify additional directories to look for modules in, like this:\n",
        "\n"
      ]
    },
    {
      "cell_type": "code",
      "metadata": {
        "id": "V6SEZUHxkutg",
        "colab_type": "code",
        "colab": {}
      },
      "source": [
        "PYTHONPATH=/foo python game.py"
      ],
      "execution_count": null,
      "outputs": []
    },
    {
      "cell_type": "markdown",
      "metadata": {
        "id": "SMpgZH_-k2e2",
        "colab_type": "text"
      },
      "source": [
        "This will execute game.py, and will enable the script to load modules from the foo directory as well as the local directory.\n",
        "\n",
        "Another method is the sys.path.append function. You may execute it before running an import command:"
      ]
    },
    {
      "cell_type": "code",
      "metadata": {
        "id": "FvfE-R31k4YI",
        "colab_type": "code",
        "colab": {}
      },
      "source": [
        "sys.path.append(\"/foo\")"
      ],
      "execution_count": null,
      "outputs": []
    },
    {
      "cell_type": "markdown",
      "metadata": {
        "id": "StuL1zFck_Qb",
        "colab_type": "text"
      },
      "source": [
        "This will add the foo directory to the list of paths to look for modules in as well."
      ]
    },
    {
      "cell_type": "markdown",
      "metadata": {
        "id": "YJ74hlErlCGq",
        "colab_type": "text"
      },
      "source": [
        "## **13.6 -Exploring built-in modules**\n",
        "\n",
        "Check out the full list of built-in modules in the Python standard library here.\n",
        "\n",
        "Two very important functions come in handy when exploring modules in Python - the dir and help functions.\n",
        "\n",
        "If we want to import the module urllib, which enables us to create read data from URLs, we simply import the module:"
      ]
    },
    {
      "cell_type": "code",
      "metadata": {
        "id": "lA8yqbFMlZ6a",
        "colab_type": "code",
        "colab": {}
      },
      "source": [
        "# import the library\n",
        "import urllib\n",
        "\n",
        "# use it\n",
        "urllib.urlopen(...)"
      ],
      "execution_count": null,
      "outputs": []
    },
    {
      "cell_type": "markdown",
      "metadata": {
        "id": "HxyWYSYZlsjA",
        "colab_type": "text"
      },
      "source": [
        "When we find the function in the module we want to use, we can read about it more using the help function, inside the Python interpreter:\n",
        "\n"
      ]
    },
    {
      "cell_type": "code",
      "metadata": {
        "id": "FQ9Kp7felu-K",
        "colab_type": "code",
        "colab": {}
      },
      "source": [
        "help(urllib.urlopen)"
      ],
      "execution_count": null,
      "outputs": []
    },
    {
      "cell_type": "markdown",
      "metadata": {
        "id": "1UQzdbvXl2IW",
        "colab_type": "text"
      },
      "source": [
        "## **13.7 Writing packages**\n",
        "\n",
        "Packages are namespaces which contain multiple packages and modules themselves. They are simply directories, but with a twist.\n",
        "\n",
        "Each package in Python is a directory which MUST contain a special file called __init__.py. This file can be empty, and it indicates that the directory it contains is a Python package, so it can be imported the same way a module can be imported.\n",
        "\n",
        "If we create a directory called foo, which marks the package name, we can then create a module inside that package called bar. We also must not forget to add the __init__.py file inside the foo directory.\n",
        "\n",
        "To use the module bar, we can import it in two ways"
      ]
    },
    {
      "cell_type": "code",
      "metadata": {
        "id": "NtVOa_rSpES8",
        "colab_type": "code",
        "colab": {}
      },
      "source": [
        "import foo.bar"
      ],
      "execution_count": null,
      "outputs": []
    },
    {
      "cell_type": "code",
      "metadata": {
        "id": "SelJWP2BpJa_",
        "colab_type": "code",
        "colab": {}
      },
      "source": [
        "from foo import bar"
      ],
      "execution_count": null,
      "outputs": []
    },
    {
      "cell_type": "markdown",
      "metadata": {
        "id": "gVUbb39upXpO",
        "colab_type": "text"
      },
      "source": [
        "In the first method, we must use the foo prefix whenever we access the module bar. In the second method, we don't, because we import the module to our module's namespace.\n",
        "\n",
        "The __init__.py file can also decide which modules the package exports as the API, while keeping other modules internal, by overriding the __all__ variable, like so:"
      ]
    },
    {
      "cell_type": "code",
      "metadata": {
        "id": "2afYS7AWpeC0",
        "colab_type": "code",
        "colab": {}
      },
      "source": [
        "__init__.py:\n",
        "\n",
        "__all__ = [\"bar\"]"
      ],
      "execution_count": null,
      "outputs": []
    },
    {
      "cell_type": "markdown",
      "metadata": {
        "id": "5Vhr1A1qnw87",
        "colab_type": "text"
      },
      "source": [
        "#**Introduction to Python** \n"
      ]
    },
    {
      "cell_type": "markdown",
      "metadata": {
        "id": "sLMDr4dpoDGK",
        "colab_type": "text"
      },
      "source": [
        "##**1-Basic python**\n"
      ]
    },
    {
      "cell_type": "markdown",
      "metadata": {
        "id": "MopTIt6DoYTC",
        "colab_type": "text"
      },
      "source": [
        "###**1.1-Hello python** \n",
        "In this course we will learn Python for Data science.\n",
        "Python was conceived by Guido van Rossum and released in 1991.\n",
        "Nowadays you can use Python to bulid practically any place of software.\n",
        "- Pythson is  open source.\n",
        "- It is free to use.\n",
        "- Python packages ,also for Data science.\n",
        "- It is very easy to bulid packages in Python which code that you can share with other people to solve specific problem.\n",
        "In this courde well start to bulid up your data science coding skills bit by bit ,so make sure to stick around to see  how powerful the language can be.\n",
        "\n",
        "**Version of Python**\n",
        "\n",
        "Currently three are two common version of python ,version 2- point -7 and 3-point-5 and later.Apart from some syntactical difference they are pretty similar, but as support for version 2 will fade over him our course focus on python 3.\n",
        "\n",
        "**Python shell**\n",
        "\n",
        "Python shell,a place where you can type python code immediately see your result.\n",
        "In Datacamp's exercise interface this shell is embedd here.\n",
        "Lets start off simple and use python as a calculator.\n",
        "let me type 4 + 5 and hit enter your result is 9.\n",
        "The python shell that's used here is actually not the original one we're using ipython.\n",
        "Ipython is created by Fernado Perez and is part of broader jupyter ecosystem.\n",
        "\n",
        "**Python script**\n",
        "\n",
        "Python script are simply text files with the extension(dot)py.\n",
        "\n",
        "- Text files-py\n",
        "- List of python commands\n",
        "- similar to typing in ipython shell.\n",
        "\n",
        "The next step is submitting the answer.\n",
        "You have explicity use print inside script if you and to generate output execution.\n",
        "You can write the code and submit  your code will be executed."
      ]
    },
    {
      "cell_type": "markdown",
      "metadata": {
        "id": "wLIXexqxKplI",
        "colab_type": "text"
      },
      "source": [
        "####**1.1.1-The Python Interface** \n",
        "\n",
        "In the Python script on the right, you can type Python code to solve the exercises. If you hit Run Code or Submit Answer, your python script (script.py) is executed and the output is shown in the IPython Shell. Submit Answer checks whether your submission is correct and gives you feedback.\n",
        "\n",
        "You can hit Run Code and Submit Answer as often as you want. If you're stuck, you can click Get Hint, and ultimately Get Solution.\n",
        "\n",
        "You can also use the IPython Shell interactively by simply typing commands and hitting Enter. When you work in the shell directly, your code will not be checked for correctness so it is a great way to experiment.\n",
        "\n",
        "- Experiment in the IPython Shell; type 5 / 8, for example.\n",
        "- Add another line of code to the Python script on the top-right (not in the Shell): print(7 + 10).\n",
        "- Hit Submit Answer to execute the Python script and receive feedback.\n"
      ]
    },
    {
      "cell_type": "code",
      "metadata": {
        "id": "oTRJIOyPLa9H",
        "colab_type": "code",
        "colab": {}
      },
      "source": [
        "# Example, do not modify!\n",
        "print(5 / 8)\n",
        "# output 0.625\n",
        "\n",
        "# Print the sum of 7 and 10\n",
        "print(7+10)\n",
        "# output 17"
      ],
      "execution_count": null,
      "outputs": []
    },
    {
      "cell_type": "markdown",
      "metadata": {
        "id": "SUhdtQc3yDR2",
        "colab_type": "text"
      },
      "source": [
        "####**1.1.2-Any comments** \n",
        "\n",
        "Something that Hugo didn't mention in his videos is that you can add comments to your Python scripts. Comments are important to make sure that you and others can understand what your code is about.\n",
        "\n",
        "To add comments to your Python script, you can use the # tag. These comments are not run as Python code, so they will not influence your result. As an example, take the comment on the right, # Division; it is completely ignored during execution."
      ]
    },
    {
      "cell_type": "code",
      "metadata": {
        "id": "hRrSKSyZzT5U",
        "colab_type": "code",
        "colab": {}
      },
      "source": [
        "#Addition\n",
        "print(6 + 8)\n",
        "\n",
        "#Subtraction\n",
        "print(8-5)"
      ],
      "execution_count": null,
      "outputs": []
    },
    {
      "cell_type": "markdown",
      "metadata": {
        "id": "VAlT1IScy-92",
        "colab_type": "text"
      },
      "source": [
        "####**1.1.3-Python as a calculator** \n",
        "\n",
        "Python is perfectly suited to do basic calculations. Apart from addition, subtraction, multiplication and division, there is also support for more advanced operations such as:\n",
        "\n",
        "Exponentiation: **. This operator raises the number to its left to the power of the number to its right. For example 4**2 will give 16.\n",
        "Modulo: %. This operator returns the remainder of the division of the number to the left by the number on its right. For example 18 % 7 equals 4.\n",
        "The code in the script on the right gives some examples."
      ]
    },
    {
      "cell_type": "code",
      "metadata": {
        "id": "0hPM9Ky_zlrZ",
        "colab_type": "code",
        "colab": {}
      },
      "source": [
        "# Addition, subtraction\n",
        "print(5 + 5)\n",
        "print(5 - 5)\n",
        "\n",
        "# Multiplication, division, modulo, and exponentiation\n",
        "print(3 * 5)\n",
        "print(10 / 2)\n",
        "print(18 % 7)\n",
        "print(4 ** 2)"
      ],
      "execution_count": null,
      "outputs": []
    },
    {
      "cell_type": "markdown",
      "metadata": {
        "id": "kEh-Uydfisx0",
        "colab_type": "text"
      },
      "source": [
        "# **References**\n",
        "\n",
        "[[1] Learn Python](https://www.learnpython.org/en/Conditions)\n",
        "\n",
        "[[2] Real-Time Face Mask Detector with Python, OpenCV, Keras](https://data-flair.training/blogs/face-mask-detection-with-python/)"
      ]
    }
  ]
}