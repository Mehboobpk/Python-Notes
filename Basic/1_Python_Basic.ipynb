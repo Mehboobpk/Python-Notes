{
  "nbformat": 4,
  "nbformat_minor": 0,
  "metadata": {
    "coursera": {
      "course_slug": "neural-networks-deep-learning",
      "graded_item_id": "XaIWT",
      "launcher_item_id": "zAgPl"
    },
    "kernelspec": {
      "display_name": "Python 3",
      "language": "python",
      "name": "python3"
    },
    "language_info": {
      "codemirror_mode": {
        "name": "ipython",
        "version": 3
      },
      "file_extension": ".py",
      "mimetype": "text/x-python",
      "name": "python",
      "nbconvert_exporter": "python",
      "pygments_lexer": "ipython3",
      "version": "3.6.2"
    },
    "colab": {
      "name": "1-Python Basic.ipynb",
      "provenance": [],
      "collapsed_sections": [],
      "toc_visible": true,
      "include_colab_link": true
    }
  },
  "cells": [
    {
      "cell_type": "markdown",
      "metadata": {
        "id": "view-in-github",
        "colab_type": "text"
      },
      "source": [
        "<a href=\"https://colab.research.google.com/github/hussain0048/Python/blob/master/Basic/1_Python_Basic.ipynb\" target=\"_parent\"><img src=\"https://colab.research.google.com/assets/colab-badge.svg\" alt=\"Open In Colab\"/></a>"
      ]
    },
    {
      "cell_type": "markdown",
      "metadata": {
        "id": "2WZFQQORCAcS",
        "colab_type": "text"
      },
      "source": [
        "# What is mean by Python\n",
        "\n",
        "**Introduction:**\n",
        "\n",
        "Python is a very simple language, and has a very straightforward syntax. It encourages programmers to program without boilerplate (prepared) code. There are two major Python versions, Python 2 and Python 3. Python 2 and 3 are quite different. This tutorial uses Python 3, because it more semantically correct and supports newer features."
      ]
    },
    {
      "cell_type": "code",
      "metadata": {
        "id": "gYSnZoM86Lxq",
        "colab_type": "code",
        "colab": {}
      },
      "source": [
        "!git clone https://github.com/hussain0048/Python.git"
      ],
      "execution_count": null,
      "outputs": []
    },
    {
      "cell_type": "markdown",
      "metadata": {
        "id": "beVu-1UqCAcU",
        "colab_type": "text"
      },
      "source": [
        "# 1- **Hello, World!**\n",
        "The simplest directive in Python is the \"print\" directive - it simply prints out a line (and also includes a newline, unlike in C).For example, one difference between Python 2 and 3 is the print statement. In Python 2, the \"print\" statement is not a function, and therefore it is invoked without parentheses. However, in Python 3, it is a function, and must be invoked with parentheses."
      ]
    },
    {
      "cell_type": "code",
      "metadata": {
        "id": "ZF03EKpuCAcV",
        "colab_type": "code",
        "colab": {}
      },
      "source": [
        "#To print a string in Python 3, just write:\n",
        "print(\"This line will be printed.\")"
      ],
      "execution_count": null,
      "outputs": []
    },
    {
      "cell_type": "code",
      "metadata": {
        "id": "u7Cy9SPr653c",
        "colab_type": "code",
        "colab": {}
      },
      "source": [
        "print(\"Goodbye, World!\")"
      ],
      "execution_count": null,
      "outputs": []
    },
    {
      "cell_type": "markdown",
      "metadata": {
        "collapsed": true,
        "id": "nhYP15aoCAcf",
        "colab_type": "text"
      },
      "source": [
        "# 2- **Indentation**\n",
        "Python uses indentation for blocks, instead of curly braces. Both tabs and spaces are supported, but the standard indentation requires standard Python code to use four spaces. For example\n"
      ]
    },
    {
      "cell_type": "code",
      "metadata": {
        "id": "y1wsGi52CAch",
        "colab_type": "code",
        "colab": {
          "base_uri": "https://localhost:8080/",
          "height": 34
        },
        "outputId": "ab438295-8652-4fba-9d9b-8aba7e195e3e"
      },
      "source": [
        "x = 1\n",
        "if x == 1:\n",
        "    # indented four spaces\n",
        "    print(\"x is 1.\")"
      ],
      "execution_count": null,
      "outputs": [
        {
          "output_type": "stream",
          "text": [
            "x is 1.\n"
          ],
          "name": "stdout"
        }
      ]
    },
    {
      "cell_type": "markdown",
      "metadata": {
        "id": "P4QYI2IoHWpL",
        "colab_type": "text"
      },
      "source": [
        "# 3 - **Variables and Types**\n",
        "Python is completely object oriented, and not \"statically typed\". You do not need to declare variables before using them, or declare their type. Every variable in Python is an object.\n",
        "\n",
        "This tutorial will go over a few basic types of variables.\n"
      ]
    },
    {
      "cell_type": "markdown",
      "metadata": {
        "id": "AMaWX5x481qW",
        "colab_type": "text"
      },
      "source": [
        "## 3.1 Numbers\n",
        "Python supports two types of numbers - integers and floating point numbers. (It also supports complex numbers, which will not be explained in this tutorial).\n",
        "\n",
        "To define an integer, use the following syntax:"
      ]
    },
    {
      "cell_type": "code",
      "metadata": {
        "id": "HV4itFik94rG",
        "colab_type": "code",
        "colab": {}
      },
      "source": [
        "myint = 7\n",
        "print(myint)"
      ],
      "execution_count": null,
      "outputs": []
    },
    {
      "cell_type": "code",
      "metadata": {
        "id": "p9JGZRKCCAcq",
        "colab_type": "code",
        "colab": {}
      },
      "source": [
        "#To define a floating point number, you may use one of the following notations:\n",
        "myfloat = 7.0\n",
        "print(myfloat)\n",
        "myfloat = float(7)\n",
        "print(myfloat)"
      ],
      "execution_count": null,
      "outputs": []
    },
    {
      "cell_type": "markdown",
      "metadata": {
        "id": "yCl8lMKR-WRg",
        "colab_type": "text"
      },
      "source": [
        "## 3.2- **Strings**\n",
        "Strings are defined either with a single quote or a double quotes.The difference between the two is that using double quotes makes it easy to include apostrophes (whereas these would terminate the string if using single quotes)"
      ]
    },
    {
      "cell_type": "code",
      "metadata": {
        "id": "t1DlRZn5-m4_",
        "colab_type": "code",
        "colab": {}
      },
      "source": [
        "mystring = 'hello'\n",
        "print(mystring)\n",
        "mystring = \"hello\"\n",
        "print(mystring)"
      ],
      "execution_count": null,
      "outputs": []
    },
    {
      "cell_type": "markdown",
      "metadata": {
        "id": "ehTTQE9YJF1Q",
        "colab_type": "text"
      },
      "source": [
        "# 4 -**Lists**\n",
        "Lists are very similar to arrays. They can contain any type of variable, and they can contain as many variables as you wish. Lists can also be iterated over in a very simple manner. Here is an example of how to build a list."
      ]
    },
    {
      "cell_type": "code",
      "metadata": {
        "scrolled": true,
        "id": "TvqFi8-XCAcy",
        "colab_type": "code",
        "colab": {}
      },
      "source": [
        "mylist = []\n",
        "mylist.append(1)\n",
        "mylist.append(2)\n",
        "mylist.append(3)\n",
        "print(mylist[0]) # prints 1\n",
        "print(mylist[1]) # prints 2\n",
        "print(mylist[2]) # prints 3"
      ],
      "execution_count": null,
      "outputs": []
    },
    {
      "cell_type": "code",
      "metadata": {
        "id": "gmN5Z87UAzmf",
        "colab_type": "code",
        "colab": {}
      },
      "source": [
        "# prints out 1,2,3\n",
        "for x in mylist:\n",
        "    print(x)"
      ],
      "execution_count": null,
      "outputs": []
    },
    {
      "cell_type": "code",
      "metadata": {
        "id": "iF-GaT_VBBRz",
        "colab_type": "code",
        "colab": {}
      },
      "source": [
        "#Accessing an index which does not exist generates an exception (an error).\n",
        "mylist = [1,2,3]\n",
        "print(mylist[10])"
      ],
      "execution_count": null,
      "outputs": []
    },
    {
      "cell_type": "markdown",
      "metadata": {
        "id": "izbM6eEUKAV-",
        "colab_type": "text"
      },
      "source": [
        "# 5- Basic Operators\n",
        "This section explains how to use basic operators in Python."
      ]
    },
    {
      "cell_type": "markdown",
      "metadata": {
        "id": "M_GxDC5VBogz",
        "colab_type": "text"
      },
      "source": [
        "## 5.1- Arithmetic Operators\n",
        "Just as any other programming languages, the addition, subtraction, multiplication, and division operators can be used with numbers."
      ]
    },
    {
      "cell_type": "code",
      "metadata": {
        "id": "zt-vctO1Kb3o",
        "colab_type": "code",
        "colab": {}
      },
      "source": [
        "number = 1 + 2 * 3 / 4.0\n",
        "print(number)"
      ],
      "execution_count": null,
      "outputs": []
    },
    {
      "cell_type": "code",
      "metadata": {
        "id": "xAsBlVQ0DmXi",
        "colab_type": "code",
        "colab": {}
      },
      "source": [
        "# Another operator available is the modulo (%) operator, which returns the integer remainder of the division. dividend % divisor = remainder\n",
        "remainder = 11 % 3\n",
        "print(remainder)"
      ],
      "execution_count": null,
      "outputs": []
    },
    {
      "cell_type": "code",
      "metadata": {
        "id": "lYnhlcS1DtiH",
        "colab_type": "code",
        "colab": {}
      },
      "source": [
        "# Using two multiplication symbols makes a power relationship.\n",
        "squared = 7 ** 2\n",
        "cubed = 2 ** 3\n",
        "print(squared)\n",
        "print(cubed)\n"
      ],
      "execution_count": null,
      "outputs": []
    },
    {
      "cell_type": "markdown",
      "metadata": {
        "id": "1x8QNZN3CAdF",
        "colab_type": "text"
      },
      "source": [
        "##5.2  -Using Operators with Strings\n",
        "Python supports concatenating strings using the addition operator:"
      ]
    },
    {
      "cell_type": "code",
      "metadata": {
        "id": "zNBdXxiHLfLW",
        "colab_type": "code",
        "colab": {
          "base_uri": "https://localhost:8080/",
          "height": 34
        },
        "outputId": "fc89c894-c3de-41d0-bc3e-2c56d9219259"
      },
      "source": [
        "helloworld = \"hello\" + \" \" + \"world\"\n",
        "print(helloworld)"
      ],
      "execution_count": null,
      "outputs": [
        {
          "output_type": "stream",
          "text": [
            "hello world\n"
          ],
          "name": "stdout"
        }
      ]
    },
    {
      "cell_type": "code",
      "metadata": {
        "id": "RkXFMVZP76K4",
        "colab_type": "code",
        "colab": {}
      },
      "source": [
        "lotsofhellos = \"hello\" * 10\n",
        "print(lotsofhellos)"
      ],
      "execution_count": null,
      "outputs": []
    },
    {
      "cell_type": "markdown",
      "metadata": {
        "id": "12f__4N3FDY3",
        "colab_type": "text"
      },
      "source": [
        "## 5.3- Using Operators with Lists"
      ]
    },
    {
      "cell_type": "code",
      "metadata": {
        "id": "FZWfCifvFTXC",
        "colab_type": "code",
        "colab": {}
      },
      "source": [
        "even_numbers = [2,4,6,8]\n",
        "odd_numbers = [1,3,5,7]\n",
        "all_numbers = odd_numbers + even_numbers\n",
        "print(all_numbers)"
      ],
      "execution_count": null,
      "outputs": []
    },
    {
      "cell_type": "code",
      "metadata": {
        "id": "ss60eiRpFln5",
        "colab_type": "code",
        "colab": {}
      },
      "source": [
        "# Just as in strings, Python supports forming new lists with a repeating sequence using the multiplication operator:\n",
        "print([1,2,3] * 3)"
      ],
      "execution_count": null,
      "outputs": []
    },
    {
      "cell_type": "markdown",
      "metadata": {
        "id": "-WNB53OY8IfG",
        "colab_type": "text"
      },
      "source": [
        "# 6- String Formatting\n",
        "\n",
        "Python uses C-style string formatting to create new, formatted strings. The \"%\" operator is used to format a set of variables enclosed in a \"tuple\" (a fixed size list), together with a format string, which contains normal text together with \"argument specifiers\", special symbols like \"%s\" and \"%d\".\n",
        "\n",
        "Let's say you have a variable called \"name\" with your user name in it, and you would then like to print(out a greeting to that user.)\n"
      ]
    },
    {
      "cell_type": "code",
      "metadata": {
        "id": "-_ykAt_v8egH",
        "colab_type": "code",
        "colab": {
          "base_uri": "https://localhost:8080/",
          "height": 34
        },
        "outputId": "aef47709-8e0e-46dd-cbb7-cd84c19df4cf"
      },
      "source": [
        "# This prints out \"Hello, John!\"\n",
        "name = \"John\"\n",
        "print(\"Hello, %s!\" % name)"
      ],
      "execution_count": null,
      "outputs": [
        {
          "output_type": "stream",
          "text": [
            "Hello, John!\n"
          ],
          "name": "stdout"
        }
      ]
    },
    {
      "cell_type": "markdown",
      "metadata": {
        "id": "OcoimUu1s4MI",
        "colab_type": "text"
      },
      "source": [
        "To use two or more argument specifiers, use a tuple (parentheses):"
      ]
    },
    {
      "cell_type": "code",
      "metadata": {
        "id": "0tyfd8avhp58",
        "colab_type": "code",
        "colab": {}
      },
      "source": [
        "# This prints out \"John is 23 years old.\"\n",
        "name = \"John\"\n",
        "age = 23\n",
        "print(\"%s is %d years old.\" % (name, age))"
      ],
      "execution_count": null,
      "outputs": []
    },
    {
      "cell_type": "markdown",
      "metadata": {
        "id": "l3epbWLyh-p4",
        "colab_type": "text"
      },
      "source": [
        "Any object which is not a string can be formatted using the %s operator as well. The string which returns from the \"repr\" method of that object is formatted as the string. For example"
      ]
    },
    {
      "cell_type": "code",
      "metadata": {
        "id": "T-QKZojviCCq",
        "colab_type": "code",
        "colab": {}
      },
      "source": [
        "# This prints out: A list: [1, 2, 3]\n",
        "mylist = [1,2,3]\n",
        "print(\"A list: %s\" % mylist)"
      ],
      "execution_count": null,
      "outputs": []
    },
    {
      "cell_type": "markdown",
      "metadata": {
        "id": "htcsGPA0iMJn",
        "colab_type": "text"
      },
      "source": [
        "Here are some basic argument specifiers you should know:\n",
        "\n",
        "%s - String (or any object with a string representation, like numbers)\n",
        "\n",
        "%d - Integers\n",
        "\n",
        "%f - Floating point numbers\n",
        "\n",
        "%.<number of digits>f - Floating point numbers with a fixed amount of digits to the right of the dot.\n",
        "\n",
        "%x/%X - Integers in hex representation (lowercase/uppercase)"
      ]
    },
    {
      "cell_type": "markdown",
      "metadata": {
        "id": "BdpTOYOlCAdP",
        "colab_type": "text"
      },
      "source": [
        "# 7-**Basic String Operations**\n",
        "Strings are bits of text. They can be defined as anything between quotes:\n",
        "\n"
      ]
    },
    {
      "cell_type": "code",
      "metadata": {
        "id": "R5uHKjQWZ0WV",
        "colab_type": "code",
        "colab": {}
      },
      "source": [
        "astring = \"Hello world!\"\n",
        "astring2 = 'Hello world!'"
      ],
      "execution_count": null,
      "outputs": []
    },
    {
      "cell_type": "markdown",
      "metadata": {
        "id": "r_VGeM-W6ADp",
        "colab_type": "text"
      },
      "source": [
        "As you can see, the first thing you learned was printing a simple sentence. This sentence was stored by Python as a string. However, instead of immediately printing strings out, we will explore the various things you can do to them. You can also use single quotes to assign a string. However, you will face problems if the value to be assigned itself contains single quotes.For example to assign the string in these bracket(single quotes are ' ') you need to use double quotes only like this"
      ]
    },
    {
      "cell_type": "code",
      "metadata": {
        "id": "RP9VUw8v6CKq",
        "colab_type": "code",
        "colab": {}
      },
      "source": [
        "astring = \"Hello world!\"\n",
        "print(\"single quotes are ' '\")\n",
        "print(len(astring))"
      ],
      "execution_count": null,
      "outputs": []
    },
    {
      "cell_type": "code",
      "metadata": {
        "id": "kMZsbrdxMsk_",
        "colab_type": "code",
        "colab": {}
      },
      "source": [
        "astring = \"Hello world!\"\n",
        "print(astring.index(\"o\"))"
      ],
      "execution_count": null,
      "outputs": []
    },
    {
      "cell_type": "markdown",
      "metadata": {
        "id": "jib_dHP4MnL8",
        "colab_type": "text"
      },
      "source": [
        "That prints out 4, because the location of the first occurrence of the letter \"o\" is 4 characters away from the first character. Notice how there are actually two o's in the phrase - this method only recognizes the first.\n",
        "\n",
        "But why didn't it print out 5? Isn't \"o\" the fifth character in the string? To make things more simple, Python (and most other programming languages) start things at 0 instead of 1. So the index of \"o\" is 4."
      ]
    },
    {
      "cell_type": "code",
      "metadata": {
        "id": "_VZPHeAVM7W-",
        "colab_type": "code",
        "colab": {}
      },
      "source": [
        "astring = \"Hello world!\"\n",
        "print(astring.count(\"l\"))"
      ],
      "execution_count": null,
      "outputs": []
    },
    {
      "cell_type": "markdown",
      "metadata": {
        "id": "vJuKccPBNkDH",
        "colab_type": "text"
      },
      "source": [
        "For those of you using silly fonts, that is a lowercase L, not a number one. This counts the number of l's in the string. Therefore, it should print 3."
      ]
    },
    {
      "cell_type": "code",
      "metadata": {
        "id": "zntMPysON5Ts",
        "colab_type": "code",
        "colab": {}
      },
      "source": [
        "astring = \"Hello world!\"\n",
        "print(astring[3:7])"
      ],
      "execution_count": null,
      "outputs": []
    },
    {
      "cell_type": "markdown",
      "metadata": {
        "id": "EHo45-BfN-wE",
        "colab_type": "text"
      },
      "source": [
        "This prints a slice of the string, starting at index 3, and ending at index 6. But why 6 and not 7? Again, most programming languages do this - it makes doing math inside those brackets easier.\n",
        "\n",
        "If you just have one number in the brackets, it will give you the single character at that index. If you leave out the first number but keep the colon, it will give you a slice from the start to the number you left in. If you leave out the second number, it will give you a slice from the first number to the end.\n",
        "\n",
        "You can even put negative numbers inside the brackets. They are an easy way of starting at the end of the string instead of the beginning. This way, -3 means \"3rd character from the end\"."
      ]
    },
    {
      "cell_type": "code",
      "metadata": {
        "id": "f2fVOhDtOOVj",
        "colab_type": "code",
        "colab": {}
      },
      "source": [
        "astring = \"Hello world!\"\n",
        "print(astring[3:7:2])"
      ],
      "execution_count": null,
      "outputs": []
    },
    {
      "cell_type": "markdown",
      "metadata": {
        "id": "9JPolHSEOSqH",
        "colab_type": "text"
      },
      "source": [
        "This prints the characters of string from 3 to 7 skipping one character. This is extended slice syntax. The general form is [start:stop:step]."
      ]
    },
    {
      "cell_type": "code",
      "metadata": {
        "id": "1m8tU3n8OdSk",
        "colab_type": "code",
        "colab": {}
      },
      "source": [
        "astring = \"Hello world!\"\n",
        "print(astring[3:7])\n",
        "print(astring[3:7:1])"
      ],
      "execution_count": null,
      "outputs": []
    },
    {
      "cell_type": "markdown",
      "metadata": {
        "id": "ZQp54I1kOneQ",
        "colab_type": "text"
      },
      "source": [
        "Note that both of them produce same output\n",
        "\n",
        "There is no function like strrev in C to reverse a string. But with the above mentioned type of slice syntax you can easily reverse a string like this"
      ]
    },
    {
      "cell_type": "code",
      "metadata": {
        "id": "_4BaWsS0Osab",
        "colab_type": "code",
        "colab": {
          "base_uri": "https://localhost:8080/",
          "height": 34
        },
        "outputId": "e0aacb32-f36f-4848-d408-8cd43f12897e"
      },
      "source": [
        "astring = \"Hello world!\"\n",
        "print(astring[::-1])"
      ],
      "execution_count": null,
      "outputs": [
        {
          "output_type": "stream",
          "text": [
            "!dlrow olleH\n"
          ],
          "name": "stdout"
        }
      ]
    },
    {
      "cell_type": "code",
      "metadata": {
        "id": "UXGsuQmhO1ND",
        "colab_type": "code",
        "colab": {}
      },
      "source": [
        "astring = \"Hello world!\"\n",
        "print(astring.upper())\n",
        "print(astring.lower())"
      ],
      "execution_count": null,
      "outputs": []
    },
    {
      "cell_type": "markdown",
      "metadata": {
        "id": "0AFCFOpXO_Cr",
        "colab_type": "text"
      },
      "source": [
        "hese make a new string with all letters converted to uppercase and lowercase, respectively."
      ]
    },
    {
      "cell_type": "code",
      "metadata": {
        "id": "yQGbPPncPA30",
        "colab_type": "code",
        "colab": {}
      },
      "source": [
        "astring = \"Hello world!\"\n",
        "print(astring.startswith(\"Hello\"))\n",
        "print(astring.endswith(\"asdfasdfasdf\"))"
      ],
      "execution_count": null,
      "outputs": []
    },
    {
      "cell_type": "markdown",
      "metadata": {
        "id": "v5Rg7hGqPNMO",
        "colab_type": "text"
      },
      "source": [
        "This is used to determine whether the string starts with something or ends with something, respectively. The first one will print True, as the string starts with \"Hello\". The second one will print False, as the string certainly does not end with \"asdfasdfasdf\""
      ]
    },
    {
      "cell_type": "code",
      "metadata": {
        "id": "bLLTo7DRPBIT",
        "colab_type": "code",
        "colab": {}
      },
      "source": [
        "astring = \"Hello world!\"\n",
        "afewwords = astring.split(\" \")"
      ],
      "execution_count": null,
      "outputs": []
    },
    {
      "cell_type": "markdown",
      "metadata": {
        "id": "LTX2uBXKPZUx",
        "colab_type": "text"
      },
      "source": [
        "This splits the string into a bunch of strings grouped together in a list. Since this example splits at a space, the first item in the list will be \"Hello\", and the second will be \"world!\"."
      ]
    },
    {
      "cell_type": "markdown",
      "metadata": {
        "id": "lTe0Qqi3CAeA",
        "colab_type": "text"
      },
      "source": [
        "# 8- **Conditions**\n",
        "Python uses boolean variables to evaluate conditions. The boolean values True and False are returned when an expression is compared or evaluated. For example:"
      ]
    },
    {
      "cell_type": "code",
      "metadata": {
        "id": "Kq4Ho1l8Ksjt",
        "colab_type": "code",
        "colab": {}
      },
      "source": [
        "x = 2\n",
        "print(x == 2) # prints out True\n",
        "print(x == 3) # prints out False\n",
        "print(x < 3) # prints out True\n"
      ],
      "execution_count": null,
      "outputs": []
    },
    {
      "cell_type": "markdown",
      "metadata": {
        "id": "t_FZLht0akQz",
        "colab_type": "text"
      },
      "source": [
        "Notice that variable assignment is done using a single equals operator \"=\", whereas comparison between two variables is done using the double equals operator \"==\". The \"not equals\" operator is marked as \"!=\"."
      ]
    },
    {
      "cell_type": "markdown",
      "metadata": {
        "id": "-VwPfoQSS4Av",
        "colab_type": "text"
      },
      "source": [
        "## 8.1 - Boolean operators\n",
        "The \"and\" and \"or\" boolean operators allow building complex boolean expressions, for example:"
      ]
    },
    {
      "cell_type": "code",
      "metadata": {
        "id": "5DYf8Quv_PxR",
        "colab_type": "code",
        "colab": {}
      },
      "source": [
        "name = \"John\"\n",
        "age = 23\n",
        "if name == \"John\" and age == 23:\n",
        "    print(\"Your name is John, and you are also 23 years old.\")\n",
        "\n",
        "if name == \"John\" or name == \"Rick\":\n",
        "    print(\"Your name is either John or Rick.\")"
      ],
      "execution_count": null,
      "outputs": []
    },
    {
      "cell_type": "markdown",
      "metadata": {
        "id": "qrZx-6XeziR0",
        "colab_type": "text"
      },
      "source": [
        "## 8.2 The \"in\" operator\n",
        "The \"in\" operator could be used to check if a specified object exists within an iterable object container, such as a list:"
      ]
    },
    {
      "cell_type": "code",
      "metadata": {
        "id": "_q87nKz4zxr1",
        "colab_type": "code",
        "colab": {}
      },
      "source": [
        "name = \"John\"\n",
        "if name in [\"John\", \"Rick\"]:\n",
        "    print(\"Your name is either John or Rick.\")"
      ],
      "execution_count": null,
      "outputs": []
    },
    {
      "cell_type": "markdown",
      "metadata": {
        "id": "jnWR24dBHGty",
        "colab_type": "text"
      },
      "source": [
        "Python uses indentation to define code blocks, instead of brackets. The standard Python indentation is 4 spaces, although tabs and any other space size will work, as long as it is consistent. Notice that code blocks do not need any termination.\n",
        "\n",
        "Here is an example for using Python's \"if\" statement using code blocks:"
      ]
    },
    {
      "cell_type": "code",
      "metadata": {
        "id": "YzkWkVZEbrpw",
        "colab_type": "code",
        "colab": {}
      },
      "source": [
        "statement = False\n",
        "another_statement = True\n",
        "if statement is True:\n",
        "    # do something\n",
        "    pass\n",
        "elif another_statement is True: # else if\n",
        "    # do something else\n",
        "    pass\n",
        "else:\n",
        "    # do another thing\n",
        "    pass"
      ],
      "execution_count": null,
      "outputs": []
    },
    {
      "cell_type": "code",
      "metadata": {
        "id": "03BGhfi0b5Tx",
        "colab_type": "code",
        "colab": {}
      },
      "source": [
        "x = 2\n",
        "if x == 2:\n",
        "    print(\"x equals two!\")\n",
        "else:\n",
        "    print(\"x does not equal to two.\")"
      ],
      "execution_count": null,
      "outputs": []
    },
    {
      "cell_type": "markdown",
      "metadata": {
        "id": "3BFbDJjCcACN",
        "colab_type": "text"
      },
      "source": [
        "A statement is evaulated as true if one of the following is correct: 1. The \"True\" boolean variable is given, or calculated using an expression, such as an arithmetic comparison. 2. An object which is not considered \"empty\" is passed.\n",
        "\n",
        "Here are some examples for objects which are considered as empty: 1. An empty string: \"\" 2. An empty list: [] 3. The number zero: 0 4. The false boolean variable: False"
      ]
    },
    {
      "cell_type": "markdown",
      "metadata": {
        "id": "_Sq0XpVN0UZ7",
        "colab_type": "text"
      },
      "source": [
        "## 8.3 The 'is' operator\n",
        "Unlike the double equals operator \"==\", the \"is\" operator does not match the values of the variables, but the instances themselves. For example:"
      ]
    },
    {
      "cell_type": "code",
      "metadata": {
        "id": "YQ2nyHRV0dnH",
        "colab_type": "code",
        "colab": {}
      },
      "source": [
        "x = [1,2,3]\n",
        "y = [1,2,3]\n",
        "print(x == y) # Prints out True\n",
        "print(x is y) # Prints out False"
      ],
      "execution_count": null,
      "outputs": []
    },
    {
      "cell_type": "markdown",
      "metadata": {
        "id": "tuCqDl8Ojb71",
        "colab_type": "text"
      },
      "source": [
        "##8.4-**The \"not\" operator**\n",
        "Using \"not\" before a boolean expression inverts it:"
      ]
    },
    {
      "cell_type": "code",
      "metadata": {
        "id": "AEhV6wPLjxKW",
        "colab_type": "code",
        "colab": {}
      },
      "source": [
        "print(not False) # Prints out True\n",
        "print((not False) == (False)) # Prints out False"
      ],
      "execution_count": null,
      "outputs": []
    },
    {
      "cell_type": "markdown",
      "metadata": {
        "id": "NSfAbkM9j9n0",
        "colab_type": "text"
      },
      "source": [
        "#**9-Loops** \n",
        "There are two types of loops in Python, for and while."
      ]
    },
    {
      "cell_type": "markdown",
      "metadata": {
        "id": "CQw5qCkwkQtl",
        "colab_type": "text"
      },
      "source": [
        "## **9.1- For Loops** \n",
        "For loops iterate over a given sequence. Here is an example [1]"
      ]
    },
    {
      "cell_type": "code",
      "metadata": {
        "id": "yXE0z8LTkh_n",
        "colab_type": "code",
        "colab": {}
      },
      "source": [
        "primes = [2, 3, 5, 7]\n",
        "for prime in primes:\n",
        "    print(prime)"
      ],
      "execution_count": null,
      "outputs": []
    },
    {
      "cell_type": "markdown",
      "metadata": {
        "id": "Jk7_uCXBk2p8",
        "colab_type": "text"
      },
      "source": [
        "For loops can iterate over a sequence of numbers using the \"range\" and \"xrange\" functions. The difference between range and xrange is that the range function returns a new list with numbers of that specified range, whereas xrange returns an iterator, which is more efficient. (Python 3 uses the range function, which acts like xrange). Note that the range function is zero based[1]"
      ]
    },
    {
      "cell_type": "code",
      "metadata": {
        "id": "75rKveONk5uR",
        "colab_type": "code",
        "colab": {}
      },
      "source": [
        "# Prints out the numbers 0,1,2,3,4\n",
        "for x in range(5):\n",
        "    print(x)"
      ],
      "execution_count": null,
      "outputs": []
    },
    {
      "cell_type": "code",
      "metadata": {
        "id": "ZAVayvJGlJTf",
        "colab_type": "code",
        "colab": {}
      },
      "source": [
        "# Prints out 3,4,5\n",
        "for x in range(3, 6):\n",
        "    print(x)"
      ],
      "execution_count": null,
      "outputs": []
    },
    {
      "cell_type": "code",
      "metadata": {
        "id": "ob6Xmq2olPbP",
        "colab_type": "code",
        "colab": {}
      },
      "source": [
        "# Prints out 3,5,7\n",
        "for x in range(3, 8, 2):\n",
        "    print(x)"
      ],
      "execution_count": null,
      "outputs": []
    },
    {
      "cell_type": "markdown",
      "metadata": {
        "id": "z92vvofurd8i",
        "colab_type": "text"
      },
      "source": [
        "## **9.5 \"while\" loops**\n",
        "While loops repeat as long as a certain boolean condition is met. For example:\n",
        "\n"
      ]
    },
    {
      "cell_type": "code",
      "metadata": {
        "id": "xWy8CNotruT-",
        "colab_type": "code",
        "colab": {}
      },
      "source": [
        "# Prints out 0,1,2,3,4\n",
        "count = 0\n",
        "while count < 5:\n",
        "    print(count)\n",
        "    count += 1  # This is the same as count = count + 1"
      ],
      "execution_count": null,
      "outputs": []
    },
    {
      "cell_type": "markdown",
      "metadata": {
        "id": "Q1huBl7_s92A",
        "colab_type": "text"
      },
      "source": [
        "##9.6 **break\" and \"continue\" statements**\n",
        "break is used to exit a for loop or a while loop, whereas continue is used to skip the current block, and return to the \"for\" or \"while\" statement. A few examples:"
      ]
    },
    {
      "cell_type": "code",
      "metadata": {
        "id": "loSiWLLftM6c",
        "colab_type": "code",
        "colab": {}
      },
      "source": [
        "# Prints out 0,1,2,3,4\n",
        "count = 0\n",
        "while True:\n",
        "    print(count)\n",
        "    count += 1\n",
        "    if count >= 5:\n",
        "        break\n"
      ],
      "execution_count": null,
      "outputs": []
    },
    {
      "cell_type": "code",
      "metadata": {
        "id": "s0fLXLzetlUZ",
        "colab_type": "code",
        "colab": {}
      },
      "source": [
        "# Prints out only odd numbers - 1,3,5,7,9\n",
        "for x in range(10):\n",
        "    # Check if x is even\n",
        "    if x % 2 == 0:\n",
        "        continue\n",
        "    print(x)"
      ],
      "execution_count": null,
      "outputs": []
    },
    {
      "cell_type": "markdown",
      "metadata": {
        "id": "yfQXiYbot7oP",
        "colab_type": "text"
      },
      "source": [
        "##**9.6-Can we use \"else\" clause for loops?**\n",
        "unlike languages like C,CPP.. we can use else for loops. When the loop condition of \"for\" or \"while\" statement fails then code part in \"else\" is executed. If break statement is executed inside for loop then the \"else\" part is skipped. Note that \"else\" part is executed even if there is a continue statement."
      ]
    },
    {
      "cell_type": "code",
      "metadata": {
        "id": "9ja3raQ4uLVb",
        "colab_type": "code",
        "colab": {}
      },
      "source": [
        "# Prints out 0,1,2,3,4 and then it prints \"count value reached 5\"\n",
        "\n",
        "count=0\n",
        "while(count<5):\n",
        "    print(count)\n",
        "    count +=1\n",
        "else:\n",
        "    print(\"count value reached %d\" %(count))\n",
        "\n",
        "# Prints out 1,2,3,4\n",
        "for i in range(1, 10):\n",
        "    if(i%5==0):\n",
        "        break\n",
        "    print(i)\n",
        "else:\n",
        "    print(\"this is not printed because for loop is terminated because of break but not due to fail in condition\")"
      ],
      "execution_count": null,
      "outputs": []
    },
    {
      "cell_type": "markdown",
      "metadata": {
        "id": "qLh5SRAmuwaM",
        "colab_type": "text"
      },
      "source": [
        "#**10-Functions**\n",
        "\n",
        "**What are Functions?**\n",
        "\n",
        "Functions are a convenient way to divide your code into useful blocks, allowing us to order our code, make it more readable, reuse it and save some time. Also functions are a key way to define interfaces so programmers can share their code.\n",
        "\n",
        "**How do you write functions in Python?**\n",
        "\n",
        "As we have seen on previous tutorials, Python makes use of blocks.\n",
        "A block is a area of code of written in the format of:\n",
        "\n",
        "block_head:\n",
        "\n",
        "    1st block line\n",
        "    \n",
        "    2nd block line\n",
        "    ...\n",
        "\n",
        "\n",
        "Where a block line is more Python code (even another block), and the block head is of the following format: block_keyword block_name(argument1,argument2, ...) Block keywords you already know are \"if\", \"for\", and \"while\".\n",
        "\n",
        "Functions in python are defined using the block keyword \"def\", followed with the function's name as the block's name. For example:\n"
      ]
    },
    {
      "cell_type": "code",
      "metadata": {
        "id": "nQdEeASZvWVb",
        "colab_type": "code",
        "colab": {}
      },
      "source": [
        "def my_function():\n",
        "    print(\"Hello From My Function!\")"
      ],
      "execution_count": 6,
      "outputs": []
    },
    {
      "cell_type": "code",
      "metadata": {
        "id": "HBlxgMQHvFKh",
        "colab_type": "code",
        "colab": {}
      },
      "source": [
        "def my_function_with_args(username, greeting):\n",
        "    print(\"Hello, %s , From My Function!, I wish you %s\"%(username, greeting))"
      ],
      "execution_count": 7,
      "outputs": []
    },
    {
      "cell_type": "code",
      "metadata": {
        "id": "wTPbY8DpwMue",
        "colab_type": "code",
        "colab": {}
      },
      "source": [
        "def sum_two_numbers(a, b):\n",
        "    return a + b"
      ],
      "execution_count": 8,
      "outputs": []
    },
    {
      "cell_type": "markdown",
      "metadata": {
        "id": "3lJNUdzqwP7Y",
        "colab_type": "text"
      },
      "source": [
        "##**10.1 call function**\n",
        "Simply write the function's name followed by (), placing any required arguments within the brackets. For example, lets call the functions written above (in the previous example): "
      ]
    },
    {
      "cell_type": "code",
      "metadata": {
        "id": "8QG7iGacw63l",
        "colab_type": "code",
        "colab": {}
      },
      "source": [
        "# Define our 3 functions\n",
        "def my_function():\n",
        "    print(\"Hello From My Function!\")"
      ],
      "execution_count": null,
      "outputs": []
    },
    {
      "cell_type": "code",
      "metadata": {
        "id": "HhO7omhEw8yM",
        "colab_type": "code",
        "colab": {}
      },
      "source": [
        "# print(a simple greeting)\n",
        "my_function()"
      ],
      "execution_count": null,
      "outputs": []
    },
    {
      "cell_type": "code",
      "metadata": {
        "id": "6mC_J_kDxG30",
        "colab_type": "code",
        "colab": {}
      },
      "source": [
        "def my_function_with_args(username, greeting):\n",
        "    print(\"Hello, %s , From My Function!, I wish you %s\"%(username, greeting))"
      ],
      "execution_count": 10,
      "outputs": []
    },
    {
      "cell_type": "code",
      "metadata": {
        "id": "oGuPF5M9xI8q",
        "colab_type": "code",
        "colab": {}
      },
      "source": [
        "my_function_with_args(\"John Doe\", \"a great year!\")\n"
      ],
      "execution_count": null,
      "outputs": []
    },
    {
      "cell_type": "code",
      "metadata": {
        "id": "6Q2mEHjRxQ7Z",
        "colab_type": "code",
        "colab": {}
      },
      "source": [
        "def sum_two_numbers(a, b):\n",
        "    return a + b"
      ],
      "execution_count": 12,
      "outputs": []
    },
    {
      "cell_type": "code",
      "metadata": {
        "id": "i9kL8P8oxV64",
        "colab_type": "code",
        "colab": {}
      },
      "source": [
        ""
      ],
      "execution_count": null,
      "outputs": []
    },
    {
      "cell_type": "markdown",
      "metadata": {
        "id": "kEh-Uydfisx0",
        "colab_type": "text"
      },
      "source": [
        "# **References**\n",
        "Learn Python\n",
        "https://www.learnpython.org/en/Conditions"
      ]
    },
    {
      "cell_type": "code",
      "metadata": {
        "id": "7LvqfD4BCAei",
        "colab_type": "code",
        "colab": {}
      },
      "source": [
        ""
      ],
      "execution_count": null,
      "outputs": []
    }
  ]
}