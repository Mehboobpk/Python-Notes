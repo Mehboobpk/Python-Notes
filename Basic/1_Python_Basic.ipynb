{
  "nbformat": 4,
  "nbformat_minor": 0,
  "metadata": {
    "coursera": {
      "course_slug": "neural-networks-deep-learning",
      "graded_item_id": "XaIWT",
      "launcher_item_id": "zAgPl"
    },
    "kernelspec": {
      "display_name": "Python 3",
      "language": "python",
      "name": "python3"
    },
    "language_info": {
      "codemirror_mode": {
        "name": "ipython",
        "version": 3
      },
      "file_extension": ".py",
      "mimetype": "text/x-python",
      "name": "python",
      "nbconvert_exporter": "python",
      "pygments_lexer": "ipython3",
      "version": "3.6.2"
    },
    "colab": {
      "name": "1-Python Basic.ipynb",
      "provenance": [],
      "collapsed_sections": [],
      "toc_visible": true,
      "include_colab_link": true
    }
  },
  "cells": [
    {
      "cell_type": "markdown",
      "metadata": {
        "id": "view-in-github",
        "colab_type": "text"
      },
      "source": [
        "<a href=\"https://colab.research.google.com/github/hussain0048/Python/blob/master/Basic/1_Python_Basic.ipynb\" target=\"_parent\"><img src=\"https://colab.research.google.com/assets/colab-badge.svg\" alt=\"Open In Colab\"/></a>"
      ]
    },
    {
      "cell_type": "markdown",
      "metadata": {
        "id": "2WZFQQORCAcS",
        "colab_type": "text"
      },
      "source": [
        "# What is mean by Python\n",
        "\n",
        "**Introduction:**\n",
        "\n",
        "Python is a very simple language, and has a very straightforward syntax. It encourages programmers to program without boilerplate (prepared) code. There are two major Python versions, Python 2 and Python 3. Python 2 and 3 are quite different. This tutorial uses Python 3, because it more semantically correct and supports newer features."
      ]
    },
    {
      "cell_type": "code",
      "metadata": {
        "id": "gYSnZoM86Lxq",
        "colab_type": "code",
        "colab": {}
      },
      "source": [
        "!git clone https://github.com/hussain0048/Python.git"
      ],
      "execution_count": null,
      "outputs": []
    },
    {
      "cell_type": "markdown",
      "metadata": {
        "id": "beVu-1UqCAcU",
        "colab_type": "text"
      },
      "source": [
        "# 1- **Hello, World!**\n",
        "The simplest directive in Python is the \"print\" directive - it simply prints out a line (and also includes a newline, unlike in C).For example, one difference between Python 2 and 3 is the print statement. In Python 2, the \"print\" statement is not a function, and therefore it is invoked without parentheses. However, in Python 3, it is a function, and must be invoked with parentheses."
      ]
    },
    {
      "cell_type": "code",
      "metadata": {
        "id": "ZF03EKpuCAcV",
        "colab_type": "code",
        "colab": {}
      },
      "source": [
        "#To print a string in Python 3, just write:\n",
        "print(\"This line will be printed.\")"
      ],
      "execution_count": null,
      "outputs": []
    },
    {
      "cell_type": "code",
      "metadata": {
        "id": "u7Cy9SPr653c",
        "colab_type": "code",
        "colab": {}
      },
      "source": [
        "print(\"Goodbye, World!\")"
      ],
      "execution_count": null,
      "outputs": []
    },
    {
      "cell_type": "markdown",
      "metadata": {
        "collapsed": true,
        "id": "nhYP15aoCAcf",
        "colab_type": "text"
      },
      "source": [
        "# 2- **Indentation**\n",
        "Python uses indentation for blocks, instead of curly braces. Both tabs and spaces are supported, but the standard indentation requires standard Python code to use four spaces. For example\n"
      ]
    },
    {
      "cell_type": "code",
      "metadata": {
        "id": "y1wsGi52CAch",
        "colab_type": "code",
        "colab": {
          "base_uri": "https://localhost:8080/",
          "height": 34
        },
        "outputId": "ab438295-8652-4fba-9d9b-8aba7e195e3e"
      },
      "source": [
        "x = 1\n",
        "if x == 1:\n",
        "    # indented four spaces\n",
        "    print(\"x is 1.\")"
      ],
      "execution_count": null,
      "outputs": [
        {
          "output_type": "stream",
          "text": [
            "x is 1.\n"
          ],
          "name": "stdout"
        }
      ]
    },
    {
      "cell_type": "markdown",
      "metadata": {
        "id": "P4QYI2IoHWpL",
        "colab_type": "text"
      },
      "source": [
        "# 3 - **Variables and Types**\n",
        "Python is completely object oriented, and not \"statically typed\". You do not need to declare variables before using them, or declare their type. Every variable in Python is an object.\n",
        "\n",
        "This tutorial will go over a few basic types of variables.\n"
      ]
    },
    {
      "cell_type": "markdown",
      "metadata": {
        "id": "AMaWX5x481qW",
        "colab_type": "text"
      },
      "source": [
        "## 3.1 Numbers\n",
        "Python supports two types of numbers - integers and floating point numbers. (It also supports complex numbers, which will not be explained in this tutorial).\n",
        "\n",
        "To define an integer, use the following syntax:"
      ]
    },
    {
      "cell_type": "code",
      "metadata": {
        "id": "HV4itFik94rG",
        "colab_type": "code",
        "colab": {}
      },
      "source": [
        "myint = 7\n",
        "print(myint)"
      ],
      "execution_count": null,
      "outputs": []
    },
    {
      "cell_type": "code",
      "metadata": {
        "id": "p9JGZRKCCAcq",
        "colab_type": "code",
        "colab": {}
      },
      "source": [
        "#To define a floating point number, you may use one of the following notations:\n",
        "myfloat = 7.0\n",
        "print(myfloat)\n",
        "myfloat = float(7)\n",
        "print(myfloat)"
      ],
      "execution_count": null,
      "outputs": []
    },
    {
      "cell_type": "markdown",
      "metadata": {
        "id": "yCl8lMKR-WRg",
        "colab_type": "text"
      },
      "source": [
        "## 3.2- **Strings**\n",
        "Strings are defined either with a single quote or a double quotes.The difference between the two is that using double quotes makes it easy to include apostrophes (whereas these would terminate the string if using single quotes)"
      ]
    },
    {
      "cell_type": "code",
      "metadata": {
        "id": "t1DlRZn5-m4_",
        "colab_type": "code",
        "colab": {}
      },
      "source": [
        "mystring = 'hello'\n",
        "print(mystring)\n",
        "mystring = \"hello\"\n",
        "print(mystring)"
      ],
      "execution_count": null,
      "outputs": []
    },
    {
      "cell_type": "markdown",
      "metadata": {
        "id": "ehTTQE9YJF1Q",
        "colab_type": "text"
      },
      "source": [
        "# 4 -**Lists**\n",
        "Lists are very similar to arrays. They can contain any type of variable, and they can contain as many variables as you wish. Lists can also be iterated over in a very simple manner. Here is an example of how to build a list."
      ]
    },
    {
      "cell_type": "code",
      "metadata": {
        "scrolled": true,
        "id": "TvqFi8-XCAcy",
        "colab_type": "code",
        "colab": {}
      },
      "source": [
        "mylist = []\n",
        "mylist.append(1)\n",
        "mylist.append(2)\n",
        "mylist.append(3)\n",
        "print(mylist[0]) # prints 1\n",
        "print(mylist[1]) # prints 2\n",
        "print(mylist[2]) # prints 3"
      ],
      "execution_count": null,
      "outputs": []
    },
    {
      "cell_type": "code",
      "metadata": {
        "id": "gmN5Z87UAzmf",
        "colab_type": "code",
        "colab": {}
      },
      "source": [
        "# prints out 1,2,3\n",
        "for x in mylist:\n",
        "    print(x)"
      ],
      "execution_count": null,
      "outputs": []
    },
    {
      "cell_type": "code",
      "metadata": {
        "id": "iF-GaT_VBBRz",
        "colab_type": "code",
        "colab": {}
      },
      "source": [
        "#Accessing an index which does not exist generates an exception (an error).\n",
        "mylist = [1,2,3]\n",
        "print(mylist[10])"
      ],
      "execution_count": null,
      "outputs": []
    },
    {
      "cell_type": "markdown",
      "metadata": {
        "id": "izbM6eEUKAV-",
        "colab_type": "text"
      },
      "source": [
        "# 5- Basic Operators\n",
        "This section explains how to use basic operators in Python."
      ]
    },
    {
      "cell_type": "markdown",
      "metadata": {
        "id": "M_GxDC5VBogz",
        "colab_type": "text"
      },
      "source": [
        "## 5.1- Arithmetic Operators\n",
        "Just as any other programming languages, the addition, subtraction, multiplication, and division operators can be used with numbers."
      ]
    },
    {
      "cell_type": "code",
      "metadata": {
        "id": "zt-vctO1Kb3o",
        "colab_type": "code",
        "colab": {}
      },
      "source": [
        "number = 1 + 2 * 3 / 4.0\n",
        "print(number)"
      ],
      "execution_count": null,
      "outputs": []
    },
    {
      "cell_type": "code",
      "metadata": {
        "id": "xAsBlVQ0DmXi",
        "colab_type": "code",
        "colab": {}
      },
      "source": [
        "# Another operator available is the modulo (%) operator, which returns the integer remainder of the division. dividend % divisor = remainder\n",
        "remainder = 11 % 3\n",
        "print(remainder)"
      ],
      "execution_count": null,
      "outputs": []
    },
    {
      "cell_type": "code",
      "metadata": {
        "id": "lYnhlcS1DtiH",
        "colab_type": "code",
        "colab": {}
      },
      "source": [
        "# Using two multiplication symbols makes a power relationship.\n",
        "squared = 7 ** 2\n",
        "cubed = 2 ** 3\n",
        "print(squared)\n",
        "print(cubed)\n"
      ],
      "execution_count": null,
      "outputs": []
    },
    {
      "cell_type": "markdown",
      "metadata": {
        "id": "1x8QNZN3CAdF",
        "colab_type": "text"
      },
      "source": [
        "##5.2  -Using Operators with Strings\n",
        "Python supports concatenating strings using the addition operator:"
      ]
    },
    {
      "cell_type": "code",
      "metadata": {
        "id": "zNBdXxiHLfLW",
        "colab_type": "code",
        "colab": {
          "base_uri": "https://localhost:8080/",
          "height": 34
        },
        "outputId": "fc89c894-c3de-41d0-bc3e-2c56d9219259"
      },
      "source": [
        "helloworld = \"hello\" + \" \" + \"world\"\n",
        "print(helloworld)"
      ],
      "execution_count": null,
      "outputs": [
        {
          "output_type": "stream",
          "text": [
            "hello world\n"
          ],
          "name": "stdout"
        }
      ]
    },
    {
      "cell_type": "code",
      "metadata": {
        "id": "RkXFMVZP76K4",
        "colab_type": "code",
        "colab": {}
      },
      "source": [
        "lotsofhellos = \"hello\" * 10\n",
        "print(lotsofhellos)"
      ],
      "execution_count": null,
      "outputs": []
    },
    {
      "cell_type": "markdown",
      "metadata": {
        "id": "12f__4N3FDY3",
        "colab_type": "text"
      },
      "source": [
        "## 5.3- Using Operators with Lists"
      ]
    },
    {
      "cell_type": "code",
      "metadata": {
        "id": "FZWfCifvFTXC",
        "colab_type": "code",
        "colab": {}
      },
      "source": [
        "even_numbers = [2,4,6,8]\n",
        "odd_numbers = [1,3,5,7]\n",
        "all_numbers = odd_numbers + even_numbers\n",
        "print(all_numbers)"
      ],
      "execution_count": null,
      "outputs": []
    },
    {
      "cell_type": "code",
      "metadata": {
        "id": "ss60eiRpFln5",
        "colab_type": "code",
        "colab": {}
      },
      "source": [
        "# Just as in strings, Python supports forming new lists with a repeating sequence using the multiplication operator:\n",
        "print([1,2,3] * 3)"
      ],
      "execution_count": null,
      "outputs": []
    },
    {
      "cell_type": "markdown",
      "metadata": {
        "id": "-WNB53OY8IfG",
        "colab_type": "text"
      },
      "source": [
        "# 6- String Formatting\n",
        "\n",
        "Python uses C-style string formatting to create new, formatted strings. The \"%\" operator is used to format a set of variables enclosed in a \"tuple\" (a fixed size list), together with a format string, which contains normal text together with \"argument specifiers\", special symbols like \"%s\" and \"%d\".\n",
        "\n",
        "Let's say you have a variable called \"name\" with your user name in it, and you would then like to print(out a greeting to that user.)\n"
      ]
    },
    {
      "cell_type": "code",
      "metadata": {
        "id": "-_ykAt_v8egH",
        "colab_type": "code",
        "colab": {
          "base_uri": "https://localhost:8080/",
          "height": 34
        },
        "outputId": "aef47709-8e0e-46dd-cbb7-cd84c19df4cf"
      },
      "source": [
        "# This prints out \"Hello, John!\"\n",
        "name = \"John\"\n",
        "print(\"Hello, %s!\" % name)"
      ],
      "execution_count": 1,
      "outputs": [
        {
          "output_type": "stream",
          "text": [
            "Hello, John!\n"
          ],
          "name": "stdout"
        }
      ]
    },
    {
      "cell_type": "markdown",
      "metadata": {
        "id": "OcoimUu1s4MI",
        "colab_type": "text"
      },
      "source": [
        "To use two or more argument specifiers, use a tuple (parentheses):"
      ]
    },
    {
      "cell_type": "code",
      "metadata": {
        "id": "0tyfd8avhp58",
        "colab_type": "code",
        "colab": {}
      },
      "source": [
        "# This prints out \"John is 23 years old.\"\n",
        "name = \"John\"\n",
        "age = 23\n",
        "print(\"%s is %d years old.\" % (name, age))"
      ],
      "execution_count": null,
      "outputs": []
    },
    {
      "cell_type": "markdown",
      "metadata": {
        "id": "l3epbWLyh-p4",
        "colab_type": "text"
      },
      "source": [
        "Any object which is not a string can be formatted using the %s operator as well. The string which returns from the \"repr\" method of that object is formatted as the string. For example"
      ]
    },
    {
      "cell_type": "code",
      "metadata": {
        "id": "T-QKZojviCCq",
        "colab_type": "code",
        "colab": {}
      },
      "source": [
        "# This prints out: A list: [1, 2, 3]\n",
        "mylist = [1,2,3]\n",
        "print(\"A list: %s\" % mylist)"
      ],
      "execution_count": null,
      "outputs": []
    },
    {
      "cell_type": "markdown",
      "metadata": {
        "id": "htcsGPA0iMJn",
        "colab_type": "text"
      },
      "source": [
        "Here are some basic argument specifiers you should know:\n",
        "\n",
        "%s - String (or any object with a string representation, like numbers)\n",
        "\n",
        "%d - Integers\n",
        "\n",
        "%f - Floating point numbers\n",
        "\n",
        "%.<number of digits>f - Floating point numbers with a fixed amount of digits to the right of the dot.\n",
        "\n",
        "%x/%X - Integers in hex representation (lowercase/uppercase)"
      ]
    },
    {
      "cell_type": "markdown",
      "metadata": {
        "id": "BdpTOYOlCAdP",
        "colab_type": "text"
      },
      "source": [
        "# 8-Imbalanced Data\n",
        "Below we are creating imbalance by marking all samples with value 0 as True and remaining all classes as False. In our dataset, 10% of values belong to class 0 and the remaining 90% to other classes.\n",
        "\n"
      ]
    },
    {
      "cell_type": "code",
      "metadata": {
        "id": "R5uHKjQWZ0WV",
        "colab_type": "code",
        "colab": {}
      },
      "source": [
        "Y = (Y == 0).astype(int) ## We are creating imbalanced classes here."
      ],
      "execution_count": null,
      "outputs": []
    },
    {
      "cell_type": "markdown",
      "metadata": {
        "id": "lTe0Qqi3CAeA",
        "colab_type": "text"
      },
      "source": [
        "## 8.1- Fitting Default SVC Model To Imbalanced Data\n",
        "We'll be using the default SVC model with scikit-learn's cross_val_score method with cross-validation of 5 folds. It'll divide the dataset into 5 folds and take one of the fold as test data and remaining folds as train data. It'll then train the default SVC model on train data and evaluate performance on test data. It'll try it for all 5 combinations by taking one fold each time as a test set and remaining as a train set."
      ]
    },
    {
      "cell_type": "code",
      "metadata": {
        "id": "Kq4Ho1l8Ksjt",
        "colab_type": "code",
        "colab": {
          "base_uri": "https://localhost:8080/",
          "height": 34
        },
        "outputId": "507fad58-dfd2-4a81-bc5b-d86ad76f517e"
      },
      "source": [
        " from sklearn.model_selection import cross_val_score\n",
        "from sklearn.svm import SVC\n",
        "cross_val_score(SVC(), X, Y, cv=5)\n"
      ],
      "execution_count": null,
      "outputs": [
        {
          "output_type": "execute_result",
          "data": {
            "text/plain": [
              "array([0.98, 0.96, 1.  , 0.96, 0.96])"
            ]
          },
          "metadata": {
            "tags": []
          },
          "execution_count": 12
        }
      ]
    },
    {
      "cell_type": "markdown",
      "metadata": {
        "id": "OoHSSpvK-y_S",
        "colab_type": "text"
      },
      "source": [
        "We can see that SVC with default parameters is giving 90% accuracy on average for 5-folds cross-validation"
      ]
    },
    {
      "cell_type": "markdown",
      "metadata": {
        "id": "-VwPfoQSS4Av",
        "colab_type": "text"
      },
      "source": [
        "## 8.2 - Fitting DummyClassifier To Imbalanced Data##\n",
        "We'll first try DummyClassifier provided by scikit-learn which generally predicts the most occurring label as predicted label each time."
      ]
    },
    {
      "cell_type": "code",
      "metadata": {
        "id": "5DYf8Quv_PxR",
        "colab_type": "code",
        "colab": {}
      },
      "source": [
        "from sklearn.dummy import DummyClassifier\n",
        "\n",
        "cross_val_score(DummyClassifier('most_frequent'), X, Y, cv=5)\n"
      ],
      "execution_count": null,
      "outputs": []
    },
    {
      "cell_type": "markdown",
      "metadata": {
        "id": "Fs7cxlxX_pOz",
        "colab_type": "text"
      },
      "source": [
        "After trying DummyClassifier which predicts class which frequently occurs, We can see that even that classifier is also giving 90% accuracy. it can leave a person puzzled that how can both models are giving 90% accuracy whereas one is guessing the most frequent class. In this kind of scenario, classification report and ROC Curves can help much to identify the accuracy of our model on individual class.\n",
        "\n",
        "We'll first split our dataset into train and test sets. We'll then check the performance of default SVC and DummyClassifier on predicting individual classes using classification reports. We'll then introduce the ROC Curves concept to get better insights into model performance"
      ]
    },
    {
      "cell_type": "code",
      "metadata": {
        "id": "iNtykGpe_ukf",
        "colab_type": "code",
        "colab": {
          "base_uri": "https://localhost:8080/",
          "height": 34
        },
        "outputId": "f1e32fe0-326c-4639-fcfd-63f1a0f4700a"
      },
      "source": [
        "X_train, X_test, Y_train, Y_test = train_test_split(X, Y, train_size=0.80, test_size=0.20, stratify=Y)\n",
        "print('Train/Test Sizes : ', X_train.shape, X_test.shape, Y_train.shape, Y_test.shape)"
      ],
      "execution_count": null,
      "outputs": [
        {
          "output_type": "stream",
          "text": [
            "Train/Test Sizes :  (400, 20) (100, 20) (400,) (100,)\n"
          ],
          "name": "stdout"
        }
      ]
    },
    {
      "cell_type": "markdown",
      "metadata": {
        "id": "tIsojhaE_2XM",
        "colab_type": "text"
      },
      "source": [
        "Below we are initializing defaults SVC model, training it and checking its performance on test data."
      ]
    },
    {
      "cell_type": "code",
      "metadata": {
        "id": "_zPu2GQt_8JP",
        "colab_type": "code",
        "colab": {}
      },
      "source": [
        "svc = SVC()\n",
        "svc.fit(X_train, Y_train)\n",
        "\n",
        "Y_preds = svc.predict(X_test)\n",
        "\n",
        "print(classification_report(Y_test, Y_preds))"
      ],
      "execution_count": null,
      "outputs": []
    },
    {
      "cell_type": "markdown",
      "metadata": {
        "id": "J-MTrSurAFM-",
        "colab_type": "text"
      },
      "source": [
        "We can see above that recall is quite bad for class 1.\n",
        "\n",
        "Below we are initializing the defaults DummyClassifier model, training it and checking its performance on test data."
      ]
    },
    {
      "cell_type": "code",
      "metadata": {
        "id": "PWrqDBd7AKB6",
        "colab_type": "code",
        "colab": {}
      },
      "source": [
        "dummy_classifier = DummyClassifier('most_frequent')\n",
        "dummy_classifier.fit(X_train, Y_train)\n",
        "\n",
        "Y_preds = dummy_classifier.predict(X_test)\n",
        "\n",
        "print(classification_report(Y_test, Y_preds))"
      ],
      "execution_count": null,
      "outputs": []
    },
    {
      "cell_type": "markdown",
      "metadata": {
        "id": "n8aBucFrAUIH",
        "colab_type": "text"
      },
      "source": [
        "We can see above that DummyClassifier is performing quite bad in guessing class 1 as both precision and recall are really bad."
      ]
    },
    {
      "cell_type": "markdown",
      "metadata": {
        "id": "qrZx-6XeziR0",
        "colab_type": "text"
      },
      "source": [
        "## 8.3 ROC Curves\n",
        "ROC(Receiver Operating Characteristic) Curve helps better understand the performance of the model when handling an unbalanced dataset. ROC Curve works with the output of prediction function by setting different threshold values to find out different false positives and true positive rates according to the threshold. In the case of SVC, for example, a threshold set for output of decision function is 0 whereas ROC Curve tries various values for thresholds like [2,1,-1,-2] including negative threshold values as well. In the case of LogisticRegression, the default threshold is 0.5 and ROC will try default threshold values. For linear regression, the output is a probability between [0,1] hence threshold is set at 0.5 to differentiate positive/negative classes whereas in case of SVC internal kernel function returns value and threshold is set on that value for making a prediction.\n",
        "\n",
        "Note: It's restricted to binary classification tasks.\n",
        "\n",
        "The below plot is ROC Curve for SVM on the unbalanced dataset test set."
      ]
    },
    {
      "cell_type": "code",
      "metadata": {
        "id": "_q87nKz4zxr1",
        "colab_type": "code",
        "colab": {}
      },
      "source": [
        "from sklearn.metrics import roc_curve, roc_auc_score\n",
        "\n",
        "decision_function = svc.decision_function(X_test)\n",
        "fpr, tpr, thresholds = roc_curve(Y_test, decision_function)\n",
        "acc = svc.score(X_test, Y_test)\n",
        "auc = roc_auc_score(Y_test, svc.decision_function(X_test))\n",
        "\n",
        "with plt.style.context(('ggplot','seaborn')):\n",
        "    plt.figure(figsize=(8,6))\n",
        "    plt.scatter(fpr, tpr, c='blue')\n",
        "    plt.plot(fpr, tpr, label=\"Accuracy:%.2f AUC:%.2f\" % (acc, auc), linewidth=2, c='red')\n",
        "    plt.xlabel(\"False Positive Rate\")\n",
        "    plt.ylabel(\"True Positive Rate (recall)\")\n",
        "    plt.title('ROC Curve')\n",
        "    plt.legend(loc='best');"
      ],
      "execution_count": null,
      "outputs": []
    },
    {
      "cell_type": "markdown",
      "metadata": {
        "id": "jnWR24dBHGty",
        "colab_type": "text"
      },
      "source": [
        "With a very small decision threshold, there will be few false positives, but also few false negatives, while with a very high threshold, both true positive rate and the false positive rate will be high. So in general, the curve will be from the lower left to the upper right. A diagonal line reflects chance performance, while the goal is to be as much in the top left corner as possible. We want ROC Curve to cover almost 100% area for good performance. 50% area coverage refers to the chance model (random prediction)."
      ]
    },
    {
      "cell_type": "markdown",
      "metadata": {
        "id": "_Sq0XpVN0UZ7",
        "colab_type": "text"
      },
      "source": [
        "## 8.4 Grid Search To Improve Model Performance On Unbalanced Dataset¶.\n",
        "For doing grid-search, we usually want to condense our model evaluation into a single number. A good way to do this with the roc curve is to use the area under the curve (AUC). We can simply use this in GridSearchCV by specifying scoring=\"roc_auc\"."
      ]
    },
    {
      "cell_type": "code",
      "metadata": {
        "id": "YQ2nyHRV0dnH",
        "colab_type": "code",
        "colab": {
          "base_uri": "https://localhost:8080/",
          "height": 659
        },
        "outputId": "c2098a34-bec9-4f87-c679-3f729e31b58c"
      },
      "source": [
        "from sklearn.model_selection import GridSearchCV\n",
        "\n",
        "grid = GridSearchCV(SVC(),param_grid = {'gamma': ['auto', 'scale'], 'C': [1.0, 0.1, 0.01, 10.0]}, scoring=\"roc_auc\", cv=5)\n",
        "grid.fit(X, Y)\n",
        "print('Best Parameters                               : ',grid.best_params_)\n",
        "print('Best Score                                    : ',grid.best_score_)\n",
        "\n",
        "decision_function = grid.best_estimator_.decision_function(X_test)\n",
        "fpr, tpr, thresholds = roc_curve(Y_test, decision_function)\n",
        "\n",
        "print('True Positive Rates                           : ', tpr)\n",
        "print('False Positive Rates                          : ', fpr)\n",
        "print('Different Thresholds For Calculating TPR, FPR : ', thresholds)\n",
        "print('Classification Report                         : ')\n",
        "print(classification_report(Y_test, grid.best_estimator_.predict(X_test)))\n",
        "\n",
        "acc = grid.best_estimator_.score(X_test, Y_test)\n",
        "auc = roc_auc_score(Y_test, decision_function)\n",
        "\n",
        "with plt.style.context(('ggplot', 'seaborn')):\n",
        "    plt.figure(figsize=(8,6))\n",
        "    plt.scatter(fpr, tpr, c='blue')\n",
        "    plt.plot(fpr, tpr, label=\"Accuracy:%.2f AUC:%.2f\" % (acc, auc), linewidth=2, c='red')\n",
        "    plt.xlabel(\"False Positive Rate\")\n",
        "    plt.ylabel(\"True Positive Rate (recall)\")\n",
        "    plt.title('ROC Curve')\n",
        "    plt.legend(loc='best');"
      ],
      "execution_count": null,
      "outputs": [
        {
          "output_type": "stream",
          "text": [
            "Best Parameters                               :  {'C': 0.1, 'gamma': 'auto'}\n",
            "Best Score                                    :  0.9930396798719487\n",
            "True Positive Rates                           :  [0.   0.02 1.   1.  ]\n",
            "False Positive Rates                          :  [0. 0. 0. 1.]\n",
            "Different Thresholds For Calculating TPR, FPR :  [ 2.76  1.76  0.25 -2.04]\n",
            "Classification Report                         : \n",
            "              precision    recall  f1-score   support\n",
            "\n",
            "           0       1.00      1.00      1.00        50\n",
            "           1       1.00      1.00      1.00        50\n",
            "\n",
            "    accuracy                           1.00       100\n",
            "   macro avg       1.00      1.00      1.00       100\n",
            "weighted avg       1.00      1.00      1.00       100\n",
            "\n"
          ],
          "name": "stdout"
        },
        {
          "output_type": "display_data",
          "data": {
            "image/png": "[encoded data removed]",
            "text/plain": [
              "<Figure size 576x432 with 1 Axes>"
            ]
          },
          "metadata": {
            "tags": []
          }
        }
      ]
    },
    {
      "cell_type": "code",
      "metadata": {
        "id": "BpaxNcY7H0We",
        "colab_type": "code",
        "colab": {
          "base_uri": "https://localhost:8080/",
          "height": 659
        },
        "outputId": "82d7e9e3-c30f-48de-ac27-d96522d4399d"
      },
      "source": [
        "grid = GridSearchCV(SVC(probability=True),param_grid = {'gamma': ['auto', 'scale'], 'C': [1.0, 0.1, 0.01, 10.0]}, scoring=\"roc_auc\", cv=5)\n",
        "grid.fit(X, Y)\n",
        "print('Best Parameters                               : ',grid.best_params_)\n",
        "print('Best Score                                    : ',grid.best_score_)\n",
        "\n",
        "probs = grid.best_estimator_.predict_proba(X_test)\n",
        "fpr, tpr, thresholds = roc_curve(Y_test, probs[:, 1])\n",
        "\n",
        "print('True Positive Rates                           : ', tpr)\n",
        "print('False Positive Rates                          : ', fpr)\n",
        "print('Different Thresholds For Calculating TPR, FPR : ', thresholds)\n",
        "print('Classification Report                         : ')\n",
        "print(classification_report(Y_test, grid.best_estimator_.predict(X_test)))\n",
        "\n",
        "acc = grid.best_estimator_.score(X_test, Y_test)\n",
        "auc = roc_auc_score(Y_test, probs[:,1])\n",
        "\n",
        "with plt.style.context(('ggplot', 'seaborn')):\n",
        "    plt.figure(figsize=(8,6))\n",
        "    plt.scatter(fpr, tpr, c='blue')\n",
        "    plt.plot(fpr, tpr, label=\"Accuracy:%.2f, AUC:%.2f\" % (acc, auc), linewidth=2, c='red')\n",
        "    plt.xlabel(\"False Positive Rate\")\n",
        "    plt.ylabel(\"True Positive Rate (recall)\")\n",
        "    plt.title('ROC Curve')\n",
        "    plt.legend(loc='best');"
      ],
      "execution_count": null,
      "outputs": [
        {
          "output_type": "stream",
          "text": [
            "Best Parameters                               :  {'C': 0.1, 'gamma': 'auto'}\n",
            "Best Score                                    :  0.9930396798719487\n",
            "True Positive Rates                           :  [0.   0.02 1.   1.  ]\n",
            "False Positive Rates                          :  [0. 0. 0. 1.]\n",
            "Different Thresholds For Calculating TPR, FPR :  [2.00e+00 1.00e+00 8.62e-01 1.00e-07]\n",
            "Classification Report                         : \n",
            "              precision    recall  f1-score   support\n",
            "\n",
            "           0       1.00      1.00      1.00        50\n",
            "           1       1.00      1.00      1.00        50\n",
            "\n",
            "    accuracy                           1.00       100\n",
            "   macro avg       1.00      1.00      1.00       100\n",
            "weighted avg       1.00      1.00      1.00       100\n",
            "\n"
          ],
          "name": "stdout"
        },
        {
          "output_type": "display_data",
          "data": {
            "image/png": "[encoded data removed]",
            "text/plain": [
              "<Figure size 576x432 with 1 Axes>"
            ]
          },
          "metadata": {
            "tags": []
          }
        }
      ]
    },
    {
      "cell_type": "markdown",
      "metadata": {
        "id": "f3_jWMJDIFQt",
        "colab_type": "text"
      },
      "source": [
        "We can notice above from the classification report and ROC Curve that our model is performing quite well in the case of the imbalanced dataset after parameter tuning"
      ]
    },
    {
      "cell_type": "markdown",
      "metadata": {
        "id": "lUnd-y071Epv",
        "colab_type": "text"
      },
      "source": [
        "## 8.5- Precision-Recall Curve\n",
        "\n",
        "Precision and Recall helps a lot in case of imbalanced datasets. Plotting different values of precision vs recall by setting different thresholds helps in evaluating the performance of the model better in case of imbalance classes. It does not take into consideration true negatives as it's majority class and True positives represent minority class which has quite a few occurrences.\n",
        "\n",
        "Note: It's restricted to binary classification tasks.\n",
        "\n",
        "The below plot is Precision-Recall Curve for SVM on the unbalanced dataset test set.\n",
        "\n"
      ]
    },
    {
      "cell_type": "code",
      "metadata": {
        "id": "LsBaFnzd1U_l",
        "colab_type": "code",
        "colab": {}
      },
      "source": [
        "from sklearn.metrics import precision_recall_curve, auc,average_precision_score\n",
        "\n",
        "decision_function = svc.decision_function(X_test)\n",
        "precision, recall, thresholds = precision_recall_curve(Y_test, decision_function)\n",
        "acc = svc.score(X_test, Y_test)\n",
        "p_auc = auc(recall, precision)\n",
        "\n",
        "with plt.style.context(('ggplot', 'seaborn')):\n",
        "    plt.figure(figsize=(8,6))\n",
        "    plt.scatter(recall, precision, c='blue')\n",
        "    plt.plot(recall, precision, label=\"Accuray:%.2f, AUC:%.2f\" % (acc, p_auc), linewidth=2, c='red')\n",
        "    plt.hlines(0.5,0.0,1.0, linestyle='dashed', colors=['orange'])\n",
        "    plt.xlabel(\"Recall (Sensitivity)\")\n",
        "    plt.ylabel(\"Precision\")\n",
        "    plt.title('Precision Recall Curve')\n",
        "    plt.legend(loc='best');"
      ],
      "execution_count": null,
      "outputs": []
    },
    {
      "cell_type": "markdown",
      "metadata": {
        "id": "xNRf7x0tI5tQ",
        "colab_type": "text"
      },
      "source": [
        "Precision-recall curve totally crashes if our model is not performing well in case of imbalanced dataset. Notice that AUC in case of precison recall curve is 50% and whereas AUC with ROC curve was around 90%. ROC curves sometimes give optimistic results hence its better to consider precision recall curves as well in case of imbalanced datasets."
      ]
    },
    {
      "cell_type": "code",
      "metadata": {
        "id": "aLHoK7AJI79P",
        "colab_type": "code",
        "colab": {
          "base_uri": "https://localhost:8080/",
          "height": 815
        },
        "outputId": "51acd3ca-acd8-4888-feb5-98cdbb1cb0df"
      },
      "source": [
        "from sklearn.model_selection import GridSearchCV\n",
        "\n",
        "grid = GridSearchCV(SVC(probability=True),param_grid = {'gamma': ['auto', 'scale'], 'C': [1.0, 0.1, 0.01, 10.0]}, cv=5)\n",
        "grid.fit(X, Y)\n",
        "print('Best Parameters                                        : ',grid.best_params_)\n",
        "print('Best Score                                             : ',grid.best_score_)\n",
        "\n",
        "decision_function = grid.best_estimator_.decision_function(X_test)\n",
        "precision, recall, thresholds = precision_recall_curve(Y_test, decision_function)\n",
        "\n",
        "print('Precision                                              : ', precision)\n",
        "print('Recall                                                 : ', recall)\n",
        "print('Different Thresholds For Calculating Precision, Recall : ', thresholds)\n",
        "print('Classification Report                                  : ')\n",
        "print(classification_report(Y_test, grid.best_estimator_.predict(X_test)))\n",
        "\n",
        "acc = grid.best_estimator_.score(X_test, Y_test)\n",
        "p_auc = auc(recall, precision)\n",
        "ap = average_precision_score(Y_test, grid.predict_proba(X_test)[:,1])\n",
        "\n",
        "with plt.style.context(('ggplot', 'seaborn')):\n",
        "    plt.figure(figsize=(8,6))\n",
        "    plt.scatter(recall, precision, c='blue')\n",
        "    plt.plot(recall, precision, label=\"Accuracy:%.2f, AUC:%.2f, Average Precision %.2f\" % (acc, p_auc, ap), linewidth=2, c='red')\n",
        "    plt.xlabel(\"Recall (Sensitivity)\")\n",
        "    plt.ylabel(\"Precision\")\n",
        "    plt.title('Precision Recall Curve')\n",
        "    plt.legend(loc='best');"
      ],
      "execution_count": null,
      "outputs": [
        {
          "output_type": "stream",
          "text": [
            "Best Parameters                                        :  {'C': 1.0, 'gamma': 'auto'}\n",
            "Best Score                                             :  0.9719999999999999\n",
            "Precision                                              :  [1. 1. 1. 1. 1. 1. 1. 1. 1. 1. 1. 1. 1. 1. 1. 1. 1. 1. 1. 1. 1. 1. 1. 1.\n",
            " 1. 1. 1. 1. 1. 1. 1. 1. 1. 1. 1. 1. 1. 1. 1. 1. 1. 1. 1. 1. 1. 1. 1. 1.\n",
            " 1. 1. 1.]\n",
            "Recall                                                 :  [1.   0.98 0.96 0.94 0.92 0.9  0.88 0.86 0.84 0.82 0.8  0.78 0.76 0.74\n",
            " 0.72 0.7  0.68 0.66 0.64 0.62 0.6  0.58 0.56 0.54 0.52 0.5  0.48 0.46\n",
            " 0.44 0.42 0.4  0.38 0.36 0.34 0.32 0.3  0.28 0.26 0.24 0.22 0.2  0.18\n",
            " 0.16 0.14 0.12 0.1  0.08 0.06 0.04 0.02 0.  ]\n",
            "Different Thresholds For Calculating Precision, Recall :  [0.77 0.83 0.83 0.84 0.84 1.   1.   1.   1.   1.   1.   1.   1.   1.\n",
            " 1.   1.   1.   1.   1.   1.   1.   1.   1.   1.   1.   1.   1.   1.\n",
            " 1.07 1.07 1.08 1.14 1.25 1.3  1.31 1.38 1.42 1.44 1.46 1.48 1.7  1.77\n",
            " 2.12 2.24 2.3  2.33 2.42 2.57 2.71 3.17]\n",
            "Classification Report                                  : \n",
            "              precision    recall  f1-score   support\n",
            "\n",
            "           0       1.00      1.00      1.00        50\n",
            "           1       1.00      1.00      1.00        50\n",
            "\n",
            "    accuracy                           1.00       100\n",
            "   macro avg       1.00      1.00      1.00       100\n",
            "weighted avg       1.00      1.00      1.00       100\n",
            "\n"
          ],
          "name": "stdout"
        },
        {
          "output_type": "display_data",
          "data": {
            "image/png": "[encoded data removed]",
            "text/plain": [
              "<Figure size 576x432 with 1 Axes>"
            ]
          },
          "metadata": {
            "tags": []
          }
        }
      ]
    },
    {
      "cell_type": "markdown",
      "metadata": {
        "id": "05Gq2A7BCAeX",
        "colab_type": "text"
      },
      "source": [
        "## 8.6 Log Loss (Logistic Loss or Cross-Entropy Loss)\n",
        "Log loss refers to the negative log-likelihood of true labels predicted by the classifier. It's a cost function whose output classifiers try to minimize while updating weights of the model.\n",
        "\n",
        "log_loss=−y∗log(y′)−(1−y)∗log(1−y′)\n",
        " "
      ]
    },
    {
      "cell_type": "code",
      "metadata": {
        "id": "FbZKdf9heXoT",
        "colab_type": "code",
        "colab": {}
      },
      "source": [
        "from sklearn.metrics import log_loss\n",
        "\n",
        "X, Y = datasets.make_classification(n_samples= 500)\n",
        "X_train, X_test, Y_train, Y_test = train_test_split(X, Y, train_size=0.80, test_size=0.20, stratify=Y)\n",
        "print('Train/Test Sizes : ', X_train.shape, X_test.shape, Y_train.shape, Y_test.shape)\n",
        "\n",
        "grid = GridSearchCV(SVC(probability=True),param_grid = {'C': [1.0, 0.1, 0.01, 10.0,]}, scoring=\"neg_log_loss\", cv=5)\n",
        "grid.fit(X, Y)\n",
        "\n",
        "print('Best Parameters : ',grid.best_params_)\n",
        "#print('Test Log Loss : %.3f'%grid.best_estimator_.score(X_test, Y_test))\n",
        "#print('Train Log Loss : %.3f'%grid.best_estimator_.score(X_train, Y_train))\n",
        "print('Test Log Loss   : %.3f'%log_loss(Y_test, grid.best_estimator_.predict_proba(X_test)))\n",
        "print('Train Log Loss  : %.3f'%log_loss(Y_train, grid.best_estimator_.predict_proba(X_train)))\n",
        "Y_preds = grid.best_estimator_.predict(X_test)\n",
        "\n",
        "print(Y_preds[:10])\n",
        "print(Y_test[:10])"
      ],
      "execution_count": null,
      "outputs": []
    },
    {
      "cell_type": "markdown",
      "metadata": {
        "id": "rWCpBVwViJPO",
        "colab_type": "text"
      },
      "source": [
        "## 8.7. Zero One Classification Loss \n",
        " It returns a number of misclassifications or a fraction of misclassifications. It accepts normalize parameter whose value if set True then returns a fraction of misclassifications else if set to False then it returns misclassifications.\n"
      ]
    },
    {
      "cell_type": "code",
      "metadata": {
        "id": "OpwvTn_qDLZn",
        "colab_type": "code",
        "colab": {}
      },
      "source": [
        "from sklearn.metrics import zero_one_loss\n",
        "\n",
        "print('Number of Misclassificied Examples   : ',zero_one_loss(Y_test, Y_preds, normalize=False))\n",
        "print('Fraction of Misclassificied Examples : ',zero_one_loss(Y_test, Y_preds))"
      ],
      "execution_count": null,
      "outputs": []
    },
    {
      "cell_type": "markdown",
      "metadata": {
        "id": "6as5LRNgjTng",
        "colab_type": "text"
      },
      "source": [
        "## 8.8 Balanced Accuracy Score\n",
        "It returns an average of recall of each class in classification problem. It's useful to deal with imbalanced datasets.\n",
        "\n",
        "It has parameter adjusted which when set True results are adjusted for a chance so that the random performing model would get a score of 0 and perfect performance will get 1.0."
      ]
    },
    {
      "cell_type": "code",
      "metadata": {
        "id": "Ld1_nNE_mDcW",
        "colab_type": "code",
        "colab": {}
      },
      "source": [
        "from sklearn.metrics import balanced_accuracy_score\n",
        "\n",
        "print('Balanced Accuracy          : ',balanced_accuracy_score(Y_test, Y_preds))\n",
        "print('Balanced Accuracy Adjusted : ',balanced_accuracy_score(Y_test, Y_preds, adjusted=True))"
      ],
      "execution_count": null,
      "outputs": []
    },
    {
      "cell_type": "markdown",
      "metadata": {
        "collapsed": true,
        "id": "yN3QOkmDCAed",
        "colab_type": "text"
      },
      "source": [
        "## 8.9 -Brier Loss\n",
        "It computes squared differences between the actual labels of class and predicted probability by model. It should be as low as possible for good performance. It’s for binary classification problems only. It by defaults takes 1 as positive class hence if one needs to consider 0 as a positive class then one can use the pos_label parameter as below.\n",
        "    "
      ]
    },
    {
      "cell_type": "code",
      "metadata": {
        "id": "nKMoGy7D4KXW",
        "colab_type": "code",
        "colab": {}
      },
      "source": [
        " from sklearn.metrics import brier_score_loss\n",
        "\n",
        "print('Brier Loss                       : ',brier_score_loss(Y_test, grid.predict_proba(X_test)[:, 1]))\n",
        "print('Brier Loss (0 as Positive Class) : ', brier_score_loss(Y_test, grid.predict_proba(X_test)[:, 0], pos_label=0))"
      ],
      "execution_count": null,
      "outputs": []
    },
    {
      "cell_type": "markdown",
      "metadata": {
        "id": "ZO6HAiq04ZKr",
        "colab_type": "text"
      },
      "source": [
        "## 8.10 F-Beta Score\n",
        "F-Beta score refers to weighted average of precision and recall based on the value of the beta parameter provided. If beta < 1 then it lends more weight to precision, while beta > 1 lends more weight to recall. It has the best value of 1.0 and the worst 0.0.\n",
        "\n",
        "It has a parameter called average which is required for multiclass problems. It accepts values [None, 'binary'(default), 'micro', 'macro', 'samples', 'weighted']. If None is specified then the score for each class is returned else average as per parameter is returned in a multiclass problem.\n"
      ]
    },
    {
      "cell_type": "code",
      "metadata": {
        "id": "woRGjqgH4lTo",
        "colab_type": "code",
        "colab": {}
      },
      "source": [
        "from sklearn.metrics import fbeta_score\n",
        "\n",
        "print('Fbeta Favouring Precision : ', fbeta_score(Y_test, Y_preds, beta=0.5))\n",
        "print('Fbeta Favouring Recall    : ' ,fbeta_score(Y_test, Y_preds, beta=2.0))\n"
      ],
      "execution_count": null,
      "outputs": []
    },
    {
      "cell_type": "markdown",
      "metadata": {
        "id": "_xH8Qq6J72il",
        "colab_type": "text"
      },
      "source": [
        "## 8.11  Hamming Loss\n",
        "\n",
        "it returns fraction of labels misclassified.\n"
      ]
    },
    {
      "cell_type": "code",
      "metadata": {
        "id": "Rn6-jer48jeF",
        "colab_type": "code",
        "colab": {}
      },
      "source": [
        "from sklearn.metrics import hamming_loss\n",
        "\n",
        "print('Hamming Loss : ', hamming_loss(Y_test, Y_preds))"
      ],
      "execution_count": null,
      "outputs": []
    },
    {
      "cell_type": "markdown",
      "metadata": {
        "id": "J75Rv0fr8qWA",
        "colab_type": "text"
      },
      "source": [
        "# Regression Metrics\n",
        "We'll now introduce model evaluation metrics for regression tasks. We'll start with loading the Boston dataset available in scikit-learn for our purpose."
      ]
    },
    {
      "cell_type": "code",
      "metadata": {
        "id": "bDoYPVl48x_C",
        "colab_type": "code",
        "colab": {}
      },
      "source": [
        "#X, Y = datasets.make_regression(n_samples=200, n_features=20, )\n",
        "boston = datasets.load_boston()\n",
        "X, Y = boston.data, boston.target\n",
        "print('Dataset Size : ', X.shape, Y.shape)"
      ],
      "execution_count": null,
      "outputs": []
    },
    {
      "cell_type": "code",
      "metadata": {
        "id": "FLz12BeRLclF",
        "colab_type": "code",
        "colab": {}
      },
      "source": [
        "# We'll be splitting a dataset into train/test sets with 80% for a train set and 20% for the test set.\n",
        "X_train, X_test, Y_train, Y_test = train_test_split(X, Y, train_size=0.80, test_size=0.20, random_state=1, )\n",
        "print('Train/Test Size : ', X_train.shape, X_test.shape, Y_train.shape, Y_test.shape)"
      ],
      "execution_count": null,
      "outputs": []
    },
    {
      "cell_type": "markdown",
      "metadata": {
        "id": "oeqodSRRLrBB",
        "colab_type": "text"
      },
      "source": [
        "We'll now initialize a simple LinearSVR model and train it on the train dataset. We'll then check its performance by evaluating various regression metrics provided by scikit-learn."
      ]
    },
    {
      "cell_type": "code",
      "metadata": {
        "id": "2rp-Y3kMLyBP",
        "colab_type": "code",
        "colab": {}
      },
      "source": [
        "from sklearn.svm import LinearSVR\n",
        "svr = LinearSVR()\n",
        "svr.fit(X_train, Y_train)"
      ],
      "execution_count": null,
      "outputs": []
    },
    {
      "cell_type": "markdown",
      "metadata": {
        "id": "4-Ubl4dFR1IG",
        "colab_type": "text"
      },
      "source": [
        "## 1- R2  (Coefficient Of Determination)\n",
        "The coefficient of  R2  is defined as  (1−u/v) .\n",
        "\n",
        "u=((ytrue−ypred)2).sum() \n",
        "\n",
        "v=((ytrue−ytrue.sum())2).sum() \n",
        "\n",
        "The best possible score is 1.0 and it can be negative as well if the model is performing badly. A model that outputs constant prediction for each input will have a score of 0.0.\n",
        "\n",
        "Note: The majority of the regression model's score() method outputs this metric which is quite different from MSE(mean square error). Hence both should not be confused."
      ]
    },
    {
      "cell_type": "code",
      "metadata": {
        "id": "1UlaNus5S00W",
        "colab_type": "code",
        "colab": {}
      },
      "source": [
        "from sklearn.metrics import r2_score\n",
        "Y_preds = svr.predict(X_test)\n",
        "print(Y_preds[:10])\n",
        "print(Y_test[:10])\n",
        "print('Test R^2     : %.3f'%r2_score(Y_test, Y_preds))\n",
        "print('Test R^2     : %.3f'%svr.score(X_test, Y_test))\n",
        "print('Training R^2 : %.3f'%svr.score(X_train, Y_train))"
      ],
      "execution_count": null,
      "outputs": []
    },
    {
      "cell_type": "markdown",
      "metadata": {
        "id": "9YP-qHfRMYQ3",
        "colab_type": "text"
      },
      "source": [
        "Below we are doing grid search through various values of parameter C of LinearSVR and using r2 as an evaluation metric whose value will be optimized."
      ]
    },
    {
      "cell_type": "code",
      "metadata": {
        "id": "KAwsGn2wMawr",
        "colab_type": "code",
        "colab": {}
      },
      "source": [
        "grid = GridSearchCV(LinearSVR(),param_grid = {'C': [1.0, 0.1, 0.01, 10.0,]}, scoring=\"r2\", cv=5)\n",
        "grid.fit(X, Y)\n",
        "\n",
        "print('Best Parameters : ',grid.best_params_)\n",
        "print('Best Score      : ',grid.best_score_)\n",
        "print('Test R^2        : %.3f'%r2_score(Y_test, grid.best_estimator_.predict(X_test)))\n",
        "print('Test R^2        : %.3f'%grid.best_estimator_.score(X_test, Y_test))\n",
        "print('Training R^2    : %.3f'%grid.best_estimator_.score(X_train, Y_train))\n",
        "\n",
        "Y_preds = grid.best_estimator_.predict(X_test)\n",
        "\n",
        "print(Y_preds[:10])\n",
        "print(Y_test[:10])"
      ],
      "execution_count": null,
      "outputs": []
    },
    {
      "cell_type": "markdown",
      "metadata": {
        "id": "Y2MOQ4EQSOR3",
        "colab_type": "text"
      },
      "source": [
        "## 2 Mean Absolute Error\n",
        "\n",
        "Mean absolute error is a simple sum of the absolute difference between actual and predicted target value divided by a number of samples."
      ]
    },
    {
      "cell_type": "code",
      "metadata": {
        "id": "gH3RPskMSFz8",
        "colab_type": "code",
        "colab": {}
      },
      "source": [
        "from sklearn.metrics import mean_absolute_error\n",
        "print('Test MAE  : %.3f'%mean_absolute_error(Y_test, Y_preds))\n",
        "print('Train MAE : %.3f'%mean_absolute_error(Y_train, svr.predict(X_train)))\n"
      ],
      "execution_count": null,
      "outputs": []
    },
    {
      "cell_type": "markdown",
      "metadata": {
        "id": "za4dxOJ7NEJA",
        "colab_type": "text"
      },
      "source": [
        "Below we are doing grid search through various values of parameter C of LinearSVR and using neg_mean_absolute_error as an evaluation metric whose value will be optimized."
      ]
    },
    {
      "cell_type": "code",
      "metadata": {
        "id": "kc4w7AC6NIwy",
        "colab_type": "code",
        "colab": {}
      },
      "source": [
        "grid = GridSearchCV(LinearSVR(),param_grid = {'C': [1.0, 0.1, 0.01, 10.0,]}, scoring=\"neg_mean_absolute_error\", cv=5)\n",
        "grid.fit(X, Y)\n",
        "\n",
        "print('Best Parameters : ',grid.best_params_)\n",
        "print('Test MAE        : %.3f'%mean_absolute_error(Y_test, grid.best_estimator_.predict(X_test)))\n",
        "print('Train MAE       : %.3f'%mean_absolute_error(Y_train, grid.best_estimator_.predict(X_train)))\n",
        "Y_preds = grid.best_estimator_.predict(X_test)\n",
        "\n",
        "print(Y_preds[:10])\n",
        "print(Y_test[:10])"
      ],
      "execution_count": null,
      "outputs": []
    },
    {
      "cell_type": "markdown",
      "metadata": {
        "id": "63Bpx7DCS_Hg",
        "colab_type": "text"
      },
      "source": [
        "## 3- Mean Squared Error\n",
        "Mean Squared Error loss function simple sum of the squared difference between actual and predicted value divided by a number of samples.\n"
      ]
    },
    {
      "cell_type": "code",
      "metadata": {
        "id": "fRZyu778bBmb",
        "colab_type": "code",
        "colab": {}
      },
      "source": [
        "from sklearn.metrics import mean_squared_error, mean_squared_log_error\n",
        "\n",
        "print('Test MSE  : %.3f'%mean_squared_error(Y_test, Y_preds))\n",
        "print('Train MSE : %.3f'%mean_squared_error(Y_train, svr.predict(X_train)))"
      ],
      "execution_count": null,
      "outputs": []
    },
    {
      "cell_type": "markdown",
      "metadata": {
        "id": "9gHww-SyNjdA",
        "colab_type": "text"
      },
      "source": [
        "Below we are doing grid search through various values of parameter C of LinearSVR and using neg_mean_squared_error as an evaluation metric whose value will be optimized."
      ]
    },
    {
      "cell_type": "code",
      "metadata": {
        "id": "pn_YNHTuNpyW",
        "colab_type": "code",
        "colab": {}
      },
      "source": [
        "grid = GridSearchCV(LinearSVR(),param_grid = {'C': [1.0, 0.1, 0.01, 10.0,]}, scoring=\"neg_mean_squared_error\", cv=5)\n",
        "grid.fit(X, Y)\n",
        "\n",
        "print('Best Parameters : ',grid.best_params_)\n",
        "print('Test MSE        : %.3f'%mean_squared_error(Y_test, grid.best_estimator_.predict(X_test)))\n",
        "print('Train MSE       : %.3f'%mean_squared_error(Y_train, grid.best_estimator_.predict(X_train)))\n",
        "Y_preds = grid.best_estimator_.predict(X_test)\n",
        "\n",
        "print(Y_preds[:10])\n",
        "print(Y_test[:10])"
      ],
      "execution_count": null,
      "outputs": []
    },
    {
      "cell_type": "markdown",
      "metadata": {
        "id": "Na4QkhBbbKUT",
        "colab_type": "text"
      },
      "source": [
        "## 4 Mean Squared Log Error¶\n",
        "\n",
        "It can not be used when target contains negative values/predictions."
      ]
    },
    {
      "cell_type": "code",
      "metadata": {
        "id": "n4jiDFJnbJAw",
        "colab_type": "code",
        "colab": {}
      },
      "source": [
        "from sklearn.metrics import mean_squared_log_error\n",
        "\n",
        "print(mean_squared_log_error(Y_test, Y_preds))"
      ],
      "execution_count": null,
      "outputs": []
    },
    {
      "cell_type": "markdown",
      "metadata": {
        "id": "CZfpXMFLbiDQ",
        "colab_type": "text"
      },
      "source": [
        "## 5 Median Absolute Error"
      ]
    },
    {
      "cell_type": "code",
      "metadata": {
        "id": "TXpM8bIebn7-",
        "colab_type": "code",
        "colab": {}
      },
      "source": [
        "from sklearn.metrics import median_absolute_error\n",
        "\n",
        "print('Median Absolute Error : ', median_absolute_error(Y_test, Y_preds))\n",
        "print('Median Absolute Error : ', np.median(np.abs(Y_test - Y_preds)))"
      ],
      "execution_count": null,
      "outputs": []
    },
    {
      "cell_type": "markdown",
      "metadata": {
        "id": "rkHO3kcibyVR",
        "colab_type": "text"
      },
      "source": [
        "## 6 Explained Variance Score\n",
        "It returns the explained variance regression score. The best value is 1.0 and fewer values refer to a bad model."
      ]
    },
    {
      "cell_type": "code",
      "metadata": {
        "id": "MJthSM_lcDZ_",
        "colab_type": "code",
        "colab": {}
      },
      "source": [
        "from sklearn.metrics import explained_variance_score\n",
        "\n",
        "print('Explained Variance Score : ', explained_variance_score(Y_test, Y_preds))"
      ],
      "execution_count": null,
      "outputs": []
    },
    {
      "cell_type": "markdown",
      "metadata": {
        "id": "cOU8Vi0BccAJ",
        "colab_type": "text"
      },
      "source": [
        "##7 Residual Error\n",
        "It returns the max of the difference between actual values and the predicted value of all samples."
      ]
    },
    {
      "cell_type": "code",
      "metadata": {
        "id": "oH7k634FcuyQ",
        "colab_type": "code",
        "colab": {}
      },
      "source": [
        "from sklearn.metrics import max_error\n",
        "\n",
        "print('Maximum Residual Error : ', max_error(Y_test, Y_preds))\n",
        "print('Maximum Residual Error : ', max_error([1,2,3,4], [1,2,3.5,7])) ## here 4th sample has highest difference\n"
      ],
      "execution_count": null,
      "outputs": []
    },
    {
      "cell_type": "markdown",
      "metadata": {
        "id": "mdpo2iWxdBaY",
        "colab_type": "text"
      },
      "source": [
        "# Clustering Metrics\n",
        "We'll now introduce evaluation metrics for unsupervised learning - clustering tasks."
      ]
    },
    {
      "cell_type": "markdown",
      "metadata": {
        "id": "-ixgNi1OX0Em",
        "colab_type": "text"
      },
      "source": [
        "## 1-Adjusted Rand Score\n",
        "\n",
        "Clustering algorithms return cluster labels for each cluster specified but it might not return in the same sequence as original labels. It might happen that in the original dataset some class has samples labeled as 1 and in predictions by cluster, an algorithm can label it as other than 1.\n",
        "\n",
        "We'll use the IRIS dataset and KMeans for explanation purposes.We'll even plot results to show the difference. We'll how accuracy will improve once we use adjusted_rand_score as an evaluation function."
      ]
    },
    {
      "cell_type": "code",
      "metadata": {
        "id": "BPRXvkRfdHcy",
        "colab_type": "code",
        "colab": {}
      },
      "source": [
        "from sklearn.cluster import KMeans, MeanShift\n",
        "from sklearn.datasets import load_iris\n",
        "from sklearn.metrics import accuracy_score, adjusted_rand_score, confusion_matrix\n",
        "\n",
        "iris = load_iris()\n",
        "X, Y = iris.data, iris.target\n",
        "\n",
        "X_train, X_test, Y_train, Y_test = train_test_split(X, Y, train_size=0.80, test_size=0.20, stratify=Y, random_state=12)\n",
        "print('Train/Test Sizes  : ', X_train.shape, X_test.shape, Y_train.shape, Y_test.shape)\n",
        "\n",
        "kmeans = KMeans(n_clusters=3)\n",
        "kmeans.fit(X_train, Y_train)\n",
        "Y_preds = kmeans.predict(X_test)\n",
        "\n",
        "#print(Y_test, Y_preds)\n",
        "print('Confusion Matrix : ')\n",
        "print(confusion_matrix(Y_test, Y_preds))\n",
        "print('Accuracy of Model : %.3f'%accuracy_score(Y_test, Y_preds))\n",
        "print('Adjusted Accuracy : %.3f'%adjusted_rand_score(Y_test, Y_preds))\n",
        "\n",
        "with plt.style.context(('ggplot', 'seaborn')):\n",
        "    plt.figure(figsize=(10,4))\n",
        "    plt.subplot(121)\n",
        "    plt.scatter(X_test[: , 1], X_test[:, 2], c=Y_test, cmap = plt.cm.viridis)\n",
        "    plt.xlabel(iris.feature_names[1])\n",
        "    plt.ylabel(iris.feature_names[2])\n",
        "    plt.title('Y Original')\n",
        "    plt.subplot(122)\n",
        "    plt.scatter(X_test[: , 1], X_test[:, 2], c=Y_preds, cmap = plt.cm.viridis)\n",
        "    plt.xlabel(iris.feature_names[1])\n",
        "    plt.ylabel(iris.feature_names[2])\n",
        "    plt.title('Y Predicted');"
      ],
      "execution_count": null,
      "outputs": []
    },
    {
      "cell_type": "markdown",
      "metadata": {
        "id": "iP6m2bJhYUAB",
        "colab_type": "text"
      },
      "source": [
        "##2-Custom Scoring Function\n",
        "Users can also define their own scoring function if their scoring function is not available in built-in scoring functions of sklearn. In GridSearchCV and cross_val_score, one can provide object which has __call__ method or function to scoring parameter. Object or function both need to accept estimator object, test features(X) and target(Y) as input and return float.\n",
        "\n",
        "Below we are defining RMSE (Root Mean Squared Error) as a class and as a function as well. We'll then use it in cross_val_score() to check performance also compares it's value with negative of neg_mean_squared_error."
      ]
    },
    {
      "cell_type": "code",
      "metadata": {
        "id": "OH6uO_UuYnWn",
        "colab_type": "code",
        "colab": {}
      },
      "source": [
        "class RootMeanSquareError(object):\n",
        "    def __call__(self, model, X, Y):\n",
        "        Y_preds = model.predict(X)\n",
        "        return np.sqrt(((Y - Y_preds)**2).mean())\n",
        "\n",
        "def rootMeanSquareError(model, X, Y):\n",
        "    Y_preds = model.predict(X)\n",
        "    return np.sqrt(((Y - Y_preds)**2).mean())\n",
        "\n",
        "lsvr = LinearSVR(random_state=1)\n",
        "print('Cross Val Score Using Object                                     : ',cross_val_score(lsvr, X, Y, scoring=RootMeanSquareError()))\n",
        "print('Cross Val Score Using Function                                   : ', cross_val_score(lsvr, X, Y, scoring=rootMeanSquareError))\n",
        "print('Cross Val Score Using Negative Mean Squared Error                : ', -1*cross_val_score(lsvr, X, Y, scoring='neg_mean_squared_error'))\n",
        "print('Cross Val Score Using Square Root of Negative Mean Squared Error : ', np.sqrt(-1*cross_val_score(lsvr, X, Y, scoring='neg_mean_squared_error')))"
      ],
      "execution_count": null,
      "outputs": []
    },
    {
      "cell_type": "markdown",
      "metadata": {
        "id": "ie2fvr6tYxc5",
        "colab_type": "text"
      },
      "source": [
        "Below are list of scikit-learn builtin functions."
      ]
    },
    {
      "cell_type": "code",
      "metadata": {
        "id": "p0Hhr4nJYzxo",
        "colab_type": "code",
        "colab": {}
      },
      "source": [
        "print('List of Inbuilt Scorers : ')\n",
        "sklearn.metrics.SCORERS"
      ],
      "execution_count": null,
      "outputs": []
    },
    {
      "cell_type": "markdown",
      "metadata": {
        "id": "vm7uTbEWCAei",
        "colab_type": "text"
      },
      "source": [
        "References:\n",
        "Learn Python\n",
        "https://www.learnpython.org/"
      ]
    },
    {
      "cell_type": "code",
      "metadata": {
        "id": "7LvqfD4BCAei",
        "colab_type": "code",
        "colab": {}
      },
      "source": [
        ""
      ],
      "execution_count": null,
      "outputs": []
    }
  ]
}