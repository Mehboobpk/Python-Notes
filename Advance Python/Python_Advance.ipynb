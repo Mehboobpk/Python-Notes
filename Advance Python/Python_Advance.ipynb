{
  "nbformat": 4,
  "nbformat_minor": 0,
  "metadata": {
    "colab": {
      "name": "Python Advance.ipynb",
      "provenance": [],
      "toc_visible": true,
      "include_colab_link": true
    },
    "kernelspec": {
      "name": "python3",
      "display_name": "Python 3"
    }
  },
  "cells": [
    {
      "cell_type": "markdown",
      "metadata": {
        "id": "view-in-github",
        "colab_type": "text"
      },
      "source": [
        "<a href=\"https://colab.research.google.com/github/hussain0048/Python/blob/master/Python_Advance.ipynb\" target=\"_parent\"><img src=\"https://colab.research.google.com/assets/colab-badge.svg\" alt=\"Open In Colab\"/></a>"
      ]
    },
    {
      "cell_type": "markdown",
      "metadata": {
        "id": "HH0IVhPvQkou"
      },
      "source": [
        "#**1-File Handling**[1]\n",
        "\n",
        "**What is File Handling?**\n",
        "\n",
        "- File is named location on disk (hard drive) to store related information.\n",
        "\n",
        "- They are used to permanently store data in a non-volatile memory (e.g. hard disk). Data in all systems in stored in the form of files.\n",
        "\n",
        "- Databases also uses file systems behind the scene.\n",
        "\n",
        "- Working with files, make your program capable of saving in Secondary Memory (also known as Persistence Storage); which is Non-volatile (which even keep the data when the computer is turned off), we use files for future use of the data by permanently storing them."
      ]
    },
    {
      "cell_type": "markdown",
      "metadata": {
        "id": "dZ0zKXM8GN8s"
      },
      "source": [
        "#**2-What are Basic File Operations?**[1]"
      ]
    },
    {
      "cell_type": "markdown",
      "metadata": {
        "id": "jSWxuh9FGWIR"
      },
      "source": [
        "Following are the basic operations in File Handling in Python:-\n",
        "\n",
        "\n",
        "- Create File in Python\n",
        "- Open File in Python\n",
        "- Read File in Python\n",
        "- Write in File\n",
        "- Append to File"
      ]
    },
    {
      "cell_type": "markdown",
      "metadata": {
        "id": "_oQ9yx8-HTY_"
      },
      "source": [
        "#**3-How to Open File in Python?**"
      ]
    },
    {
      "cell_type": "markdown",
      "metadata": {
        "id": "nbYav3HuHbH_"
      },
      "source": [
        "- In order to read from Files or Writing data on Files, we need to read it first.\n",
        "\n",
        "- Whenever the file is open, we do required calculations and then need to close file. open() method is used in Python to Open File. This function returns a file object, also called a handle, as it is used to read or modify the file accordingly;"
      ]
    },
    {
      "cell_type": "code",
      "metadata": {
        "id": "ZRgosRBcHyN1"
      },
      "source": [
        "def open(file, mode='r', buffering=None, encoding=None, errors=None, newline=None, closefd=True):\n",
        "    # Python Open Method"
      ],
      "execution_count": null,
      "outputs": []
    },
    {
      "cell_type": "markdown",
      "metadata": {
        "id": "rMjx9biRHzbq"
      },
      "source": [
        "- **file**: is the file path i-e directory where your file is saved\n",
        "\n",
        "- **mode**: Define the purpose of opening file i-e read, write, append etc.\n",
        "\n",
        "- **buffering**: is an optional integer used to set the buffering policy\n",
        "\n",
        "- **encoding**: is the name of the encoding used to decode or encode the file.\n",
        "\n",
        "      - default encoding is platform dependent\n",
        "       - In windows, it is cp1252\n",
        "       - utf-8 in Linux\n",
        "- **errors**: is an optional string that specifies how encoding errors are to be handled—this argument should not be used in binary mode.\n",
        "\n",
        "- **newline**: controls how universal newlines works (it only applies to text mode). It can be:\n",
        "\n",
        "- None\n",
        "- ‘ ‘\n",
        "- ‘\\n’\n",
        "- ‘\\r’\n",
        "- ‘\\r\\n’"
      ]
    },
    {
      "cell_type": "markdown",
      "metadata": {
        "id": "cC-dTgckOI53"
      },
      "source": [
        "#**4-What are different File Opening Modes in Python?**"
      ]
    },
    {
      "cell_type": "markdown",
      "metadata": {
        "id": "1M_XWZgX-bl0"
      },
      "source": [
        "Character Use in Open()            - Description of the Character Used in Open()\n",
        "\n",
        "- r                                - open for reading (default)\n",
        "\n",
        "- w                                - open for writing, truncating the file first\n",
        "\n",
        "- x                                - create a new file and open it for writing\n",
        "\n",
        "- a                                - open for writing, appending to the end of the file if it exists\n",
        "\n",
        "- b                                - binary mode\n",
        "\n",
        "- t                                - text mode (default)\n",
        "\n",
        "- +                                - open a disk file for updating (reading and writing)\n",
        "\n",
        "- U                                - universal newline mode (deprecated)"
      ]
    },
    {
      "cell_type": "code",
      "metadata": {
        "id": "V2u9WdmzASkQ"
      },
      "source": [
        "f = open(\"Ultimate-Facebook-Scraper-2.0/LICENSE\")\n",
        "print(f)\n",
        "# <_io.TextIOWrapper name='Ultimate-Facebook-Scraper-2.0/LICENSE' mode='r' encoding='cp1252'>"
      ],
      "execution_count": null,
      "outputs": []
    },
    {
      "cell_type": "markdown",
      "metadata": {
        "id": "yT1lz6xnAVvU"
      },
      "source": [
        "In file handling in Python, once we open file with a defined MODE, we can read or write data accordingly"
      ]
    },
    {
      "cell_type": "markdown",
      "metadata": {
        "id": "4LawjuBbAZ8y"
      },
      "source": [
        "#**5-How to Read File in Python?**"
      ]
    },
    {
      "cell_type": "code",
      "metadata": {
        "id": "vvHwC0aECs2M"
      },
      "source": [
        "f = open(\"Ultimate-Facebook-Scraper-2.0/LICENSE\")\n",
        "\n",
        "data_1 = f.read(3)\n",
        "data_2 = f.readlines()\n",
        "data_3 = f.readable()\n",
        "\n",
        "print(data_1)\n",
        "print(data_2[0:3])\n",
        "print(data_3)\n",
        "\n",
        "print(\"File is closed?: \",f.closed)\n",
        "f.close()\n",
        "print(\"File is closed?: \",f.closed)\n",
        "\n",
        "# MIT\n",
        "# [' License\\n', '\\n', 'Copyright (c) 2020 harismuneer, Hassaan-Elahi\\n']\n",
        "# True\n",
        "# File is closed?:  False\n",
        "# File is closed?:  True"
      ],
      "execution_count": null,
      "outputs": []
    },
    {
      "cell_type": "markdown",
      "metadata": {
        "id": "IoNH-7BgCxB2"
      },
      "source": [
        "**There are 2 different reading style;**\n",
        "\n",
        "**read(N)**: - this return complete data from file as string, we can read “N” character from it\n",
        "\n",
        "**readLines():**- Read all lines from files and return a list\n",
        "\n",
        "\n",
        "Python also give us the facility of automatically closed files after opening and reading or writing. As shown in following code, there is not need to close file explicitly;"
      ]
    },
    {
      "cell_type": "code",
      "metadata": {
        "id": "dVFMLiBQDKqI"
      },
      "source": [
        "with open(\"Ultimate-Facebook-Scraper-2.0/LICENSE\") as f:\n",
        "    data_1 = f.read(3)\n",
        "    data_2 = f.readlines()\n",
        "    data_3 = f.readable()\n",
        "\n",
        "print(data_1)\n",
        "print(data_2[0:3])\n",
        "print(data_3)\n",
        "\n",
        "print(\"File is closed?: \",f.closed)\n",
        "\n",
        "# MIT\n",
        "# [' License\\n', '\\n', 'Copyright (c) 2020 harismuneer, Hassaan-Elahi\\n']\n",
        "# True\n",
        "# File is closed?:  True"
      ],
      "execution_count": null,
      "outputs": []
    },
    {
      "cell_type": "markdown",
      "metadata": {
        "id": "9TLCMnFhDOK8"
      },
      "source": [
        "Closing a file will free up the resources that were tied with the file. It is done using the close() method available in Python. Python has a garbage collector to clean up unreferenced objects but we must not rely on it to close the file."
      ]
    },
    {
      "cell_type": "markdown",
      "metadata": {
        "id": "1oggfSXyDS_b"
      },
      "source": [
        "If file does not exist, it will give Exception."
      ]
    },
    {
      "cell_type": "code",
      "metadata": {
        "id": "6QmDYG9nDWKK"
      },
      "source": [
        "with open(\"NOFILE.txt\", 'r') as f:\n",
        "    data = f.readlines()\n",
        "# FileNotFoundError: [Errno 2] No such file or directory: 'NOFILE.txt'"
      ],
      "execution_count": null,
      "outputs": []
    },
    {
      "cell_type": "markdown",
      "metadata": {
        "id": "FAuGJ4kxDasX"
      },
      "source": [
        "#**6-How to Read File in Binary Mode?**"
      ]
    },
    {
      "cell_type": "markdown",
      "metadata": {
        "id": "jpI3HaztDmaE"
      },
      "source": [
        "On the other hand, binary mode returns bytes and this is the mode to be used when dealing with non-text files like images or executable files. The default is reading in text mode. In this mode, we get strings when reading from the file."
      ]
    },
    {
      "cell_type": "code",
      "metadata": {
        "id": "40K-CUXYDpaf"
      },
      "source": [
        "with open(\"Ultimate-Facebook-Scraper-2.0/LICENSE\", 'rb') as f:\n",
        "    data = f.readlines()\n",
        "print(data[0])\n",
        "# b'MIT License\\n'"
      ],
      "execution_count": null,
      "outputs": []
    },
    {
      "cell_type": "markdown",
      "metadata": {
        "id": "jOwc7ENVI2lr"
      },
      "source": [
        "\n",
        "\n",
        "\n",
        "#**7-Build web app using fastapi using python**\n",
        "\n",
        "\n"
      ]
    },
    {
      "cell_type": "code",
      "metadata": {
        "id": "oCdsW64sNE6y"
      },
      "source": [
        "from google.colab import files\r\n",
        "uploaded = files.upload()"
      ],
      "execution_count": null,
      "outputs": []
    },
    {
      "cell_type": "markdown",
      "metadata": {
        "id": "KIEWxjCURJR-"
      },
      "source": [
        "[This is the link of the web app which is build using FastApi] \r\n",
        "(https://github.com/hussain0048/Python/blob/master/Projects/Fastapi-webapp.py)"
      ]
    },
    {
      "cell_type": "markdown",
      "metadata": {
        "id": "ti9OdCEOJzOR"
      },
      "source": [
        ""
      ]
    },
    {
      "cell_type": "markdown",
      "metadata": {
        "id": "KgLiZVl3x7dj"
      },
      "source": [
        "##**8-GUI with Python** "
      ]
    },
    {
      "cell_type": "code",
      "metadata": {
        "colab": {
          "base_uri": "https://localhost:8080/"
        },
        "id": "yGFlqZwDyLuF",
        "outputId": "0c9ee974-ce73-46bb-b82b-9887eb597487"
      },
      "source": [
        "#@title String fields\r\n",
        "#We can create the some type of variable like below\r\n",
        "#param is used to GUI feature option\r\n",
        "text = 'values' #@param {type:\"string\"}\r\n",
        "First = \"1st option\" #@param [\"1st option\", \"2nd option\", \"3rd option\"]\r\n",
        "second  = '2nd option' #@param [\"1st option\", \"2nd option\", \"3rd option\"] {allow-input: true}\r\n",
        "\r\n",
        "print(text)\r\n",
        "print(First)\r\n",
        "print(second)"
      ],
      "execution_count": 7,
      "outputs": [
        {
          "output_type": "stream",
          "text": [
            "values\n",
            "1st option\n",
            "2nd option\n"
          ],
          "name": "stdout"
        }
      ]
    },
    {
      "cell_type": "code",
      "metadata": {
        "colab": {
          "base_uri": "https://localhost:8080/"
        },
        "id": "51my9jl6yO2r",
        "outputId": "ff97c9b4-4434-4b48-d118-89fc6914658f"
      },
      "source": [
        "#@title Raw fields\r\n",
        "\r\n",
        "raw_input = None #@param {type:\"raw\"}\r\n",
        "raw_dropdown = raw_input #@param [1, \"raw_input\", \"False\", \"'string'\"] {type:\"raw\"}\r\n",
        "\r\n",
        "print(raw_input)\r\n",
        "print(raw_dropdown)"
      ],
      "execution_count": 8,
      "outputs": [
        {
          "output_type": "stream",
          "text": [
            "None\n",
            "None\n"
          ],
          "name": "stdout"
        }
      ]
    },
    {
      "cell_type": "code",
      "metadata": {
        "colab": {
          "base_uri": "https://localhost:8080/"
        },
        "id": "rvW0us76yS69",
        "outputId": "4a3971ce-9647-4f22-8976-f17fd3f44637"
      },
      "source": [
        "#@title Date fields\r\n",
        "date_input = '2021-01-04' #@param {type:\"date\"}\r\n",
        "\r\n",
        "print(date_input)"
      ],
      "execution_count": 9,
      "outputs": [
        {
          "output_type": "stream",
          "text": [
            "2021-01-04\n"
          ],
          "name": "stdout"
        }
      ]
    },
    {
      "cell_type": "code",
      "metadata": {
        "colab": {
          "base_uri": "https://localhost:8080/"
        },
        "id": "ZY6OwZZzyWAJ",
        "outputId": "ba5f8cd8-4c8d-488b-8bcd-8e63f11a904f"
      },
      "source": [
        "#@title Number fields\r\n",
        "number_input = 10.0 #@param {type:\"number\"}\r\n",
        "number_slider = 0.5 #@param {type:\"slider\", min:-1, max:1, step:0.1}\r\n",
        "\r\n",
        "integer_input = 10 #@param {type:\"integer\"}\r\n",
        "integer_slider = 4 #@param {type:\"slider\", min:0, max:100, step:1}\r\n",
        "\r\n",
        "print(number_input)\r\n",
        "print(number_slider)\r\n",
        "\r\n",
        "print(integer_input)\r\n",
        "print(integer_slider)"
      ],
      "execution_count": 10,
      "outputs": [
        {
          "output_type": "stream",
          "text": [
            "10.0\n",
            "0.5\n",
            "10\n",
            "4\n"
          ],
          "name": "stdout"
        }
      ]
    },
    {
      "cell_type": "code",
      "metadata": {
        "colab": {
          "base_uri": "https://localhost:8080/"
        },
        "id": "3vv5TaGsyZKA",
        "outputId": "7b09717a-f586-4d6e-e229-7a440e19514c"
      },
      "source": [
        "#@title Boolean fields\r\n",
        "boolean_checkbox = False #@param {type:\"boolean\"}\r\n",
        "boolean_dropdown = True #@param [\"False\", \"True\"] {type:\"raw\"}\r\n",
        "\r\n",
        "print(boolean_checkbox)\r\n",
        "print(boolean_dropdown)"
      ],
      "execution_count": 11,
      "outputs": [
        {
          "output_type": "stream",
          "text": [
            "False\n",
            "True\n"
          ],
          "name": "stdout"
        }
      ]
    },
    {
      "cell_type": "code",
      "metadata": {
        "colab": {
          "base_uri": "https://localhost:8080/"
        },
        "id": "dhRTG8kRyceY",
        "outputId": "ed7827e7-28a7-4a11-d909-b19e0c33ac47"
      },
      "source": [
        "#@title After running this cell manually, it will auto-run if you change the selected value. { run: \"auto\" }\r\n",
        "\r\n",
        "option2 = \"C\" #@param [\"A\", \"B\", \"C\"]\r\n",
        "print('You selected', option2)"
      ],
      "execution_count": 12,
      "outputs": [
        {
          "output_type": "stream",
          "text": [
            "You selected C\n"
          ],
          "name": "stdout"
        }
      ]
    },
    {
      "cell_type": "markdown",
      "metadata": {
        "id": "XhMsVdP3QCQr"
      },
      "source": [
        "#**References**\n",
        "\n",
        "[[1]File Handling in Python; Read, Write, Create, Append, Open Files](https://skilllx.com/file-handling-in-python-read-write-create-append-open-files/?fbclid=IwAR0sPMIifrXmXjIIdcYaPImr5nOhFKNAlRyU6Cw4zgqppkUjFmQxpd4n5Gs)\n",
        "\n",
        "[[2]Python GUI Projects](https://amankharwal.medium.com/7-python-gui-projects-for-beginners-87ae2c695d78)"
      ]
    }
  ]
}