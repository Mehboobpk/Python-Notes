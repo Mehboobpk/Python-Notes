{
  "nbformat": 4,
  "nbformat_minor": 0,
  "metadata": {
    "colab": {
      "name": "1-Python project .ipynb",
      "provenance": [],
      "authorship_tag": "ABX9TyOodTiIM9AyNSR+bTI3h3Je",
      "include_colab_link": true
    },
    "kernelspec": {
      "name": "python3",
      "display_name": "Python 3"
    }
  },
  "cells": [
    {
      "cell_type": "markdown",
      "metadata": {
        "id": "view-in-github",
        "colab_type": "text"
      },
      "source": [
        "<a href=\"https://colab.research.google.com/github/hussain0048/Python/blob/master/1_Python_project_.ipynb\" target=\"_parent\"><img src=\"https://colab.research.google.com/assets/colab-badge.svg\" alt=\"Open In Colab\"/></a>"
      ]
    },
    {
      "cell_type": "markdown",
      "metadata": {
        "id": "oS5jExyuC3gW"
      },
      "source": [
        "#**1-Autocorrect with Python: How It Works?**"
      ]
    },
    {
      "cell_type": "markdown",
      "metadata": {
        "id": "TCHC-QOhDKAh"
      },
      "source": [
        "- Before I get into the coding stuff let’s understand how autocorrect works.\n",
        "\n",
        "- Let’s say you typed a word in your keyboard if the word will exist in the vocabulary of our smartphone then it will assume that you have written the right word.\n",
        "\n",
        "- Now it doesn’t matter whether you write a name, a noun or any word on the planet."
      ]
    },
    {
      "cell_type": "markdown",
      "metadata": {
        "id": "V_T1OIpuGeI8"
      },
      "source": [
        "#**2-Build an Autocorrect with Python**"
      ]
    },
    {
      "cell_type": "markdown",
      "metadata": {
        "id": "T33QNHwZGja2"
      },
      "source": [
        "- I hope you now know what autocorrect is and how it works.\n",
        "\n",
        "-  Now let’s see how we can build an autocorrect feature with Python. Like our smartphone uses history to match the type words whether it’s correct or not.\n",
        "\n",
        "- So here we also need to use some words to put the functionality in our autocorrect.\n",
        "\n",
        "- For this task, we need some libraries.\n",
        "\n",
        "- The libraries that I am going to use are very general as a machine learning practitioner.\n",
        " \n",
        "- So you must be having all the libraries installed in your system already except one.\n",
        "\n",
        "- You need to install a library known as textdistance, which can be easily installed by using the pip command; pip install textdistance."
      ]
    },
    {
      "cell_type": "markdown",
      "metadata": {
        "id": "X7qdrBMRHy8w"
      },
      "source": [
        "**Now let’s get started with this task by importing all the necessary packages and by reading our text file:**\n"
      ]
    },
    {
      "cell_type": "code",
      "metadata": {
        "id": "D6ReBTwpceuH"
      },
      "source": [
        "import pandas as pd\n",
        "import numpy as np\n",
        "import textdistance\n",
        "import re\n",
        "from collections import Counter\n",
        "words = []\n",
        "with open('moby.txt', 'r') as f:\n",
        "    file_name_data = f.read()\n",
        "    file_name_data=file_name_data.lower()\n",
        "    words = re.findall('\\w+',file_name_data)\n",
        "# This is our vocabulary\n",
        "V = set(words)\n",
        "print(f\"The first ten words in the text are: \\n{words[0:10]}\")\n",
        "print(f\"There are {len(V)} unique words in the vocabulary.\")"
      ],
      "execution_count": null,
      "outputs": []
    },
    {
      "cell_type": "markdown",
      "metadata": {
        "id": "YiOHQkBqc3NF"
      },
      "source": [
        "The first ten words in the text are: \n",
        "['moby', 'dick', 'by', 'herman', 'melville', '1851', 'etymology', 'supplied', 'by', 'a']\n",
        "There are 17140 unique words in the vocabulary."
      ]
    },
    {
      "cell_type": "markdown",
      "metadata": {
        "id": "z_QznNVxc_b5"
      },
      "source": [
        "#**3-Finding Similar Words**"
      ]
    },
    {
      "cell_type": "markdown",
      "metadata": {
        "id": "V2NTnchjdG3I"
      },
      "source": [
        "Now we will sort similar words according to the Jaccard distance by calculating the 2 grams Q of the words. Next, we will return the 5 most similar words ordered by similarity and probability:"
      ]
    },
    {
      "cell_type": "code",
      "metadata": {
        "id": "N6XRXYofdSHR"
      },
      "source": [
        "def my_autocorrect(input_word):\n",
        "    input_word = input_word.lower()\n",
        "if input_word in V:\n",
        "        return('Your word seems to be correct')\n",
        "    else:\n",
        "        similarities = [1-(textdistance.Jaccard(qval=2).distance(v,input_word)) for v in word_freq_dict.keys()]\n",
        "        df = pd.DataFrame.from_dict(probs, orient='index').reset_index()\n",
        "        df = df.rename(columns={'index':'Word', 0:'Prob'})\n",
        "        df['Similarity'] = similarities\n",
        "        output = df.sort_values(['Similarity', 'Prob'], ascending=False).head()\n",
        "        return(output)"
      ],
      "execution_count": null,
      "outputs": []
    },
    {
      "cell_type": "markdown",
      "metadata": {
        "id": "s6rZsFKbClj7"
      },
      "source": [
        "[[1]Autocorrect with Python: How It Works?](https://thecleverprogrammer.com/2020/10/04/autocorrect-with-python/?fbclid=IwAR3HmcHiWRGYw9rst2kFOHeqsyfKQsg6322Dy25rTkVh54PnLm_Xe_Elf5w)"
      ]
    }
  ]
}